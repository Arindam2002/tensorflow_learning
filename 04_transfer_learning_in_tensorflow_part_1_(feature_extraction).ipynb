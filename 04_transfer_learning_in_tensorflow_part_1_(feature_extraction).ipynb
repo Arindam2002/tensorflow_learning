{
  "nbformat": 4,
  "nbformat_minor": 0,
  "metadata": {
    "colab": {
      "name": "04_transfer_learning_in_tensorflow_part_1_(feature_extraction).ipynb",
      "provenance": [],
      "include_colab_link": true
    },
    "kernelspec": {
      "name": "python3",
      "display_name": "Python 3"
    },
    "language_info": {
      "name": "python"
    },
    "accelerator": "GPU",
    "gpuClass": "standard"
  },
  "cells": [
    {
      "cell_type": "markdown",
      "metadata": {
        "id": "view-in-github",
        "colab_type": "text"
      },
      "source": [
        "<a href=\"https://colab.research.google.com/github/Arindam2002/tensorflow_learning/blob/main/04_transfer_learning_in_tensorflow_part_1_(feature_extraction).ipynb\" target=\"_parent\"><img src=\"https://colab.research.google.com/assets/colab-badge.svg\" alt=\"Open In Colab\"/></a>"
      ]
    },
    {
      "cell_type": "markdown",
      "source": [
        "# Transfer Learning with TensorFlow Part 1: Feature Extraction"
      ],
      "metadata": {
        "id": "svG1sUGvP32N"
      }
    },
    {
      "cell_type": "markdown",
      "source": [
        "## Downloading & becoming one with the data"
      ],
      "metadata": {
        "id": "n_uOJI3jP9A1"
      }
    },
    {
      "cell_type": "code",
      "source": [
        "# Get data (10% of food classes from Food101)\n",
        "import zipfile\n",
        "\n",
        "# Download the data\n",
        "!wget https://storage.googleapis.com/ztm_tf_course/food_vision/10_food_classes_10_percent.zip\n",
        "\n",
        "# Unzip the downloaded file\n",
        "zip_ref = zipfile.ZipFile(\"10_food_classes_10_percent.zip\")\n",
        "zip_ref.extractall()\n",
        "zip_ref.close()"
      ],
      "metadata": {
        "colab": {
          "base_uri": "https://localhost:8080/"
        },
        "id": "xlXJ5sECQZVF",
        "outputId": "348827e4-d0b2-4515-8adf-7ab84e2152b9"
      },
      "execution_count": 1,
      "outputs": [
        {
          "output_type": "stream",
          "name": "stdout",
          "text": [
            "--2022-07-11 12:09:00--  https://storage.googleapis.com/ztm_tf_course/food_vision/10_food_classes_10_percent.zip\n",
            "Resolving storage.googleapis.com (storage.googleapis.com)... 173.194.193.128, 173.194.195.128, 173.194.197.128, ...\n",
            "Connecting to storage.googleapis.com (storage.googleapis.com)|173.194.193.128|:443... connected.\n",
            "HTTP request sent, awaiting response... 200 OK\n",
            "Length: 168546183 (161M) [application/zip]\n",
            "Saving to: ‘10_food_classes_10_percent.zip’\n",
            "\n",
            "10_food_classes_10_ 100%[===================>] 160.74M   292MB/s    in 0.6s    \n",
            "\n",
            "2022-07-11 12:09:01 (292 MB/s) - ‘10_food_classes_10_percent.zip’ saved [168546183/168546183]\n",
            "\n"
          ]
        }
      ]
    },
    {
      "cell_type": "code",
      "source": [
        "# Number of images in each folder\n",
        "import os\n",
        "\n",
        "# Walk through our data directory and list number of files\n",
        "for dirpath, dirnames, filenames in os.walk(\"10_food_classes_10_percent\"):\n",
        "    print(f\"There are {len(dirnames)} directories & {len(filenames)} images in {dirpath}\")"
      ],
      "metadata": {
        "colab": {
          "base_uri": "https://localhost:8080/"
        },
        "id": "agAKe_xzT2MP",
        "outputId": "d0085ac6-91ce-4774-9f56-130419fb5793"
      },
      "execution_count": 2,
      "outputs": [
        {
          "output_type": "stream",
          "name": "stdout",
          "text": [
            "There are 2 directories & 0 images in 10_food_classes_10_percent\n",
            "There are 10 directories & 0 images in 10_food_classes_10_percent/test\n",
            "There are 0 directories & 250 images in 10_food_classes_10_percent/test/ramen\n",
            "There are 0 directories & 250 images in 10_food_classes_10_percent/test/fried_rice\n",
            "There are 0 directories & 250 images in 10_food_classes_10_percent/test/chicken_curry\n",
            "There are 0 directories & 250 images in 10_food_classes_10_percent/test/chicken_wings\n",
            "There are 0 directories & 250 images in 10_food_classes_10_percent/test/grilled_salmon\n",
            "There are 0 directories & 250 images in 10_food_classes_10_percent/test/ice_cream\n",
            "There are 0 directories & 250 images in 10_food_classes_10_percent/test/sushi\n",
            "There are 0 directories & 250 images in 10_food_classes_10_percent/test/pizza\n",
            "There are 0 directories & 250 images in 10_food_classes_10_percent/test/steak\n",
            "There are 0 directories & 250 images in 10_food_classes_10_percent/test/hamburger\n",
            "There are 10 directories & 0 images in 10_food_classes_10_percent/train\n",
            "There are 0 directories & 75 images in 10_food_classes_10_percent/train/ramen\n",
            "There are 0 directories & 75 images in 10_food_classes_10_percent/train/fried_rice\n",
            "There are 0 directories & 75 images in 10_food_classes_10_percent/train/chicken_curry\n",
            "There are 0 directories & 75 images in 10_food_classes_10_percent/train/chicken_wings\n",
            "There are 0 directories & 75 images in 10_food_classes_10_percent/train/grilled_salmon\n",
            "There are 0 directories & 75 images in 10_food_classes_10_percent/train/ice_cream\n",
            "There are 0 directories & 75 images in 10_food_classes_10_percent/train/sushi\n",
            "There are 0 directories & 75 images in 10_food_classes_10_percent/train/pizza\n",
            "There are 0 directories & 75 images in 10_food_classes_10_percent/train/steak\n",
            "There are 0 directories & 75 images in 10_food_classes_10_percent/train/hamburger\n"
          ]
        }
      ]
    },
    {
      "cell_type": "markdown",
      "source": [
        "## Creating data loaders (preparing the data)"
      ],
      "metadata": {
        "id": "8M2-THvcVLpB"
      }
    },
    {
      "cell_type": "code",
      "source": [
        "# Setup data inputs\n",
        "from tensorflow.keras.preprocessing.image import ImageDataGenerator\n",
        "\n",
        "IMAGE_SHAPE = (224, 224)\n",
        "BATCH_SIZE = 32\n",
        "\n",
        "train_dir = \"/content/10_food_classes_10_percent/train\"\n",
        "test_dir = \"/content/10_food_classes_10_percent/test\"\n",
        "\n",
        "train_datagen = ImageDataGenerator(rescale=1/255)\n",
        "test_datagen = ImageDataGenerator(rescale=1/255)\n",
        "\n",
        "print(\"Training images:\")\n",
        "train_data_10_percent = train_datagen.flow_from_directory(directory=train_dir,\n",
        "                                               target_size=IMAGE_SHAPE,\n",
        "                                               batch_size=BATCH_SIZE,\n",
        "                                               class_mode=\"categorical\")\n",
        "\n",
        "print(\"Testing images:\")\n",
        "test_data = test_datagen.flow_from_directory(directory=test_dir,\n",
        "                                             target_size=IMAGE_SHAPE,\n",
        "                                             batch_size=BATCH_SIZE,\n",
        "                                             class_mode=\"categorical\")"
      ],
      "metadata": {
        "colab": {
          "base_uri": "https://localhost:8080/"
        },
        "id": "k_8Rd0YDY1vW",
        "outputId": "f3c38683-3759-4322-d77a-a9c0ee1bb131"
      },
      "execution_count": 3,
      "outputs": [
        {
          "output_type": "stream",
          "name": "stdout",
          "text": [
            "Training images:\n",
            "Found 750 images belonging to 10 classes.\n",
            "Testing images:\n",
            "Found 2500 images belonging to 10 classes.\n"
          ]
        }
      ]
    },
    {
      "cell_type": "markdown",
      "source": [
        "## Setting up callbacks (things to run whilst our model trains)\n",
        "\n",
        "Callbacks are extra functionality you can add to your models to be performed during or after training. Some of the most popular callbacks:\n",
        "\n",
        "* Tracking experiments with the TensorBoard callback\n",
        "* Model checkpoint with the ModelCheckpoint callback\n",
        "* Stopping a model from training (before it trains too long and overfits) with the EarlyStopping callback"
      ],
      "metadata": {
        "id": "ymCL4BHsaeAa"
      }
    },
    {
      "cell_type": "code",
      "source": [
        "# Create TensorBoard callback (functionized... cuz we need to create a new one for each value)\n",
        "import tensorflow as tf\n",
        "import datetime\n",
        "\n",
        "def create_tensorboard_callback(dir_name, experiment_name):\n",
        "    log_dir = dir_name + \"/\" + experiment_name + \"/\" + datetime.datetime.now().strftime(\"%Y%m%d-%H%M%S\")\n",
        "    tensorboard_callback = tf.keras.callbacks.TensorBoard(log_dir=log_dir)\n",
        "    print(f\"Saving TensorBoard log files to: {log_dir}\")\n",
        "    return tensorboard_callback"
      ],
      "metadata": {
        "id": "v_gOM3-dymCc"
      },
      "execution_count": 4,
      "outputs": []
    },
    {
      "cell_type": "markdown",
      "source": [
        "## Creating models using TensorFlow Hub"
      ],
      "metadata": {
        "id": "9IfZHYqe7hlE"
      }
    },
    {
      "cell_type": "code",
      "source": [
        "# Compare the following 2 models\n",
        "resnet_url = \"https://tfhub.dev/google/imagenet/resnet_v2_50/feature_vector/5\"\n",
        "\n",
        "efficientnet_url = \"https://tfhub.dev/google/efficientnet/b0/feature-vector/1\""
      ],
      "metadata": {
        "id": "OLWPm9lF7x4-"
      },
      "execution_count": 5,
      "outputs": []
    },
    {
      "cell_type": "code",
      "source": [
        "# Import dependencies\n",
        "import tensorflow as tf\n",
        "import tensorflow_hub as hub\n",
        "from tensorflow.keras import layers, Sequential\n",
        "from tensorflow.keras.layers import Dense"
      ],
      "metadata": {
        "id": "5ppUPp8BI5SO"
      },
      "execution_count": 6,
      "outputs": []
    },
    {
      "cell_type": "code",
      "source": [
        "# Make a create_model() function to create a model from a url\n",
        "def create_model(model_url, num_classes=10):\n",
        "    \"\"\"\n",
        "    Takes a TensorFlow Hub url and creates a keras Sequential model with it\n",
        "\n",
        "    Args:\n",
        "        model_url (str): A TensorFlow Hub feature extraction URL\n",
        "        num_classes (int): Number of output neurons in the output layer,\n",
        "            should be equal to number of target classes, default 10.\n",
        "\n",
        "    Returns:\n",
        "        An uncompiled Keras Sequential model with model_url as feature extractor layer\n",
        "        and Dense output layer with num_classes output neurons\n",
        "    \"\"\"\n",
        "\n",
        "    # Download the pretrained model and save it as a Keras layer\n",
        "    feature_extractor_layer = hub.KerasLayer(model_url,\n",
        "                                             trainable=False,   # Freeze the already learned patterns\n",
        "                                             name=\"feature_extraction_layer\",\n",
        "                                             input_shape=IMAGE_SHAPE + (3,))\n",
        "    \n",
        "    # Create our model\n",
        "    model = Sequential([\n",
        "        feature_extractor_layer,\n",
        "        Dense(num_classes, activation=\"softmax\", name=\"output_layer\")\n",
        "    ])\n",
        "\n",
        "    return model"
      ],
      "metadata": {
        "id": "CxKuz-MlJYR1"
      },
      "execution_count": 7,
      "outputs": []
    },
    {
      "cell_type": "markdown",
      "source": [
        "### Creating & testing ResNet TensorFlow Hub Feature Extraction model"
      ],
      "metadata": {
        "id": "A_AM78HXga5H"
      }
    },
    {
      "cell_type": "code",
      "source": [
        "# Create ResNet model\n",
        "resnet_model = create_model(resnet_url,\n",
        "                            num_classes=train_data_10_percent.num_classes)"
      ],
      "metadata": {
        "id": "0K_2QB3ngrLQ"
      },
      "execution_count": 8,
      "outputs": []
    },
    {
      "cell_type": "code",
      "source": [
        "# Compile our resnet model\n",
        "resnet_model.compile(loss=\"categorical_crossentropy\",\n",
        "                     optimizer=tf.keras.optimizers.Adam(),\n",
        "                     metrics=[\"accuracy\"])"
      ],
      "metadata": {
        "id": "hyJjAYFZiDhL"
      },
      "execution_count": 9,
      "outputs": []
    },
    {
      "cell_type": "code",
      "source": [
        "resnet_model.summary()"
      ],
      "metadata": {
        "colab": {
          "base_uri": "https://localhost:8080/"
        },
        "id": "vHvKq5tOhyds",
        "outputId": "a24279b5-ccc7-4933-812d-d2c3efca40ad"
      },
      "execution_count": 10,
      "outputs": [
        {
          "output_type": "stream",
          "name": "stdout",
          "text": [
            "Model: \"sequential\"\n",
            "_________________________________________________________________\n",
            " Layer (type)                Output Shape              Param #   \n",
            "=================================================================\n",
            " feature_extraction_layer (K  (None, 2048)             23564800  \n",
            " erasLayer)                                                      \n",
            "                                                                 \n",
            " output_layer (Dense)        (None, 10)                20490     \n",
            "                                                                 \n",
            "=================================================================\n",
            "Total params: 23,585,290\n",
            "Trainable params: 20,490\n",
            "Non-trainable params: 23,564,800\n",
            "_________________________________________________________________\n"
          ]
        }
      ]
    },
    {
      "cell_type": "code",
      "source": [
        "# Fit the ResNet model\n",
        "resnet_history = resnet_model.fit(train_data_10_percent,\n",
        "                                  epochs=5,\n",
        "                                  steps_per_epoch=len(train_data_10_percent),\n",
        "                                  validation_data=test_data,\n",
        "                                  validation_steps=len(test_data),\n",
        "                                  callbacks=[\n",
        "                                             create_tensorboard_callback(\n",
        "                                                 dir_name=\"tensorflow_hub\",\n",
        "                                                 experiment_name=\"resnet50V2\")\n",
        "                                             ])"
      ],
      "metadata": {
        "id": "0JvDXkYCizi4",
        "colab": {
          "base_uri": "https://localhost:8080/"
        },
        "outputId": "34c4a82c-5173-4d3b-cce9-a6f5e8f5b03b"
      },
      "execution_count": 11,
      "outputs": [
        {
          "output_type": "stream",
          "name": "stdout",
          "text": [
            "Saving TensorBoard log files to: tensorflow_hub/resnet50V2/20220711-120916\n",
            "Epoch 1/5\n",
            "24/24 [==============================] - 37s 945ms/step - loss: 1.9329 - accuracy: 0.3533 - val_loss: 1.1873 - val_accuracy: 0.6160\n",
            "Epoch 2/5\n",
            "24/24 [==============================] - 16s 705ms/step - loss: 0.8952 - accuracy: 0.7493 - val_loss: 0.8621 - val_accuracy: 0.7256\n",
            "Epoch 3/5\n",
            "24/24 [==============================] - 17s 716ms/step - loss: 0.6194 - accuracy: 0.8320 - val_loss: 0.7544 - val_accuracy: 0.7536\n",
            "Epoch 4/5\n",
            "24/24 [==============================] - 25s 1s/step - loss: 0.4744 - accuracy: 0.8853 - val_loss: 0.7225 - val_accuracy: 0.7652\n",
            "Epoch 5/5\n",
            "24/24 [==============================] - 17s 718ms/step - loss: 0.3828 - accuracy: 0.9120 - val_loss: 0.6866 - val_accuracy: 0.7732\n"
          ]
        }
      ]
    },
    {
      "cell_type": "markdown",
      "source": [
        "> Damn... way to go ResNet!"
      ],
      "metadata": {
        "id": "7idNCg2_kKOD"
      }
    },
    {
      "cell_type": "code",
      "source": [
        "# Create a function to plot our loss curves...\n",
        "# Tidbit: you could put a function like this into a script called \"helper.py\" and import it when you need it...\n",
        "import matplotlib.pyplot as plt\n",
        "\n",
        "# Plot the validation and training curves\n",
        "def plot_loss_curves(history):\n",
        "  \"\"\"\n",
        "  Returns separate loss curves for training and validation metrics.\n",
        "\n",
        "  Args:\n",
        "    history: TensorFlow History object.\n",
        "\n",
        "  Returns:\n",
        "    Plots of training/validation loss and accuracy metrics.\n",
        "  \"\"\"\n",
        "  loss = history.history[\"loss\"]\n",
        "  val_loss = history.history[\"val_loss\"]\n",
        "\n",
        "  accuracy = history.history[\"accuracy\"]\n",
        "  val_accuracy = history.history[\"val_accuracy\"]\n",
        "\n",
        "  epochs = range(len(history.history[\"loss\"]))\n",
        "\n",
        "  # Plot loss\n",
        "  plt.plot(epochs, loss, label=\"training_loss\")\n",
        "  plt.plot(epochs, val_loss, label=\"val_loss\")\n",
        "  plt.title(\"Loss\")\n",
        "  plt.xlabel(\"Epochs\")\n",
        "  plt.legend()\n",
        "\n",
        "  # Plot accuracy\n",
        "  plt.figure()\n",
        "  plt.plot(epochs, accuracy, label=\"training_accuracy\")\n",
        "  plt.plot(epochs, val_accuracy, label=\"val_accuracy\")\n",
        "  plt.title(\"Accuracy\")\n",
        "  plt.xlabel(\"Epochs\")\n",
        "  plt.legend();\n"
      ],
      "metadata": {
        "id": "a9oI59EPlNfK"
      },
      "execution_count": 12,
      "outputs": []
    },
    {
      "cell_type": "code",
      "source": [
        "plot_loss_curves(resnet_history)"
      ],
      "metadata": {
        "colab": {
          "base_uri": "https://localhost:8080/",
          "height": 573
        },
        "id": "MGriZ3iOrFeX",
        "outputId": "2a27b181-2e4c-448b-a61a-a9f9f2052647"
      },
      "execution_count": 13,
      "outputs": [
        {
          "output_type": "display_data",
          "data": {
            "text/plain": [
              "<Figure size 432x288 with 1 Axes>"
            ],
            "image/png": "[encoded data removed]"
          },
          "metadata": {
            "needs_background": "light"
          }
        },
        {
          "output_type": "display_data",
          "data": {
            "text/plain": [
              "<Figure size 432x288 with 1 Axes>"
            ],
            "image/png": "[encoded data removed]"
          },
          "metadata": {
            "needs_background": "light"
          }
        }
      ]
    },
    {
      "cell_type": "markdown",
      "source": [
        "### Creating & testing EfficientNetB0 TensorFlow Hub Feature Extraction model"
      ],
      "metadata": {
        "id": "UuYVN0Yls-ad"
      }
    },
    {
      "cell_type": "code",
      "source": [
        "# Create EfficientNet model\n",
        "efficientnet_model = create_model(efficientnet_url,\n",
        "                                  num_classes=train_data_10_percent.num_classes)"
      ],
      "metadata": {
        "id": "nLzwhMU8tREE"
      },
      "execution_count": 14,
      "outputs": []
    },
    {
      "cell_type": "code",
      "source": [
        "# Compile the model\n",
        "efficientnet_model.compile(loss=\"categorical_crossentropy\",\n",
        "                           optimizer=tf.keras.optimizers.Adam(),\n",
        "                           metrics=[\"accuracy\"])"
      ],
      "metadata": {
        "id": "7gLv1a57tp-k"
      },
      "execution_count": 15,
      "outputs": []
    },
    {
      "cell_type": "code",
      "source": [
        "# Fit the EfficientNet model\n",
        "efficientnet_history = efficientnet_model.fit(train_data_10_percent,\n",
        "                                              epochs=5,\n",
        "                                              steps_per_epoch=len(train_data_10_percent),\n",
        "                                              validation_data=test_data,\n",
        "                                              validation_steps=len(test_data),\n",
        "                                              callbacks=[create_tensorboard_callback(dir_name=\"tensorflow_hub\",\n",
        "                                                                                     experiment_name=\"efficientnetb0\")])"
      ],
      "metadata": {
        "colab": {
          "base_uri": "https://localhost:8080/"
        },
        "id": "KbDHPnS9uHDX",
        "outputId": "46431da9-c7ed-40e4-ca88-dcb66f7307f1"
      },
      "execution_count": 16,
      "outputs": [
        {
          "output_type": "stream",
          "name": "stdout",
          "text": [
            "Saving TensorBoard log files to: tensorflow_hub/efficientnetb0/20220711-121115\n",
            "Epoch 1/5\n",
            "24/24 [==============================] - 31s 1s/step - loss: 1.8920 - accuracy: 0.3880 - val_loss: 1.3413 - val_accuracy: 0.7236\n",
            "Epoch 2/5\n",
            "24/24 [==============================] - 16s 671ms/step - loss: 1.0845 - accuracy: 0.7787 - val_loss: 0.8909 - val_accuracy: 0.8148\n",
            "Epoch 3/5\n",
            "24/24 [==============================] - 15s 634ms/step - loss: 0.7663 - accuracy: 0.8333 - val_loss: 0.7139 - val_accuracy: 0.8436\n",
            "Epoch 4/5\n",
            "24/24 [==============================] - 15s 640ms/step - loss: 0.6179 - accuracy: 0.8587 - val_loss: 0.6226 - val_accuracy: 0.8540\n",
            "Epoch 5/5\n",
            "24/24 [==============================] - 18s 788ms/step - loss: 0.5214 - accuracy: 0.8880 - val_loss: 0.5681 - val_accuracy: 0.8608\n"
          ]
        }
      ]
    },
    {
      "cell_type": "code",
      "source": [
        "plot_loss_curves(efficientnet_history)"
      ],
      "metadata": {
        "colab": {
          "base_uri": "https://localhost:8080/",
          "height": 573
        },
        "id": "LHxWwIJAu70S",
        "outputId": "7e68417d-9bdd-4f31-923c-3d4f515a3986"
      },
      "execution_count": 17,
      "outputs": [
        {
          "output_type": "display_data",
          "data": {
            "text/plain": [
              "<Figure size 432x288 with 1 Axes>"
            ],
            "image/png": "[encoded data removed]"
          },
          "metadata": {
            "needs_background": "light"
          }
        },
        {
          "output_type": "display_data",
          "data": {
            "text/plain": [
              "<Figure size 432x288 with 1 Axes>"
            ],
            "image/png": "[encoded data removed]"
          },
          "metadata": {
            "needs_background": "light"
          }
        }
      ]
    },
    {
      "cell_type": "code",
      "source": [
        "efficientnet_model.summary()"
      ],
      "metadata": {
        "colab": {
          "base_uri": "https://localhost:8080/"
        },
        "id": "b4VJfzUMv5E3",
        "outputId": "c04cb2d2-cab2-4201-8dce-8849a812af08"
      },
      "execution_count": 18,
      "outputs": [
        {
          "output_type": "stream",
          "name": "stdout",
          "text": [
            "Model: \"sequential_1\"\n",
            "_________________________________________________________________\n",
            " Layer (type)                Output Shape              Param #   \n",
            "=================================================================\n",
            " feature_extraction_layer (K  (None, 1280)             4049564   \n",
            " erasLayer)                                                      \n",
            "                                                                 \n",
            " output_layer (Dense)        (None, 10)                12810     \n",
            "                                                                 \n",
            "=================================================================\n",
            "Total params: 4,062,374\n",
            "Trainable params: 12,810\n",
            "Non-trainable params: 4,049,564\n",
            "_________________________________________________________________\n"
          ]
        }
      ]
    },
    {
      "cell_type": "code",
      "source": [
        "# Number of layers in the efficientnetb0 feature extractor\n",
        "len(efficientnet_model.layers[0].weights)"
      ],
      "metadata": {
        "colab": {
          "base_uri": "https://localhost:8080/"
        },
        "id": "4LhduxOCHypo",
        "outputId": "b8ac7f3b-50db-466c-c535-56fe75e10e7c"
      },
      "execution_count": 19,
      "outputs": [
        {
          "output_type": "execute_result",
          "data": {
            "text/plain": [
              "309"
            ]
          },
          "metadata": {},
          "execution_count": 19
        }
      ]
    },
    {
      "cell_type": "markdown",
      "source": [
        "## Different types of transfer learning\n",
        "\n",
        "* **\"As is\" transfer learning** - using an existing model with no changes what so ever (e.g using ImageNet model on 1000 ImageNet classes, none of your own)\n",
        "* **\"Feature extraction\"** transfer learning - use the prelearned patterns of an existing model (e.g. EfficientNetB0 trained on ImageNet) and adjust the output layer for your own problem (e.g. 1000 classes -> 10 classes of food)\n",
        "* **\"Fine-tuning\" transfer learning** - use the prelearned patterns of an existing model and \"fine-tune\" many or all of the underlying layers (including new output layers)\n"
      ],
      "metadata": {
        "id": "JbeGzZi534Zw"
      }
    },
    {
      "cell_type": "markdown",
      "source": [
        "## Comparing our models' results using TensorBoard"
      ],
      "metadata": {
        "id": "O9UockVxJXbJ"
      }
    },
    {
      "cell_type": "code",
      "source": [
        "# Upload TensorBoard dev records\n",
        "!tensorboard dev upload \\\n",
        "  --logdir ./tensorflow_hub/ \\\n",
        "  --name \"EfficientNetB0 vs. ResNet50V2\" \\\n",
        "  --description \"Comparing 2 different TF Hub feature extraction model architectures using 10% of the training data\" \\\n",
        "  --one_shot"
      ],
      "metadata": {
        "colab": {
          "base_uri": "https://localhost:8080/"
        },
        "id": "Woq_EOhgJgg2",
        "outputId": "cb6f7bc0-9965-402e-bbb9-65d6fa36fc98"
      },
      "execution_count": 24,
      "outputs": [
        {
          "output_type": "stream",
          "name": "stdout",
          "text": [
            "\n",
            "***** TensorBoard Uploader *****\n",
            "\n",
            "This will upload your TensorBoard logs to https://tensorboard.dev/ from\n",
            "the following directory:\n",
            "\n",
            "./tensorflow_hub/\n",
            "\n",
            "This TensorBoard will be visible to everyone. Do not upload sensitive\n",
            "data.\n",
            "\n",
            "Your use of this service is subject to Google's Terms of Service\n",
            "<https://policies.google.com/terms> and Privacy Policy\n",
            "<https://policies.google.com/privacy>, and TensorBoard.dev's Terms of Service\n",
            "<https://tensorboard.dev/policy/terms/>.\n",
            "\n",
            "This notice will not be shown again while you are logged into the uploader.\n",
            "To log out, run `tensorboard dev auth revoke`.\n",
            "\n",
            "Continue? (yes/NO) yes\n",
            "\n",
            "Please visit this URL to authorize this application: https://accounts.google.com/o/oauth2/auth?response_type=code&client_id=373649185512-8v619h5kft38l4456nm2dj4ubeqsrvh6.apps.googleusercontent.com&redirect_uri=urn%3Aietf%3Awg%3Aoauth%3A2.0%3Aoob&scope=openid+https%3A%2F%2Fwww.googleapis.com%2Fauth%2Fuserinfo.email&state=BkORiCv2JjcS5RxusmfYMxgoBQUOmB&prompt=consent&access_type=offline\n",
            "Enter the authorization code: 4/1AdQt8qiOoZzqThI5wc8C08A1wBbDQt07HRW-pkBnM1tZirct3lfNmewXVig\n",
            "\n",
            "\n",
            "New experiment created. View your TensorBoard at: https://tensorboard.dev/experiment/AdrnQPKMQKqlKg20D9J3DQ/\n",
            "\n",
            "\u001b[1m[2022-07-11T12:15:55]\u001b[0m Started scanning logdir.\n",
            "\u001b[1m[2022-07-11T12:15:57]\u001b[0m Total uploaded: 60 scalars, 0 tensors, 2 binary objects (3.0 MB)\n",
            "\u001b[1m[2022-07-11T12:15:57]\u001b[0m Done scanning logdir.\n",
            "\n",
            "\n",
            "Done. View your TensorBoard at https://tensorboard.dev/experiment/AdrnQPKMQKqlKg20D9J3DQ/\n"
          ]
        }
      ]
    },
    {
      "cell_type": "code",
      "source": [
        "!tensorboard dev list"
      ],
      "metadata": {
        "colab": {
          "base_uri": "https://localhost:8080/"
        },
        "id": "O_x34JlPLUWx",
        "outputId": "7f5e72a9-bce5-440e-e286-a6c954c315d5"
      },
      "execution_count": 25,
      "outputs": [
        {
          "output_type": "stream",
          "name": "stdout",
          "text": [
            "https://tensorboard.dev/experiment/AdrnQPKMQKqlKg20D9J3DQ/\n",
            "\tName                 EfficientNetB0 vs. ResNet50V2\n",
            "\tDescription          Comparing 2 different TF Hub feature extraction model architectures using 10% of the training data\n",
            "\tId                   AdrnQPKMQKqlKg20D9J3DQ\n",
            "\tCreated              2022-07-11 12:15:55 (5 minutes ago)\n",
            "\tUpdated              2022-07-11 12:15:57 (5 minutes ago)\n",
            "\tRuns                 4\n",
            "\tTags                 5\n",
            "\tScalars              60\n",
            "\tTensor bytes         0\n",
            "\tBinary object bytes  3140571\n",
            "Total: 1 experiment(s)\n"
          ]
        }
      ]
    },
    {
      "cell_type": "code",
      "source": [
        "# Delete an experiment\n",
        "# !tensorboard dev delete --experiment_id <id-goes-here>"
      ],
      "metadata": {
        "id": "5_HiJhmyNM1E"
      },
      "execution_count": 26,
      "outputs": []
    }
  ]
}