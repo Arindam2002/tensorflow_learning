{
  "nbformat": 4,
  "nbformat_minor": 0,
  "metadata": {
    "colab": {
      "name": "01_neural_network_regression_in_tensorflow.ipynb",
      "provenance": [],
      "collapsed_sections": [],
      "authorship_tag": "ABX9TyM92Q9oBGgXMu2FLhAADJ02",
      "include_colab_link": true
    },
    "kernelspec": {
      "name": "python3",
      "display_name": "Python 3"
    },
    "language_info": {
      "name": "python"
    },
    "gpuClass": "standard",
    "accelerator": "GPU"
  },
  "cells": [
    {
      "cell_type": "markdown",
      "metadata": {
        "id": "view-in-github",
        "colab_type": "text"
      },
      "source": [
        "<a href=\"https://colab.research.google.com/github/Arindam2002/tensorflow_learning/blob/main/01_neural_network_regression_in_tensorflow.ipynb\" target=\"_parent\"><img src=\"https://colab.research.google.com/assets/colab-badge.svg\" alt=\"Open In Colab\"/></a>"
      ]
    },
    {
      "cell_type": "markdown",
      "source": [
        "# Intronfuction to Regression with Neural Networks in TensorFlow"
      ],
      "metadata": {
        "id": "0EAmhOgRDEJA"
      }
    },
    {
      "cell_type": "code",
      "source": [
        "import tensorflow as tf\n",
        "print(tf.__version__)"
      ],
      "metadata": {
        "colab": {
          "base_uri": "https://localhost:8080/"
        },
        "id": "Xnt5zh39w46U",
        "outputId": "388e65db-faa7-4b14-c899-8ca23c317c73"
      },
      "execution_count": 96,
      "outputs": [
        {
          "output_type": "stream",
          "name": "stdout",
          "text": [
            "2.8.2\n"
          ]
        }
      ]
    },
    {
      "cell_type": "markdown",
      "source": [
        "## Creating data to view and fit"
      ],
      "metadata": {
        "id": "LFwj4aY-xsB0"
      }
    },
    {
      "cell_type": "code",
      "source": [
        "import numpy as np\n",
        "import matplotlib.pyplot as plt\n",
        "\n",
        "# Creating features\n",
        "X = np.array([-7.0, -4.0, -1.0, 2.0, 5.0, 8.0, 11.0, 14.0])\n",
        "\n",
        "# Create labels\n",
        "y = np.array([3.0, 6.0, 9.0, 12.0, 15.0, 18.0, 21.0, 24.0])\n",
        "\n",
        "# Visualize it\n",
        "plt.scatter(X, y )"
      ],
      "metadata": {
        "colab": {
          "base_uri": "https://localhost:8080/",
          "height": 0
        },
        "id": "jxfeg7P2x9O7",
        "outputId": "c7a1c187-f149-4f88-967c-5e8cbee8093a"
      },
      "execution_count": 97,
      "outputs": [
        {
          "output_type": "execute_result",
          "data": {
            "text/plain": [
              "<matplotlib.collections.PathCollection at 0x7f4e3a874d10>"
            ]
          },
          "metadata": {},
          "execution_count": 97
        },
        {
          "output_type": "display_data",
          "data": {
            "text/plain": [
              "<Figure size 432x288 with 1 Axes>"
            ],
            "image/png": "[encoded data removed]"
          },
          "metadata": {
            "needs_background": "light"
          }
        }
      ]
    },
    {
      "cell_type": "code",
      "source": [
        "y == X + 10"
      ],
      "metadata": {
        "colab": {
          "base_uri": "https://localhost:8080/"
        },
        "id": "ebaZQ99my0tO",
        "outputId": "7700af1d-74a7-4157-99c4-562e0e56f181"
      },
      "execution_count": 98,
      "outputs": [
        {
          "output_type": "execute_result",
          "data": {
            "text/plain": [
              "array([ True,  True,  True,  True,  True,  True,  True,  True])"
            ]
          },
          "metadata": {},
          "execution_count": 98
        }
      ]
    },
    {
      "cell_type": "markdown",
      "source": [
        "## Input and output shapes"
      ],
      "metadata": {
        "id": "RmCMci0sy23J"
      }
    },
    {
      "cell_type": "code",
      "source": [
        "# Create a demo tensor for housing price prediction problem\n",
        "house_info = tf.constant([\"bedroom\", \"bathroom\", \"garage\"])\n",
        "house_price = tf.constant([939700])\n",
        "house_info, house_price"
      ],
      "metadata": {
        "colab": {
          "base_uri": "https://localhost:8080/"
        },
        "id": "us3t34YGy9xc",
        "outputId": "eed87822-f9f5-4f4f-f396-3846376036ab"
      },
      "execution_count": 99,
      "outputs": [
        {
          "output_type": "execute_result",
          "data": {
            "text/plain": [
              "(<tf.Tensor: shape=(3,), dtype=string, numpy=array([b'bedroom', b'bathroom', b'garage'], dtype=object)>,\n",
              " <tf.Tensor: shape=(1,), dtype=int32, numpy=array([939700], dtype=int32)>)"
            ]
          },
          "metadata": {},
          "execution_count": 99
        }
      ]
    },
    {
      "cell_type": "code",
      "source": [
        "input_shape = X[0].shape\n",
        "output_shape = y[0].shape\n",
        "input_shape, output_shape"
      ],
      "metadata": {
        "colab": {
          "base_uri": "https://localhost:8080/"
        },
        "id": "BLpS3IaW0QJS",
        "outputId": "acde3f1d-8a1e-4dc9-92ba-9d9d1b22885f"
      },
      "execution_count": 100,
      "outputs": [
        {
          "output_type": "execute_result",
          "data": {
            "text/plain": [
              "((), ())"
            ]
          },
          "metadata": {},
          "execution_count": 100
        }
      ]
    },
    {
      "cell_type": "code",
      "source": [
        "X[0].ndim"
      ],
      "metadata": {
        "colab": {
          "base_uri": "https://localhost:8080/"
        },
        "id": "LGupXOBz0ov-",
        "outputId": "3c50f95e-24fd-45f0-c869-56739d8a0302"
      },
      "execution_count": 101,
      "outputs": [
        {
          "output_type": "execute_result",
          "data": {
            "text/plain": [
              "0"
            ]
          },
          "metadata": {},
          "execution_count": 101
        }
      ]
    },
    {
      "cell_type": "code",
      "source": [
        "X[0], y[0]"
      ],
      "metadata": {
        "colab": {
          "base_uri": "https://localhost:8080/"
        },
        "id": "guBRx1nf1H8Q",
        "outputId": "ce7a2d3c-1478-49d4-8735-8027f8ccb931"
      },
      "execution_count": 102,
      "outputs": [
        {
          "output_type": "execute_result",
          "data": {
            "text/plain": [
              "(-7.0, 3.0)"
            ]
          },
          "metadata": {},
          "execution_count": 102
        }
      ]
    },
    {
      "cell_type": "code",
      "source": [
        "# Turn our NumPy arrays to tensors\n",
        "X = tf.constant(X)\n",
        "y = tf.constant(y)\n",
        "X, y"
      ],
      "metadata": {
        "colab": {
          "base_uri": "https://localhost:8080/"
        },
        "id": "K5oe15l91J8x",
        "outputId": "35166b23-3521-4fdf-8050-c557af4f3201"
      },
      "execution_count": 103,
      "outputs": [
        {
          "output_type": "execute_result",
          "data": {
            "text/plain": [
              "(<tf.Tensor: shape=(8,), dtype=float64, numpy=array([-7., -4., -1.,  2.,  5.,  8., 11., 14.])>,\n",
              " <tf.Tensor: shape=(8,), dtype=float64, numpy=array([ 3.,  6.,  9., 12., 15., 18., 21., 24.])>)"
            ]
          },
          "metadata": {},
          "execution_count": 103
        }
      ]
    },
    {
      "cell_type": "code",
      "source": [
        "input_shape = X[0].shape\n",
        "output_shape = y[0].shape\n",
        "input_shape, output_shape"
      ],
      "metadata": {
        "colab": {
          "base_uri": "https://localhost:8080/"
        },
        "id": "UccDaiEE9uTb",
        "outputId": "3bb7028c-789b-445e-fae2-09a7d0dd2064"
      },
      "execution_count": 104,
      "outputs": [
        {
          "output_type": "execute_result",
          "data": {
            "text/plain": [
              "(TensorShape([]), TensorShape([]))"
            ]
          },
          "metadata": {},
          "execution_count": 104
        }
      ]
    },
    {
      "cell_type": "code",
      "source": [
        "plt.scatter(X, y)"
      ],
      "metadata": {
        "colab": {
          "base_uri": "https://localhost:8080/",
          "height": 0
        },
        "id": "fFInt2BU933t",
        "outputId": "48086a04-bea9-453c-c364-07fd8655b591"
      },
      "execution_count": 105,
      "outputs": [
        {
          "output_type": "execute_result",
          "data": {
            "text/plain": [
              "<matplotlib.collections.PathCollection at 0x7f4e2dfe7850>"
            ]
          },
          "metadata": {},
          "execution_count": 105
        },
        {
          "output_type": "display_data",
          "data": {
            "text/plain": [
              "<Figure size 432x288 with 1 Axes>"
            ],
            "image/png": "[encoded data removed]"
          },
          "metadata": {
            "needs_background": "light"
          }
        }
      ]
    },
    {
      "cell_type": "markdown",
      "source": [
        "## Steps in modelling with TensorFlow\n",
        "\n",
        "1. **Creating a model** - Defining input, hidden and dense layers of the deep learning model\n",
        "2. **Compiling a model** - define the loss function, the optimizer and evaluation metrics\n",
        "3. Fitting a model\n",
        "\n",
        "![image.png](data:image/png;base64,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)\n"
      ],
      "metadata": {
        "id": "G3V8eD_R99hf"
      }
    },
    {
      "cell_type": "code",
      "source": [
        "tf. random.set_seed(42)\n",
        "\n",
        "# 1. Creating a modell using Sequential API\n",
        "model = tf.keras.Sequential()\n",
        "model.add(tf.keras.layers.Dense(1))\n",
        "\n",
        "# 2. Compiling the model\n",
        "model.compile(loss = tf.keras.losses.mae,\n",
        "              optimizer = tf.keras.optimizers.SGD(),\n",
        "              metrics=[\"mae\"])\n",
        "# 3. Fit the model\n",
        "model.fit(tf.expand_dims(X, axis=-1), y, epochs = 5)"
      ],
      "metadata": {
        "id": "B6MXj7d0-jZs",
        "colab": {
          "base_uri": "https://localhost:8080/"
        },
        "outputId": "692183c5-124d-419c-b6b4-71634f06c3b5"
      },
      "execution_count": 106,
      "outputs": [
        {
          "output_type": "stream",
          "name": "stdout",
          "text": [
            "Epoch 1/5\n",
            "1/1 [==============================] - 0s 240ms/step - loss: 11.5048 - mae: 11.5048\n",
            "Epoch 2/5\n",
            "1/1 [==============================] - 0s 7ms/step - loss: 11.3723 - mae: 11.3723\n",
            "Epoch 3/5\n",
            "1/1 [==============================] - 0s 7ms/step - loss: 11.2398 - mae: 11.2398\n",
            "Epoch 4/5\n",
            "1/1 [==============================] - 0s 8ms/step - loss: 11.1073 - mae: 11.1073\n",
            "Epoch 5/5\n",
            "1/1 [==============================] - 0s 7ms/step - loss: 10.9748 - mae: 10.9748\n"
          ]
        },
        {
          "output_type": "execute_result",
          "data": {
            "text/plain": [
              "<keras.callbacks.History at 0x7f4e3b13f750>"
            ]
          },
          "metadata": {},
          "execution_count": 106
        }
      ]
    },
    {
      "cell_type": "code",
      "source": [
        "# Try and make a prediction\n",
        "y_pred = model.predict([17.0])\n",
        "y_pred"
      ],
      "metadata": {
        "colab": {
          "base_uri": "https://localhost:8080/"
        },
        "id": "cZCWzt-SD2ot",
        "outputId": "4565b385-5bdc-4a33-81cf-7d406832697b"
      },
      "execution_count": 107,
      "outputs": [
        {
          "output_type": "execute_result",
          "data": {
            "text/plain": [
              "array([[12.716021]], dtype=float32)"
            ]
          },
          "metadata": {},
          "execution_count": 107
        }
      ]
    },
    {
      "cell_type": "code",
      "source": [
        "y_pred + 11     # 11 since loss in last epoch was 10.97 (for 5 epochs)"
      ],
      "metadata": {
        "colab": {
          "base_uri": "https://localhost:8080/"
        },
        "id": "iU592s4GIDcD",
        "outputId": "92aece05-cecf-4549-c3c5-7d1d17d5378b"
      },
      "execution_count": 108,
      "outputs": [
        {
          "output_type": "execute_result",
          "data": {
            "text/plain": [
              "array([[23.71602]], dtype=float32)"
            ]
          },
          "metadata": {},
          "execution_count": 108
        }
      ]
    },
    {
      "cell_type": "markdown",
      "source": [
        "## Improving our model\n",
        "\n",
        "By altering the steps we took to create a model.\n",
        "\n",
        "1. **Creating the model**:\n",
        "    * Add more layers\n",
        "    * Increase the number of hidden units(neurons) within each hidden layer\n",
        "    * Change the activation function of each layer\n",
        "2. **Compiling the model**:\n",
        "    * Change the optimization function\n",
        "\n",
        "        *or*\n",
        "    * the **learning rate** of the optimization function\n",
        "    \n",
        "    ⭐**Learning rate is the most important hyperparameter in most neural networks**\n",
        "    \n",
        "3. **Fitting the model**:\n",
        "    * Fit the model for **more epochs**\n",
        "    * Give the model more data to learn from"
      ],
      "metadata": {
        "id": "_VvdyZeXIj8Z"
      }
    },
    {
      "cell_type": "code",
      "source": [
        "# Rebuilding our model (Train for larger epochs) #1\n",
        "\n",
        "# 1.Create the model\n",
        "model = tf.keras.Sequential()\n",
        "model.add(tf.keras.layers.Dense(1))\n",
        "\n",
        "# 2. Compile\n",
        "model.compile(loss=tf.keras.losses.mae,\n",
        "              optimizer=tf.keras.optimizers.SGD(),\n",
        "              metrics=[\"mae\"])\n",
        "\n",
        "# 3. Fit the model (Train for larger epochs)\n",
        "model.fit(tf.expand_dims(X, axis=-1), y, epochs=100)"
      ],
      "metadata": {
        "colab": {
          "base_uri": "https://localhost:8080/"
        },
        "id": "qDc6zZqRK8Dt",
        "outputId": "3629b080-71d9-4953-b3f7-9cdaa9e2da80"
      },
      "execution_count": 109,
      "outputs": [
        {
          "output_type": "stream",
          "name": "stdout",
          "text": [
            "Epoch 1/100\n",
            "1/1 [==============================] - 0s 241ms/step - loss: 11.2219 - mae: 11.2219\n",
            "Epoch 2/100\n",
            "1/1 [==============================] - 0s 8ms/step - loss: 11.0894 - mae: 11.0894\n",
            "Epoch 3/100\n",
            "1/1 [==============================] - 0s 7ms/step - loss: 10.9569 - mae: 10.9569\n",
            "Epoch 4/100\n",
            "1/1 [==============================] - 0s 8ms/step - loss: 10.8244 - mae: 10.8244\n",
            "Epoch 5/100\n",
            "1/1 [==============================] - 0s 10ms/step - loss: 10.6919 - mae: 10.6919\n",
            "Epoch 6/100\n",
            "1/1 [==============================] - 0s 11ms/step - loss: 10.5594 - mae: 10.5594\n",
            "Epoch 7/100\n",
            "1/1 [==============================] - 0s 10ms/step - loss: 10.4269 - mae: 10.4269\n",
            "Epoch 8/100\n",
            "1/1 [==============================] - 0s 10ms/step - loss: 10.2944 - mae: 10.2944\n",
            "Epoch 9/100\n",
            "1/1 [==============================] - 0s 11ms/step - loss: 10.1619 - mae: 10.1619\n",
            "Epoch 10/100\n",
            "1/1 [==============================] - 0s 8ms/step - loss: 10.0294 - mae: 10.0294\n",
            "Epoch 11/100\n",
            "1/1 [==============================] - 0s 8ms/step - loss: 9.8969 - mae: 9.8969\n",
            "Epoch 12/100\n",
            "1/1 [==============================] - 0s 10ms/step - loss: 9.7644 - mae: 9.7644\n",
            "Epoch 13/100\n",
            "1/1 [==============================] - 0s 9ms/step - loss: 9.6319 - mae: 9.6319\n",
            "Epoch 14/100\n",
            "1/1 [==============================] - 0s 10ms/step - loss: 9.4994 - mae: 9.4994\n",
            "Epoch 15/100\n",
            "1/1 [==============================] - 0s 11ms/step - loss: 9.3669 - mae: 9.3669\n",
            "Epoch 16/100\n",
            "1/1 [==============================] - 0s 11ms/step - loss: 9.2344 - mae: 9.2344\n",
            "Epoch 17/100\n",
            "1/1 [==============================] - 0s 7ms/step - loss: 9.1019 - mae: 9.1019\n",
            "Epoch 18/100\n",
            "1/1 [==============================] - 0s 10ms/step - loss: 8.9694 - mae: 8.9694\n",
            "Epoch 19/100\n",
            "1/1 [==============================] - 0s 9ms/step - loss: 8.8369 - mae: 8.8369\n",
            "Epoch 20/100\n",
            "1/1 [==============================] - 0s 9ms/step - loss: 8.7044 - mae: 8.7044\n",
            "Epoch 21/100\n",
            "1/1 [==============================] - 0s 8ms/step - loss: 8.5719 - mae: 8.5719\n",
            "Epoch 22/100\n",
            "1/1 [==============================] - 0s 8ms/step - loss: 8.4394 - mae: 8.4394\n",
            "Epoch 23/100\n",
            "1/1 [==============================] - 0s 7ms/step - loss: 8.3069 - mae: 8.3069\n",
            "Epoch 24/100\n",
            "1/1 [==============================] - 0s 9ms/step - loss: 8.1744 - mae: 8.1744\n",
            "Epoch 25/100\n",
            "1/1 [==============================] - 0s 7ms/step - loss: 8.0419 - mae: 8.0419\n",
            "Epoch 26/100\n",
            "1/1 [==============================] - 0s 11ms/step - loss: 7.9094 - mae: 7.9094\n",
            "Epoch 27/100\n",
            "1/1 [==============================] - 0s 9ms/step - loss: 7.7769 - mae: 7.7769\n",
            "Epoch 28/100\n",
            "1/1 [==============================] - 0s 10ms/step - loss: 7.6444 - mae: 7.6444\n",
            "Epoch 29/100\n",
            "1/1 [==============================] - 0s 9ms/step - loss: 7.5119 - mae: 7.5119\n",
            "Epoch 30/100\n",
            "1/1 [==============================] - 0s 8ms/step - loss: 7.3794 - mae: 7.3794\n",
            "Epoch 31/100\n",
            "1/1 [==============================] - 0s 6ms/step - loss: 7.2750 - mae: 7.2750\n",
            "Epoch 32/100\n",
            "1/1 [==============================] - 0s 11ms/step - loss: 7.2694 - mae: 7.2694\n",
            "Epoch 33/100\n",
            "1/1 [==============================] - 0s 8ms/step - loss: 7.2638 - mae: 7.2638\n",
            "Epoch 34/100\n",
            "1/1 [==============================] - 0s 8ms/step - loss: 7.2581 - mae: 7.2581\n",
            "Epoch 35/100\n",
            "1/1 [==============================] - 0s 9ms/step - loss: 7.2525 - mae: 7.2525\n",
            "Epoch 36/100\n",
            "1/1 [==============================] - 0s 7ms/step - loss: 7.2469 - mae: 7.2469\n",
            "Epoch 37/100\n",
            "1/1 [==============================] - 0s 13ms/step - loss: 7.2413 - mae: 7.2413\n",
            "Epoch 38/100\n",
            "1/1 [==============================] - 0s 7ms/step - loss: 7.2356 - mae: 7.2356\n",
            "Epoch 39/100\n",
            "1/1 [==============================] - 0s 9ms/step - loss: 7.2300 - mae: 7.2300\n",
            "Epoch 40/100\n",
            "1/1 [==============================] - 0s 13ms/step - loss: 7.2244 - mae: 7.2244\n",
            "Epoch 41/100\n",
            "1/1 [==============================] - 0s 16ms/step - loss: 7.2188 - mae: 7.2188\n",
            "Epoch 42/100\n",
            "1/1 [==============================] - 0s 7ms/step - loss: 7.2131 - mae: 7.2131\n",
            "Epoch 43/100\n",
            "1/1 [==============================] - 0s 12ms/step - loss: 7.2075 - mae: 7.2075\n",
            "Epoch 44/100\n",
            "1/1 [==============================] - 0s 10ms/step - loss: 7.2019 - mae: 7.2019\n",
            "Epoch 45/100\n",
            "1/1 [==============================] - 0s 8ms/step - loss: 7.1962 - mae: 7.1962\n",
            "Epoch 46/100\n",
            "1/1 [==============================] - 0s 9ms/step - loss: 7.1906 - mae: 7.1906\n",
            "Epoch 47/100\n",
            "1/1 [==============================] - 0s 8ms/step - loss: 7.1850 - mae: 7.1850\n",
            "Epoch 48/100\n",
            "1/1 [==============================] - 0s 8ms/step - loss: 7.1794 - mae: 7.1794\n",
            "Epoch 49/100\n",
            "1/1 [==============================] - 0s 10ms/step - loss: 7.1737 - mae: 7.1737\n",
            "Epoch 50/100\n",
            "1/1 [==============================] - 0s 9ms/step - loss: 7.1681 - mae: 7.1681\n",
            "Epoch 51/100\n",
            "1/1 [==============================] - 0s 10ms/step - loss: 7.1625 - mae: 7.1625\n",
            "Epoch 52/100\n",
            "1/1 [==============================] - 0s 7ms/step - loss: 7.1569 - mae: 7.1569\n",
            "Epoch 53/100\n",
            "1/1 [==============================] - 0s 8ms/step - loss: 7.1512 - mae: 7.1512\n",
            "Epoch 54/100\n",
            "1/1 [==============================] - 0s 7ms/step - loss: 7.1456 - mae: 7.1456\n",
            "Epoch 55/100\n",
            "1/1 [==============================] - 0s 9ms/step - loss: 7.1400 - mae: 7.1400\n",
            "Epoch 56/100\n",
            "1/1 [==============================] - 0s 6ms/step - loss: 7.1344 - mae: 7.1344\n",
            "Epoch 57/100\n",
            "1/1 [==============================] - 0s 14ms/step - loss: 7.1287 - mae: 7.1287\n",
            "Epoch 58/100\n",
            "1/1 [==============================] - 0s 9ms/step - loss: 7.1231 - mae: 7.1231\n",
            "Epoch 59/100\n",
            "1/1 [==============================] - 0s 8ms/step - loss: 7.1175 - mae: 7.1175\n",
            "Epoch 60/100\n",
            "1/1 [==============================] - 0s 9ms/step - loss: 7.1119 - mae: 7.1119\n",
            "Epoch 61/100\n",
            "1/1 [==============================] - 0s 16ms/step - loss: 7.1062 - mae: 7.1062\n",
            "Epoch 62/100\n",
            "1/1 [==============================] - 0s 11ms/step - loss: 7.1006 - mae: 7.1006\n",
            "Epoch 63/100\n",
            "1/1 [==============================] - 0s 11ms/step - loss: 7.0950 - mae: 7.0950\n",
            "Epoch 64/100\n",
            "1/1 [==============================] - 0s 9ms/step - loss: 7.0894 - mae: 7.0894\n",
            "Epoch 65/100\n",
            "1/1 [==============================] - 0s 11ms/step - loss: 7.0838 - mae: 7.0838\n",
            "Epoch 66/100\n",
            "1/1 [==============================] - 0s 10ms/step - loss: 7.0781 - mae: 7.0781\n",
            "Epoch 67/100\n",
            "1/1 [==============================] - 0s 13ms/step - loss: 7.0725 - mae: 7.0725\n",
            "Epoch 68/100\n",
            "1/1 [==============================] - 0s 9ms/step - loss: 7.0669 - mae: 7.0669\n",
            "Epoch 69/100\n",
            "1/1 [==============================] - 0s 10ms/step - loss: 7.0613 - mae: 7.0613\n",
            "Epoch 70/100\n",
            "1/1 [==============================] - 0s 8ms/step - loss: 7.0556 - mae: 7.0556\n",
            "Epoch 71/100\n",
            "1/1 [==============================] - 0s 7ms/step - loss: 7.0500 - mae: 7.0500\n",
            "Epoch 72/100\n",
            "1/1 [==============================] - 0s 8ms/step - loss: 7.0444 - mae: 7.0444\n",
            "Epoch 73/100\n",
            "1/1 [==============================] - 0s 10ms/step - loss: 7.0388 - mae: 7.0388\n",
            "Epoch 74/100\n",
            "1/1 [==============================] - 0s 11ms/step - loss: 7.0331 - mae: 7.0331\n",
            "Epoch 75/100\n",
            "1/1 [==============================] - 0s 10ms/step - loss: 7.0275 - mae: 7.0275\n",
            "Epoch 76/100\n",
            "1/1 [==============================] - 0s 7ms/step - loss: 7.0219 - mae: 7.0219\n",
            "Epoch 77/100\n",
            "1/1 [==============================] - 0s 7ms/step - loss: 7.0163 - mae: 7.0163\n",
            "Epoch 78/100\n",
            "1/1 [==============================] - 0s 9ms/step - loss: 7.0106 - mae: 7.0106\n",
            "Epoch 79/100\n",
            "1/1 [==============================] - 0s 8ms/step - loss: 7.0050 - mae: 7.0050\n",
            "Epoch 80/100\n",
            "1/1 [==============================] - 0s 7ms/step - loss: 6.9994 - mae: 6.9994\n",
            "Epoch 81/100\n",
            "1/1 [==============================] - 0s 8ms/step - loss: 6.9938 - mae: 6.9938\n",
            "Epoch 82/100\n",
            "1/1 [==============================] - 0s 10ms/step - loss: 6.9881 - mae: 6.9881\n",
            "Epoch 83/100\n",
            "1/1 [==============================] - 0s 8ms/step - loss: 6.9825 - mae: 6.9825\n",
            "Epoch 84/100\n",
            "1/1 [==============================] - 0s 9ms/step - loss: 6.9769 - mae: 6.9769\n",
            "Epoch 85/100\n",
            "1/1 [==============================] - 0s 10ms/step - loss: 6.9713 - mae: 6.9713\n",
            "Epoch 86/100\n",
            "1/1 [==============================] - 0s 7ms/step - loss: 6.9656 - mae: 6.9656\n",
            "Epoch 87/100\n",
            "1/1 [==============================] - 0s 9ms/step - loss: 6.9600 - mae: 6.9600\n",
            "Epoch 88/100\n",
            "1/1 [==============================] - 0s 12ms/step - loss: 6.9544 - mae: 6.9544\n",
            "Epoch 89/100\n",
            "1/1 [==============================] - 0s 9ms/step - loss: 6.9488 - mae: 6.9488\n",
            "Epoch 90/100\n",
            "1/1 [==============================] - 0s 11ms/step - loss: 6.9431 - mae: 6.9431\n",
            "Epoch 91/100\n",
            "1/1 [==============================] - 0s 10ms/step - loss: 6.9375 - mae: 6.9375\n",
            "Epoch 92/100\n",
            "1/1 [==============================] - 0s 9ms/step - loss: 6.9319 - mae: 6.9319\n",
            "Epoch 93/100\n",
            "1/1 [==============================] - 0s 6ms/step - loss: 6.9262 - mae: 6.9262\n",
            "Epoch 94/100\n",
            "1/1 [==============================] - 0s 6ms/step - loss: 6.9206 - mae: 6.9206\n",
            "Epoch 95/100\n",
            "1/1 [==============================] - 0s 9ms/step - loss: 6.9150 - mae: 6.9150\n",
            "Epoch 96/100\n",
            "1/1 [==============================] - 0s 9ms/step - loss: 6.9094 - mae: 6.9094\n",
            "Epoch 97/100\n",
            "1/1 [==============================] - 0s 9ms/step - loss: 6.9038 - mae: 6.9038\n",
            "Epoch 98/100\n",
            "1/1 [==============================] - 0s 8ms/step - loss: 6.8981 - mae: 6.8981\n",
            "Epoch 99/100\n",
            "1/1 [==============================] - 0s 8ms/step - loss: 6.8925 - mae: 6.8925\n",
            "Epoch 100/100\n",
            "1/1 [==============================] - 0s 9ms/step - loss: 6.8869 - mae: 6.8869\n"
          ]
        },
        {
          "output_type": "execute_result",
          "data": {
            "text/plain": [
              "<keras.callbacks.History at 0x7f4e3cf1e890>"
            ]
          },
          "metadata": {},
          "execution_count": 109
        }
      ]
    },
    {
      "cell_type": "code",
      "source": [
        "# Original data\n",
        "X, y"
      ],
      "metadata": {
        "colab": {
          "base_uri": "https://localhost:8080/"
        },
        "id": "Rw82pq9sP_nE",
        "outputId": "5df260b9-6fd7-4f5b-b5d7-4c00674603f5"
      },
      "execution_count": 110,
      "outputs": [
        {
          "output_type": "execute_result",
          "data": {
            "text/plain": [
              "(<tf.Tensor: shape=(8,), dtype=float64, numpy=array([-7., -4., -1.,  2.,  5.,  8., 11., 14.])>,\n",
              " <tf.Tensor: shape=(8,), dtype=float64, numpy=array([ 3.,  6.,  9., 12., 15., 18., 21., 24.])>)"
            ]
          },
          "metadata": {},
          "execution_count": 110
        }
      ]
    },
    {
      "cell_type": "code",
      "source": [
        "# Checking the improved prediction\n",
        "model.predict([17.0])"
      ],
      "metadata": {
        "colab": {
          "base_uri": "https://localhost:8080/"
        },
        "id": "V8bSHdEHRT2p",
        "outputId": "32c5c595-696c-4eb5-879a-d99e8ea94865"
      },
      "execution_count": 111,
      "outputs": [
        {
          "output_type": "execute_result",
          "data": {
            "text/plain": [
              "array([[29.739855]], dtype=float32)"
            ]
          },
          "metadata": {},
          "execution_count": 111
        }
      ]
    },
    {
      "cell_type": "code",
      "source": [
        "# Rebuilding the model (Trying each of the above points mentioned to improve the model)\n",
        "\n",
        "# 1. Create the model\n",
        "model = tf.keras.Sequential()\n",
        "model.add(tf.keras.layers.Dense(50, activation=None))\n",
        "model.add(tf.keras.layers.Dense(1))\n",
        "\n",
        "# 2. Compile the model\n",
        "model.compile(loss=\"mae\", optimizer=tf.keras.optimizers.Adam(lr=0.01))\n",
        "\n",
        "# 3. Fit the model\n",
        "model.fit(tf.expand_dims(X, axis=-1), y, epochs=100)"
      ],
      "metadata": {
        "id": "lckasya7TQ8H",
        "colab": {
          "base_uri": "https://localhost:8080/"
        },
        "outputId": "5ba20d4b-a6df-42a1-86b7-fb0644802556"
      },
      "execution_count": 112,
      "outputs": [
        {
          "output_type": "stream",
          "name": "stdout",
          "text": [
            "Epoch 1/100\n"
          ]
        },
        {
          "output_type": "stream",
          "name": "stderr",
          "text": [
            "/usr/local/lib/python3.7/dist-packages/keras/optimizer_v2/adam.py:105: UserWarning: The `lr` argument is deprecated, use `learning_rate` instead.\n",
            "  super(Adam, self).__init__(name, **kwargs)\n"
          ]
        },
        {
          "output_type": "stream",
          "name": "stdout",
          "text": [
            "1/1 [==============================] - 0s 305ms/step - loss: 11.7682\n",
            "Epoch 2/100\n",
            "1/1 [==============================] - 0s 8ms/step - loss: 11.0963\n",
            "Epoch 3/100\n",
            "1/1 [==============================] - 0s 8ms/step - loss: 10.4149\n",
            "Epoch 4/100\n",
            "1/1 [==============================] - 0s 8ms/step - loss: 9.7212\n",
            "Epoch 5/100\n",
            "1/1 [==============================] - 0s 11ms/step - loss: 9.0103\n",
            "Epoch 6/100\n",
            "1/1 [==============================] - 0s 10ms/step - loss: 8.2778\n",
            "Epoch 7/100\n",
            "1/1 [==============================] - 0s 9ms/step - loss: 7.5198\n",
            "Epoch 8/100\n",
            "1/1 [==============================] - 0s 11ms/step - loss: 6.9648\n",
            "Epoch 9/100\n",
            "1/1 [==============================] - 0s 8ms/step - loss: 7.0672\n",
            "Epoch 10/100\n",
            "1/1 [==============================] - 0s 7ms/step - loss: 7.3316\n",
            "Epoch 11/100\n",
            "1/1 [==============================] - 0s 8ms/step - loss: 7.4673\n",
            "Epoch 12/100\n",
            "1/1 [==============================] - 0s 9ms/step - loss: 7.5285\n",
            "Epoch 13/100\n",
            "1/1 [==============================] - 0s 9ms/step - loss: 7.4012\n",
            "Epoch 14/100\n",
            "1/1 [==============================] - 0s 9ms/step - loss: 7.1923\n",
            "Epoch 15/100\n",
            "1/1 [==============================] - 0s 9ms/step - loss: 6.9575\n",
            "Epoch 16/100\n",
            "1/1 [==============================] - 0s 9ms/step - loss: 6.6953\n",
            "Epoch 17/100\n",
            "1/1 [==============================] - 0s 9ms/step - loss: 6.4127\n",
            "Epoch 18/100\n",
            "1/1 [==============================] - 0s 10ms/step - loss: 6.3048\n",
            "Epoch 19/100\n",
            "1/1 [==============================] - 0s 8ms/step - loss: 6.2575\n",
            "Epoch 20/100\n",
            "1/1 [==============================] - 0s 8ms/step - loss: 6.3981\n",
            "Epoch 21/100\n",
            "1/1 [==============================] - 0s 10ms/step - loss: 6.4550\n",
            "Epoch 22/100\n",
            "1/1 [==============================] - 0s 11ms/step - loss: 6.3999\n",
            "Epoch 23/100\n",
            "1/1 [==============================] - 0s 12ms/step - loss: 6.2482\n",
            "Epoch 24/100\n",
            "1/1 [==============================] - 0s 8ms/step - loss: 6.0104\n",
            "Epoch 25/100\n",
            "1/1 [==============================] - 0s 10ms/step - loss: 5.7876\n",
            "Epoch 26/100\n",
            "1/1 [==============================] - 0s 9ms/step - loss: 5.6809\n",
            "Epoch 27/100\n",
            "1/1 [==============================] - 0s 9ms/step - loss: 5.5715\n",
            "Epoch 28/100\n",
            "1/1 [==============================] - 0s 7ms/step - loss: 5.6123\n",
            "Epoch 29/100\n",
            "1/1 [==============================] - 0s 8ms/step - loss: 5.6074\n",
            "Epoch 30/100\n",
            "1/1 [==============================] - 0s 9ms/step - loss: 5.5541\n",
            "Epoch 31/100\n",
            "1/1 [==============================] - 0s 10ms/step - loss: 5.4568\n",
            "Epoch 32/100\n",
            "1/1 [==============================] - 0s 12ms/step - loss: 5.3199\n",
            "Epoch 33/100\n",
            "1/1 [==============================] - 0s 9ms/step - loss: 5.1477\n",
            "Epoch 34/100\n",
            "1/1 [==============================] - 0s 11ms/step - loss: 4.9442\n",
            "Epoch 35/100\n",
            "1/1 [==============================] - 0s 12ms/step - loss: 4.8239\n",
            "Epoch 36/100\n",
            "1/1 [==============================] - 0s 9ms/step - loss: 4.7389\n",
            "Epoch 37/100\n",
            "1/1 [==============================] - 0s 7ms/step - loss: 4.6657\n",
            "Epoch 38/100\n",
            "1/1 [==============================] - 0s 8ms/step - loss: 4.5846\n",
            "Epoch 39/100\n",
            "1/1 [==============================] - 0s 9ms/step - loss: 4.4026\n",
            "Epoch 40/100\n",
            "1/1 [==============================] - 0s 9ms/step - loss: 4.2652\n",
            "Epoch 41/100\n",
            "1/1 [==============================] - 0s 9ms/step - loss: 4.1212\n",
            "Epoch 42/100\n",
            "1/1 [==============================] - 0s 10ms/step - loss: 3.9701\n",
            "Epoch 43/100\n",
            "1/1 [==============================] - 0s 11ms/step - loss: 3.8272\n",
            "Epoch 44/100\n",
            "1/1 [==============================] - 0s 9ms/step - loss: 3.7042\n",
            "Epoch 45/100\n",
            "1/1 [==============================] - 0s 14ms/step - loss: 3.5321\n",
            "Epoch 46/100\n",
            "1/1 [==============================] - 0s 9ms/step - loss: 3.3664\n",
            "Epoch 47/100\n",
            "1/1 [==============================] - 0s 8ms/step - loss: 3.2116\n",
            "Epoch 48/100\n",
            "1/1 [==============================] - 0s 9ms/step - loss: 3.0463\n",
            "Epoch 49/100\n",
            "1/1 [==============================] - 0s 6ms/step - loss: 2.8705\n",
            "Epoch 50/100\n",
            "1/1 [==============================] - 0s 5ms/step - loss: 2.6840\n",
            "Epoch 51/100\n",
            "1/1 [==============================] - 0s 9ms/step - loss: 2.4868\n",
            "Epoch 52/100\n",
            "1/1 [==============================] - 0s 9ms/step - loss: 2.2787\n",
            "Epoch 53/100\n",
            "1/1 [==============================] - 0s 10ms/step - loss: 2.0596\n",
            "Epoch 54/100\n",
            "1/1 [==============================] - 0s 7ms/step - loss: 1.8293\n",
            "Epoch 55/100\n",
            "1/1 [==============================] - 0s 9ms/step - loss: 1.5876\n",
            "Epoch 56/100\n",
            "1/1 [==============================] - 0s 8ms/step - loss: 1.3531\n",
            "Epoch 57/100\n",
            "1/1 [==============================] - 0s 8ms/step - loss: 1.0849\n",
            "Epoch 58/100\n",
            "1/1 [==============================] - 0s 8ms/step - loss: 0.8224\n",
            "Epoch 59/100\n",
            "1/1 [==============================] - 0s 6ms/step - loss: 0.5466\n",
            "Epoch 60/100\n",
            "1/1 [==============================] - 0s 8ms/step - loss: 0.2759\n",
            "Epoch 61/100\n",
            "1/1 [==============================] - 0s 7ms/step - loss: 0.1353\n",
            "Epoch 62/100\n",
            "1/1 [==============================] - 0s 10ms/step - loss: 0.4494\n",
            "Epoch 63/100\n",
            "1/1 [==============================] - 0s 8ms/step - loss: 0.6499\n",
            "Epoch 64/100\n",
            "1/1 [==============================] - 0s 7ms/step - loss: 0.6216\n",
            "Epoch 65/100\n",
            "1/1 [==============================] - 0s 7ms/step - loss: 0.8035\n",
            "Epoch 66/100\n",
            "1/1 [==============================] - 0s 8ms/step - loss: 0.7995\n",
            "Epoch 67/100\n",
            "1/1 [==============================] - 0s 17ms/step - loss: 0.7409\n",
            "Epoch 68/100\n",
            "1/1 [==============================] - 0s 8ms/step - loss: 0.7807\n",
            "Epoch 69/100\n",
            "1/1 [==============================] - 0s 11ms/step - loss: 0.6305\n",
            "Epoch 70/100\n",
            "1/1 [==============================] - 0s 10ms/step - loss: 0.5556\n",
            "Epoch 71/100\n",
            "1/1 [==============================] - 0s 10ms/step - loss: 0.4306\n",
            "Epoch 72/100\n",
            "1/1 [==============================] - 0s 15ms/step - loss: 0.2787\n",
            "Epoch 73/100\n",
            "1/1 [==============================] - 0s 8ms/step - loss: 0.1378\n",
            "Epoch 74/100\n",
            "1/1 [==============================] - 0s 8ms/step - loss: 0.1193\n",
            "Epoch 75/100\n",
            "1/1 [==============================] - 0s 9ms/step - loss: 0.2777\n",
            "Epoch 76/100\n",
            "1/1 [==============================] - 0s 7ms/step - loss: 0.3244\n",
            "Epoch 77/100\n",
            "1/1 [==============================] - 0s 8ms/step - loss: 0.4157\n",
            "Epoch 78/100\n",
            "1/1 [==============================] - 0s 9ms/step - loss: 0.4320\n",
            "Epoch 79/100\n",
            "1/1 [==============================] - 0s 8ms/step - loss: 0.3390\n",
            "Epoch 80/100\n",
            "1/1 [==============================] - 0s 14ms/step - loss: 0.2968\n",
            "Epoch 81/100\n",
            "1/1 [==============================] - 0s 12ms/step - loss: 0.2356\n",
            "Epoch 82/100\n",
            "1/1 [==============================] - 0s 8ms/step - loss: 0.1632\n",
            "Epoch 83/100\n",
            "1/1 [==============================] - 0s 9ms/step - loss: 0.1340\n",
            "Epoch 84/100\n",
            "1/1 [==============================] - 0s 10ms/step - loss: 0.1261\n",
            "Epoch 85/100\n",
            "1/1 [==============================] - 0s 11ms/step - loss: 0.1703\n",
            "Epoch 86/100\n",
            "1/1 [==============================] - 0s 10ms/step - loss: 0.2123\n",
            "Epoch 87/100\n",
            "1/1 [==============================] - 0s 14ms/step - loss: 0.2288\n",
            "Epoch 88/100\n",
            "1/1 [==============================] - 0s 8ms/step - loss: 0.1900\n",
            "Epoch 89/100\n",
            "1/1 [==============================] - 0s 8ms/step - loss: 0.1354\n",
            "Epoch 90/100\n",
            "1/1 [==============================] - 0s 7ms/step - loss: 0.1219\n",
            "Epoch 91/100\n",
            "1/1 [==============================] - 0s 7ms/step - loss: 0.0382\n",
            "Epoch 92/100\n",
            "1/1 [==============================] - 0s 9ms/step - loss: 0.2196\n",
            "Epoch 93/100\n",
            "1/1 [==============================] - 0s 11ms/step - loss: 0.2188\n",
            "Epoch 94/100\n",
            "1/1 [==============================] - 0s 10ms/step - loss: 0.1427\n",
            "Epoch 95/100\n",
            "1/1 [==============================] - 0s 8ms/step - loss: 0.1169\n",
            "Epoch 96/100\n",
            "1/1 [==============================] - 0s 10ms/step - loss: 0.2068\n",
            "Epoch 97/100\n",
            "1/1 [==============================] - 0s 10ms/step - loss: 0.1523\n",
            "Epoch 98/100\n",
            "1/1 [==============================] - 0s 9ms/step - loss: 0.2134\n",
            "Epoch 99/100\n",
            "1/1 [==============================] - 0s 13ms/step - loss: 0.2330\n",
            "Epoch 100/100\n",
            "1/1 [==============================] - 0s 8ms/step - loss: 0.0780\n"
          ]
        },
        {
          "output_type": "execute_result",
          "data": {
            "text/plain": [
              "<keras.callbacks.History at 0x7f4e3d55bb50>"
            ]
          },
          "metadata": {},
          "execution_count": 112
        }
      ]
    },
    {
      "cell_type": "code",
      "source": [
        "# Original data\n",
        "X, y"
      ],
      "metadata": {
        "colab": {
          "base_uri": "https://localhost:8080/"
        },
        "id": "eJIZIEeA8egd",
        "outputId": "e614c4fd-5254-46df-dcd8-e47b7f8d1f62"
      },
      "execution_count": 113,
      "outputs": [
        {
          "output_type": "execute_result",
          "data": {
            "text/plain": [
              "(<tf.Tensor: shape=(8,), dtype=float64, numpy=array([-7., -4., -1.,  2.,  5.,  8., 11., 14.])>,\n",
              " <tf.Tensor: shape=(8,), dtype=float64, numpy=array([ 3.,  6.,  9., 12., 15., 18., 21., 24.])>)"
            ]
          },
          "metadata": {},
          "execution_count": 113
        }
      ]
    },
    {
      "cell_type": "code",
      "source": [
        "# Prediction\n",
        "model.predict([17.0])"
      ],
      "metadata": {
        "colab": {
          "base_uri": "https://localhost:8080/"
        },
        "id": "qYhlK3yv8388",
        "outputId": "ea847ebf-b010-4bac-e766-a30ff6c8a9b2"
      },
      "execution_count": 114,
      "outputs": [
        {
          "output_type": "execute_result",
          "data": {
            "text/plain": [
              "array([[26.583801]], dtype=float32)"
            ]
          },
          "metadata": {},
          "execution_count": 114
        }
      ]
    },
    {
      "cell_type": "markdown",
      "source": [
        "## Evaluating a model\n",
        "\n",
        "In practice, a typical workflow when building a neural network is:\n",
        "\n",
        "```\n",
        "Build a model -> fit it -> evaluate it -> tweak it -> fit it -> evaluate it -> tweak it -> ...\n",
        "```"
      ],
      "metadata": {
        "id": "8c3qfqrR89m4"
      }
    },
    {
      "cell_type": "markdown",
      "source": [
        "When it comes to evaluation:\n",
        ">\"Visualize, Visualize, Visualize,\"\n",
        "\n",
        "It's a good idea to visualize:\n",
        "* The data\n",
        "    * What data are we working with?\n",
        "    * What does it look like?\n",
        "* The model itself:\n",
        "    * What does our model look like?\n",
        "* The training of a model\n",
        "    * How does a model perform while it learns?\n",
        "* The predictions of the model\n",
        "    * How do the predictions of the model line up against the ground truth (the original labels)?"
      ],
      "metadata": {
        "id": "Ld-i9UgvOuOu"
      }
    },
    {
      "cell_type": "code",
      "source": [
        "#  Make a bigger dataset\n",
        "X = tf.range(-100, 100, 4)\n",
        "X"
      ],
      "metadata": {
        "colab": {
          "base_uri": "https://localhost:8080/"
        },
        "id": "bm545TxBAUAU",
        "outputId": "5caa481a-236f-4c96-afdf-5800c9e7b5bc"
      },
      "execution_count": 115,
      "outputs": [
        {
          "output_type": "execute_result",
          "data": {
            "text/plain": [
              "<tf.Tensor: shape=(50,), dtype=int32, numpy=\n",
              "array([-100,  -96,  -92,  -88,  -84,  -80,  -76,  -72,  -68,  -64,  -60,\n",
              "        -56,  -52,  -48,  -44,  -40,  -36,  -32,  -28,  -24,  -20,  -16,\n",
              "        -12,   -8,   -4,    0,    4,    8,   12,   16,   20,   24,   28,\n",
              "         32,   36,   40,   44,   48,   52,   56,   60,   64,   68,   72,\n",
              "         76,   80,   84,   88,   92,   96], dtype=int32)>"
            ]
          },
          "metadata": {},
          "execution_count": 115
        }
      ]
    },
    {
      "cell_type": "code",
      "source": [
        "# Make labels for the dataset\n",
        "y = X + 10\n",
        "y"
      ],
      "metadata": {
        "colab": {
          "base_uri": "https://localhost:8080/"
        },
        "id": "E19piRXpQXja",
        "outputId": "3d601cf7-e3cb-4c71-8575-c6e016508c05"
      },
      "execution_count": 116,
      "outputs": [
        {
          "output_type": "execute_result",
          "data": {
            "text/plain": [
              "<tf.Tensor: shape=(50,), dtype=int32, numpy=\n",
              "array([-90, -86, -82, -78, -74, -70, -66, -62, -58, -54, -50, -46, -42,\n",
              "       -38, -34, -30, -26, -22, -18, -14, -10,  -6,  -2,   2,   6,  10,\n",
              "        14,  18,  22,  26,  30,  34,  38,  42,  46,  50,  54,  58,  62,\n",
              "        66,  70,  74,  78,  82,  86,  90,  94,  98, 102, 106], dtype=int32)>"
            ]
          },
          "metadata": {},
          "execution_count": 116
        }
      ]
    },
    {
      "cell_type": "code",
      "source": [
        "# Visualize the data\n",
        "import matplotlib.pyplot as plt\n",
        "\n",
        "plt.scatter(X, y)"
      ],
      "metadata": {
        "colab": {
          "base_uri": "https://localhost:8080/",
          "height": 0
        },
        "id": "gwPDXIZVQdCy",
        "outputId": "90401d4a-1885-478f-b405-066b0b91f9ec"
      },
      "execution_count": 117,
      "outputs": [
        {
          "output_type": "execute_result",
          "data": {
            "text/plain": [
              "<matplotlib.collections.PathCollection at 0x7f4e3d6a3ed0>"
            ]
          },
          "metadata": {},
          "execution_count": 117
        },
        {
          "output_type": "display_data",
          "data": {
            "text/plain": [
              "<Figure size 432x288 with 1 Axes>"
            ],
            "image/png": "[encoded data removed]"
          },
          "metadata": {
            "needs_background": "light"
          }
        }
      ]
    },
    {
      "cell_type": "markdown",
      "source": [
        "### The 3 sets...\n",
        "\n",
        "* **Training set**: The model learns from this data (typically 70-80% of the total data available to us)\n",
        "\n",
        "* **Validation set**: The model gets tuned on this data (typically 10-15% of the available data)\n",
        "\n",
        "* **Test data**: The model gets evaluated on this data to test what it has learned (typically 10-15% of the available data)"
      ],
      "metadata": {
        "id": "PgqB6eiPQsZ-"
      }
    },
    {
      "cell_type": "code",
      "source": [
        "# How many smamples we have\n",
        "len(X)"
      ],
      "metadata": {
        "colab": {
          "base_uri": "https://localhost:8080/"
        },
        "id": "QOoSTS33Q23N",
        "outputId": "50c1e4b1-173a-484e-d7da-07ca18014b63"
      },
      "execution_count": 118,
      "outputs": [
        {
          "output_type": "execute_result",
          "data": {
            "text/plain": [
              "50"
            ]
          },
          "metadata": {},
          "execution_count": 118
        }
      ]
    },
    {
      "cell_type": "code",
      "source": [
        "# Split the data into train and test sets\n",
        "X_train = X[:40] \n",
        "y_train = y[:40]\n",
        "\n",
        "X_test = X[40:]\n",
        "y_test = y[40:]\n",
        "\n",
        "len(X_train), len(X_test), len(y_train), len(y_test)"
      ],
      "metadata": {
        "colab": {
          "base_uri": "https://localhost:8080/"
        },
        "id": "XFjSSnQ1YmHV",
        "outputId": "5afaa3b6-21c2-43d0-f61b-36c18df824c8"
      },
      "execution_count": 119,
      "outputs": [
        {
          "output_type": "execute_result",
          "data": {
            "text/plain": [
              "(40, 10, 40, 10)"
            ]
          },
          "metadata": {},
          "execution_count": 119
        }
      ]
    },
    {
      "cell_type": "markdown",
      "source": [
        "### Visualizing the data\n",
        "\n",
        "Now we've got our data in training and test sets... let's visualize again!"
      ],
      "metadata": {
        "id": "Q1b5G7JJZNvA"
      }
    },
    {
      "cell_type": "code",
      "source": [
        "plt.figure(figsize=(7, 5))\n",
        "\n",
        "# Plot training data in blue\n",
        "plt.scatter(X_train, y_train, c=\"b\", label=\"Training data\")\n",
        "\n",
        "# Plot test data in green\n",
        "plt.scatter(X_test, y_test, c=\"g\", label=\"Testing data\")\n",
        "\n",
        "# Show a legend\n",
        "plt.legend()"
      ],
      "metadata": {
        "colab": {
          "base_uri": "https://localhost:8080/",
          "height": 0
        },
        "id": "zaKDfg5uZjvW",
        "outputId": "ea38dead-9655-4271-8511-64263ebf8dc8"
      },
      "execution_count": 120,
      "outputs": [
        {
          "output_type": "execute_result",
          "data": {
            "text/plain": [
              "<matplotlib.legend.Legend at 0x7f4e3a7f3c90>"
            ]
          },
          "metadata": {},
          "execution_count": 120
        },
        {
          "output_type": "display_data",
          "data": {
            "text/plain": [
              "<Figure size 504x360 with 1 Axes>"
            ],
            "image/png": "[encoded data removed]"
          },
          "metadata": {
            "needs_background": "light"
          }
        }
      ]
    },
    {
      "cell_type": "code",
      "source": [
        "# Building a neural net for our data\n",
        "\n",
        "# 1. Create a model\n",
        "model = tf.keras.Sequential()\n",
        "model.add(tf.keras.layers.Dense(1))\n",
        "\n",
        "# 2. Compile\n",
        "model.compile(loss=\"mae\",\n",
        "              optimizer=tf.keras.optimizers.SGD(),\n",
        "              metrics=[\"mae\"])\n",
        "\n",
        "# # 3. Fit the model\n",
        "# model.fit(tf.expand_dims(X_train, axis=-1), y_train, epochs=100)"
      ],
      "metadata": {
        "id": "uYcUt9vDaE6f"
      },
      "execution_count": 121,
      "outputs": []
    },
    {
      "cell_type": "code",
      "source": [
        "# model.summary()  # Will throw an error cause the model hasn't been \"built\" yet"
      ],
      "metadata": {
        "id": "eclkaf2hcJU2"
      },
      "execution_count": 122,
      "outputs": []
    },
    {
      "cell_type": "code",
      "source": [
        "X[0], y[0]"
      ],
      "metadata": {
        "colab": {
          "base_uri": "https://localhost:8080/"
        },
        "id": "2N_G416MdjaL",
        "outputId": "8c524605-9814-48d9-a138-74a7d805750b"
      },
      "execution_count": 123,
      "outputs": [
        {
          "output_type": "execute_result",
          "data": {
            "text/plain": [
              "(<tf.Tensor: shape=(), dtype=int32, numpy=-100>,\n",
              " <tf.Tensor: shape=(), dtype=int32, numpy=-90>)"
            ]
          },
          "metadata": {},
          "execution_count": 123
        }
      ]
    },
    {
      "cell_type": "code",
      "source": [
        "# Let's create a model which builds automatically by defining the input_shape argument in the first layer\n",
        "tf.random.set_seed(42)\n",
        "# 1. Create a model\n",
        "model = tf.keras.Sequential(name=\"model_1\")\n",
        "model.add(tf.keras.layers.Dense(10, input_shape=[1], name=\"input_layer\"))\n",
        "model.add(tf.keras.layers.Dense(1, name=\"output_layer\"))\n",
        "\n",
        "# 2. Compile\n",
        "model.compile(loss=\"mae\",\n",
        "              optimizer=tf.keras.optimizers.SGD(),\n",
        "              metrics=[\"mae\"])"
      ],
      "metadata": {
        "id": "wwVLaWP8cvvo"
      },
      "execution_count": 124,
      "outputs": []
    },
    {
      "cell_type": "code",
      "source": [
        "model.summary()"
      ],
      "metadata": {
        "colab": {
          "base_uri": "https://localhost:8080/"
        },
        "id": "S6ERtR1aducc",
        "outputId": "dd61c612-d9c2-4838-88f7-dbd21a4eb1b7"
      },
      "execution_count": 125,
      "outputs": [
        {
          "output_type": "stream",
          "name": "stdout",
          "text": [
            "Model: \"model_1\"\n",
            "_________________________________________________________________\n",
            " Layer (type)                Output Shape              Param #   \n",
            "=================================================================\n",
            " input_layer (Dense)         (None, 10)                20        \n",
            "                                                                 \n",
            " output_layer (Dense)        (None, 1)                 11        \n",
            "                                                                 \n",
            "=================================================================\n",
            "Total params: 31\n",
            "Trainable params: 31\n",
            "Non-trainable params: 0\n",
            "_________________________________________________________________\n"
          ]
        }
      ]
    },
    {
      "cell_type": "code",
      "source": [
        "# 3. Fit the model\n",
        "model.fit(tf.expand_dims(X_train, axis=-1), y_train, epochs=100, verbose=0)"
      ],
      "metadata": {
        "colab": {
          "base_uri": "https://localhost:8080/"
        },
        "id": "7uZYrgIddv7J",
        "outputId": "e41d9e4a-c9af-43dd-f069-7405bc3009b9"
      },
      "execution_count": 126,
      "outputs": [
        {
          "output_type": "execute_result",
          "data": {
            "text/plain": [
              "<keras.callbacks.History at 0x7f4e3a7718d0>"
            ]
          },
          "metadata": {},
          "execution_count": 126
        }
      ]
    },
    {
      "cell_type": "code",
      "source": [
        "from tensorflow.keras.utils import plot_model\n",
        "\n",
        "plot_model(model=model, show_shapes=True)"
      ],
      "metadata": {
        "colab": {
          "base_uri": "https://localhost:8080/",
          "height": 0
        },
        "id": "0hG5mhqyiUyJ",
        "outputId": "1b16425f-48f3-4d07-8ff6-f02b19d58f1d"
      },
      "execution_count": 127,
      "outputs": [
        {
          "output_type": "execute_result",
          "data": {
            "text/plain": [
              "<IPython.core.display.Image object>"
            ],
            "image/png": "[encoded data removed]"
          },
          "metadata": {},
          "execution_count": 127
        }
      ]
    },
    {
      "cell_type": "markdown",
      "source": [
        "### Visualizing our models predictions"
      ],
      "metadata": {
        "id": "I_O01Te7jUhX"
      }
    },
    {
      "cell_type": "code",
      "source": [
        "# Make predictions\n",
        "y_pred = model.predict(X_test)\n",
        "y_pred"
      ],
      "metadata": {
        "colab": {
          "base_uri": "https://localhost:8080/"
        },
        "id": "ql3S92MXl3wQ",
        "outputId": "4af76e0f-212b-4a0c-8aab-72200f14266d"
      },
      "execution_count": 128,
      "outputs": [
        {
          "output_type": "execute_result",
          "data": {
            "text/plain": [
              "array([[ 70.55219 ],\n",
              "       [ 75.139915],\n",
              "       [ 79.72764 ],\n",
              "       [ 84.31536 ],\n",
              "       [ 88.90308 ],\n",
              "       [ 93.49081 ],\n",
              "       [ 98.07853 ],\n",
              "       [102.66626 ],\n",
              "       [107.253975],\n",
              "       [111.841705]], dtype=float32)"
            ]
          },
          "metadata": {},
          "execution_count": 128
        }
      ]
    },
    {
      "cell_type": "code",
      "source": [
        "y_test"
      ],
      "metadata": {
        "colab": {
          "base_uri": "https://localhost:8080/"
        },
        "id": "swRVKdsAps_u",
        "outputId": "d63a7aa5-e2c5-4d98-b9e6-c4617d3e81b6"
      },
      "execution_count": 129,
      "outputs": [
        {
          "output_type": "execute_result",
          "data": {
            "text/plain": [
              "<tf.Tensor: shape=(10,), dtype=int32, numpy=array([ 70,  74,  78,  82,  86,  90,  94,  98, 102, 106], dtype=int32)>"
            ]
          },
          "metadata": {},
          "execution_count": 129
        }
      ]
    },
    {
      "cell_type": "markdown",
      "source": [
        ""
      ],
      "metadata": {
        "id": "lFdUX8zUrjKW"
      }
    },
    {
      "cell_type": "code",
      "source": [
        "# Let's create a plotting function\n",
        "def plot_predictions(train_data=X_train,\n",
        "                     train_labels=y_train,\n",
        "                     test_data=X_test,\n",
        "                     test_labels=y_test,\n",
        "                     predictions=y_pred):\n",
        "    \"\"\"\n",
        "    Plots training data, test data & compares predictions to ground truth labels\n",
        "    \"\"\"\n",
        "\n",
        "    plt.figure(figsize=(10, 7))\n",
        "    # Plot training data in blue\n",
        "    plt.scatter(train_data, train_labels, c=\"b\", label=\"Training data\")\n",
        "\n",
        "    # Plot testing data in green\n",
        "    plt.scatter(test_data, test_labels, c=\"g\", label=\"Testing data\")\n",
        "\n",
        "    # Plot model's predictions in red\n",
        "    plt.scatter(test_data, predictions, c=\"r\", label=\"Predictions\")\n",
        "\n",
        "    # Show legend\n",
        "    plt.legend()"
      ],
      "metadata": {
        "id": "16upQemypxW9"
      },
      "execution_count": 130,
      "outputs": []
    },
    {
      "cell_type": "code",
      "source": [
        "plot_predictions(X_train, y_train, X_test, y_test, y_pred)"
      ],
      "metadata": {
        "colab": {
          "base_uri": "https://localhost:8080/",
          "height": 0
        },
        "id": "j2JXz2WArMMQ",
        "outputId": "6bf92270-ab2b-47fe-9380-d67854d50842"
      },
      "execution_count": 131,
      "outputs": [
        {
          "output_type": "display_data",
          "data": {
            "text/plain": [
              "<Figure size 720x504 with 1 Axes>"
            ],
            "image/png": "[encoded data removed]"
          },
          "metadata": {
            "needs_background": "light"
          }
        }
      ]
    },
    {
      "cell_type": "markdown",
      "source": [
        "### Evalutating our model's predictions with regression evaluation metrics\n",
        "\n",
        "Depending on the problem, there will be different evaluation metrics to evaluate the model's performance.\n",
        "\n",
        "Since we're working on a regression, two of the main metrics are:\n",
        "* MAE: \"On avg., how wrong is each of the model's prediction\"\n",
        "\n",
        "* MSE: \"Square the avg. errors\""
      ],
      "metadata": {
        "id": "bav63g_srRiy"
      }
    },
    {
      "cell_type": "code",
      "source": [
        "# Evaluate the model on the test set\n",
        "model.evaluate(X_test, y_test)"
      ],
      "metadata": {
        "colab": {
          "base_uri": "https://localhost:8080/"
        },
        "id": "t95Ea2uWr_r_",
        "outputId": "b8272da1-6e03-4949-9f2f-1173389bdbde"
      },
      "execution_count": 132,
      "outputs": [
        {
          "output_type": "stream",
          "name": "stdout",
          "text": [
            "1/1 [==============================] - 0s 98ms/step - loss: 3.1969 - mae: 3.1969\n"
          ]
        },
        {
          "output_type": "execute_result",
          "data": {
            "text/plain": [
              "[3.196946620941162, 3.196946620941162]"
            ]
          },
          "metadata": {},
          "execution_count": 132
        }
      ]
    },
    {
      "cell_type": "code",
      "source": [
        "# Calculate the mean absolute error\n",
        "mae = tf.metrics.mean_absolute_error(y_true=y_test, y_pred=tf.constant(y_pred))\n",
        "mae"
      ],
      "metadata": {
        "colab": {
          "base_uri": "https://localhost:8080/"
        },
        "id": "luIGaPl7BGw2",
        "outputId": "6a9ab0fb-7d66-4680-dd1a-ed8d2f14f336"
      },
      "execution_count": 133,
      "outputs": [
        {
          "output_type": "execute_result",
          "data": {
            "text/plain": [
              "<tf.Tensor: shape=(10,), dtype=float32, numpy=\n",
              "array([17.558247, 14.116051, 11.708944, 10.336927, 10.      , 10.698161,\n",
              "       12.447118, 15.333008, 19.253975, 23.841705], dtype=float32)>"
            ]
          },
          "metadata": {},
          "execution_count": 133
        }
      ]
    },
    {
      "cell_type": "code",
      "source": [
        "tf.constant(y_pred)"
      ],
      "metadata": {
        "colab": {
          "base_uri": "https://localhost:8080/"
        },
        "id": "bEwQIWTpA5T0",
        "outputId": "9ff7bfbb-c471-4cbd-bf5f-95c9c74246ef"
      },
      "execution_count": 134,
      "outputs": [
        {
          "output_type": "execute_result",
          "data": {
            "text/plain": [
              "<tf.Tensor: shape=(10, 1), dtype=float32, numpy=\n",
              "array([[ 70.55219 ],\n",
              "       [ 75.139915],\n",
              "       [ 79.72764 ],\n",
              "       [ 84.31536 ],\n",
              "       [ 88.90308 ],\n",
              "       [ 93.49081 ],\n",
              "       [ 98.07853 ],\n",
              "       [102.66626 ],\n",
              "       [107.253975],\n",
              "       [111.841705]], dtype=float32)>"
            ]
          },
          "metadata": {},
          "execution_count": 134
        }
      ]
    },
    {
      "cell_type": "code",
      "source": [
        "y_test"
      ],
      "metadata": {
        "colab": {
          "base_uri": "https://localhost:8080/"
        },
        "id": "L803a2AjBFOy",
        "outputId": "952a0ed2-48a3-44a3-9e98-beeaeb45cea4"
      },
      "execution_count": 135,
      "outputs": [
        {
          "output_type": "execute_result",
          "data": {
            "text/plain": [
              "<tf.Tensor: shape=(10,), dtype=int32, numpy=array([ 70,  74,  78,  82,  86,  90,  94,  98, 102, 106], dtype=int32)>"
            ]
          },
          "metadata": {},
          "execution_count": 135
        }
      ]
    },
    {
      "cell_type": "code",
      "source": [
        "# Make y_pred in same shape as y_test\n",
        "tf.squeeze(y_pred)"
      ],
      "metadata": {
        "colab": {
          "base_uri": "https://localhost:8080/"
        },
        "id": "TPO0GSLcBGA0",
        "outputId": "fde98e9e-900e-4e84-baa1-c0f801b3770f"
      },
      "execution_count": 136,
      "outputs": [
        {
          "output_type": "execute_result",
          "data": {
            "text/plain": [
              "<tf.Tensor: shape=(10,), dtype=float32, numpy=\n",
              "array([ 70.55219 ,  75.139915,  79.72764 ,  84.31536 ,  88.90308 ,\n",
              "        93.49081 ,  98.07853 , 102.66626 , 107.253975, 111.841705],\n",
              "      dtype=float32)>"
            ]
          },
          "metadata": {},
          "execution_count": 136
        }
      ]
    },
    {
      "cell_type": "code",
      "source": [
        "# Calc the mae\n",
        "mae = tf.metrics.mean_absolute_error(y_true=y_test, y_pred=tf.squeeze(y_pred))\n",
        "mae"
      ],
      "metadata": {
        "colab": {
          "base_uri": "https://localhost:8080/"
        },
        "id": "JORaNZoACpDy",
        "outputId": "8a139a33-119b-49b5-9551-a6521992bc79"
      },
      "execution_count": 137,
      "outputs": [
        {
          "output_type": "execute_result",
          "data": {
            "text/plain": [
              "<tf.Tensor: shape=(), dtype=float32, numpy=3.1969466>"
            ]
          },
          "metadata": {},
          "execution_count": 137
        }
      ]
    },
    {
      "cell_type": "code",
      "source": [
        "# Calc the mse\n",
        "mse = tf.metrics.mean_squared_error(y_true=y_test, y_pred=tf.squeeze(y_pred))\n",
        "mse"
      ],
      "metadata": {
        "colab": {
          "base_uri": "https://localhost:8080/"
        },
        "id": "0a1ndRynC7p5",
        "outputId": "04d6d875-6192-4357-9982-e0ec6e182e3e"
      },
      "execution_count": 138,
      "outputs": [
        {
          "output_type": "execute_result",
          "data": {
            "text/plain": [
              "<tf.Tensor: shape=(), dtype=float32, numpy=13.070175>"
            ]
          },
          "metadata": {},
          "execution_count": 138
        }
      ]
    },
    {
      "cell_type": "code",
      "source": [
        "# Make some functions to reuse MAE & MSE\n",
        "def mae(y_true, y_pred):\n",
        "    return tf.metrics.mean_absolute_error(y_true=y_true, y_pred=y_pred)\n",
        "\n",
        "def mse(y_true, y_pred):\n",
        "    return tf.metrics.mean_squared_error(y_true=y_true, y_pred=y_pred)"
      ],
      "metadata": {
        "id": "TKXr3Ar8N8sw"
      },
      "execution_count": 139,
      "outputs": []
    },
    {
      "cell_type": "markdown",
      "source": [
        "### Running experiments to improve our model (by methods mentioned earlier)\n",
        "\n",
        "Let's do 3 modelling eperiments:\n",
        "\n",
        "1. `model_1`: Same as original model - 1 layer, trained for 100 epochs.\n",
        "2. `model_2`: 2 layers, trained for 100 epochs\n",
        "3. `model_3`: 2 layers, trained for 500 epochs"
      ],
      "metadata": {
        "id": "FEdzIK7BOlVZ"
      }
    },
    {
      "cell_type": "markdown",
      "source": [
        "**Build `model_1`**"
      ],
      "metadata": {
        "id": "P8IFmM9If-Eg"
      }
    },
    {
      "cell_type": "code",
      "source": [
        "from tensorflow.keras.layers import Dense\n",
        "# Set random seed\n",
        "tf.random.set_seed(42)\n",
        "\n",
        "# 1. Create the model\n",
        "model_1 = tf.keras.Sequential()\n",
        "model_1.add(Dense(units=1, input_shape=(1,)))\n",
        "\n",
        "# 2. Compile the model\n",
        "model_1.compile(loss=\"mae\", optimizer=tf.keras.optimizers.SGD(), metrics=[\"mae\"])\n",
        "\n",
        "# 3. Fit the model\n",
        "model_1.fit(X_train, y_train, epochs=100)"
      ],
      "metadata": {
        "colab": {
          "base_uri": "https://localhost:8080/"
        },
        "id": "lElulBPNV51J",
        "outputId": "6a18e1fa-e83b-4a6a-d10e-36ee3af6f2eb"
      },
      "execution_count": 140,
      "outputs": [
        {
          "output_type": "stream",
          "name": "stdout",
          "text": [
            "Epoch 1/100\n",
            "2/2 [==============================] - 0s 6ms/step - loss: 15.9024 - mae: 15.9024\n",
            "Epoch 2/100\n",
            "2/2 [==============================] - 0s 7ms/step - loss: 11.2837 - mae: 11.2837\n",
            "Epoch 3/100\n",
            "2/2 [==============================] - 0s 6ms/step - loss: 11.1074 - mae: 11.1074\n",
            "Epoch 4/100\n",
            "2/2 [==============================] - 0s 5ms/step - loss: 9.2990 - mae: 9.2990\n",
            "Epoch 5/100\n",
            "2/2 [==============================] - 0s 6ms/step - loss: 10.1677 - mae: 10.1677\n",
            "Epoch 6/100\n",
            "2/2 [==============================] - 0s 6ms/step - loss: 9.4303 - mae: 9.4303\n",
            "Epoch 7/100\n",
            "2/2 [==============================] - 0s 6ms/step - loss: 8.5704 - mae: 8.5704\n",
            "Epoch 8/100\n",
            "2/2 [==============================] - 0s 6ms/step - loss: 9.0442 - mae: 9.0442\n",
            "Epoch 9/100\n",
            "2/2 [==============================] - 0s 5ms/step - loss: 18.7517 - mae: 18.7517\n",
            "Epoch 10/100\n",
            "2/2 [==============================] - 0s 6ms/step - loss: 10.1142 - mae: 10.1142\n",
            "Epoch 11/100\n",
            "2/2 [==============================] - 0s 6ms/step - loss: 8.3980 - mae: 8.3980\n",
            "Epoch 12/100\n",
            "2/2 [==============================] - 0s 6ms/step - loss: 10.6639 - mae: 10.6639\n",
            "Epoch 13/100\n",
            "2/2 [==============================] - 0s 6ms/step - loss: 9.7977 - mae: 9.7977\n",
            "Epoch 14/100\n",
            "2/2 [==============================] - 0s 6ms/step - loss: 16.0103 - mae: 16.0103\n",
            "Epoch 15/100\n",
            "2/2 [==============================] - 0s 6ms/step - loss: 11.4068 - mae: 11.4068\n",
            "Epoch 16/100\n",
            "2/2 [==============================] - 0s 6ms/step - loss: 8.5393 - mae: 8.5393\n",
            "Epoch 17/100\n",
            "2/2 [==============================] - 0s 6ms/step - loss: 13.6348 - mae: 13.6348\n",
            "Epoch 18/100\n",
            "2/2 [==============================] - 0s 6ms/step - loss: 11.4629 - mae: 11.4629\n",
            "Epoch 19/100\n",
            "2/2 [==============================] - 0s 6ms/step - loss: 17.9148 - mae: 17.9148\n",
            "Epoch 20/100\n",
            "2/2 [==============================] - 0s 6ms/step - loss: 15.0494 - mae: 15.0494\n",
            "Epoch 21/100\n",
            "2/2 [==============================] - 0s 6ms/step - loss: 11.0216 - mae: 11.0216\n",
            "Epoch 22/100\n",
            "2/2 [==============================] - 0s 6ms/step - loss: 8.1558 - mae: 8.1558\n",
            "Epoch 23/100\n",
            "2/2 [==============================] - 0s 6ms/step - loss: 9.5138 - mae: 9.5138\n",
            "Epoch 24/100\n",
            "2/2 [==============================] - 0s 6ms/step - loss: 7.6617 - mae: 7.6617\n",
            "Epoch 25/100\n",
            "2/2 [==============================] - 0s 5ms/step - loss: 13.1859 - mae: 13.1859\n",
            "Epoch 26/100\n",
            "2/2 [==============================] - 0s 6ms/step - loss: 16.4211 - mae: 16.4211\n",
            "Epoch 27/100\n",
            "2/2 [==============================] - 0s 6ms/step - loss: 13.1659 - mae: 13.1659\n",
            "Epoch 28/100\n",
            "2/2 [==============================] - 0s 6ms/step - loss: 14.2559 - mae: 14.2559\n",
            "Epoch 29/100\n",
            "2/2 [==============================] - 0s 6ms/step - loss: 10.0670 - mae: 10.0670\n",
            "Epoch 30/100\n",
            "2/2 [==============================] - 0s 5ms/step - loss: 16.3409 - mae: 16.3409\n",
            "Epoch 31/100\n",
            "2/2 [==============================] - 0s 12ms/step - loss: 23.6444 - mae: 23.6444\n",
            "Epoch 32/100\n",
            "2/2 [==============================] - 0s 6ms/step - loss: 7.6215 - mae: 7.6215\n",
            "Epoch 33/100\n",
            "2/2 [==============================] - 0s 6ms/step - loss: 9.3221 - mae: 9.3221\n",
            "Epoch 34/100\n",
            "2/2 [==============================] - 0s 7ms/step - loss: 13.7313 - mae: 13.7313\n",
            "Epoch 35/100\n",
            "2/2 [==============================] - 0s 6ms/step - loss: 11.1276 - mae: 11.1276\n",
            "Epoch 36/100\n",
            "2/2 [==============================] - 0s 5ms/step - loss: 13.3222 - mae: 13.3222\n",
            "Epoch 37/100\n",
            "2/2 [==============================] - 0s 6ms/step - loss: 9.4763 - mae: 9.4763\n",
            "Epoch 38/100\n",
            "2/2 [==============================] - 0s 6ms/step - loss: 10.1381 - mae: 10.1381\n",
            "Epoch 39/100\n",
            "2/2 [==============================] - 0s 7ms/step - loss: 10.1793 - mae: 10.1793\n",
            "Epoch 40/100\n",
            "2/2 [==============================] - 0s 6ms/step - loss: 10.9137 - mae: 10.9137\n",
            "Epoch 41/100\n",
            "2/2 [==============================] - 0s 6ms/step - loss: 7.9063 - mae: 7.9063\n",
            "Epoch 42/100\n",
            "2/2 [==============================] - 0s 6ms/step - loss: 10.0914 - mae: 10.0914\n",
            "Epoch 43/100\n",
            "2/2 [==============================] - 0s 6ms/step - loss: 8.7006 - mae: 8.7006\n",
            "Epoch 44/100\n",
            "2/2 [==============================] - 0s 6ms/step - loss: 12.2047 - mae: 12.2047\n",
            "Epoch 45/100\n",
            "2/2 [==============================] - 0s 6ms/step - loss: 13.7970 - mae: 13.7970\n",
            "Epoch 46/100\n",
            "2/2 [==============================] - 0s 6ms/step - loss: 8.4687 - mae: 8.4687\n",
            "Epoch 47/100\n",
            "2/2 [==============================] - 0s 6ms/step - loss: 9.1330 - mae: 9.1330\n",
            "Epoch 48/100\n",
            "2/2 [==============================] - 0s 8ms/step - loss: 10.6190 - mae: 10.6190\n",
            "Epoch 49/100\n",
            "2/2 [==============================] - 0s 6ms/step - loss: 7.7503 - mae: 7.7503\n",
            "Epoch 50/100\n",
            "2/2 [==============================] - 0s 6ms/step - loss: 9.5407 - mae: 9.5407\n",
            "Epoch 51/100\n",
            "2/2 [==============================] - 0s 6ms/step - loss: 9.1584 - mae: 9.1584\n",
            "Epoch 52/100\n",
            "2/2 [==============================] - 0s 6ms/step - loss: 16.3630 - mae: 16.3630\n",
            "Epoch 53/100\n",
            "2/2 [==============================] - 0s 7ms/step - loss: 14.1299 - mae: 14.1299\n",
            "Epoch 54/100\n",
            "2/2 [==============================] - 0s 6ms/step - loss: 21.1247 - mae: 21.1247\n",
            "Epoch 55/100\n",
            "2/2 [==============================] - 0s 6ms/step - loss: 16.3961 - mae: 16.3961\n",
            "Epoch 56/100\n",
            "2/2 [==============================] - 0s 6ms/step - loss: 9.9806 - mae: 9.9806\n",
            "Epoch 57/100\n",
            "2/2 [==============================] - 0s 6ms/step - loss: 9.9606 - mae: 9.9606\n",
            "Epoch 58/100\n",
            "2/2 [==============================] - 0s 6ms/step - loss: 9.2209 - mae: 9.2209\n",
            "Epoch 59/100\n",
            "2/2 [==============================] - 0s 5ms/step - loss: 8.4239 - mae: 8.4239\n",
            "Epoch 60/100\n",
            "2/2 [==============================] - 0s 6ms/step - loss: 9.4869 - mae: 9.4869\n",
            "Epoch 61/100\n",
            "2/2 [==============================] - 0s 6ms/step - loss: 11.4355 - mae: 11.4355\n",
            "Epoch 62/100\n",
            "2/2 [==============================] - 0s 7ms/step - loss: 11.6887 - mae: 11.6887\n",
            "Epoch 63/100\n",
            "2/2 [==============================] - 0s 6ms/step - loss: 7.0838 - mae: 7.0838\n",
            "Epoch 64/100\n",
            "2/2 [==============================] - 0s 6ms/step - loss: 16.9675 - mae: 16.9675\n",
            "Epoch 65/100\n",
            "2/2 [==============================] - 0s 7ms/step - loss: 12.4599 - mae: 12.4599\n",
            "Epoch 66/100\n",
            "2/2 [==============================] - 0s 9ms/step - loss: 13.0184 - mae: 13.0184\n",
            "Epoch 67/100\n",
            "2/2 [==============================] - 0s 6ms/step - loss: 8.0600 - mae: 8.0600\n",
            "Epoch 68/100\n",
            "2/2 [==============================] - 0s 6ms/step - loss: 10.1888 - mae: 10.1888\n",
            "Epoch 69/100\n",
            "2/2 [==============================] - 0s 6ms/step - loss: 12.3633 - mae: 12.3633\n",
            "Epoch 70/100\n",
            "2/2 [==============================] - 0s 6ms/step - loss: 9.0516 - mae: 9.0516\n",
            "Epoch 71/100\n",
            "2/2 [==============================] - 0s 6ms/step - loss: 10.0378 - mae: 10.0378\n",
            "Epoch 72/100\n",
            "2/2 [==============================] - 0s 6ms/step - loss: 10.0516 - mae: 10.0516\n",
            "Epoch 73/100\n",
            "2/2 [==============================] - 0s 6ms/step - loss: 12.6151 - mae: 12.6151\n",
            "Epoch 74/100\n",
            "2/2 [==============================] - 0s 6ms/step - loss: 10.3819 - mae: 10.3819\n",
            "Epoch 75/100\n",
            "2/2 [==============================] - 0s 6ms/step - loss: 9.7229 - mae: 9.7229\n",
            "Epoch 76/100\n",
            "2/2 [==============================] - 0s 6ms/step - loss: 11.2252 - mae: 11.2252\n",
            "Epoch 77/100\n",
            "2/2 [==============================] - 0s 6ms/step - loss: 8.3642 - mae: 8.3642\n",
            "Epoch 78/100\n",
            "2/2 [==============================] - 0s 6ms/step - loss: 9.1274 - mae: 9.1274\n",
            "Epoch 79/100\n",
            "2/2 [==============================] - 0s 6ms/step - loss: 19.5039 - mae: 19.5039\n",
            "Epoch 80/100\n",
            "2/2 [==============================] - 0s 6ms/step - loss: 14.8945 - mae: 14.8945\n",
            "Epoch 81/100\n",
            "2/2 [==============================] - 0s 6ms/step - loss: 9.0034 - mae: 9.0034\n",
            "Epoch 82/100\n",
            "2/2 [==============================] - 0s 10ms/step - loss: 13.0206 - mae: 13.0206\n",
            "Epoch 83/100\n",
            "2/2 [==============================] - 0s 6ms/step - loss: 7.9299 - mae: 7.9299\n",
            "Epoch 84/100\n",
            "2/2 [==============================] - 0s 6ms/step - loss: 7.6872 - mae: 7.6872\n",
            "Epoch 85/100\n",
            "2/2 [==============================] - 0s 6ms/step - loss: 10.0328 - mae: 10.0328\n",
            "Epoch 86/100\n",
            "2/2 [==============================] - 0s 6ms/step - loss: 9.2433 - mae: 9.2433\n",
            "Epoch 87/100\n",
            "2/2 [==============================] - 0s 6ms/step - loss: 12.0209 - mae: 12.0209\n",
            "Epoch 88/100\n",
            "2/2 [==============================] - 0s 6ms/step - loss: 10.6389 - mae: 10.6389\n",
            "Epoch 89/100\n",
            "2/2 [==============================] - 0s 6ms/step - loss: 7.2667 - mae: 7.2667\n",
            "Epoch 90/100\n",
            "2/2 [==============================] - 0s 6ms/step - loss: 12.7786 - mae: 12.7786\n",
            "Epoch 91/100\n",
            "2/2 [==============================] - 0s 7ms/step - loss: 7.3481 - mae: 7.3481\n",
            "Epoch 92/100\n",
            "2/2 [==============================] - 0s 4ms/step - loss: 7.7175 - mae: 7.7175\n",
            "Epoch 93/100\n",
            "2/2 [==============================] - 0s 6ms/step - loss: 7.1263 - mae: 7.1263\n",
            "Epoch 94/100\n",
            "2/2 [==============================] - 0s 7ms/step - loss: 12.6190 - mae: 12.6190\n",
            "Epoch 95/100\n",
            "2/2 [==============================] - 0s 7ms/step - loss: 10.0912 - mae: 10.0912\n",
            "Epoch 96/100\n",
            "2/2 [==============================] - 0s 7ms/step - loss: 9.3558 - mae: 9.3558\n",
            "Epoch 97/100\n",
            "2/2 [==============================] - 0s 6ms/step - loss: 12.6834 - mae: 12.6834\n",
            "Epoch 98/100\n",
            "2/2 [==============================] - 0s 6ms/step - loss: 8.6762 - mae: 8.6762\n",
            "Epoch 99/100\n",
            "2/2 [==============================] - 0s 9ms/step - loss: 9.4693 - mae: 9.4693\n",
            "Epoch 100/100\n",
            "2/2 [==============================] - 0s 12ms/step - loss: 8.7067 - mae: 8.7067\n"
          ]
        },
        {
          "output_type": "execute_result",
          "data": {
            "text/plain": [
              "<keras.callbacks.History at 0x7f4e3a5bf310>"
            ]
          },
          "metadata": {},
          "execution_count": 140
        }
      ]
    },
    {
      "cell_type": "code",
      "source": [
        "# Make and plot predictions for model_1\n",
        "y_preds_1 = model_1.predict(X_test)\n",
        "plot_predictions(predictions=y_preds_1)"
      ],
      "metadata": {
        "colab": {
          "base_uri": "https://localhost:8080/",
          "height": 0
        },
        "id": "PbybN19aYrnS",
        "outputId": "df83fb9b-915c-41a8-af00-9cfbd6113b0a"
      },
      "execution_count": 141,
      "outputs": [
        {
          "output_type": "display_data",
          "data": {
            "text/plain": [
              "<Figure size 720x504 with 1 Axes>"
            ],
            "image/png": "[encoded data removed]"
          },
          "metadata": {
            "needs_background": "light"
          }
        }
      ]
    },
    {
      "cell_type": "code",
      "source": [
        "# Calculate model_1 evaluation metrics\n",
        "mae_1 = mae(y_test, tf.squeeze(y_preds_1))\n",
        "mse_1 = mse(y_test, tf.squeeze(y_preds_1))\n",
        "mae_1, mse_1"
      ],
      "metadata": {
        "colab": {
          "base_uri": "https://localhost:8080/"
        },
        "id": "WenXk2wIZPle",
        "outputId": "8c4f2b17-6639-4bb2-aee9-f8b1454c3809"
      },
      "execution_count": 142,
      "outputs": [
        {
          "output_type": "execute_result",
          "data": {
            "text/plain": [
              "(<tf.Tensor: shape=(), dtype=float32, numpy=18.745327>,\n",
              " <tf.Tensor: shape=(), dtype=float32, numpy=353.5734>)"
            ]
          },
          "metadata": {},
          "execution_count": 142
        }
      ]
    },
    {
      "cell_type": "markdown",
      "source": [
        "**Build `model_2`**"
      ],
      "metadata": {
        "id": "KMt1w4zOZhAG"
      }
    },
    {
      "cell_type": "code",
      "source": [
        "# Set random seed\n",
        "tf.random.set_seed(42)\n",
        "\n",
        "# 1. Create model_2\n",
        "model_2 = tf.keras.Sequential()\n",
        "model_2.add(Dense(units = 10, input_shape=(1,)))\n",
        "model_2.add(Dense(units=1))\n",
        "\n",
        "# 2. Compile model_2\n",
        "model_2.compile(loss=\"mae\", optimizer = tf.keras.optimizers.SGD(), metrics=[\"mse\"])\n",
        "\n",
        "# Fit model_2\n",
        "model_2.fit(X_train, y_train, epochs=100)"
      ],
      "metadata": {
        "colab": {
          "base_uri": "https://localhost:8080/"
        },
        "id": "yZiN42IVaSnP",
        "outputId": "d7f5d249-931a-4b11-e61f-79b11fe7498f"
      },
      "execution_count": 143,
      "outputs": [
        {
          "output_type": "stream",
          "name": "stdout",
          "text": [
            "Epoch 1/100\n",
            "2/2 [==============================] - 0s 7ms/step - loss: 27.4058 - mse: 1084.1481\n",
            "Epoch 2/100\n",
            "2/2 [==============================] - 0s 7ms/step - loss: 24.6339 - mse: 777.9203\n",
            "Epoch 3/100\n",
            "2/2 [==============================] - 0s 6ms/step - loss: 29.8935 - mse: 1334.8955\n",
            "Epoch 4/100\n",
            "2/2 [==============================] - 0s 6ms/step - loss: 27.4055 - mse: 1106.8035\n",
            "Epoch 5/100\n",
            "2/2 [==============================] - 0s 6ms/step - loss: 14.9463 - mse: 281.1077\n",
            "Epoch 6/100\n",
            "2/2 [==============================] - 0s 6ms/step - loss: 11.8819 - mse: 168.6621\n",
            "Epoch 7/100\n",
            "2/2 [==============================] - 0s 6ms/step - loss: 11.1988 - mse: 151.3508\n",
            "Epoch 8/100\n",
            "2/2 [==============================] - 0s 6ms/step - loss: 11.0910 - mse: 160.3745\n",
            "Epoch 9/100\n",
            "2/2 [==============================] - 0s 6ms/step - loss: 40.4763 - mse: 2586.0081\n",
            "Epoch 10/100\n",
            "2/2 [==============================] - 0s 6ms/step - loss: 27.8687 - mse: 1094.4379\n",
            "Epoch 11/100\n",
            "2/2 [==============================] - 0s 6ms/step - loss: 10.2473 - mse: 147.9359\n",
            "Epoch 12/100\n",
            "2/2 [==============================] - 0s 6ms/step - loss: 25.2803 - mse: 890.3866\n",
            "Epoch 13/100\n",
            "2/2 [==============================] - 0s 6ms/step - loss: 16.9897 - mse: 399.9679\n",
            "Epoch 14/100\n",
            "2/2 [==============================] - 0s 6ms/step - loss: 25.9217 - mse: 1049.5521\n",
            "Epoch 15/100\n",
            "2/2 [==============================] - 0s 6ms/step - loss: 17.9948 - mse: 450.2584\n",
            "Epoch 16/100\n",
            "2/2 [==============================] - 0s 6ms/step - loss: 7.3510 - mse: 80.6206\n",
            "Epoch 17/100\n",
            "2/2 [==============================] - 0s 6ms/step - loss: 10.8636 - mse: 174.7868\n",
            "Epoch 18/100\n",
            "2/2 [==============================] - 0s 6ms/step - loss: 19.5304 - mse: 565.8051\n",
            "Epoch 19/100\n",
            "2/2 [==============================] - 0s 5ms/step - loss: 10.3469 - mse: 167.7750\n",
            "Epoch 20/100\n",
            "2/2 [==============================] - 0s 10ms/step - loss: 17.6985 - mse: 455.7095\n",
            "Epoch 21/100\n",
            "2/2 [==============================] - 0s 6ms/step - loss: 15.8984 - mse: 347.1928\n",
            "Epoch 22/100\n",
            "2/2 [==============================] - 0s 6ms/step - loss: 14.1991 - mse: 285.1766\n",
            "Epoch 23/100\n",
            "2/2 [==============================] - 0s 6ms/step - loss: 8.7720 - mse: 91.7852\n",
            "Epoch 24/100\n",
            "2/2 [==============================] - 0s 6ms/step - loss: 11.0570 - mse: 153.7430\n",
            "Epoch 25/100\n",
            "2/2 [==============================] - 0s 6ms/step - loss: 12.6838 - mse: 233.2951\n",
            "Epoch 26/100\n",
            "2/2 [==============================] - 0s 6ms/step - loss: 26.1877 - mse: 1024.6096\n",
            "Epoch 27/100\n",
            "2/2 [==============================] - 0s 9ms/step - loss: 11.7432 - mse: 194.8454\n",
            "Epoch 28/100\n",
            "2/2 [==============================] - 0s 6ms/step - loss: 22.8730 - mse: 835.6074\n",
            "Epoch 29/100\n",
            "2/2 [==============================] - 0s 5ms/step - loss: 9.2459 - mse: 96.7786\n",
            "Epoch 30/100\n",
            "2/2 [==============================] - 0s 6ms/step - loss: 29.2641 - mse: 1535.1349\n",
            "Epoch 31/100\n",
            "2/2 [==============================] - 0s 6ms/step - loss: 53.0225 - mse: 5030.2974\n",
            "Epoch 32/100\n",
            "2/2 [==============================] - 0s 6ms/step - loss: 11.9951 - mse: 211.7024\n",
            "Epoch 33/100\n",
            "2/2 [==============================] - 0s 6ms/step - loss: 15.6357 - mse: 337.3665\n",
            "Epoch 34/100\n",
            "2/2 [==============================] - 0s 6ms/step - loss: 12.6925 - mse: 214.4822\n",
            "Epoch 35/100\n",
            "2/2 [==============================] - 0s 6ms/step - loss: 9.2398 - mse: 92.9126\n",
            "Epoch 36/100\n",
            "2/2 [==============================] - 0s 6ms/step - loss: 16.6497 - mse: 403.6570\n",
            "Epoch 37/100\n",
            "2/2 [==============================] - 0s 8ms/step - loss: 11.0382 - mse: 192.3919\n",
            "Epoch 38/100\n",
            "2/2 [==============================] - 0s 7ms/step - loss: 18.1634 - mse: 433.6718\n",
            "Epoch 39/100\n",
            "2/2 [==============================] - 0s 6ms/step - loss: 19.1013 - mse: 529.6441\n",
            "Epoch 40/100\n",
            "2/2 [==============================] - 0s 6ms/step - loss: 20.4324 - mse: 610.1327\n",
            "Epoch 41/100\n",
            "2/2 [==============================] - 0s 6ms/step - loss: 14.9102 - mse: 279.6181\n",
            "Epoch 42/100\n",
            "2/2 [==============================] - 0s 7ms/step - loss: 12.2809 - mse: 186.6179\n",
            "Epoch 43/100\n",
            "2/2 [==============================] - 0s 6ms/step - loss: 10.7333 - mse: 167.0951\n",
            "Epoch 44/100\n",
            "2/2 [==============================] - 0s 7ms/step - loss: 23.0260 - mse: 830.4236\n",
            "Epoch 45/100\n",
            "2/2 [==============================] - 0s 6ms/step - loss: 10.3897 - mse: 128.9549\n",
            "Epoch 46/100\n",
            "2/2 [==============================] - 0s 7ms/step - loss: 11.7904 - mse: 181.9210\n",
            "Epoch 47/100\n",
            "2/2 [==============================] - 0s 6ms/step - loss: 9.6438 - mse: 153.8708\n",
            "Epoch 48/100\n",
            "2/2 [==============================] - 0s 7ms/step - loss: 17.2335 - mse: 402.8497\n",
            "Epoch 49/100\n",
            "2/2 [==============================] - 0s 6ms/step - loss: 9.5729 - mse: 99.8336\n",
            "Epoch 50/100\n",
            "2/2 [==============================] - 0s 6ms/step - loss: 13.8185 - mse: 260.3668\n",
            "Epoch 51/100\n",
            "2/2 [==============================] - 0s 6ms/step - loss: 11.5958 - mse: 154.7956\n",
            "Epoch 52/100\n",
            "2/2 [==============================] - 0s 6ms/step - loss: 30.5538 - mse: 1613.0876\n",
            "Epoch 53/100\n",
            "2/2 [==============================] - 0s 6ms/step - loss: 14.3541 - mse: 302.5291\n",
            "Epoch 54/100\n",
            "2/2 [==============================] - 0s 9ms/step - loss: 23.9713 - mse: 859.3983\n",
            "Epoch 55/100\n",
            "2/2 [==============================] - 0s 7ms/step - loss: 23.1938 - mse: 805.5448\n",
            "Epoch 56/100\n",
            "2/2 [==============================] - 0s 6ms/step - loss: 10.8837 - mse: 170.9834\n",
            "Epoch 57/100\n",
            "2/2 [==============================] - 0s 6ms/step - loss: 12.7445 - mse: 198.7014\n",
            "Epoch 58/100\n",
            "2/2 [==============================] - 0s 7ms/step - loss: 9.5995 - mse: 102.5890\n",
            "Epoch 59/100\n",
            "2/2 [==============================] - 0s 12ms/step - loss: 12.5172 - mse: 216.3365\n",
            "Epoch 60/100\n",
            "2/2 [==============================] - 0s 5ms/step - loss: 12.3200 - mse: 208.6369\n",
            "Epoch 61/100\n",
            "2/2 [==============================] - 0s 6ms/step - loss: 17.4604 - mse: 428.6391\n",
            "Epoch 62/100\n",
            "2/2 [==============================] - 0s 7ms/step - loss: 10.6052 - mse: 136.9776\n",
            "Epoch 63/100\n",
            "2/2 [==============================] - 0s 5ms/step - loss: 10.4893 - mse: 152.4553\n",
            "Epoch 64/100\n",
            "2/2 [==============================] - 0s 6ms/step - loss: 24.8450 - mse: 911.7503\n",
            "Epoch 65/100\n",
            "2/2 [==============================] - 0s 6ms/step - loss: 10.6761 - mse: 142.7373\n",
            "Epoch 66/100\n",
            "2/2 [==============================] - 0s 6ms/step - loss: 21.7809 - mse: 704.4485\n",
            "Epoch 67/100\n",
            "2/2 [==============================] - 0s 6ms/step - loss: 10.7136 - mse: 136.0193\n",
            "Epoch 68/100\n",
            "2/2 [==============================] - 0s 6ms/step - loss: 10.6397 - mse: 149.2299\n",
            "Epoch 69/100\n",
            "2/2 [==============================] - 0s 5ms/step - loss: 22.6914 - mse: 742.1757\n",
            "Epoch 70/100\n",
            "2/2 [==============================] - 0s 6ms/step - loss: 9.3316 - mse: 166.1628\n",
            "Epoch 71/100\n",
            "2/2 [==============================] - 0s 6ms/step - loss: 15.4355 - mse: 323.0844\n",
            "Epoch 72/100\n",
            "2/2 [==============================] - 0s 6ms/step - loss: 6.7437 - mse: 67.0210\n",
            "Epoch 73/100\n",
            "2/2 [==============================] - 0s 5ms/step - loss: 11.6891 - mse: 183.7297\n",
            "Epoch 74/100\n",
            "2/2 [==============================] - 0s 5ms/step - loss: 24.0400 - mse: 908.8986\n",
            "Epoch 75/100\n",
            "2/2 [==============================] - 0s 5ms/step - loss: 9.5896 - mse: 149.3948\n",
            "Epoch 76/100\n",
            "2/2 [==============================] - 0s 5ms/step - loss: 12.4371 - mse: 188.3309\n",
            "Epoch 77/100\n",
            "2/2 [==============================] - 0s 6ms/step - loss: 16.6488 - mse: 429.2704\n",
            "Epoch 78/100\n",
            "2/2 [==============================] - 0s 4ms/step - loss: 9.0614 - mse: 95.4869\n",
            "Epoch 79/100\n",
            "2/2 [==============================] - 0s 6ms/step - loss: 23.9675 - mse: 864.0861\n",
            "Epoch 80/100\n",
            "2/2 [==============================] - 0s 5ms/step - loss: 26.7462 - mse: 1104.4027\n",
            "Epoch 81/100\n",
            "2/2 [==============================] - 0s 6ms/step - loss: 11.6714 - mse: 170.7055\n",
            "Epoch 82/100\n",
            "2/2 [==============================] - 0s 5ms/step - loss: 12.0228 - mse: 211.9191\n",
            "Epoch 83/100\n",
            "2/2 [==============================] - 0s 6ms/step - loss: 17.4218 - mse: 395.5589\n",
            "Epoch 84/100\n",
            "2/2 [==============================] - 0s 6ms/step - loss: 7.2629 - mse: 73.0935\n",
            "Epoch 85/100\n",
            "2/2 [==============================] - 0s 11ms/step - loss: 14.9650 - mse: 312.8361\n",
            "Epoch 86/100\n",
            "2/2 [==============================] - 0s 7ms/step - loss: 15.2862 - mse: 315.3605\n",
            "Epoch 87/100\n",
            "2/2 [==============================] - 0s 8ms/step - loss: 19.1086 - mse: 521.2533\n",
            "Epoch 88/100\n",
            "2/2 [==============================] - 0s 5ms/step - loss: 29.8229 - mse: 1287.1912\n",
            "Epoch 89/100\n",
            "2/2 [==============================] - 0s 4ms/step - loss: 10.1742 - mse: 124.1342\n",
            "Epoch 90/100\n",
            "2/2 [==============================] - 0s 4ms/step - loss: 21.5240 - mse: 663.8613\n",
            "Epoch 91/100\n",
            "2/2 [==============================] - 0s 6ms/step - loss: 10.5716 - mse: 161.7467\n",
            "Epoch 92/100\n",
            "2/2 [==============================] - 0s 5ms/step - loss: 18.3977 - mse: 464.1329\n",
            "Epoch 93/100\n",
            "2/2 [==============================] - 0s 5ms/step - loss: 7.4138 - mse: 81.9820\n",
            "Epoch 94/100\n",
            "2/2 [==============================] - 0s 7ms/step - loss: 17.7380 - mse: 445.7383\n",
            "Epoch 95/100\n",
            "2/2 [==============================] - 0s 6ms/step - loss: 11.1144 - mse: 164.0822\n",
            "Epoch 96/100\n",
            "2/2 [==============================] - 0s 5ms/step - loss: 19.4346 - mse: 510.5845\n",
            "Epoch 97/100\n",
            "2/2 [==============================] - 0s 9ms/step - loss: 12.1593 - mse: 209.9757\n",
            "Epoch 98/100\n",
            "2/2 [==============================] - 0s 9ms/step - loss: 11.5653 - mse: 169.4053\n",
            "Epoch 99/100\n",
            "2/2 [==============================] - 0s 6ms/step - loss: 13.8827 - mse: 265.4632\n",
            "Epoch 100/100\n",
            "2/2 [==============================] - 0s 7ms/step - loss: 20.2277 - mse: 608.8221\n"
          ]
        },
        {
          "output_type": "execute_result",
          "data": {
            "text/plain": [
              "<keras.callbacks.History at 0x7f4e3a665090>"
            ]
          },
          "metadata": {},
          "execution_count": 143
        }
      ]
    },
    {
      "cell_type": "code",
      "source": [
        "# Make and plot predictions for model_2\n",
        "y_preds_2 = model_2.predict(X_test)\n",
        "plot_predictions(predictions=y_preds_2)"
      ],
      "metadata": {
        "colab": {
          "base_uri": "https://localhost:8080/",
          "height": 0
        },
        "id": "qUAqWig-bkpx",
        "outputId": "389a1c3e-0357-4d23-bbf5-4e1745f2477f"
      },
      "execution_count": 144,
      "outputs": [
        {
          "output_type": "display_data",
          "data": {
            "text/plain": [
              "<Figure size 720x504 with 1 Axes>"
            ],
            "image/png": "[encoded data removed]"
          },
          "metadata": {
            "needs_background": "light"
          }
        }
      ]
    },
    {
      "cell_type": "code",
      "source": [
        "# Calculate model_2 evaluation metrics\n",
        "mae_2 = mae(y_test, tf.squeeze(y_preds_2))\n",
        "mse_2 = mse(y_test, tf.squeeze(y_preds_2))\n",
        "mae_2, mse_2"
      ],
      "metadata": {
        "colab": {
          "base_uri": "https://localhost:8080/"
        },
        "id": "ho2x08SWb2KW",
        "outputId": "8a36fc2a-0cb9-4864-a218-8030e1cf21a4"
      },
      "execution_count": 145,
      "outputs": [
        {
          "output_type": "execute_result",
          "data": {
            "text/plain": [
              "(<tf.Tensor: shape=(), dtype=float32, numpy=3.1969466>,\n",
              " <tf.Tensor: shape=(), dtype=float32, numpy=13.070175>)"
            ]
          },
          "metadata": {},
          "execution_count": 145
        }
      ]
    },
    {
      "cell_type": "markdown",
      "source": [
        "**Build `model_3`**"
      ],
      "metadata": {
        "id": "-QrOGIiqdHBc"
      }
    },
    {
      "cell_type": "code",
      "source": [
        "# Set random seed\n",
        "tf.random.set_seed(42)\n",
        "\n",
        "# 1. Create model_3\n",
        "model_3 = tf.keras.Sequential()\n",
        "model_3.add(Dense(units = 10, input_shape=(1,)))\n",
        "model_3.add(Dense(units=1))\n",
        "\n",
        "# 2. Compile model_3\n",
        "model_3.compile(loss=\"mae\", optimizer = tf.keras.optimizers.SGD(), metrics=[\"mae\"])\n",
        "\n",
        "# Fit model_3\n",
        "model_3.fit(X_train, y_train, epochs=500)"
      ],
      "metadata": {
        "colab": {
          "base_uri": "https://localhost:8080/"
        },
        "id": "dORTqvAkdYME",
        "outputId": "5c5c5ea3-0b40-41ab-e188-12c7b3c23b9a"
      },
      "execution_count": 146,
      "outputs": [
        {
          "output_type": "stream",
          "name": "stdout",
          "text": [
            "Epoch 1/500\n",
            "2/2 [==============================] - 0s 7ms/step - loss: 27.4058 - mae: 27.4058\n",
            "Epoch 2/500\n",
            "2/2 [==============================] - 0s 6ms/step - loss: 24.6339 - mae: 24.6339\n",
            "Epoch 3/500\n",
            "2/2 [==============================] - 0s 5ms/step - loss: 29.8935 - mae: 29.8935\n",
            "Epoch 4/500\n",
            "2/2 [==============================] - 0s 6ms/step - loss: 27.4055 - mae: 27.4055\n",
            "Epoch 5/500\n",
            "2/2 [==============================] - 0s 6ms/step - loss: 14.9463 - mae: 14.9463\n",
            "Epoch 6/500\n",
            "2/2 [==============================] - 0s 5ms/step - loss: 11.8819 - mae: 11.8819\n",
            "Epoch 7/500\n",
            "2/2 [==============================] - 0s 5ms/step - loss: 11.1988 - mae: 11.1988\n",
            "Epoch 8/500\n",
            "2/2 [==============================] - 0s 6ms/step - loss: 11.0910 - mae: 11.0910\n",
            "Epoch 9/500\n",
            "2/2 [==============================] - 0s 6ms/step - loss: 40.4763 - mae: 40.4763\n",
            "Epoch 10/500\n",
            "2/2 [==============================] - 0s 6ms/step - loss: 27.8687 - mae: 27.8687\n",
            "Epoch 11/500\n",
            "2/2 [==============================] - 0s 7ms/step - loss: 10.2473 - mae: 10.2473\n",
            "Epoch 12/500\n",
            "2/2 [==============================] - 0s 6ms/step - loss: 25.2803 - mae: 25.2803\n",
            "Epoch 13/500\n",
            "2/2 [==============================] - 0s 6ms/step - loss: 16.9897 - mae: 16.9897\n",
            "Epoch 14/500\n",
            "2/2 [==============================] - 0s 6ms/step - loss: 25.9217 - mae: 25.9217\n",
            "Epoch 15/500\n",
            "2/2 [==============================] - 0s 6ms/step - loss: 17.9948 - mae: 17.9948\n",
            "Epoch 16/500\n",
            "2/2 [==============================] - 0s 6ms/step - loss: 7.3510 - mae: 7.3510\n",
            "Epoch 17/500\n",
            "2/2 [==============================] - 0s 9ms/step - loss: 10.8636 - mae: 10.8636\n",
            "Epoch 18/500\n",
            "2/2 [==============================] - 0s 8ms/step - loss: 19.5304 - mae: 19.5304\n",
            "Epoch 19/500\n",
            "2/2 [==============================] - 0s 6ms/step - loss: 10.3469 - mae: 10.3469\n",
            "Epoch 20/500\n",
            "2/2 [==============================] - 0s 6ms/step - loss: 17.6985 - mae: 17.6985\n",
            "Epoch 21/500\n",
            "2/2 [==============================] - 0s 8ms/step - loss: 15.8984 - mae: 15.8984\n",
            "Epoch 22/500\n",
            "2/2 [==============================] - 0s 7ms/step - loss: 14.1991 - mae: 14.1991\n",
            "Epoch 23/500\n",
            "2/2 [==============================] - 0s 6ms/step - loss: 8.7720 - mae: 8.7720\n",
            "Epoch 24/500\n",
            "2/2 [==============================] - 0s 6ms/step - loss: 11.0570 - mae: 11.0570\n",
            "Epoch 25/500\n",
            "2/2 [==============================] - 0s 6ms/step - loss: 12.6838 - mae: 12.6838\n",
            "Epoch 26/500\n",
            "2/2 [==============================] - 0s 6ms/step - loss: 26.1877 - mae: 26.1877\n",
            "Epoch 27/500\n",
            "2/2 [==============================] - 0s 6ms/step - loss: 11.7432 - mae: 11.7432\n",
            "Epoch 28/500\n",
            "2/2 [==============================] - 0s 6ms/step - loss: 22.8730 - mae: 22.8730\n",
            "Epoch 29/500\n",
            "2/2 [==============================] - 0s 9ms/step - loss: 9.2459 - mae: 9.2459\n",
            "Epoch 30/500\n",
            "2/2 [==============================] - 0s 6ms/step - loss: 29.2641 - mae: 29.2641\n",
            "Epoch 31/500\n",
            "2/2 [==============================] - 0s 6ms/step - loss: 53.0225 - mae: 53.0225\n",
            "Epoch 32/500\n",
            "2/2 [==============================] - 0s 6ms/step - loss: 11.9951 - mae: 11.9951\n",
            "Epoch 33/500\n",
            "2/2 [==============================] - 0s 6ms/step - loss: 15.6357 - mae: 15.6357\n",
            "Epoch 34/500\n",
            "2/2 [==============================] - 0s 6ms/step - loss: 12.6925 - mae: 12.6925\n",
            "Epoch 35/500\n",
            "2/2 [==============================] - 0s 6ms/step - loss: 9.2398 - mae: 9.2398\n",
            "Epoch 36/500\n",
            "2/2 [==============================] - 0s 6ms/step - loss: 16.6497 - mae: 16.6497\n",
            "Epoch 37/500\n",
            "2/2 [==============================] - 0s 6ms/step - loss: 11.0382 - mae: 11.0382\n",
            "Epoch 38/500\n",
            "2/2 [==============================] - 0s 6ms/step - loss: 18.1634 - mae: 18.1634\n",
            "Epoch 39/500\n",
            "2/2 [==============================] - 0s 6ms/step - loss: 19.1013 - mae: 19.1013\n",
            "Epoch 40/500\n",
            "2/2 [==============================] - 0s 6ms/step - loss: 20.4324 - mae: 20.4324\n",
            "Epoch 41/500\n",
            "2/2 [==============================] - 0s 6ms/step - loss: 14.9102 - mae: 14.9102\n",
            "Epoch 42/500\n",
            "2/2 [==============================] - 0s 6ms/step - loss: 12.2809 - mae: 12.2809\n",
            "Epoch 43/500\n",
            "2/2 [==============================] - 0s 6ms/step - loss: 10.7333 - mae: 10.7333\n",
            "Epoch 44/500\n",
            "2/2 [==============================] - 0s 6ms/step - loss: 23.0260 - mae: 23.0260\n",
            "Epoch 45/500\n",
            "2/2 [==============================] - 0s 7ms/step - loss: 10.3897 - mae: 10.3897\n",
            "Epoch 46/500\n",
            "2/2 [==============================] - 0s 6ms/step - loss: 11.7904 - mae: 11.7904\n",
            "Epoch 47/500\n",
            "2/2 [==============================] - 0s 6ms/step - loss: 9.6438 - mae: 9.6438\n",
            "Epoch 48/500\n",
            "2/2 [==============================] - 0s 6ms/step - loss: 17.2335 - mae: 17.2335\n",
            "Epoch 49/500\n",
            "2/2 [==============================] - 0s 5ms/step - loss: 9.5729 - mae: 9.5729\n",
            "Epoch 50/500\n",
            "2/2 [==============================] - 0s 6ms/step - loss: 13.8185 - mae: 13.8185\n",
            "Epoch 51/500\n",
            "2/2 [==============================] - 0s 6ms/step - loss: 11.5958 - mae: 11.5958\n",
            "Epoch 52/500\n",
            "2/2 [==============================] - 0s 6ms/step - loss: 30.5538 - mae: 30.5538\n",
            "Epoch 53/500\n",
            "2/2 [==============================] - 0s 7ms/step - loss: 14.3541 - mae: 14.3541\n",
            "Epoch 54/500\n",
            "2/2 [==============================] - 0s 7ms/step - loss: 23.9713 - mae: 23.9713\n",
            "Epoch 55/500\n",
            "2/2 [==============================] - 0s 7ms/step - loss: 23.1938 - mae: 23.1938\n",
            "Epoch 56/500\n",
            "2/2 [==============================] - 0s 6ms/step - loss: 10.8837 - mae: 10.8837\n",
            "Epoch 57/500\n",
            "2/2 [==============================] - 0s 6ms/step - loss: 12.7445 - mae: 12.7445\n",
            "Epoch 58/500\n",
            "2/2 [==============================] - 0s 6ms/step - loss: 9.5995 - mae: 9.5995\n",
            "Epoch 59/500\n",
            "2/2 [==============================] - 0s 6ms/step - loss: 12.5172 - mae: 12.5172\n",
            "Epoch 60/500\n",
            "2/2 [==============================] - 0s 6ms/step - loss: 12.3200 - mae: 12.3200\n",
            "Epoch 61/500\n",
            "2/2 [==============================] - 0s 6ms/step - loss: 17.4604 - mae: 17.4604\n",
            "Epoch 62/500\n",
            "2/2 [==============================] - 0s 7ms/step - loss: 10.6052 - mae: 10.6052\n",
            "Epoch 63/500\n",
            "2/2 [==============================] - 0s 6ms/step - loss: 10.4893 - mae: 10.4893\n",
            "Epoch 64/500\n",
            "2/2 [==============================] - 0s 6ms/step - loss: 24.8450 - mae: 24.8450\n",
            "Epoch 65/500\n",
            "2/2 [==============================] - 0s 6ms/step - loss: 10.6761 - mae: 10.6761\n",
            "Epoch 66/500\n",
            "2/2 [==============================] - 0s 6ms/step - loss: 21.7809 - mae: 21.7809\n",
            "Epoch 67/500\n",
            "2/2 [==============================] - 0s 7ms/step - loss: 10.7136 - mae: 10.7136\n",
            "Epoch 68/500\n",
            "2/2 [==============================] - 0s 7ms/step - loss: 10.6397 - mae: 10.6397\n",
            "Epoch 69/500\n",
            "2/2 [==============================] - 0s 6ms/step - loss: 22.6914 - mae: 22.6914\n",
            "Epoch 70/500\n",
            "2/2 [==============================] - 0s 6ms/step - loss: 9.3316 - mae: 9.3316\n",
            "Epoch 71/500\n",
            "2/2 [==============================] - 0s 6ms/step - loss: 15.4355 - mae: 15.4355\n",
            "Epoch 72/500\n",
            "2/2 [==============================] - 0s 6ms/step - loss: 6.7437 - mae: 6.7437\n",
            "Epoch 73/500\n",
            "2/2 [==============================] - 0s 6ms/step - loss: 11.6891 - mae: 11.6891\n",
            "Epoch 74/500\n",
            "2/2 [==============================] - 0s 6ms/step - loss: 24.0400 - mae: 24.0400\n",
            "Epoch 75/500\n",
            "2/2 [==============================] - 0s 6ms/step - loss: 9.5896 - mae: 9.5896\n",
            "Epoch 76/500\n",
            "2/2 [==============================] - 0s 6ms/step - loss: 12.4371 - mae: 12.4371\n",
            "Epoch 77/500\n",
            "2/2 [==============================] - 0s 6ms/step - loss: 16.6488 - mae: 16.6488\n",
            "Epoch 78/500\n",
            "2/2 [==============================] - 0s 6ms/step - loss: 9.0614 - mae: 9.0614\n",
            "Epoch 79/500\n",
            "2/2 [==============================] - 0s 7ms/step - loss: 23.9675 - mae: 23.9675\n",
            "Epoch 80/500\n",
            "2/2 [==============================] - 0s 12ms/step - loss: 26.7462 - mae: 26.7462\n",
            "Epoch 81/500\n",
            "2/2 [==============================] - 0s 5ms/step - loss: 11.6714 - mae: 11.6714\n",
            "Epoch 82/500\n",
            "2/2 [==============================] - 0s 6ms/step - loss: 12.0228 - mae: 12.0228\n",
            "Epoch 83/500\n",
            "2/2 [==============================] - 0s 7ms/step - loss: 17.4218 - mae: 17.4218\n",
            "Epoch 84/500\n",
            "2/2 [==============================] - 0s 6ms/step - loss: 7.2629 - mae: 7.2629\n",
            "Epoch 85/500\n",
            "2/2 [==============================] - 0s 6ms/step - loss: 14.9650 - mae: 14.9650\n",
            "Epoch 86/500\n",
            "2/2 [==============================] - 0s 6ms/step - loss: 15.2862 - mae: 15.2862\n",
            "Epoch 87/500\n",
            "2/2 [==============================] - 0s 7ms/step - loss: 19.1086 - mae: 19.1086\n",
            "Epoch 88/500\n",
            "2/2 [==============================] - 0s 7ms/step - loss: 29.8229 - mae: 29.8229\n",
            "Epoch 89/500\n",
            "2/2 [==============================] - 0s 7ms/step - loss: 10.1742 - mae: 10.1742\n",
            "Epoch 90/500\n",
            "2/2 [==============================] - 0s 6ms/step - loss: 21.5240 - mae: 21.5240\n",
            "Epoch 91/500\n",
            "2/2 [==============================] - 0s 7ms/step - loss: 10.5716 - mae: 10.5716\n",
            "Epoch 92/500\n",
            "2/2 [==============================] - 0s 7ms/step - loss: 18.3977 - mae: 18.3977\n",
            "Epoch 93/500\n",
            "2/2 [==============================] - 0s 6ms/step - loss: 7.4138 - mae: 7.4138\n",
            "Epoch 94/500\n",
            "2/2 [==============================] - 0s 6ms/step - loss: 17.7380 - mae: 17.7380\n",
            "Epoch 95/500\n",
            "2/2 [==============================] - 0s 6ms/step - loss: 11.1144 - mae: 11.1144\n",
            "Epoch 96/500\n",
            "2/2 [==============================] - 0s 6ms/step - loss: 19.4346 - mae: 19.4346\n",
            "Epoch 97/500\n",
            "2/2 [==============================] - 0s 6ms/step - loss: 12.1593 - mae: 12.1593\n",
            "Epoch 98/500\n",
            "2/2 [==============================] - 0s 10ms/step - loss: 11.5653 - mae: 11.5653\n",
            "Epoch 99/500\n",
            "2/2 [==============================] - 0s 6ms/step - loss: 13.8827 - mae: 13.8827\n",
            "Epoch 100/500\n",
            "2/2 [==============================] - 0s 6ms/step - loss: 20.2277 - mae: 20.2277\n",
            "Epoch 101/500\n",
            "2/2 [==============================] - 0s 7ms/step - loss: 11.4479 - mae: 11.4479\n",
            "Epoch 102/500\n",
            "2/2 [==============================] - 0s 6ms/step - loss: 17.4842 - mae: 17.4842\n",
            "Epoch 103/500\n",
            "2/2 [==============================] - 0s 12ms/step - loss: 7.0217 - mae: 7.0217\n",
            "Epoch 104/500\n",
            "2/2 [==============================] - 0s 6ms/step - loss: 23.5789 - mae: 23.5789\n",
            "Epoch 105/500\n",
            "2/2 [==============================] - 0s 6ms/step - loss: 16.8932 - mae: 16.8932\n",
            "Epoch 106/500\n",
            "2/2 [==============================] - 0s 7ms/step - loss: 9.2954 - mae: 9.2954\n",
            "Epoch 107/500\n",
            "2/2 [==============================] - 0s 6ms/step - loss: 25.3749 - mae: 25.3749\n",
            "Epoch 108/500\n",
            "2/2 [==============================] - 0s 6ms/step - loss: 13.4621 - mae: 13.4621\n",
            "Epoch 109/500\n",
            "2/2 [==============================] - 0s 6ms/step - loss: 9.5238 - mae: 9.5238\n",
            "Epoch 110/500\n",
            "2/2 [==============================] - 0s 6ms/step - loss: 9.6722 - mae: 9.6722\n",
            "Epoch 111/500\n",
            "2/2 [==============================] - 0s 6ms/step - loss: 14.5987 - mae: 14.5987\n",
            "Epoch 112/500\n",
            "2/2 [==============================] - 0s 7ms/step - loss: 9.5670 - mae: 9.5670\n",
            "Epoch 113/500\n",
            "2/2 [==============================] - 0s 6ms/step - loss: 17.8092 - mae: 17.8092\n",
            "Epoch 114/500\n",
            "2/2 [==============================] - 0s 7ms/step - loss: 17.1782 - mae: 17.1782\n",
            "Epoch 115/500\n",
            "2/2 [==============================] - 0s 7ms/step - loss: 11.1182 - mae: 11.1182\n",
            "Epoch 116/500\n",
            "2/2 [==============================] - 0s 7ms/step - loss: 23.3071 - mae: 23.3071\n",
            "Epoch 117/500\n",
            "2/2 [==============================] - 0s 6ms/step - loss: 9.6144 - mae: 9.6144\n",
            "Epoch 118/500\n",
            "2/2 [==============================] - 0s 7ms/step - loss: 10.6899 - mae: 10.6899\n",
            "Epoch 119/500\n",
            "2/2 [==============================] - 0s 6ms/step - loss: 8.0355 - mae: 8.0355\n",
            "Epoch 120/500\n",
            "2/2 [==============================] - 0s 6ms/step - loss: 29.6859 - mae: 29.6859\n",
            "Epoch 121/500\n",
            "2/2 [==============================] - 0s 8ms/step - loss: 8.0714 - mae: 8.0714\n",
            "Epoch 122/500\n",
            "2/2 [==============================] - 0s 5ms/step - loss: 28.3086 - mae: 28.3086\n",
            "Epoch 123/500\n",
            "2/2 [==============================] - 0s 6ms/step - loss: 32.9014 - mae: 32.9014\n",
            "Epoch 124/500\n",
            "2/2 [==============================] - 0s 6ms/step - loss: 19.6291 - mae: 19.6291\n",
            "Epoch 125/500\n",
            "2/2 [==============================] - 0s 5ms/step - loss: 7.0095 - mae: 7.0095\n",
            "Epoch 126/500\n",
            "2/2 [==============================] - 0s 8ms/step - loss: 21.8056 - mae: 21.8056\n",
            "Epoch 127/500\n",
            "2/2 [==============================] - 0s 7ms/step - loss: 7.9812 - mae: 7.9812\n",
            "Epoch 128/500\n",
            "2/2 [==============================] - 0s 6ms/step - loss: 21.0585 - mae: 21.0585\n",
            "Epoch 129/500\n",
            "2/2 [==============================] - 0s 7ms/step - loss: 9.0107 - mae: 9.0107\n",
            "Epoch 130/500\n",
            "2/2 [==============================] - 0s 6ms/step - loss: 24.0502 - mae: 24.0502\n",
            "Epoch 131/500\n",
            "2/2 [==============================] - 0s 7ms/step - loss: 9.7537 - mae: 9.7537\n",
            "Epoch 132/500\n",
            "2/2 [==============================] - 0s 7ms/step - loss: 18.3052 - mae: 18.3052\n",
            "Epoch 133/500\n",
            "2/2 [==============================] - 0s 11ms/step - loss: 7.5833 - mae: 7.5833\n",
            "Epoch 134/500\n",
            "2/2 [==============================] - 0s 6ms/step - loss: 18.5755 - mae: 18.5755\n",
            "Epoch 135/500\n",
            "2/2 [==============================] - 0s 6ms/step - loss: 10.5360 - mae: 10.5360\n",
            "Epoch 136/500\n",
            "2/2 [==============================] - 0s 12ms/step - loss: 18.2694 - mae: 18.2694\n",
            "Epoch 137/500\n",
            "2/2 [==============================] - 0s 4ms/step - loss: 23.1658 - mae: 23.1658\n",
            "Epoch 138/500\n",
            "2/2 [==============================] - 0s 7ms/step - loss: 9.1362 - mae: 9.1362\n",
            "Epoch 139/500\n",
            "2/2 [==============================] - 0s 7ms/step - loss: 8.9181 - mae: 8.9181\n",
            "Epoch 140/500\n",
            "2/2 [==============================] - 0s 6ms/step - loss: 16.4732 - mae: 16.4732\n",
            "Epoch 141/500\n",
            "2/2 [==============================] - 0s 4ms/step - loss: 8.4208 - mae: 8.4208\n",
            "Epoch 142/500\n",
            "2/2 [==============================] - 0s 6ms/step - loss: 36.9540 - mae: 36.9540\n",
            "Epoch 143/500\n",
            "2/2 [==============================] - 0s 6ms/step - loss: 25.5820 - mae: 25.5820\n",
            "Epoch 144/500\n",
            "2/2 [==============================] - 0s 6ms/step - loss: 9.5392 - mae: 9.5392\n",
            "Epoch 145/500\n",
            "2/2 [==============================] - 0s 7ms/step - loss: 26.6058 - mae: 26.6058\n",
            "Epoch 146/500\n",
            "2/2 [==============================] - 0s 6ms/step - loss: 8.7248 - mae: 8.7248\n",
            "Epoch 147/500\n",
            "2/2 [==============================] - 0s 9ms/step - loss: 15.6172 - mae: 15.6172\n",
            "Epoch 148/500\n",
            "2/2 [==============================] - 0s 7ms/step - loss: 18.3065 - mae: 18.3065\n",
            "Epoch 149/500\n",
            "2/2 [==============================] - 0s 7ms/step - loss: 8.1994 - mae: 8.1994\n",
            "Epoch 150/500\n",
            "2/2 [==============================] - 0s 7ms/step - loss: 7.4964 - mae: 7.4964\n",
            "Epoch 151/500\n",
            "2/2 [==============================] - 0s 7ms/step - loss: 18.3374 - mae: 18.3374\n",
            "Epoch 152/500\n",
            "2/2 [==============================] - 0s 7ms/step - loss: 10.2895 - mae: 10.2895\n",
            "Epoch 153/500\n",
            "2/2 [==============================] - 0s 6ms/step - loss: 29.6425 - mae: 29.6425\n",
            "Epoch 154/500\n",
            "2/2 [==============================] - 0s 6ms/step - loss: 10.5556 - mae: 10.5556\n",
            "Epoch 155/500\n",
            "2/2 [==============================] - 0s 6ms/step - loss: 15.4537 - mae: 15.4537\n",
            "Epoch 156/500\n",
            "2/2 [==============================] - 0s 7ms/step - loss: 17.0174 - mae: 17.0174\n",
            "Epoch 157/500\n",
            "2/2 [==============================] - 0s 7ms/step - loss: 32.8217 - mae: 32.8217\n",
            "Epoch 158/500\n",
            "2/2 [==============================] - 0s 6ms/step - loss: 10.7038 - mae: 10.7038\n",
            "Epoch 159/500\n",
            "2/2 [==============================] - 0s 7ms/step - loss: 8.9054 - mae: 8.9054\n",
            "Epoch 160/500\n",
            "2/2 [==============================] - 0s 8ms/step - loss: 22.1321 - mae: 22.1321\n",
            "Epoch 161/500\n",
            "2/2 [==============================] - 0s 7ms/step - loss: 11.7113 - mae: 11.7113\n",
            "Epoch 162/500\n",
            "2/2 [==============================] - 0s 7ms/step - loss: 21.5734 - mae: 21.5734\n",
            "Epoch 163/500\n",
            "2/2 [==============================] - 0s 6ms/step - loss: 19.2484 - mae: 19.2484\n",
            "Epoch 164/500\n",
            "2/2 [==============================] - 0s 7ms/step - loss: 11.0156 - mae: 11.0156\n",
            "Epoch 165/500\n",
            "2/2 [==============================] - 0s 7ms/step - loss: 9.6187 - mae: 9.6187\n",
            "Epoch 166/500\n",
            "2/2 [==============================] - 0s 7ms/step - loss: 21.5908 - mae: 21.5908\n",
            "Epoch 167/500\n",
            "2/2 [==============================] - 0s 7ms/step - loss: 26.2850 - mae: 26.2850\n",
            "Epoch 168/500\n",
            "2/2 [==============================] - 0s 6ms/step - loss: 9.8525 - mae: 9.8525\n",
            "Epoch 169/500\n",
            "2/2 [==============================] - 0s 8ms/step - loss: 22.5630 - mae: 22.5630\n",
            "Epoch 170/500\n",
            "2/2 [==============================] - 0s 7ms/step - loss: 10.1499 - mae: 10.1499\n",
            "Epoch 171/500\n",
            "2/2 [==============================] - 0s 7ms/step - loss: 18.0464 - mae: 18.0464\n",
            "Epoch 172/500\n",
            "2/2 [==============================] - 0s 7ms/step - loss: 28.8377 - mae: 28.8377\n",
            "Epoch 173/500\n",
            "2/2 [==============================] - 0s 7ms/step - loss: 16.5279 - mae: 16.5279\n",
            "Epoch 174/500\n",
            "2/2 [==============================] - 0s 7ms/step - loss: 11.2115 - mae: 11.2115\n",
            "Epoch 175/500\n",
            "2/2 [==============================] - 0s 7ms/step - loss: 27.5839 - mae: 27.5839\n",
            "Epoch 176/500\n",
            "2/2 [==============================] - 0s 9ms/step - loss: 8.2680 - mae: 8.2680\n",
            "Epoch 177/500\n",
            "2/2 [==============================] - 0s 6ms/step - loss: 9.2580 - mae: 9.2580\n",
            "Epoch 178/500\n",
            "2/2 [==============================] - 0s 7ms/step - loss: 18.1440 - mae: 18.1440\n",
            "Epoch 179/500\n",
            "2/2 [==============================] - 0s 6ms/step - loss: 10.5995 - mae: 10.5995\n",
            "Epoch 180/500\n",
            "2/2 [==============================] - 0s 7ms/step - loss: 7.8992 - mae: 7.8992\n",
            "Epoch 181/500\n",
            "2/2 [==============================] - 0s 6ms/step - loss: 17.4015 - mae: 17.4015\n",
            "Epoch 182/500\n",
            "2/2 [==============================] - 0s 8ms/step - loss: 11.0089 - mae: 11.0089\n",
            "Epoch 183/500\n",
            "2/2 [==============================] - 0s 7ms/step - loss: 11.7027 - mae: 11.7027\n",
            "Epoch 184/500\n",
            "2/2 [==============================] - 0s 5ms/step - loss: 30.4062 - mae: 30.4062\n",
            "Epoch 185/500\n",
            "2/2 [==============================] - 0s 6ms/step - loss: 7.5557 - mae: 7.5557\n",
            "Epoch 186/500\n",
            "2/2 [==============================] - 0s 5ms/step - loss: 15.9905 - mae: 15.9905\n",
            "Epoch 187/500\n",
            "2/2 [==============================] - 0s 7ms/step - loss: 8.5579 - mae: 8.5579\n",
            "Epoch 188/500\n",
            "2/2 [==============================] - 0s 5ms/step - loss: 28.7339 - mae: 28.7339\n",
            "Epoch 189/500\n",
            "2/2 [==============================] - 0s 7ms/step - loss: 13.1689 - mae: 13.1689\n",
            "Epoch 190/500\n",
            "2/2 [==============================] - 0s 9ms/step - loss: 18.3101 - mae: 18.3101\n",
            "Epoch 191/500\n",
            "2/2 [==============================] - 0s 8ms/step - loss: 13.7376 - mae: 13.7376\n",
            "Epoch 192/500\n",
            "2/2 [==============================] - 0s 7ms/step - loss: 13.7104 - mae: 13.7104\n",
            "Epoch 193/500\n",
            "2/2 [==============================] - 0s 6ms/step - loss: 28.5842 - mae: 28.5842\n",
            "Epoch 194/500\n",
            "2/2 [==============================] - 0s 7ms/step - loss: 7.0707 - mae: 7.0707\n",
            "Epoch 195/500\n",
            "2/2 [==============================] - 0s 9ms/step - loss: 7.0550 - mae: 7.0550\n",
            "Epoch 196/500\n",
            "2/2 [==============================] - 0s 8ms/step - loss: 22.0067 - mae: 22.0067\n",
            "Epoch 197/500\n",
            "2/2 [==============================] - 0s 7ms/step - loss: 20.8443 - mae: 20.8443\n",
            "Epoch 198/500\n",
            "2/2 [==============================] - 0s 9ms/step - loss: 12.4713 - mae: 12.4713\n",
            "Epoch 199/500\n",
            "2/2 [==============================] - 0s 7ms/step - loss: 17.9099 - mae: 17.9099\n",
            "Epoch 200/500\n",
            "2/2 [==============================] - 0s 7ms/step - loss: 13.7494 - mae: 13.7494\n",
            "Epoch 201/500\n",
            "2/2 [==============================] - 0s 7ms/step - loss: 5.4687 - mae: 5.4687\n",
            "Epoch 202/500\n",
            "2/2 [==============================] - 0s 6ms/step - loss: 13.7006 - mae: 13.7006\n",
            "Epoch 203/500\n",
            "2/2 [==============================] - 0s 7ms/step - loss: 9.4142 - mae: 9.4142\n",
            "Epoch 204/500\n",
            "2/2 [==============================] - 0s 6ms/step - loss: 20.9796 - mae: 20.9796\n",
            "Epoch 205/500\n",
            "2/2 [==============================] - 0s 7ms/step - loss: 9.5470 - mae: 9.5470\n",
            "Epoch 206/500\n",
            "2/2 [==============================] - 0s 7ms/step - loss: 11.7256 - mae: 11.7256\n",
            "Epoch 207/500\n",
            "2/2 [==============================] - 0s 14ms/step - loss: 14.3772 - mae: 14.3772\n",
            "Epoch 208/500\n",
            "2/2 [==============================] - 0s 8ms/step - loss: 14.8579 - mae: 14.8579\n",
            "Epoch 209/500\n",
            "2/2 [==============================] - 0s 6ms/step - loss: 14.9706 - mae: 14.9706\n",
            "Epoch 210/500\n",
            "2/2 [==============================] - 0s 8ms/step - loss: 17.8998 - mae: 17.8998\n",
            "Epoch 211/500\n",
            "2/2 [==============================] - 0s 7ms/step - loss: 9.8327 - mae: 9.8327\n",
            "Epoch 212/500\n",
            "2/2 [==============================] - 0s 13ms/step - loss: 18.3352 - mae: 18.3352\n",
            "Epoch 213/500\n",
            "2/2 [==============================] - 0s 13ms/step - loss: 15.0383 - mae: 15.0383\n",
            "Epoch 214/500\n",
            "2/2 [==============================] - 0s 7ms/step - loss: 14.5874 - mae: 14.5874\n",
            "Epoch 215/500\n",
            "2/2 [==============================] - 0s 7ms/step - loss: 23.3015 - mae: 23.3015\n",
            "Epoch 216/500\n",
            "2/2 [==============================] - 0s 7ms/step - loss: 13.3613 - mae: 13.3613\n",
            "Epoch 217/500\n",
            "2/2 [==============================] - 0s 7ms/step - loss: 9.8517 - mae: 9.8517\n",
            "Epoch 218/500\n",
            "2/2 [==============================] - 0s 7ms/step - loss: 12.5451 - mae: 12.5451\n",
            "Epoch 219/500\n",
            "2/2 [==============================] - 0s 6ms/step - loss: 4.9472 - mae: 4.9472\n",
            "Epoch 220/500\n",
            "2/2 [==============================] - 0s 7ms/step - loss: 7.1130 - mae: 7.1130\n",
            "Epoch 221/500\n",
            "2/2 [==============================] - 0s 7ms/step - loss: 35.4567 - mae: 35.4567\n",
            "Epoch 222/500\n",
            "2/2 [==============================] - 0s 7ms/step - loss: 34.8634 - mae: 34.8634\n",
            "Epoch 223/500\n",
            "2/2 [==============================] - 0s 7ms/step - loss: 7.9846 - mae: 7.9846\n",
            "Epoch 224/500\n",
            "2/2 [==============================] - 0s 7ms/step - loss: 14.7004 - mae: 14.7004\n",
            "Epoch 225/500\n",
            "2/2 [==============================] - 0s 8ms/step - loss: 16.7196 - mae: 16.7196\n",
            "Epoch 226/500\n",
            "2/2 [==============================] - 0s 7ms/step - loss: 15.9329 - mae: 15.9329\n",
            "Epoch 227/500\n",
            "2/2 [==============================] - 0s 7ms/step - loss: 16.1644 - mae: 16.1644\n",
            "Epoch 228/500\n",
            "2/2 [==============================] - 0s 7ms/step - loss: 13.9324 - mae: 13.9324\n",
            "Epoch 229/500\n",
            "2/2 [==============================] - 0s 7ms/step - loss: 18.0504 - mae: 18.0504\n",
            "Epoch 230/500\n",
            "2/2 [==============================] - 0s 7ms/step - loss: 15.6120 - mae: 15.6120\n",
            "Epoch 231/500\n",
            "2/2 [==============================] - 0s 7ms/step - loss: 21.2041 - mae: 21.2041\n",
            "Epoch 232/500\n",
            "2/2 [==============================] - 0s 8ms/step - loss: 25.2732 - mae: 25.2732\n",
            "Epoch 233/500\n",
            "2/2 [==============================] - 0s 7ms/step - loss: 16.3176 - mae: 16.3176\n",
            "Epoch 234/500\n",
            "2/2 [==============================] - 0s 7ms/step - loss: 7.2729 - mae: 7.2729\n",
            "Epoch 235/500\n",
            "2/2 [==============================] - 0s 7ms/step - loss: 16.9688 - mae: 16.9688\n",
            "Epoch 236/500\n",
            "2/2 [==============================] - 0s 7ms/step - loss: 7.1225 - mae: 7.1225\n",
            "Epoch 237/500\n",
            "2/2 [==============================] - 0s 7ms/step - loss: 9.2058 - mae: 9.2058\n",
            "Epoch 238/500\n",
            "2/2 [==============================] - 0s 7ms/step - loss: 8.0961 - mae: 8.0961\n",
            "Epoch 239/500\n",
            "2/2 [==============================] - 0s 7ms/step - loss: 17.0538 - mae: 17.0538\n",
            "Epoch 240/500\n",
            "2/2 [==============================] - 0s 7ms/step - loss: 8.8627 - mae: 8.8627\n",
            "Epoch 241/500\n",
            "2/2 [==============================] - 0s 7ms/step - loss: 13.1711 - mae: 13.1711\n",
            "Epoch 242/500\n",
            "2/2 [==============================] - 0s 7ms/step - loss: 8.7886 - mae: 8.7886\n",
            "Epoch 243/500\n",
            "2/2 [==============================] - 0s 6ms/step - loss: 18.8161 - mae: 18.8161\n",
            "Epoch 244/500\n",
            "2/2 [==============================] - 0s 6ms/step - loss: 14.0531 - mae: 14.0531\n",
            "Epoch 245/500\n",
            "2/2 [==============================] - 0s 7ms/step - loss: 14.6831 - mae: 14.6831\n",
            "Epoch 246/500\n",
            "2/2 [==============================] - 0s 7ms/step - loss: 15.8045 - mae: 15.8045\n",
            "Epoch 247/500\n",
            "2/2 [==============================] - 0s 8ms/step - loss: 17.6810 - mae: 17.6810\n",
            "Epoch 248/500\n",
            "2/2 [==============================] - 0s 8ms/step - loss: 13.2367 - mae: 13.2367\n",
            "Epoch 249/500\n",
            "2/2 [==============================] - 0s 7ms/step - loss: 14.5070 - mae: 14.5070\n",
            "Epoch 250/500\n",
            "2/2 [==============================] - 0s 8ms/step - loss: 23.2322 - mae: 23.2322\n",
            "Epoch 251/500\n",
            "2/2 [==============================] - 0s 7ms/step - loss: 9.3009 - mae: 9.3009\n",
            "Epoch 252/500\n",
            "2/2 [==============================] - 0s 7ms/step - loss: 36.6569 - mae: 36.6569\n",
            "Epoch 253/500\n",
            "2/2 [==============================] - 0s 7ms/step - loss: 21.8205 - mae: 21.8205\n",
            "Epoch 254/500\n",
            "2/2 [==============================] - 0s 7ms/step - loss: 7.2792 - mae: 7.2792\n",
            "Epoch 255/500\n",
            "2/2 [==============================] - 0s 7ms/step - loss: 24.7127 - mae: 24.7127\n",
            "Epoch 256/500\n",
            "2/2 [==============================] - 0s 7ms/step - loss: 12.4220 - mae: 12.4220\n",
            "Epoch 257/500\n",
            "2/2 [==============================] - 0s 7ms/step - loss: 10.5823 - mae: 10.5823\n",
            "Epoch 258/500\n",
            "2/2 [==============================] - 0s 7ms/step - loss: 14.4883 - mae: 14.4883\n",
            "Epoch 259/500\n",
            "2/2 [==============================] - 0s 8ms/step - loss: 8.6132 - mae: 8.6132\n",
            "Epoch 260/500\n",
            "2/2 [==============================] - 0s 7ms/step - loss: 43.0580 - mae: 43.0580\n",
            "Epoch 261/500\n",
            "2/2 [==============================] - 0s 7ms/step - loss: 18.4611 - mae: 18.4611\n",
            "Epoch 262/500\n",
            "2/2 [==============================] - 0s 7ms/step - loss: 6.8820 - mae: 6.8820\n",
            "Epoch 263/500\n",
            "2/2 [==============================] - 0s 8ms/step - loss: 13.7211 - mae: 13.7211\n",
            "Epoch 264/500\n",
            "2/2 [==============================] - 0s 7ms/step - loss: 21.0154 - mae: 21.0154\n",
            "Epoch 265/500\n",
            "2/2 [==============================] - 0s 7ms/step - loss: 19.3731 - mae: 19.3731\n",
            "Epoch 266/500\n",
            "2/2 [==============================] - 0s 8ms/step - loss: 11.4735 - mae: 11.4735\n",
            "Epoch 267/500\n",
            "2/2 [==============================] - 0s 8ms/step - loss: 7.5302 - mae: 7.5302\n",
            "Epoch 268/500\n",
            "2/2 [==============================] - 0s 7ms/step - loss: 21.6453 - mae: 21.6453\n",
            "Epoch 269/500\n",
            "2/2 [==============================] - 0s 7ms/step - loss: 33.1785 - mae: 33.1785\n",
            "Epoch 270/500\n",
            "2/2 [==============================] - 0s 7ms/step - loss: 10.0833 - mae: 10.0833\n",
            "Epoch 271/500\n",
            "2/2 [==============================] - 0s 7ms/step - loss: 12.1012 - mae: 12.1012\n",
            "Epoch 272/500\n",
            "2/2 [==============================] - 0s 5ms/step - loss: 26.1372 - mae: 26.1372\n",
            "Epoch 273/500\n",
            "2/2 [==============================] - 0s 5ms/step - loss: 12.1751 - mae: 12.1751\n",
            "Epoch 274/500\n",
            "2/2 [==============================] - 0s 6ms/step - loss: 13.3272 - mae: 13.3272\n",
            "Epoch 275/500\n",
            "2/2 [==============================] - 0s 7ms/step - loss: 29.3775 - mae: 29.3775\n",
            "Epoch 276/500\n",
            "2/2 [==============================] - 0s 7ms/step - loss: 7.3329 - mae: 7.3329\n",
            "Epoch 277/500\n",
            "2/2 [==============================] - 0s 8ms/step - loss: 31.1362 - mae: 31.1362\n",
            "Epoch 278/500\n",
            "2/2 [==============================] - 0s 7ms/step - loss: 12.3015 - mae: 12.3015\n",
            "Epoch 279/500\n",
            "2/2 [==============================] - 0s 7ms/step - loss: 16.4103 - mae: 16.4103\n",
            "Epoch 280/500\n",
            "2/2 [==============================] - 0s 7ms/step - loss: 21.9118 - mae: 21.9118\n",
            "Epoch 281/500\n",
            "2/2 [==============================] - 0s 7ms/step - loss: 22.1500 - mae: 22.1500\n",
            "Epoch 282/500\n",
            "2/2 [==============================] - 0s 8ms/step - loss: 7.7429 - mae: 7.7429\n",
            "Epoch 283/500\n",
            "2/2 [==============================] - 0s 7ms/step - loss: 8.1429 - mae: 8.1429\n",
            "Epoch 284/500\n",
            "2/2 [==============================] - 0s 7ms/step - loss: 24.9435 - mae: 24.9435\n",
            "Epoch 285/500\n",
            "2/2 [==============================] - 0s 8ms/step - loss: 13.6958 - mae: 13.6958\n",
            "Epoch 286/500\n",
            "2/2 [==============================] - 0s 8ms/step - loss: 6.8926 - mae: 6.8926\n",
            "Epoch 287/500\n",
            "2/2 [==============================] - 0s 9ms/step - loss: 24.5352 - mae: 24.5352\n",
            "Epoch 288/500\n",
            "2/2 [==============================] - 0s 7ms/step - loss: 20.1721 - mae: 20.1721\n",
            "Epoch 289/500\n",
            "2/2 [==============================] - 0s 8ms/step - loss: 11.9658 - mae: 11.9658\n",
            "Epoch 290/500\n",
            "2/2 [==============================] - 0s 7ms/step - loss: 16.5391 - mae: 16.5391\n",
            "Epoch 291/500\n",
            "2/2 [==============================] - 0s 8ms/step - loss: 16.8017 - mae: 16.8017\n",
            "Epoch 292/500\n",
            "2/2 [==============================] - 0s 8ms/step - loss: 9.4642 - mae: 9.4642\n",
            "Epoch 293/500\n",
            "2/2 [==============================] - 0s 8ms/step - loss: 15.2711 - mae: 15.2711\n",
            "Epoch 294/500\n",
            "2/2 [==============================] - 0s 8ms/step - loss: 22.7179 - mae: 22.7179\n",
            "Epoch 295/500\n",
            "2/2 [==============================] - 0s 6ms/step - loss: 17.9234 - mae: 17.9234\n",
            "Epoch 296/500\n",
            "2/2 [==============================] - 0s 8ms/step - loss: 6.1743 - mae: 6.1743\n",
            "Epoch 297/500\n",
            "2/2 [==============================] - 0s 8ms/step - loss: 10.9440 - mae: 10.9440\n",
            "Epoch 298/500\n",
            "2/2 [==============================] - 0s 8ms/step - loss: 23.1530 - mae: 23.1530\n",
            "Epoch 299/500\n",
            "2/2 [==============================] - 0s 8ms/step - loss: 17.7331 - mae: 17.7331\n",
            "Epoch 300/500\n",
            "2/2 [==============================] - 0s 8ms/step - loss: 6.9824 - mae: 6.9824\n",
            "Epoch 301/500\n",
            "2/2 [==============================] - 0s 8ms/step - loss: 25.1857 - mae: 25.1857\n",
            "Epoch 302/500\n",
            "2/2 [==============================] - 0s 7ms/step - loss: 8.9025 - mae: 8.9025\n",
            "Epoch 303/500\n",
            "2/2 [==============================] - 0s 8ms/step - loss: 17.7668 - mae: 17.7668\n",
            "Epoch 304/500\n",
            "2/2 [==============================] - 0s 8ms/step - loss: 11.0002 - mae: 11.0002\n",
            "Epoch 305/500\n",
            "2/2 [==============================] - 0s 7ms/step - loss: 12.9191 - mae: 12.9191\n",
            "Epoch 306/500\n",
            "2/2 [==============================] - 0s 8ms/step - loss: 8.4033 - mae: 8.4033\n",
            "Epoch 307/500\n",
            "2/2 [==============================] - 0s 8ms/step - loss: 13.6094 - mae: 13.6094\n",
            "Epoch 308/500\n",
            "2/2 [==============================] - 0s 5ms/step - loss: 7.4404 - mae: 7.4404\n",
            "Epoch 309/500\n",
            "2/2 [==============================] - 0s 5ms/step - loss: 9.4642 - mae: 9.4642\n",
            "Epoch 310/500\n",
            "2/2 [==============================] - 0s 8ms/step - loss: 10.7099 - mae: 10.7099\n",
            "Epoch 311/500\n",
            "2/2 [==============================] - 0s 5ms/step - loss: 13.2814 - mae: 13.2814\n",
            "Epoch 312/500\n",
            "2/2 [==============================] - 0s 5ms/step - loss: 29.9763 - mae: 29.9763\n",
            "Epoch 313/500\n",
            "2/2 [==============================] - 0s 6ms/step - loss: 7.6304 - mae: 7.6304\n",
            "Epoch 314/500\n",
            "2/2 [==============================] - 0s 5ms/step - loss: 9.9106 - mae: 9.9106\n",
            "Epoch 315/500\n",
            "2/2 [==============================] - 0s 8ms/step - loss: 23.7669 - mae: 23.7669\n",
            "Epoch 316/500\n",
            "2/2 [==============================] - 0s 6ms/step - loss: 16.3936 - mae: 16.3936\n",
            "Epoch 317/500\n",
            "2/2 [==============================] - 0s 4ms/step - loss: 21.0758 - mae: 21.0758\n",
            "Epoch 318/500\n",
            "2/2 [==============================] - 0s 5ms/step - loss: 7.9367 - mae: 7.9367\n",
            "Epoch 319/500\n",
            "2/2 [==============================] - 0s 6ms/step - loss: 17.9731 - mae: 17.9731\n",
            "Epoch 320/500\n",
            "2/2 [==============================] - 0s 13ms/step - loss: 10.2375 - mae: 10.2375\n",
            "Epoch 321/500\n",
            "2/2 [==============================] - 0s 6ms/step - loss: 8.3338 - mae: 8.3338\n",
            "Epoch 322/500\n",
            "2/2 [==============================] - 0s 9ms/step - loss: 5.0621 - mae: 5.0621\n",
            "Epoch 323/500\n",
            "2/2 [==============================] - 0s 5ms/step - loss: 23.5109 - mae: 23.5109\n",
            "Epoch 324/500\n",
            "2/2 [==============================] - 0s 7ms/step - loss: 6.8309 - mae: 6.8309\n",
            "Epoch 325/500\n",
            "2/2 [==============================] - 0s 10ms/step - loss: 16.3862 - mae: 16.3862\n",
            "Epoch 326/500\n",
            "2/2 [==============================] - 0s 4ms/step - loss: 7.5019 - mae: 7.5019\n",
            "Epoch 327/500\n",
            "2/2 [==============================] - 0s 9ms/step - loss: 20.0573 - mae: 20.0573\n",
            "Epoch 328/500\n",
            "2/2 [==============================] - 0s 6ms/step - loss: 13.7661 - mae: 13.7661\n",
            "Epoch 329/500\n",
            "2/2 [==============================] - 0s 5ms/step - loss: 16.8282 - mae: 16.8282\n",
            "Epoch 330/500\n",
            "2/2 [==============================] - 0s 7ms/step - loss: 7.0514 - mae: 7.0514\n",
            "Epoch 331/500\n",
            "2/2 [==============================] - 0s 6ms/step - loss: 21.4846 - mae: 21.4846\n",
            "Epoch 332/500\n",
            "2/2 [==============================] - 0s 6ms/step - loss: 12.2880 - mae: 12.2880\n",
            "Epoch 333/500\n",
            "2/2 [==============================] - 0s 8ms/step - loss: 11.8117 - mae: 11.8117\n",
            "Epoch 334/500\n",
            "2/2 [==============================] - 0s 8ms/step - loss: 8.3600 - mae: 8.3600\n",
            "Epoch 335/500\n",
            "2/2 [==============================] - 0s 10ms/step - loss: 12.4833 - mae: 12.4833\n",
            "Epoch 336/500\n",
            "2/2 [==============================] - 0s 6ms/step - loss: 32.2171 - mae: 32.2171\n",
            "Epoch 337/500\n",
            "2/2 [==============================] - 0s 5ms/step - loss: 10.4477 - mae: 10.4477\n",
            "Epoch 338/500\n",
            "2/2 [==============================] - 0s 5ms/step - loss: 19.6832 - mae: 19.6832\n",
            "Epoch 339/500\n",
            "2/2 [==============================] - 0s 7ms/step - loss: 35.0762 - mae: 35.0762\n",
            "Epoch 340/500\n",
            "2/2 [==============================] - 0s 8ms/step - loss: 10.4192 - mae: 10.4192\n",
            "Epoch 341/500\n",
            "2/2 [==============================] - 0s 7ms/step - loss: 9.7625 - mae: 9.7625\n",
            "Epoch 342/500\n",
            "2/2 [==============================] - 0s 9ms/step - loss: 11.9500 - mae: 11.9500\n",
            "Epoch 343/500\n",
            "2/2 [==============================] - 0s 8ms/step - loss: 9.3943 - mae: 9.3943\n",
            "Epoch 344/500\n",
            "2/2 [==============================] - 0s 10ms/step - loss: 5.6071 - mae: 5.6071\n",
            "Epoch 345/500\n",
            "2/2 [==============================] - 0s 8ms/step - loss: 37.4875 - mae: 37.4875\n",
            "Epoch 346/500\n",
            "2/2 [==============================] - 0s 7ms/step - loss: 16.8830 - mae: 16.8830\n",
            "Epoch 347/500\n",
            "2/2 [==============================] - 0s 7ms/step - loss: 12.8748 - mae: 12.8748\n",
            "Epoch 348/500\n",
            "2/2 [==============================] - 0s 7ms/step - loss: 8.1960 - mae: 8.1960\n",
            "Epoch 349/500\n",
            "2/2 [==============================] - 0s 8ms/step - loss: 13.5568 - mae: 13.5568\n",
            "Epoch 350/500\n",
            "2/2 [==============================] - 0s 6ms/step - loss: 15.4354 - mae: 15.4354\n",
            "Epoch 351/500\n",
            "2/2 [==============================] - 0s 6ms/step - loss: 32.9626 - mae: 32.9626\n",
            "Epoch 352/500\n",
            "2/2 [==============================] - 0s 7ms/step - loss: 14.2040 - mae: 14.2040\n",
            "Epoch 353/500\n",
            "2/2 [==============================] - 0s 7ms/step - loss: 15.9196 - mae: 15.9196\n",
            "Epoch 354/500\n",
            "2/2 [==============================] - 0s 6ms/step - loss: 19.0878 - mae: 19.0878\n",
            "Epoch 355/500\n",
            "2/2 [==============================] - 0s 4ms/step - loss: 34.1178 - mae: 34.1178\n",
            "Epoch 356/500\n",
            "2/2 [==============================] - 0s 6ms/step - loss: 7.6798 - mae: 7.6798\n",
            "Epoch 357/500\n",
            "2/2 [==============================] - 0s 6ms/step - loss: 25.2286 - mae: 25.2286\n",
            "Epoch 358/500\n",
            "2/2 [==============================] - 0s 4ms/step - loss: 22.6759 - mae: 22.6759\n",
            "Epoch 359/500\n",
            "2/2 [==============================] - 0s 5ms/step - loss: 8.8765 - mae: 8.8765\n",
            "Epoch 360/500\n",
            "2/2 [==============================] - 0s 7ms/step - loss: 21.4709 - mae: 21.4709\n",
            "Epoch 361/500\n",
            "2/2 [==============================] - 0s 9ms/step - loss: 20.6073 - mae: 20.6073\n",
            "Epoch 362/500\n",
            "2/2 [==============================] - 0s 6ms/step - loss: 7.0611 - mae: 7.0611\n",
            "Epoch 363/500\n",
            "2/2 [==============================] - 0s 8ms/step - loss: 25.8117 - mae: 25.8117\n",
            "Epoch 364/500\n",
            "2/2 [==============================] - 0s 7ms/step - loss: 32.2247 - mae: 32.2247\n",
            "Epoch 365/500\n",
            "2/2 [==============================] - 0s 5ms/step - loss: 10.0204 - mae: 10.0204\n",
            "Epoch 366/500\n",
            "2/2 [==============================] - 0s 8ms/step - loss: 9.6722 - mae: 9.6722\n",
            "Epoch 367/500\n",
            "2/2 [==============================] - 0s 8ms/step - loss: 30.4171 - mae: 30.4171\n",
            "Epoch 368/500\n",
            "2/2 [==============================] - 0s 7ms/step - loss: 10.5020 - mae: 10.5020\n",
            "Epoch 369/500\n",
            "2/2 [==============================] - 0s 6ms/step - loss: 14.9909 - mae: 14.9909\n",
            "Epoch 370/500\n",
            "2/2 [==============================] - 0s 7ms/step - loss: 14.6580 - mae: 14.6580\n",
            "Epoch 371/500\n",
            "2/2 [==============================] - 0s 8ms/step - loss: 23.3672 - mae: 23.3672\n",
            "Epoch 372/500\n",
            "2/2 [==============================] - 0s 8ms/step - loss: 13.1025 - mae: 13.1025\n",
            "Epoch 373/500\n",
            "2/2 [==============================] - 0s 6ms/step - loss: 9.2586 - mae: 9.2586\n",
            "Epoch 374/500\n",
            "2/2 [==============================] - 0s 9ms/step - loss: 9.6648 - mae: 9.6648\n",
            "Epoch 375/500\n",
            "2/2 [==============================] - 0s 10ms/step - loss: 13.0041 - mae: 13.0041\n",
            "Epoch 376/500\n",
            "2/2 [==============================] - 0s 8ms/step - loss: 14.8863 - mae: 14.8863\n",
            "Epoch 377/500\n",
            "2/2 [==============================] - 0s 9ms/step - loss: 14.7932 - mae: 14.7932\n",
            "Epoch 378/500\n",
            "2/2 [==============================] - 0s 8ms/step - loss: 16.2751 - mae: 16.2751\n",
            "Epoch 379/500\n",
            "2/2 [==============================] - 0s 8ms/step - loss: 20.8307 - mae: 20.8307\n",
            "Epoch 380/500\n",
            "2/2 [==============================] - 0s 9ms/step - loss: 33.5317 - mae: 33.5317\n",
            "Epoch 381/500\n",
            "2/2 [==============================] - 0s 5ms/step - loss: 8.2166 - mae: 8.2166\n",
            "Epoch 382/500\n",
            "2/2 [==============================] - 0s 5ms/step - loss: 13.0959 - mae: 13.0959\n",
            "Epoch 383/500\n",
            "2/2 [==============================] - 0s 5ms/step - loss: 8.3999 - mae: 8.3999\n",
            "Epoch 384/500\n",
            "2/2 [==============================] - 0s 7ms/step - loss: 7.1283 - mae: 7.1283\n",
            "Epoch 385/500\n",
            "2/2 [==============================] - 0s 6ms/step - loss: 10.9391 - mae: 10.9391\n",
            "Epoch 386/500\n",
            "2/2 [==============================] - 0s 6ms/step - loss: 19.7654 - mae: 19.7654\n",
            "Epoch 387/500\n",
            "2/2 [==============================] - 0s 6ms/step - loss: 24.8625 - mae: 24.8625\n",
            "Epoch 388/500\n",
            "2/2 [==============================] - 0s 7ms/step - loss: 8.7422 - mae: 8.7422\n",
            "Epoch 389/500\n",
            "2/2 [==============================] - 0s 9ms/step - loss: 5.9488 - mae: 5.9488\n",
            "Epoch 390/500\n",
            "2/2 [==============================] - 0s 8ms/step - loss: 24.4400 - mae: 24.4400\n",
            "Epoch 391/500\n",
            "2/2 [==============================] - 0s 8ms/step - loss: 5.9771 - mae: 5.9771\n",
            "Epoch 392/500\n",
            "2/2 [==============================] - 0s 7ms/step - loss: 16.3250 - mae: 16.3250\n",
            "Epoch 393/500\n",
            "2/2 [==============================] - 0s 5ms/step - loss: 6.0917 - mae: 6.0917\n",
            "Epoch 394/500\n",
            "2/2 [==============================] - 0s 7ms/step - loss: 11.0963 - mae: 11.0963\n",
            "Epoch 395/500\n",
            "2/2 [==============================] - 0s 6ms/step - loss: 14.9601 - mae: 14.9601\n",
            "Epoch 396/500\n",
            "2/2 [==============================] - 0s 6ms/step - loss: 7.6462 - mae: 7.6462\n",
            "Epoch 397/500\n",
            "2/2 [==============================] - 0s 5ms/step - loss: 8.7654 - mae: 8.7654\n",
            "Epoch 398/500\n",
            "2/2 [==============================] - 0s 4ms/step - loss: 14.5991 - mae: 14.5991\n",
            "Epoch 399/500\n",
            "2/2 [==============================] - 0s 5ms/step - loss: 11.3166 - mae: 11.3166\n",
            "Epoch 400/500\n",
            "2/2 [==============================] - 0s 5ms/step - loss: 21.9080 - mae: 21.9080\n",
            "Epoch 401/500\n",
            "2/2 [==============================] - 0s 4ms/step - loss: 14.8653 - mae: 14.8653\n",
            "Epoch 402/500\n",
            "2/2 [==============================] - 0s 5ms/step - loss: 8.4970 - mae: 8.4970\n",
            "Epoch 403/500\n",
            "2/2 [==============================] - 0s 19ms/step - loss: 10.3957 - mae: 10.3957\n",
            "Epoch 404/500\n",
            "2/2 [==============================] - 0s 8ms/step - loss: 10.2556 - mae: 10.2556\n",
            "Epoch 405/500\n",
            "2/2 [==============================] - 0s 9ms/step - loss: 6.3392 - mae: 6.3392\n",
            "Epoch 406/500\n",
            "2/2 [==============================] - 0s 6ms/step - loss: 17.4602 - mae: 17.4602\n",
            "Epoch 407/500\n",
            "2/2 [==============================] - 0s 6ms/step - loss: 11.4627 - mae: 11.4627\n",
            "Epoch 408/500\n",
            "2/2 [==============================] - 0s 7ms/step - loss: 20.7294 - mae: 20.7294\n",
            "Epoch 409/500\n",
            "2/2 [==============================] - 0s 11ms/step - loss: 31.3338 - mae: 31.3338\n",
            "Epoch 410/500\n",
            "2/2 [==============================] - 0s 6ms/step - loss: 9.2542 - mae: 9.2542\n",
            "Epoch 411/500\n",
            "2/2 [==============================] - 0s 7ms/step - loss: 14.8621 - mae: 14.8621\n",
            "Epoch 412/500\n",
            "2/2 [==============================] - 0s 8ms/step - loss: 21.7182 - mae: 21.7182\n",
            "Epoch 413/500\n",
            "2/2 [==============================] - 0s 7ms/step - loss: 12.6615 - mae: 12.6615\n",
            "Epoch 414/500\n",
            "2/2 [==============================] - 0s 6ms/step - loss: 6.0687 - mae: 6.0687\n",
            "Epoch 415/500\n",
            "2/2 [==============================] - 0s 5ms/step - loss: 13.2201 - mae: 13.2201\n",
            "Epoch 416/500\n",
            "2/2 [==============================] - 0s 9ms/step - loss: 27.4244 - mae: 27.4244\n",
            "Epoch 417/500\n",
            "2/2 [==============================] - 0s 5ms/step - loss: 10.6407 - mae: 10.6407\n",
            "Epoch 418/500\n",
            "2/2 [==============================] - 0s 8ms/step - loss: 12.8230 - mae: 12.8230\n",
            "Epoch 419/500\n",
            "2/2 [==============================] - 0s 7ms/step - loss: 15.8836 - mae: 15.8836\n",
            "Epoch 420/500\n",
            "2/2 [==============================] - 0s 14ms/step - loss: 24.7510 - mae: 24.7510\n",
            "Epoch 421/500\n",
            "2/2 [==============================] - 0s 6ms/step - loss: 17.3753 - mae: 17.3753\n",
            "Epoch 422/500\n",
            "2/2 [==============================] - 0s 7ms/step - loss: 7.8241 - mae: 7.8241\n",
            "Epoch 423/500\n",
            "2/2 [==============================] - 0s 5ms/step - loss: 25.3789 - mae: 25.3789\n",
            "Epoch 424/500\n",
            "2/2 [==============================] - 0s 8ms/step - loss: 15.1031 - mae: 15.1031\n",
            "Epoch 425/500\n",
            "2/2 [==============================] - 0s 9ms/step - loss: 7.1643 - mae: 7.1643\n",
            "Epoch 426/500\n",
            "2/2 [==============================] - 0s 8ms/step - loss: 20.3318 - mae: 20.3318\n",
            "Epoch 427/500\n",
            "2/2 [==============================] - 0s 8ms/step - loss: 6.3283 - mae: 6.3283\n",
            "Epoch 428/500\n",
            "2/2 [==============================] - 0s 6ms/step - loss: 12.9961 - mae: 12.9961\n",
            "Epoch 429/500\n",
            "2/2 [==============================] - 0s 5ms/step - loss: 10.7869 - mae: 10.7869\n",
            "Epoch 430/500\n",
            "2/2 [==============================] - 0s 4ms/step - loss: 11.4007 - mae: 11.4007\n",
            "Epoch 431/500\n",
            "2/2 [==============================] - 0s 4ms/step - loss: 10.6152 - mae: 10.6152\n",
            "Epoch 432/500\n",
            "2/2 [==============================] - 0s 12ms/step - loss: 11.4582 - mae: 11.4582\n",
            "Epoch 433/500\n",
            "2/2 [==============================] - 0s 6ms/step - loss: 11.3851 - mae: 11.3851\n",
            "Epoch 434/500\n",
            "2/2 [==============================] - 0s 5ms/step - loss: 30.3986 - mae: 30.3986\n",
            "Epoch 435/500\n",
            "2/2 [==============================] - 0s 16ms/step - loss: 10.5052 - mae: 10.5052\n",
            "Epoch 436/500\n",
            "2/2 [==============================] - 0s 4ms/step - loss: 28.8810 - mae: 28.8810\n",
            "Epoch 437/500\n",
            "2/2 [==============================] - 0s 7ms/step - loss: 8.5916 - mae: 8.5916\n",
            "Epoch 438/500\n",
            "2/2 [==============================] - 0s 4ms/step - loss: 12.7378 - mae: 12.7378\n",
            "Epoch 439/500\n",
            "2/2 [==============================] - 0s 6ms/step - loss: 33.6754 - mae: 33.6754\n",
            "Epoch 440/500\n",
            "2/2 [==============================] - 0s 5ms/step - loss: 15.0963 - mae: 15.0963\n",
            "Epoch 441/500\n",
            "2/2 [==============================] - 0s 4ms/step - loss: 17.4813 - mae: 17.4813\n",
            "Epoch 442/500\n",
            "2/2 [==============================] - 0s 5ms/step - loss: 22.3049 - mae: 22.3049\n",
            "Epoch 443/500\n",
            "2/2 [==============================] - 0s 4ms/step - loss: 23.5841 - mae: 23.5841\n",
            "Epoch 444/500\n",
            "2/2 [==============================] - 0s 6ms/step - loss: 11.0008 - mae: 11.0008\n",
            "Epoch 445/500\n",
            "2/2 [==============================] - 0s 5ms/step - loss: 14.9175 - mae: 14.9175\n",
            "Epoch 446/500\n",
            "2/2 [==============================] - 0s 9ms/step - loss: 17.9979 - mae: 17.9979\n",
            "Epoch 447/500\n",
            "2/2 [==============================] - 0s 5ms/step - loss: 5.4482 - mae: 5.4482\n",
            "Epoch 448/500\n",
            "2/2 [==============================] - 0s 8ms/step - loss: 10.0527 - mae: 10.0527\n",
            "Epoch 449/500\n",
            "2/2 [==============================] - 0s 5ms/step - loss: 14.0052 - mae: 14.0052\n",
            "Epoch 450/500\n",
            "2/2 [==============================] - 0s 8ms/step - loss: 16.7782 - mae: 16.7782\n",
            "Epoch 451/500\n",
            "2/2 [==============================] - 0s 7ms/step - loss: 14.2937 - mae: 14.2937\n",
            "Epoch 452/500\n",
            "2/2 [==============================] - 0s 8ms/step - loss: 30.6193 - mae: 30.6193\n",
            "Epoch 453/500\n",
            "2/2 [==============================] - 0s 6ms/step - loss: 7.6541 - mae: 7.6541\n",
            "Epoch 454/500\n",
            "2/2 [==============================] - 0s 6ms/step - loss: 28.1428 - mae: 28.1428\n",
            "Epoch 455/500\n",
            "2/2 [==============================] - 0s 6ms/step - loss: 8.0017 - mae: 8.0017\n",
            "Epoch 456/500\n",
            "2/2 [==============================] - 0s 4ms/step - loss: 10.3933 - mae: 10.3933\n",
            "Epoch 457/500\n",
            "2/2 [==============================] - 0s 7ms/step - loss: 15.0242 - mae: 15.0242\n",
            "Epoch 458/500\n",
            "2/2 [==============================] - 0s 7ms/step - loss: 16.5653 - mae: 16.5653\n",
            "Epoch 459/500\n",
            "2/2 [==============================] - 0s 6ms/step - loss: 26.8566 - mae: 26.8566\n",
            "Epoch 460/500\n",
            "2/2 [==============================] - 0s 9ms/step - loss: 12.4852 - mae: 12.4852\n",
            "Epoch 461/500\n",
            "2/2 [==============================] - 0s 7ms/step - loss: 12.4784 - mae: 12.4784\n",
            "Epoch 462/500\n",
            "2/2 [==============================] - 0s 9ms/step - loss: 13.3186 - mae: 13.3186\n",
            "Epoch 463/500\n",
            "2/2 [==============================] - 0s 5ms/step - loss: 29.5524 - mae: 29.5524\n",
            "Epoch 464/500\n",
            "2/2 [==============================] - 0s 7ms/step - loss: 3.4664 - mae: 3.4664\n",
            "Epoch 465/500\n",
            "2/2 [==============================] - 0s 6ms/step - loss: 15.2136 - mae: 15.2136\n",
            "Epoch 466/500\n",
            "2/2 [==============================] - 0s 5ms/step - loss: 20.8327 - mae: 20.8327\n",
            "Epoch 467/500\n",
            "2/2 [==============================] - 0s 5ms/step - loss: 30.5108 - mae: 30.5108\n",
            "Epoch 468/500\n",
            "2/2 [==============================] - 0s 4ms/step - loss: 11.0597 - mae: 11.0597\n",
            "Epoch 469/500\n",
            "2/2 [==============================] - 0s 6ms/step - loss: 12.8372 - mae: 12.8372\n",
            "Epoch 470/500\n",
            "2/2 [==============================] - 0s 5ms/step - loss: 3.2398 - mae: 3.2398\n",
            "Epoch 471/500\n",
            "2/2 [==============================] - 0s 4ms/step - loss: 16.6964 - mae: 16.6964\n",
            "Epoch 472/500\n",
            "2/2 [==============================] - 0s 5ms/step - loss: 13.3883 - mae: 13.3883\n",
            "Epoch 473/500\n",
            "2/2 [==============================] - 0s 6ms/step - loss: 15.2771 - mae: 15.2771\n",
            "Epoch 474/500\n",
            "2/2 [==============================] - 0s 5ms/step - loss: 11.7448 - mae: 11.7448\n",
            "Epoch 475/500\n",
            "2/2 [==============================] - 0s 4ms/step - loss: 16.4113 - mae: 16.4113\n",
            "Epoch 476/500\n",
            "2/2 [==============================] - 0s 5ms/step - loss: 13.8785 - mae: 13.8785\n",
            "Epoch 477/500\n",
            "2/2 [==============================] - 0s 17ms/step - loss: 30.6702 - mae: 30.6702\n",
            "Epoch 478/500\n",
            "2/2 [==============================] - 0s 24ms/step - loss: 8.5880 - mae: 8.5880\n",
            "Epoch 479/500\n",
            "2/2 [==============================] - 0s 9ms/step - loss: 10.7384 - mae: 10.7384\n",
            "Epoch 480/500\n",
            "2/2 [==============================] - 0s 5ms/step - loss: 17.9051 - mae: 17.9051\n",
            "Epoch 481/500\n",
            "2/2 [==============================] - 0s 7ms/step - loss: 15.8095 - mae: 15.8095\n",
            "Epoch 482/500\n",
            "2/2 [==============================] - 0s 9ms/step - loss: 21.3054 - mae: 21.3054\n",
            "Epoch 483/500\n",
            "2/2 [==============================] - 0s 8ms/step - loss: 25.3845 - mae: 25.3845\n",
            "Epoch 484/500\n",
            "2/2 [==============================] - 0s 7ms/step - loss: 23.9815 - mae: 23.9815\n",
            "Epoch 485/500\n",
            "2/2 [==============================] - 0s 4ms/step - loss: 5.7734 - mae: 5.7734\n",
            "Epoch 486/500\n",
            "2/2 [==============================] - 0s 7ms/step - loss: 20.0010 - mae: 20.0010\n",
            "Epoch 487/500\n",
            "2/2 [==============================] - 0s 4ms/step - loss: 14.0419 - mae: 14.0419\n",
            "Epoch 488/500\n",
            "2/2 [==============================] - 0s 4ms/step - loss: 30.6088 - mae: 30.6088\n",
            "Epoch 489/500\n",
            "2/2 [==============================] - 0s 7ms/step - loss: 11.9409 - mae: 11.9409\n",
            "Epoch 490/500\n",
            "2/2 [==============================] - 0s 8ms/step - loss: 12.7352 - mae: 12.7352\n",
            "Epoch 491/500\n",
            "2/2 [==============================] - 0s 4ms/step - loss: 23.6139 - mae: 23.6139\n",
            "Epoch 492/500\n",
            "2/2 [==============================] - 0s 5ms/step - loss: 20.5365 - mae: 20.5365\n",
            "Epoch 493/500\n",
            "2/2 [==============================] - 0s 8ms/step - loss: 4.9942 - mae: 4.9942\n",
            "Epoch 494/500\n",
            "2/2 [==============================] - 0s 6ms/step - loss: 12.7986 - mae: 12.7986\n",
            "Epoch 495/500\n",
            "2/2 [==============================] - 0s 5ms/step - loss: 13.3772 - mae: 13.3772\n",
            "Epoch 496/500\n",
            "2/2 [==============================] - 0s 6ms/step - loss: 12.6727 - mae: 12.6727\n",
            "Epoch 497/500\n",
            "2/2 [==============================] - 0s 5ms/step - loss: 17.6192 - mae: 17.6192\n",
            "Epoch 498/500\n",
            "2/2 [==============================] - 0s 5ms/step - loss: 23.5629 - mae: 23.5629\n",
            "Epoch 499/500\n",
            "2/2 [==============================] - 0s 8ms/step - loss: 9.3755 - mae: 9.3755\n",
            "Epoch 500/500\n",
            "2/2 [==============================] - 0s 6ms/step - loss: 14.6316 - mae: 14.6316\n"
          ]
        },
        {
          "output_type": "execute_result",
          "data": {
            "text/plain": [
              "<keras.callbacks.History at 0x7f4e3ae4c210>"
            ]
          },
          "metadata": {},
          "execution_count": 146
        }
      ]
    },
    {
      "cell_type": "code",
      "source": [
        "# Make and plot predictions for model_3\n",
        "y_preds_3 = model_3.predict(X_test)\n",
        "plot_predictions(predictions=y_preds_3)"
      ],
      "metadata": {
        "colab": {
          "base_uri": "https://localhost:8080/",
          "height": 0
        },
        "id": "D261VTCxdcIp",
        "outputId": "f8e50e9f-69b9-4e1d-fc46-ff1e2b05021d"
      },
      "execution_count": 147,
      "outputs": [
        {
          "output_type": "display_data",
          "data": {
            "text/plain": [
              "<Figure size 720x504 with 1 Axes>"
            ],
            "image/png": "[encoded data removed]"
          },
          "metadata": {
            "needs_background": "light"
          }
        }
      ]
    },
    {
      "cell_type": "code",
      "source": [
        "# Calculate model_3 evaluation metrics\n",
        "mae_3 = mae(y_test, tf.squeeze(y_preds_3))\n",
        "mse_3 = mse(y_test, tf.squeeze(y_preds_3))\n",
        "mae_3, mse_3"
      ],
      "metadata": {
        "colab": {
          "base_uri": "https://localhost:8080/"
        },
        "id": "WFC1Mq3adjTA",
        "outputId": "f81f392e-82a2-4686-d2e3-07f3c2345d0d"
      },
      "execution_count": 148,
      "outputs": [
        {
          "output_type": "execute_result",
          "data": {
            "text/plain": [
              "(<tf.Tensor: shape=(), dtype=float32, numpy=68.71362>,\n",
              " <tf.Tensor: shape=(), dtype=float32, numpy=4808.0283>)"
            ]
          },
          "metadata": {},
          "execution_count": 148
        }
      ]
    },
    {
      "cell_type": "markdown",
      "source": [
        "## Comparing the results of our experiments"
      ],
      "metadata": {
        "id": "lD1fnuoBd67I"
      }
    },
    {
      "cell_type": "code",
      "source": [
        "# Compare our model's results using a pandas DataFrame\n",
        "import pandas as pd\n",
        "\n",
        "model_results = [[\"model_1\", mae_1.numpy(), mse_1.numpy()],\n",
        "                 [\"model_2\", mae_2.numpy(), mse_2.numpy()],\n",
        "                 [\"model_3\", mae_3.numpy(), mse_3.numpy()]]\n",
        "\n",
        "all_results = pd.DataFrame(model_results, columns=[\"model\", \"MAE\", \"MSE\"])\n",
        "all_results"
      ],
      "metadata": {
        "colab": {
          "base_uri": "https://localhost:8080/",
          "height": 0
        },
        "id": "2vDXS9k1eZXL",
        "outputId": "1f380f3d-fdda-422b-894e-a9f3cd7037ae"
      },
      "execution_count": 149,
      "outputs": [
        {
          "output_type": "execute_result",
          "data": {
            "text/plain": [
              "     model        MAE          MSE\n",
              "0  model_1  18.745327   353.573395\n",
              "1  model_2   3.196947    13.070175\n",
              "2  model_3  68.713623  4808.028320"
            ],
            "text/html": [
              "\n",
              "  <div id=\"df-c76080d3-9fe7-4465-8e16-dcc34d2b6b4c\">\n",
              "    <div class=\"colab-df-container\">\n",
              "      <div>\n",
              "<style scoped>\n",
              "    .dataframe tbody tr th:only-of-type {\n",
              "        vertical-align: middle;\n",
              "    }\n",
              "\n",
              "    .dataframe tbody tr th {\n",
              "        vertical-align: top;\n",
              "    }\n",
              "\n",
              "    .dataframe thead th {\n",
              "        text-align: right;\n",
              "    }\n",
              "</style>\n",
              "<table border=\"1\" class=\"dataframe\">\n",
              "  <thead>\n",
              "    <tr style=\"text-align: right;\">\n",
              "      <th></th>\n",
              "      <th>model</th>\n",
              "      <th>MAE</th>\n",
              "      <th>MSE</th>\n",
              "    </tr>\n",
              "  </thead>\n",
              "  <tbody>\n",
              "    <tr>\n",
              "      <th>0</th>\n",
              "      <td>model_1</td>\n",
              "      <td>18.745327</td>\n",
              "      <td>353.573395</td>\n",
              "    </tr>\n",
              "    <tr>\n",
              "      <th>1</th>\n",
              "      <td>model_2</td>\n",
              "      <td>3.196947</td>\n",
              "      <td>13.070175</td>\n",
              "    </tr>\n",
              "    <tr>\n",
              "      <th>2</th>\n",
              "      <td>model_3</td>\n",
              "      <td>68.713623</td>\n",
              "      <td>4808.028320</td>\n",
              "    </tr>\n",
              "  </tbody>\n",
              "</table>\n",
              "</div>\n",
              "      <button class=\"colab-df-convert\" onclick=\"convertToInteractive('df-c76080d3-9fe7-4465-8e16-dcc34d2b6b4c')\"\n",
              "              title=\"Convert this dataframe to an interactive table.\"\n",
              "              style=\"display:none;\">\n",
              "        \n",
              "  <svg xmlns=\"http://www.w3.org/2000/svg\" height=\"24px\"viewBox=\"0 0 24 24\"\n",
              "       width=\"24px\">\n",
              "    <path d=\"M0 0h24v24H0V0z\" fill=\"none\"/>\n",
              "    <path d=\"M18.56 5.44l.94 2.06.94-2.06 2.06-.94-2.06-.94-.94-2.06-.94 2.06-2.06.94zm-11 1L8.5 8.5l.94-2.06 2.06-.94-2.06-.94L8.5 2.5l-.94 2.06-2.06.94zm10 10l.94 2.06.94-2.06 2.06-.94-2.06-.94-.94-2.06-.94 2.06-2.06.94z\"/><path d=\"M17.41 7.96l-1.37-1.37c-.4-.4-.92-.59-1.43-.59-.52 0-1.04.2-1.43.59L10.3 9.45l-7.72 7.72c-.78.78-.78 2.05 0 2.83L4 21.41c.39.39.9.59 1.41.59.51 0 1.02-.2 1.41-.59l7.78-7.78 2.81-2.81c.8-.78.8-2.07 0-2.86zM5.41 20L4 18.59l7.72-7.72 1.47 1.35L5.41 20z\"/>\n",
              "  </svg>\n",
              "      </button>\n",
              "      \n",
              "  <style>\n",
              "    .colab-df-container {\n",
              "      display:flex;\n",
              "      flex-wrap:wrap;\n",
              "      gap: 12px;\n",
              "    }\n",
              "\n",
              "    .colab-df-convert {\n",
              "      background-color: #E8F0FE;\n",
              "      border: none;\n",
              "      border-radius: 50%;\n",
              "      cursor: pointer;\n",
              "      display: none;\n",
              "      fill: #1967D2;\n",
              "      height: 32px;\n",
              "      padding: 0 0 0 0;\n",
              "      width: 32px;\n",
              "    }\n",
              "\n",
              "    .colab-df-convert:hover {\n",
              "      background-color: #E2EBFA;\n",
              "      box-shadow: 0px 1px 2px rgba(60, 64, 67, 0.3), 0px 1px 3px 1px rgba(60, 64, 67, 0.15);\n",
              "      fill: #174EA6;\n",
              "    }\n",
              "\n",
              "    [theme=dark] .colab-df-convert {\n",
              "      background-color: #3B4455;\n",
              "      fill: #D2E3FC;\n",
              "    }\n",
              "\n",
              "    [theme=dark] .colab-df-convert:hover {\n",
              "      background-color: #434B5C;\n",
              "      box-shadow: 0px 1px 3px 1px rgba(0, 0, 0, 0.15);\n",
              "      filter: drop-shadow(0px 1px 2px rgba(0, 0, 0, 0.3));\n",
              "      fill: #FFFFFF;\n",
              "    }\n",
              "  </style>\n",
              "\n",
              "      <script>\n",
              "        const buttonEl =\n",
              "          document.querySelector('#df-c76080d3-9fe7-4465-8e16-dcc34d2b6b4c button.colab-df-convert');\n",
              "        buttonEl.style.display =\n",
              "          google.colab.kernel.accessAllowed ? 'block' : 'none';\n",
              "\n",
              "        async function convertToInteractive(key) {\n",
              "          const element = document.querySelector('#df-c76080d3-9fe7-4465-8e16-dcc34d2b6b4c');\n",
              "          const dataTable =\n",
              "            await google.colab.kernel.invokeFunction('convertToInteractive',\n",
              "                                                     [key], {});\n",
              "          if (!dataTable) return;\n",
              "\n",
              "          const docLinkHtml = 'Like what you see? Visit the ' +\n",
              "            '<a target=\"_blank\" href=https://colab.research.google.com/notebooks/data_table.ipynb>data table notebook</a>'\n",
              "            + ' to learn more about interactive tables.';\n",
              "          element.innerHTML = '';\n",
              "          dataTable['output_type'] = 'display_data';\n",
              "          await google.colab.output.renderOutput(dataTable, element);\n",
              "          const docLink = document.createElement('div');\n",
              "          docLink.innerHTML = docLinkHtml;\n",
              "          element.appendChild(docLink);\n",
              "        }\n",
              "      </script>\n",
              "    </div>\n",
              "  </div>\n",
              "  "
            ]
          },
          "metadata": {},
          "execution_count": 149
        }
      ]
    },
    {
      "cell_type": "markdown",
      "source": [
        "From above we can conclude that `model_2` performed thee best..."
      ],
      "metadata": {
        "id": "HXYNbx8tj8EM"
      }
    },
    {
      "cell_type": "code",
      "source": [
        "model_2.summary()"
      ],
      "metadata": {
        "colab": {
          "base_uri": "https://localhost:8080/"
        },
        "id": "hTRg98VxiWXC",
        "outputId": "719e9139-af33-4046-f94a-6ffb16da5c8c"
      },
      "execution_count": 150,
      "outputs": [
        {
          "output_type": "stream",
          "name": "stdout",
          "text": [
            "Model: \"sequential_19\"\n",
            "_________________________________________________________________\n",
            " Layer (type)                Output Shape              Param #   \n",
            "=================================================================\n",
            " dense_36 (Dense)            (None, 10)                20        \n",
            "                                                                 \n",
            " dense_37 (Dense)            (None, 1)                 11        \n",
            "                                                                 \n",
            "=================================================================\n",
            "Total params: 31\n",
            "Trainable params: 31\n",
            "Non-trainable params: 0\n",
            "_________________________________________________________________\n"
          ]
        }
      ]
    },
    {
      "cell_type": "markdown",
      "source": [
        "## Tracking your experiments\n",
        "\n",
        "As we build more models, we might wanna look into using:\n",
        "* TensorBoard - a component of the TensorFlow library to help track modelling experiments\n",
        "\n",
        "* Weights & Biases - tool for tracking all kinds of ML experiments"
      ],
      "metadata": {
        "id": "eNGitoyPjs3k"
      }
    },
    {
      "cell_type": "markdown",
      "source": [
        "## Saving our models\n",
        "\n",
        "1. SavedModel format\n",
        "2. HDF5 format"
      ],
      "metadata": {
        "id": "hCegVBgzljsL"
      }
    },
    {
      "cell_type": "code",
      "source": [
        "# Save model (SavedModel format)\n",
        "model_2.save(\"model_2_in_01_notebook\")"
      ],
      "metadata": {
        "colab": {
          "base_uri": "https://localhost:8080/"
        },
        "id": "inp7QtSYl8r9",
        "outputId": "5d4fd863-ede7-4504-f1cc-2dffec9d604d"
      },
      "execution_count": 151,
      "outputs": [
        {
          "output_type": "stream",
          "name": "stdout",
          "text": [
            "INFO:tensorflow:Assets written to: model_2_in_01_notebook/assets\n"
          ]
        }
      ]
    },
    {
      "cell_type": "code",
      "source": [
        "# Save model (HDF5 format)\n",
        "model_2.save(\"model_2_in_01_notebook_HDF5_format.h5\")"
      ],
      "metadata": {
        "id": "GqXp_aCvukZP"
      },
      "execution_count": 152,
      "outputs": []
    },
    {
      "cell_type": "markdown",
      "source": [
        "## Loading in a saved model"
      ],
      "metadata": {
        "id": "W2UHyomiw7_6"
      }
    },
    {
      "cell_type": "code",
      "source": [
        "# Load in the SavedModel format model\n",
        "loaded_SavedModel_format = tf.keras.models.load_model(\"/content/model_2_in_01_notebook\")\n",
        "loaded_SavedModel_format.summary()"
      ],
      "metadata": {
        "colab": {
          "base_uri": "https://localhost:8080/"
        },
        "id": "keQVHgUux7uk",
        "outputId": "9c98f992-25f3-46ed-d36b-4f87ed173714"
      },
      "execution_count": 153,
      "outputs": [
        {
          "output_type": "stream",
          "name": "stdout",
          "text": [
            "Model: \"sequential_19\"\n",
            "_________________________________________________________________\n",
            " Layer (type)                Output Shape              Param #   \n",
            "=================================================================\n",
            " dense_36 (Dense)            (None, 10)                20        \n",
            "                                                                 \n",
            " dense_37 (Dense)            (None, 1)                 11        \n",
            "                                                                 \n",
            "=================================================================\n",
            "Total params: 31\n",
            "Trainable params: 31\n",
            "Non-trainable params: 0\n",
            "_________________________________________________________________\n"
          ]
        }
      ]
    },
    {
      "cell_type": "code",
      "source": [
        "model_2.summary()"
      ],
      "metadata": {
        "colab": {
          "base_uri": "https://localhost:8080/"
        },
        "id": "ikmcCgZrycyT",
        "outputId": "4b909cec-b915-4466-a207-baa4bc5ecd50"
      },
      "execution_count": 154,
      "outputs": [
        {
          "output_type": "stream",
          "name": "stdout",
          "text": [
            "Model: \"sequential_19\"\n",
            "_________________________________________________________________\n",
            " Layer (type)                Output Shape              Param #   \n",
            "=================================================================\n",
            " dense_36 (Dense)            (None, 10)                20        \n",
            "                                                                 \n",
            " dense_37 (Dense)            (None, 1)                 11        \n",
            "                                                                 \n",
            "=================================================================\n",
            "Total params: 31\n",
            "Trainable params: 31\n",
            "Non-trainable params: 0\n",
            "_________________________________________________________________\n"
          ]
        }
      ]
    },
    {
      "cell_type": "code",
      "source": [
        "# Compare model_2 predictions with SavedModel format model predictions\n",
        "model_2_preds = model_2.predict(X_test)\n",
        "loaded_SavedModel_format_preds = loaded_SavedModel_format.predict(X_test)\n",
        "model_2_preds == loaded_SavedModel_format_preds"
      ],
      "metadata": {
        "colab": {
          "base_uri": "https://localhost:8080/"
        },
        "id": "onMueVcgyjj0",
        "outputId": "6b011683-de03-480e-c102-eb99fc05e9b9"
      },
      "execution_count": 155,
      "outputs": [
        {
          "output_type": "execute_result",
          "data": {
            "text/plain": [
              "array([[ True],\n",
              "       [ True],\n",
              "       [ True],\n",
              "       [ True],\n",
              "       [ True],\n",
              "       [ True],\n",
              "       [ True],\n",
              "       [ True],\n",
              "       [ True],\n",
              "       [ True]])"
            ]
          },
          "metadata": {},
          "execution_count": 155
        }
      ]
    },
    {
      "cell_type": "code",
      "source": [
        "# Load in the H5 format model\n",
        "loaded_h5_model = tf.keras.models.load_model(\"/content/model_2_in_01_notebook_HDF5_format.h5\")\n",
        "loaded_h5_model.summary()"
      ],
      "metadata": {
        "colab": {
          "base_uri": "https://localhost:8080/"
        },
        "id": "Gb8GIfn74SF2",
        "outputId": "3484d31d-03a6-4008-de75-fde5be9bf60b"
      },
      "execution_count": 156,
      "outputs": [
        {
          "output_type": "stream",
          "name": "stdout",
          "text": [
            "Model: \"sequential_19\"\n",
            "_________________________________________________________________\n",
            " Layer (type)                Output Shape              Param #   \n",
            "=================================================================\n",
            " dense_36 (Dense)            (None, 10)                20        \n",
            "                                                                 \n",
            " dense_37 (Dense)            (None, 1)                 11        \n",
            "                                                                 \n",
            "=================================================================\n",
            "Total params: 31\n",
            "Trainable params: 31\n",
            "Non-trainable params: 0\n",
            "_________________________________________________________________\n"
          ]
        }
      ]
    },
    {
      "cell_type": "code",
      "source": [
        "model_2.summary()"
      ],
      "metadata": {
        "colab": {
          "base_uri": "https://localhost:8080/"
        },
        "id": "msVPspUL5Oiu",
        "outputId": "65f7bd93-1c9e-4b65-b7fe-b4c53dd5e0f8"
      },
      "execution_count": 157,
      "outputs": [
        {
          "output_type": "stream",
          "name": "stdout",
          "text": [
            "Model: \"sequential_19\"\n",
            "_________________________________________________________________\n",
            " Layer (type)                Output Shape              Param #   \n",
            "=================================================================\n",
            " dense_36 (Dense)            (None, 10)                20        \n",
            "                                                                 \n",
            " dense_37 (Dense)            (None, 1)                 11        \n",
            "                                                                 \n",
            "=================================================================\n",
            "Total params: 31\n",
            "Trainable params: 31\n",
            "Non-trainable params: 0\n",
            "_________________________________________________________________\n"
          ]
        }
      ]
    },
    {
      "cell_type": "code",
      "source": [
        "# Compare model_2 predictions with h5 format model predictions\n",
        "model_2_preds = model_2.predict(X_test)\n",
        "loaded_h5_model_preds = loaded_h5_model.predict(X_test)\n",
        "model_2_preds == loaded_h5_model_preds"
      ],
      "metadata": {
        "colab": {
          "base_uri": "https://localhost:8080/"
        },
        "id": "j9bZJB_w5TZN",
        "outputId": "38a88bf1-b0a1-4499-bfbc-355ec16c53cc"
      },
      "execution_count": 158,
      "outputs": [
        {
          "output_type": "execute_result",
          "data": {
            "text/plain": [
              "array([[ True],\n",
              "       [ True],\n",
              "       [ True],\n",
              "       [ True],\n",
              "       [ True],\n",
              "       [ True],\n",
              "       [ True],\n",
              "       [ True],\n",
              "       [ True],\n",
              "       [ True]])"
            ]
          },
          "metadata": {},
          "execution_count": 158
        }
      ]
    },
    {
      "cell_type": "markdown",
      "source": [
        "## A larger example"
      ],
      "metadata": {
        "id": "3neIsDfG5p90"
      }
    },
    {
      "cell_type": "code",
      "source": [
        "# Import required libraries\n",
        "import tensorflow as tf\n",
        "from tensorflow.keras.layers import Dense\n",
        "import pandas as pd\n",
        "import matplotlib.pyplot as plt"
      ],
      "metadata": {
        "id": "huPHa-WF8490"
      },
      "execution_count": 159,
      "outputs": []
    },
    {
      "cell_type": "code",
      "source": [
        "# Read in the insurance dataset\n",
        "insurance = pd.read_csv('https://raw.githubusercontent.com/stedy/Machine-Learning-with-R-datasets/master/insurance.csv')\n",
        "insurance"
      ],
      "metadata": {
        "colab": {
          "base_uri": "https://localhost:8080/",
          "height": 423
        },
        "id": "jGkCdwri_XXN",
        "outputId": "0ff48564-efd2-4695-91b5-fe9130f872b2"
      },
      "execution_count": 160,
      "outputs": [
        {
          "output_type": "execute_result",
          "data": {
            "text/plain": [
              "      age     sex     bmi  children smoker     region      charges\n",
              "0      19  female  27.900         0    yes  southwest  16884.92400\n",
              "1      18    male  33.770         1     no  southeast   1725.55230\n",
              "2      28    male  33.000         3     no  southeast   4449.46200\n",
              "3      33    male  22.705         0     no  northwest  21984.47061\n",
              "4      32    male  28.880         0     no  northwest   3866.85520\n",
              "...   ...     ...     ...       ...    ...        ...          ...\n",
              "1333   50    male  30.970         3     no  northwest  10600.54830\n",
              "1334   18  female  31.920         0     no  northeast   2205.98080\n",
              "1335   18  female  36.850         0     no  southeast   1629.83350\n",
              "1336   21  female  25.800         0     no  southwest   2007.94500\n",
              "1337   61  female  29.070         0    yes  northwest  29141.36030\n",
              "\n",
              "[1338 rows x 7 columns]"
            ],
            "text/html": [
              "\n",
              "  <div id=\"df-52e3143e-81fd-49fd-9531-4b7c70e241af\">\n",
              "    <div class=\"colab-df-container\">\n",
              "      <div>\n",
              "<style scoped>\n",
              "    .dataframe tbody tr th:only-of-type {\n",
              "        vertical-align: middle;\n",
              "    }\n",
              "\n",
              "    .dataframe tbody tr th {\n",
              "        vertical-align: top;\n",
              "    }\n",
              "\n",
              "    .dataframe thead th {\n",
              "        text-align: right;\n",
              "    }\n",
              "</style>\n",
              "<table border=\"1\" class=\"dataframe\">\n",
              "  <thead>\n",
              "    <tr style=\"text-align: right;\">\n",
              "      <th></th>\n",
              "      <th>age</th>\n",
              "      <th>sex</th>\n",
              "      <th>bmi</th>\n",
              "      <th>children</th>\n",
              "      <th>smoker</th>\n",
              "      <th>region</th>\n",
              "      <th>charges</th>\n",
              "    </tr>\n",
              "  </thead>\n",
              "  <tbody>\n",
              "    <tr>\n",
              "      <th>0</th>\n",
              "      <td>19</td>\n",
              "      <td>female</td>\n",
              "      <td>27.900</td>\n",
              "      <td>0</td>\n",
              "      <td>yes</td>\n",
              "      <td>southwest</td>\n",
              "      <td>16884.92400</td>\n",
              "    </tr>\n",
              "    <tr>\n",
              "      <th>1</th>\n",
              "      <td>18</td>\n",
              "      <td>male</td>\n",
              "      <td>33.770</td>\n",
              "      <td>1</td>\n",
              "      <td>no</td>\n",
              "      <td>southeast</td>\n",
              "      <td>1725.55230</td>\n",
              "    </tr>\n",
              "    <tr>\n",
              "      <th>2</th>\n",
              "      <td>28</td>\n",
              "      <td>male</td>\n",
              "      <td>33.000</td>\n",
              "      <td>3</td>\n",
              "      <td>no</td>\n",
              "      <td>southeast</td>\n",
              "      <td>4449.46200</td>\n",
              "    </tr>\n",
              "    <tr>\n",
              "      <th>3</th>\n",
              "      <td>33</td>\n",
              "      <td>male</td>\n",
              "      <td>22.705</td>\n",
              "      <td>0</td>\n",
              "      <td>no</td>\n",
              "      <td>northwest</td>\n",
              "      <td>21984.47061</td>\n",
              "    </tr>\n",
              "    <tr>\n",
              "      <th>4</th>\n",
              "      <td>32</td>\n",
              "      <td>male</td>\n",
              "      <td>28.880</td>\n",
              "      <td>0</td>\n",
              "      <td>no</td>\n",
              "      <td>northwest</td>\n",
              "      <td>3866.85520</td>\n",
              "    </tr>\n",
              "    <tr>\n",
              "      <th>...</th>\n",
              "      <td>...</td>\n",
              "      <td>...</td>\n",
              "      <td>...</td>\n",
              "      <td>...</td>\n",
              "      <td>...</td>\n",
              "      <td>...</td>\n",
              "      <td>...</td>\n",
              "    </tr>\n",
              "    <tr>\n",
              "      <th>1333</th>\n",
              "      <td>50</td>\n",
              "      <td>male</td>\n",
              "      <td>30.970</td>\n",
              "      <td>3</td>\n",
              "      <td>no</td>\n",
              "      <td>northwest</td>\n",
              "      <td>10600.54830</td>\n",
              "    </tr>\n",
              "    <tr>\n",
              "      <th>1334</th>\n",
              "      <td>18</td>\n",
              "      <td>female</td>\n",
              "      <td>31.920</td>\n",
              "      <td>0</td>\n",
              "      <td>no</td>\n",
              "      <td>northeast</td>\n",
              "      <td>2205.98080</td>\n",
              "    </tr>\n",
              "    <tr>\n",
              "      <th>1335</th>\n",
              "      <td>18</td>\n",
              "      <td>female</td>\n",
              "      <td>36.850</td>\n",
              "      <td>0</td>\n",
              "      <td>no</td>\n",
              "      <td>southeast</td>\n",
              "      <td>1629.83350</td>\n",
              "    </tr>\n",
              "    <tr>\n",
              "      <th>1336</th>\n",
              "      <td>21</td>\n",
              "      <td>female</td>\n",
              "      <td>25.800</td>\n",
              "      <td>0</td>\n",
              "      <td>no</td>\n",
              "      <td>southwest</td>\n",
              "      <td>2007.94500</td>\n",
              "    </tr>\n",
              "    <tr>\n",
              "      <th>1337</th>\n",
              "      <td>61</td>\n",
              "      <td>female</td>\n",
              "      <td>29.070</td>\n",
              "      <td>0</td>\n",
              "      <td>yes</td>\n",
              "      <td>northwest</td>\n",
              "      <td>29141.36030</td>\n",
              "    </tr>\n",
              "  </tbody>\n",
              "</table>\n",
              "<p>1338 rows × 7 columns</p>\n",
              "</div>\n",
              "      <button class=\"colab-df-convert\" onclick=\"convertToInteractive('df-52e3143e-81fd-49fd-9531-4b7c70e241af')\"\n",
              "              title=\"Convert this dataframe to an interactive table.\"\n",
              "              style=\"display:none;\">\n",
              "        \n",
              "  <svg xmlns=\"http://www.w3.org/2000/svg\" height=\"24px\"viewBox=\"0 0 24 24\"\n",
              "       width=\"24px\">\n",
              "    <path d=\"M0 0h24v24H0V0z\" fill=\"none\"/>\n",
              "    <path d=\"M18.56 5.44l.94 2.06.94-2.06 2.06-.94-2.06-.94-.94-2.06-.94 2.06-2.06.94zm-11 1L8.5 8.5l.94-2.06 2.06-.94-2.06-.94L8.5 2.5l-.94 2.06-2.06.94zm10 10l.94 2.06.94-2.06 2.06-.94-2.06-.94-.94-2.06-.94 2.06-2.06.94z\"/><path d=\"M17.41 7.96l-1.37-1.37c-.4-.4-.92-.59-1.43-.59-.52 0-1.04.2-1.43.59L10.3 9.45l-7.72 7.72c-.78.78-.78 2.05 0 2.83L4 21.41c.39.39.9.59 1.41.59.51 0 1.02-.2 1.41-.59l7.78-7.78 2.81-2.81c.8-.78.8-2.07 0-2.86zM5.41 20L4 18.59l7.72-7.72 1.47 1.35L5.41 20z\"/>\n",
              "  </svg>\n",
              "      </button>\n",
              "      \n",
              "  <style>\n",
              "    .colab-df-container {\n",
              "      display:flex;\n",
              "      flex-wrap:wrap;\n",
              "      gap: 12px;\n",
              "    }\n",
              "\n",
              "    .colab-df-convert {\n",
              "      background-color: #E8F0FE;\n",
              "      border: none;\n",
              "      border-radius: 50%;\n",
              "      cursor: pointer;\n",
              "      display: none;\n",
              "      fill: #1967D2;\n",
              "      height: 32px;\n",
              "      padding: 0 0 0 0;\n",
              "      width: 32px;\n",
              "    }\n",
              "\n",
              "    .colab-df-convert:hover {\n",
              "      background-color: #E2EBFA;\n",
              "      box-shadow: 0px 1px 2px rgba(60, 64, 67, 0.3), 0px 1px 3px 1px rgba(60, 64, 67, 0.15);\n",
              "      fill: #174EA6;\n",
              "    }\n",
              "\n",
              "    [theme=dark] .colab-df-convert {\n",
              "      background-color: #3B4455;\n",
              "      fill: #D2E3FC;\n",
              "    }\n",
              "\n",
              "    [theme=dark] .colab-df-convert:hover {\n",
              "      background-color: #434B5C;\n",
              "      box-shadow: 0px 1px 3px 1px rgba(0, 0, 0, 0.15);\n",
              "      filter: drop-shadow(0px 1px 2px rgba(0, 0, 0, 0.3));\n",
              "      fill: #FFFFFF;\n",
              "    }\n",
              "  </style>\n",
              "\n",
              "      <script>\n",
              "        const buttonEl =\n",
              "          document.querySelector('#df-52e3143e-81fd-49fd-9531-4b7c70e241af button.colab-df-convert');\n",
              "        buttonEl.style.display =\n",
              "          google.colab.kernel.accessAllowed ? 'block' : 'none';\n",
              "\n",
              "        async function convertToInteractive(key) {\n",
              "          const element = document.querySelector('#df-52e3143e-81fd-49fd-9531-4b7c70e241af');\n",
              "          const dataTable =\n",
              "            await google.colab.kernel.invokeFunction('convertToInteractive',\n",
              "                                                     [key], {});\n",
              "          if (!dataTable) return;\n",
              "\n",
              "          const docLinkHtml = 'Like what you see? Visit the ' +\n",
              "            '<a target=\"_blank\" href=https://colab.research.google.com/notebooks/data_table.ipynb>data table notebook</a>'\n",
              "            + ' to learn more about interactive tables.';\n",
              "          element.innerHTML = '';\n",
              "          dataTable['output_type'] = 'display_data';\n",
              "          await google.colab.output.renderOutput(dataTable, element);\n",
              "          const docLink = document.createElement('div');\n",
              "          docLink.innerHTML = docLinkHtml;\n",
              "          element.appendChild(docLink);\n",
              "        }\n",
              "      </script>\n",
              "    </div>\n",
              "  </div>\n",
              "  "
            ]
          },
          "metadata": {},
          "execution_count": 160
        }
      ]
    },
    {
      "cell_type": "code",
      "source": [
        "# One-hot encode our DataFrame so that it's all numbers\n",
        "insurance_one_hot = pd.get_dummies(insurance)\n",
        "insurance_one_hot"
      ],
      "metadata": {
        "colab": {
          "base_uri": "https://localhost:8080/",
          "height": 487
        },
        "id": "69IDZBa6_ilt",
        "outputId": "3e09bf31-a5ab-4fa5-ca2b-4045500f9dd7"
      },
      "execution_count": 161,
      "outputs": [
        {
          "output_type": "execute_result",
          "data": {
            "text/plain": [
              "      age     bmi  children      charges  sex_female  sex_male  smoker_no  \\\n",
              "0      19  27.900         0  16884.92400           1         0          0   \n",
              "1      18  33.770         1   1725.55230           0         1          1   \n",
              "2      28  33.000         3   4449.46200           0         1          1   \n",
              "3      33  22.705         0  21984.47061           0         1          1   \n",
              "4      32  28.880         0   3866.85520           0         1          1   \n",
              "...   ...     ...       ...          ...         ...       ...        ...   \n",
              "1333   50  30.970         3  10600.54830           0         1          1   \n",
              "1334   18  31.920         0   2205.98080           1         0          1   \n",
              "1335   18  36.850         0   1629.83350           1         0          1   \n",
              "1336   21  25.800         0   2007.94500           1         0          1   \n",
              "1337   61  29.070         0  29141.36030           1         0          0   \n",
              "\n",
              "      smoker_yes  region_northeast  region_northwest  region_southeast  \\\n",
              "0              1                 0                 0                 0   \n",
              "1              0                 0                 0                 1   \n",
              "2              0                 0                 0                 1   \n",
              "3              0                 0                 1                 0   \n",
              "4              0                 0                 1                 0   \n",
              "...          ...               ...               ...               ...   \n",
              "1333           0                 0                 1                 0   \n",
              "1334           0                 1                 0                 0   \n",
              "1335           0                 0                 0                 1   \n",
              "1336           0                 0                 0                 0   \n",
              "1337           1                 0                 1                 0   \n",
              "\n",
              "      region_southwest  \n",
              "0                    1  \n",
              "1                    0  \n",
              "2                    0  \n",
              "3                    0  \n",
              "4                    0  \n",
              "...                ...  \n",
              "1333                 0  \n",
              "1334                 0  \n",
              "1335                 0  \n",
              "1336                 1  \n",
              "1337                 0  \n",
              "\n",
              "[1338 rows x 12 columns]"
            ],
            "text/html": [
              "\n",
              "  <div id=\"df-084c44a8-42e7-4e25-8703-bcb494add877\">\n",
              "    <div class=\"colab-df-container\">\n",
              "      <div>\n",
              "<style scoped>\n",
              "    .dataframe tbody tr th:only-of-type {\n",
              "        vertical-align: middle;\n",
              "    }\n",
              "\n",
              "    .dataframe tbody tr th {\n",
              "        vertical-align: top;\n",
              "    }\n",
              "\n",
              "    .dataframe thead th {\n",
              "        text-align: right;\n",
              "    }\n",
              "</style>\n",
              "<table border=\"1\" class=\"dataframe\">\n",
              "  <thead>\n",
              "    <tr style=\"text-align: right;\">\n",
              "      <th></th>\n",
              "      <th>age</th>\n",
              "      <th>bmi</th>\n",
              "      <th>children</th>\n",
              "      <th>charges</th>\n",
              "      <th>sex_female</th>\n",
              "      <th>sex_male</th>\n",
              "      <th>smoker_no</th>\n",
              "      <th>smoker_yes</th>\n",
              "      <th>region_northeast</th>\n",
              "      <th>region_northwest</th>\n",
              "      <th>region_southeast</th>\n",
              "      <th>region_southwest</th>\n",
              "    </tr>\n",
              "  </thead>\n",
              "  <tbody>\n",
              "    <tr>\n",
              "      <th>0</th>\n",
              "      <td>19</td>\n",
              "      <td>27.900</td>\n",
              "      <td>0</td>\n",
              "      <td>16884.92400</td>\n",
              "      <td>1</td>\n",
              "      <td>0</td>\n",
              "      <td>0</td>\n",
              "      <td>1</td>\n",
              "      <td>0</td>\n",
              "      <td>0</td>\n",
              "      <td>0</td>\n",
              "      <td>1</td>\n",
              "    </tr>\n",
              "    <tr>\n",
              "      <th>1</th>\n",
              "      <td>18</td>\n",
              "      <td>33.770</td>\n",
              "      <td>1</td>\n",
              "      <td>1725.55230</td>\n",
              "      <td>0</td>\n",
              "      <td>1</td>\n",
              "      <td>1</td>\n",
              "      <td>0</td>\n",
              "      <td>0</td>\n",
              "      <td>0</td>\n",
              "      <td>1</td>\n",
              "      <td>0</td>\n",
              "    </tr>\n",
              "    <tr>\n",
              "      <th>2</th>\n",
              "      <td>28</td>\n",
              "      <td>33.000</td>\n",
              "      <td>3</td>\n",
              "      <td>4449.46200</td>\n",
              "      <td>0</td>\n",
              "      <td>1</td>\n",
              "      <td>1</td>\n",
              "      <td>0</td>\n",
              "      <td>0</td>\n",
              "      <td>0</td>\n",
              "      <td>1</td>\n",
              "      <td>0</td>\n",
              "    </tr>\n",
              "    <tr>\n",
              "      <th>3</th>\n",
              "      <td>33</td>\n",
              "      <td>22.705</td>\n",
              "      <td>0</td>\n",
              "      <td>21984.47061</td>\n",
              "      <td>0</td>\n",
              "      <td>1</td>\n",
              "      <td>1</td>\n",
              "      <td>0</td>\n",
              "      <td>0</td>\n",
              "      <td>1</td>\n",
              "      <td>0</td>\n",
              "      <td>0</td>\n",
              "    </tr>\n",
              "    <tr>\n",
              "      <th>4</th>\n",
              "      <td>32</td>\n",
              "      <td>28.880</td>\n",
              "      <td>0</td>\n",
              "      <td>3866.85520</td>\n",
              "      <td>0</td>\n",
              "      <td>1</td>\n",
              "      <td>1</td>\n",
              "      <td>0</td>\n",
              "      <td>0</td>\n",
              "      <td>1</td>\n",
              "      <td>0</td>\n",
              "      <td>0</td>\n",
              "    </tr>\n",
              "    <tr>\n",
              "      <th>...</th>\n",
              "      <td>...</td>\n",
              "      <td>...</td>\n",
              "      <td>...</td>\n",
              "      <td>...</td>\n",
              "      <td>...</td>\n",
              "      <td>...</td>\n",
              "      <td>...</td>\n",
              "      <td>...</td>\n",
              "      <td>...</td>\n",
              "      <td>...</td>\n",
              "      <td>...</td>\n",
              "      <td>...</td>\n",
              "    </tr>\n",
              "    <tr>\n",
              "      <th>1333</th>\n",
              "      <td>50</td>\n",
              "      <td>30.970</td>\n",
              "      <td>3</td>\n",
              "      <td>10600.54830</td>\n",
              "      <td>0</td>\n",
              "      <td>1</td>\n",
              "      <td>1</td>\n",
              "      <td>0</td>\n",
              "      <td>0</td>\n",
              "      <td>1</td>\n",
              "      <td>0</td>\n",
              "      <td>0</td>\n",
              "    </tr>\n",
              "    <tr>\n",
              "      <th>1334</th>\n",
              "      <td>18</td>\n",
              "      <td>31.920</td>\n",
              "      <td>0</td>\n",
              "      <td>2205.98080</td>\n",
              "      <td>1</td>\n",
              "      <td>0</td>\n",
              "      <td>1</td>\n",
              "      <td>0</td>\n",
              "      <td>1</td>\n",
              "      <td>0</td>\n",
              "      <td>0</td>\n",
              "      <td>0</td>\n",
              "    </tr>\n",
              "    <tr>\n",
              "      <th>1335</th>\n",
              "      <td>18</td>\n",
              "      <td>36.850</td>\n",
              "      <td>0</td>\n",
              "      <td>1629.83350</td>\n",
              "      <td>1</td>\n",
              "      <td>0</td>\n",
              "      <td>1</td>\n",
              "      <td>0</td>\n",
              "      <td>0</td>\n",
              "      <td>0</td>\n",
              "      <td>1</td>\n",
              "      <td>0</td>\n",
              "    </tr>\n",
              "    <tr>\n",
              "      <th>1336</th>\n",
              "      <td>21</td>\n",
              "      <td>25.800</td>\n",
              "      <td>0</td>\n",
              "      <td>2007.94500</td>\n",
              "      <td>1</td>\n",
              "      <td>0</td>\n",
              "      <td>1</td>\n",
              "      <td>0</td>\n",
              "      <td>0</td>\n",
              "      <td>0</td>\n",
              "      <td>0</td>\n",
              "      <td>1</td>\n",
              "    </tr>\n",
              "    <tr>\n",
              "      <th>1337</th>\n",
              "      <td>61</td>\n",
              "      <td>29.070</td>\n",
              "      <td>0</td>\n",
              "      <td>29141.36030</td>\n",
              "      <td>1</td>\n",
              "      <td>0</td>\n",
              "      <td>0</td>\n",
              "      <td>1</td>\n",
              "      <td>0</td>\n",
              "      <td>1</td>\n",
              "      <td>0</td>\n",
              "      <td>0</td>\n",
              "    </tr>\n",
              "  </tbody>\n",
              "</table>\n",
              "<p>1338 rows × 12 columns</p>\n",
              "</div>\n",
              "      <button class=\"colab-df-convert\" onclick=\"convertToInteractive('df-084c44a8-42e7-4e25-8703-bcb494add877')\"\n",
              "              title=\"Convert this dataframe to an interactive table.\"\n",
              "              style=\"display:none;\">\n",
              "        \n",
              "  <svg xmlns=\"http://www.w3.org/2000/svg\" height=\"24px\"viewBox=\"0 0 24 24\"\n",
              "       width=\"24px\">\n",
              "    <path d=\"M0 0h24v24H0V0z\" fill=\"none\"/>\n",
              "    <path d=\"M18.56 5.44l.94 2.06.94-2.06 2.06-.94-2.06-.94-.94-2.06-.94 2.06-2.06.94zm-11 1L8.5 8.5l.94-2.06 2.06-.94-2.06-.94L8.5 2.5l-.94 2.06-2.06.94zm10 10l.94 2.06.94-2.06 2.06-.94-2.06-.94-.94-2.06-.94 2.06-2.06.94z\"/><path d=\"M17.41 7.96l-1.37-1.37c-.4-.4-.92-.59-1.43-.59-.52 0-1.04.2-1.43.59L10.3 9.45l-7.72 7.72c-.78.78-.78 2.05 0 2.83L4 21.41c.39.39.9.59 1.41.59.51 0 1.02-.2 1.41-.59l7.78-7.78 2.81-2.81c.8-.78.8-2.07 0-2.86zM5.41 20L4 18.59l7.72-7.72 1.47 1.35L5.41 20z\"/>\n",
              "  </svg>\n",
              "      </button>\n",
              "      \n",
              "  <style>\n",
              "    .colab-df-container {\n",
              "      display:flex;\n",
              "      flex-wrap:wrap;\n",
              "      gap: 12px;\n",
              "    }\n",
              "\n",
              "    .colab-df-convert {\n",
              "      background-color: #E8F0FE;\n",
              "      border: none;\n",
              "      border-radius: 50%;\n",
              "      cursor: pointer;\n",
              "      display: none;\n",
              "      fill: #1967D2;\n",
              "      height: 32px;\n",
              "      padding: 0 0 0 0;\n",
              "      width: 32px;\n",
              "    }\n",
              "\n",
              "    .colab-df-convert:hover {\n",
              "      background-color: #E2EBFA;\n",
              "      box-shadow: 0px 1px 2px rgba(60, 64, 67, 0.3), 0px 1px 3px 1px rgba(60, 64, 67, 0.15);\n",
              "      fill: #174EA6;\n",
              "    }\n",
              "\n",
              "    [theme=dark] .colab-df-convert {\n",
              "      background-color: #3B4455;\n",
              "      fill: #D2E3FC;\n",
              "    }\n",
              "\n",
              "    [theme=dark] .colab-df-convert:hover {\n",
              "      background-color: #434B5C;\n",
              "      box-shadow: 0px 1px 3px 1px rgba(0, 0, 0, 0.15);\n",
              "      filter: drop-shadow(0px 1px 2px rgba(0, 0, 0, 0.3));\n",
              "      fill: #FFFFFF;\n",
              "    }\n",
              "  </style>\n",
              "\n",
              "      <script>\n",
              "        const buttonEl =\n",
              "          document.querySelector('#df-084c44a8-42e7-4e25-8703-bcb494add877 button.colab-df-convert');\n",
              "        buttonEl.style.display =\n",
              "          google.colab.kernel.accessAllowed ? 'block' : 'none';\n",
              "\n",
              "        async function convertToInteractive(key) {\n",
              "          const element = document.querySelector('#df-084c44a8-42e7-4e25-8703-bcb494add877');\n",
              "          const dataTable =\n",
              "            await google.colab.kernel.invokeFunction('convertToInteractive',\n",
              "                                                     [key], {});\n",
              "          if (!dataTable) return;\n",
              "\n",
              "          const docLinkHtml = 'Like what you see? Visit the ' +\n",
              "            '<a target=\"_blank\" href=https://colab.research.google.com/notebooks/data_table.ipynb>data table notebook</a>'\n",
              "            + ' to learn more about interactive tables.';\n",
              "          element.innerHTML = '';\n",
              "          dataTable['output_type'] = 'display_data';\n",
              "          await google.colab.output.renderOutput(dataTable, element);\n",
              "          const docLink = document.createElement('div');\n",
              "          docLink.innerHTML = docLinkHtml;\n",
              "          element.appendChild(docLink);\n",
              "        }\n",
              "      </script>\n",
              "    </div>\n",
              "  </div>\n",
              "  "
            ]
          },
          "metadata": {},
          "execution_count": 161
        }
      ]
    },
    {
      "cell_type": "code",
      "source": [
        "# Create X & y values (features & labels)\n",
        "X = insurance_one_hot.drop(\"charges\", axis=1)\n",
        "y = insurance_one_hot[\"charges\"]"
      ],
      "metadata": {
        "id": "OJryovwkFEBV"
      },
      "execution_count": 162,
      "outputs": []
    },
    {
      "cell_type": "code",
      "source": [
        "X.head()"
      ],
      "metadata": {
        "colab": {
          "base_uri": "https://localhost:8080/",
          "height": 270
        },
        "id": "KVPeW18GLwZR",
        "outputId": "245983b2-84a7-4915-afd5-08bfecafd44e"
      },
      "execution_count": 163,
      "outputs": [
        {
          "output_type": "execute_result",
          "data": {
            "text/plain": [
              "   age     bmi  children  sex_female  sex_male  smoker_no  smoker_yes  \\\n",
              "0   19  27.900         0           1         0          0           1   \n",
              "1   18  33.770         1           0         1          1           0   \n",
              "2   28  33.000         3           0         1          1           0   \n",
              "3   33  22.705         0           0         1          1           0   \n",
              "4   32  28.880         0           0         1          1           0   \n",
              "\n",
              "   region_northeast  region_northwest  region_southeast  region_southwest  \n",
              "0                 0                 0                 0                 1  \n",
              "1                 0                 0                 1                 0  \n",
              "2                 0                 0                 1                 0  \n",
              "3                 0                 1                 0                 0  \n",
              "4                 0                 1                 0                 0  "
            ],
            "text/html": [
              "\n",
              "  <div id=\"df-d3342dfd-d72f-413f-8e5a-f6c06f4bd329\">\n",
              "    <div class=\"colab-df-container\">\n",
              "      <div>\n",
              "<style scoped>\n",
              "    .dataframe tbody tr th:only-of-type {\n",
              "        vertical-align: middle;\n",
              "    }\n",
              "\n",
              "    .dataframe tbody tr th {\n",
              "        vertical-align: top;\n",
              "    }\n",
              "\n",
              "    .dataframe thead th {\n",
              "        text-align: right;\n",
              "    }\n",
              "</style>\n",
              "<table border=\"1\" class=\"dataframe\">\n",
              "  <thead>\n",
              "    <tr style=\"text-align: right;\">\n",
              "      <th></th>\n",
              "      <th>age</th>\n",
              "      <th>bmi</th>\n",
              "      <th>children</th>\n",
              "      <th>sex_female</th>\n",
              "      <th>sex_male</th>\n",
              "      <th>smoker_no</th>\n",
              "      <th>smoker_yes</th>\n",
              "      <th>region_northeast</th>\n",
              "      <th>region_northwest</th>\n",
              "      <th>region_southeast</th>\n",
              "      <th>region_southwest</th>\n",
              "    </tr>\n",
              "  </thead>\n",
              "  <tbody>\n",
              "    <tr>\n",
              "      <th>0</th>\n",
              "      <td>19</td>\n",
              "      <td>27.900</td>\n",
              "      <td>0</td>\n",
              "      <td>1</td>\n",
              "      <td>0</td>\n",
              "      <td>0</td>\n",
              "      <td>1</td>\n",
              "      <td>0</td>\n",
              "      <td>0</td>\n",
              "      <td>0</td>\n",
              "      <td>1</td>\n",
              "    </tr>\n",
              "    <tr>\n",
              "      <th>1</th>\n",
              "      <td>18</td>\n",
              "      <td>33.770</td>\n",
              "      <td>1</td>\n",
              "      <td>0</td>\n",
              "      <td>1</td>\n",
              "      <td>1</td>\n",
              "      <td>0</td>\n",
              "      <td>0</td>\n",
              "      <td>0</td>\n",
              "      <td>1</td>\n",
              "      <td>0</td>\n",
              "    </tr>\n",
              "    <tr>\n",
              "      <th>2</th>\n",
              "      <td>28</td>\n",
              "      <td>33.000</td>\n",
              "      <td>3</td>\n",
              "      <td>0</td>\n",
              "      <td>1</td>\n",
              "      <td>1</td>\n",
              "      <td>0</td>\n",
              "      <td>0</td>\n",
              "      <td>0</td>\n",
              "      <td>1</td>\n",
              "      <td>0</td>\n",
              "    </tr>\n",
              "    <tr>\n",
              "      <th>3</th>\n",
              "      <td>33</td>\n",
              "      <td>22.705</td>\n",
              "      <td>0</td>\n",
              "      <td>0</td>\n",
              "      <td>1</td>\n",
              "      <td>1</td>\n",
              "      <td>0</td>\n",
              "      <td>0</td>\n",
              "      <td>1</td>\n",
              "      <td>0</td>\n",
              "      <td>0</td>\n",
              "    </tr>\n",
              "    <tr>\n",
              "      <th>4</th>\n",
              "      <td>32</td>\n",
              "      <td>28.880</td>\n",
              "      <td>0</td>\n",
              "      <td>0</td>\n",
              "      <td>1</td>\n",
              "      <td>1</td>\n",
              "      <td>0</td>\n",
              "      <td>0</td>\n",
              "      <td>1</td>\n",
              "      <td>0</td>\n",
              "      <td>0</td>\n",
              "    </tr>\n",
              "  </tbody>\n",
              "</table>\n",
              "</div>\n",
              "      <button class=\"colab-df-convert\" onclick=\"convertToInteractive('df-d3342dfd-d72f-413f-8e5a-f6c06f4bd329')\"\n",
              "              title=\"Convert this dataframe to an interactive table.\"\n",
              "              style=\"display:none;\">\n",
              "        \n",
              "  <svg xmlns=\"http://www.w3.org/2000/svg\" height=\"24px\"viewBox=\"0 0 24 24\"\n",
              "       width=\"24px\">\n",
              "    <path d=\"M0 0h24v24H0V0z\" fill=\"none\"/>\n",
              "    <path d=\"M18.56 5.44l.94 2.06.94-2.06 2.06-.94-2.06-.94-.94-2.06-.94 2.06-2.06.94zm-11 1L8.5 8.5l.94-2.06 2.06-.94-2.06-.94L8.5 2.5l-.94 2.06-2.06.94zm10 10l.94 2.06.94-2.06 2.06-.94-2.06-.94-.94-2.06-.94 2.06-2.06.94z\"/><path d=\"M17.41 7.96l-1.37-1.37c-.4-.4-.92-.59-1.43-.59-.52 0-1.04.2-1.43.59L10.3 9.45l-7.72 7.72c-.78.78-.78 2.05 0 2.83L4 21.41c.39.39.9.59 1.41.59.51 0 1.02-.2 1.41-.59l7.78-7.78 2.81-2.81c.8-.78.8-2.07 0-2.86zM5.41 20L4 18.59l7.72-7.72 1.47 1.35L5.41 20z\"/>\n",
              "  </svg>\n",
              "      </button>\n",
              "      \n",
              "  <style>\n",
              "    .colab-df-container {\n",
              "      display:flex;\n",
              "      flex-wrap:wrap;\n",
              "      gap: 12px;\n",
              "    }\n",
              "\n",
              "    .colab-df-convert {\n",
              "      background-color: #E8F0FE;\n",
              "      border: none;\n",
              "      border-radius: 50%;\n",
              "      cursor: pointer;\n",
              "      display: none;\n",
              "      fill: #1967D2;\n",
              "      height: 32px;\n",
              "      padding: 0 0 0 0;\n",
              "      width: 32px;\n",
              "    }\n",
              "\n",
              "    .colab-df-convert:hover {\n",
              "      background-color: #E2EBFA;\n",
              "      box-shadow: 0px 1px 2px rgba(60, 64, 67, 0.3), 0px 1px 3px 1px rgba(60, 64, 67, 0.15);\n",
              "      fill: #174EA6;\n",
              "    }\n",
              "\n",
              "    [theme=dark] .colab-df-convert {\n",
              "      background-color: #3B4455;\n",
              "      fill: #D2E3FC;\n",
              "    }\n",
              "\n",
              "    [theme=dark] .colab-df-convert:hover {\n",
              "      background-color: #434B5C;\n",
              "      box-shadow: 0px 1px 3px 1px rgba(0, 0, 0, 0.15);\n",
              "      filter: drop-shadow(0px 1px 2px rgba(0, 0, 0, 0.3));\n",
              "      fill: #FFFFFF;\n",
              "    }\n",
              "  </style>\n",
              "\n",
              "      <script>\n",
              "        const buttonEl =\n",
              "          document.querySelector('#df-d3342dfd-d72f-413f-8e5a-f6c06f4bd329 button.colab-df-convert');\n",
              "        buttonEl.style.display =\n",
              "          google.colab.kernel.accessAllowed ? 'block' : 'none';\n",
              "\n",
              "        async function convertToInteractive(key) {\n",
              "          const element = document.querySelector('#df-d3342dfd-d72f-413f-8e5a-f6c06f4bd329');\n",
              "          const dataTable =\n",
              "            await google.colab.kernel.invokeFunction('convertToInteractive',\n",
              "                                                     [key], {});\n",
              "          if (!dataTable) return;\n",
              "\n",
              "          const docLinkHtml = 'Like what you see? Visit the ' +\n",
              "            '<a target=\"_blank\" href=https://colab.research.google.com/notebooks/data_table.ipynb>data table notebook</a>'\n",
              "            + ' to learn more about interactive tables.';\n",
              "          element.innerHTML = '';\n",
              "          dataTable['output_type'] = 'display_data';\n",
              "          await google.colab.output.renderOutput(dataTable, element);\n",
              "          const docLink = document.createElement('div');\n",
              "          docLink.innerHTML = docLinkHtml;\n",
              "          element.appendChild(docLink);\n",
              "        }\n",
              "      </script>\n",
              "    </div>\n",
              "  </div>\n",
              "  "
            ]
          },
          "metadata": {},
          "execution_count": 163
        }
      ]
    },
    {
      "cell_type": "code",
      "source": [
        "y.head()"
      ],
      "metadata": {
        "colab": {
          "base_uri": "https://localhost:8080/"
        },
        "id": "bUJTP-VBLy59",
        "outputId": "42fc69f6-b4ae-47ed-ac3b-53b2d765fbb8"
      },
      "execution_count": 164,
      "outputs": [
        {
          "output_type": "execute_result",
          "data": {
            "text/plain": [
              "0    16884.92400\n",
              "1     1725.55230\n",
              "2     4449.46200\n",
              "3    21984.47061\n",
              "4     3866.85520\n",
              "Name: charges, dtype: float64"
            ]
          },
          "metadata": {},
          "execution_count": 164
        }
      ]
    },
    {
      "cell_type": "code",
      "source": [
        "#  Create training & test sets\n",
        "from sklearn.model_selection import train_test_split\n",
        "X_train, X_test, y_train, y_test = train_test_split(X, y, test_size=0.2, random_state=42)\n",
        "len(X), len(X_train), len(X_test)"
      ],
      "metadata": {
        "colab": {
          "base_uri": "https://localhost:8080/"
        },
        "id": "AI1QFHaKLe55",
        "outputId": "4e649e6f-90cb-4c65-fc75-aae4eeeba715"
      },
      "execution_count": 165,
      "outputs": [
        {
          "output_type": "execute_result",
          "data": {
            "text/plain": [
              "(1338, 1070, 268)"
            ]
          },
          "metadata": {},
          "execution_count": 165
        }
      ]
    },
    {
      "cell_type": "code",
      "source": [
        "#  Build a neural network\n",
        "tf.random.set_seed(42)\n",
        "\n",
        "# 1. Create the model\n",
        "insurance_model = tf.keras.Sequential()\n",
        "\n",
        "insurance_model.add(Dense(units=10))\n",
        "insurance_model.add(Dense(units=1))\n",
        "\n",
        "# 2. Compile the model\n",
        "insurance_model.compile(loss=\"mae\",\n",
        "                        optimizer=tf.keras.optimizers.SGD(),\n",
        "                        metrics=[\"mae\"])\n",
        "\n",
        "# 3. Fit the model\n",
        "insurance_model.fit(X_train, y_train, epochs=100, validation_data=(X_test, y_test))    # Either write validation parameter here or evaluate separately like the cell below"
      ],
      "metadata": {
        "colab": {
          "base_uri": "https://localhost:8080/"
        },
        "id": "ioSxWc2XLgML",
        "outputId": "79df2820-3999-4efb-b899-1cc84d7fb090"
      },
      "execution_count": 166,
      "outputs": [
        {
          "output_type": "stream",
          "name": "stdout",
          "text": [
            "Epoch 1/100\n",
            "34/34 [==============================] - 0s 7ms/step - loss: 8637.1006 - mae: 8637.1006 - val_loss: 8465.6328 - val_mae: 8465.6328\n",
            "Epoch 2/100\n",
            "34/34 [==============================] - 0s 3ms/step - loss: 7886.7759 - mae: 7886.7759 - val_loss: 8144.6074 - val_mae: 8144.6074\n",
            "Epoch 3/100\n",
            "34/34 [==============================] - 0s 3ms/step - loss: 7558.1470 - mae: 7558.1470 - val_loss: 7211.8311 - val_mae: 7211.8311\n",
            "Epoch 4/100\n",
            "34/34 [==============================] - 0s 3ms/step - loss: 7792.0225 - mae: 7792.0225 - val_loss: 7069.4854 - val_mae: 7069.4854\n",
            "Epoch 5/100\n",
            "34/34 [==============================] - 0s 4ms/step - loss: 7748.3887 - mae: 7748.3887 - val_loss: 7052.2373 - val_mae: 7052.2373\n",
            "Epoch 6/100\n",
            "34/34 [==============================] - 0s 4ms/step - loss: 7595.3945 - mae: 7595.3945 - val_loss: 7617.1992 - val_mae: 7617.1992\n",
            "Epoch 7/100\n",
            "34/34 [==============================] - 0s 3ms/step - loss: 7589.9844 - mae: 7589.9844 - val_loss: 7792.2358 - val_mae: 7792.2358\n",
            "Epoch 8/100\n",
            "34/34 [==============================] - 0s 3ms/step - loss: 7698.5586 - mae: 7698.5586 - val_loss: 6694.3071 - val_mae: 6694.3071\n",
            "Epoch 9/100\n",
            "34/34 [==============================] - 0s 4ms/step - loss: 7496.7773 - mae: 7496.7773 - val_loss: 6649.8594 - val_mae: 6649.8589\n",
            "Epoch 10/100\n",
            "34/34 [==============================] - 0s 3ms/step - loss: 7493.1738 - mae: 7493.1738 - val_loss: 7082.6792 - val_mae: 7082.6792\n",
            "Epoch 11/100\n",
            "34/34 [==============================] - 0s 3ms/step - loss: 7769.7305 - mae: 7769.7305 - val_loss: 9276.9229 - val_mae: 9276.9229\n",
            "Epoch 12/100\n",
            "34/34 [==============================] - 0s 3ms/step - loss: 7706.9038 - mae: 7706.9038 - val_loss: 6697.1396 - val_mae: 6697.1396\n",
            "Epoch 13/100\n",
            "34/34 [==============================] - 0s 3ms/step - loss: 7687.7227 - mae: 7687.7227 - val_loss: 8151.5776 - val_mae: 8151.5776\n",
            "Epoch 14/100\n",
            "34/34 [==============================] - 0s 3ms/step - loss: 7689.9004 - mae: 7689.9004 - val_loss: 6674.3218 - val_mae: 6674.3218\n",
            "Epoch 15/100\n",
            "34/34 [==============================] - 0s 3ms/step - loss: 7393.5327 - mae: 7393.5327 - val_loss: 8413.1914 - val_mae: 8413.1914\n",
            "Epoch 16/100\n",
            "34/34 [==============================] - 0s 3ms/step - loss: 7780.6987 - mae: 7780.6987 - val_loss: 8140.7900 - val_mae: 8140.7900\n",
            "Epoch 17/100\n",
            "34/34 [==============================] - 0s 4ms/step - loss: 7578.5103 - mae: 7578.5103 - val_loss: 8740.6875 - val_mae: 8740.6875\n",
            "Epoch 18/100\n",
            "34/34 [==============================] - 0s 3ms/step - loss: 7750.8350 - mae: 7750.8350 - val_loss: 8175.6475 - val_mae: 8175.6475\n",
            "Epoch 19/100\n",
            "34/34 [==============================] - 0s 3ms/step - loss: 7739.2134 - mae: 7739.2134 - val_loss: 8545.3555 - val_mae: 8545.3555\n",
            "Epoch 20/100\n",
            "34/34 [==============================] - 0s 3ms/step - loss: 7875.0654 - mae: 7875.0654 - val_loss: 8306.3701 - val_mae: 8306.3701\n",
            "Epoch 21/100\n",
            "34/34 [==============================] - 0s 3ms/step - loss: 7466.6768 - mae: 7466.6768 - val_loss: 8831.4805 - val_mae: 8831.4805\n",
            "Epoch 22/100\n",
            "34/34 [==============================] - 0s 3ms/step - loss: 7941.2329 - mae: 7941.2329 - val_loss: 7706.5298 - val_mae: 7706.5298\n",
            "Epoch 23/100\n",
            "34/34 [==============================] - 0s 4ms/step - loss: 7640.2739 - mae: 7640.2739 - val_loss: 6639.4888 - val_mae: 6639.4888\n",
            "Epoch 24/100\n",
            "34/34 [==============================] - 0s 3ms/step - loss: 7539.2671 - mae: 7539.2671 - val_loss: 9596.4424 - val_mae: 9596.4424\n",
            "Epoch 25/100\n",
            "34/34 [==============================] - 0s 3ms/step - loss: 7619.9663 - mae: 7619.9663 - val_loss: 7191.6309 - val_mae: 7191.6309\n",
            "Epoch 26/100\n",
            "34/34 [==============================] - 0s 3ms/step - loss: 7644.1714 - mae: 7644.1714 - val_loss: 7490.8394 - val_mae: 7490.8394\n",
            "Epoch 27/100\n",
            "34/34 [==============================] - 0s 3ms/step - loss: 7709.0371 - mae: 7709.0371 - val_loss: 7495.3037 - val_mae: 7495.3037\n",
            "Epoch 28/100\n",
            "34/34 [==============================] - 0s 3ms/step - loss: 7366.8667 - mae: 7366.8667 - val_loss: 6596.3994 - val_mae: 6596.3999\n",
            "Epoch 29/100\n",
            "34/34 [==============================] - 0s 3ms/step - loss: 7444.3159 - mae: 7444.3159 - val_loss: 6720.1865 - val_mae: 6720.1865\n",
            "Epoch 30/100\n",
            "34/34 [==============================] - 0s 3ms/step - loss: 7616.4077 - mae: 7616.4077 - val_loss: 7764.3257 - val_mae: 7764.3257\n",
            "Epoch 31/100\n",
            "34/34 [==============================] - 0s 3ms/step - loss: 7686.3853 - mae: 7686.3853 - val_loss: 9421.0488 - val_mae: 9421.0488\n",
            "Epoch 32/100\n",
            "34/34 [==============================] - 0s 3ms/step - loss: 7548.0986 - mae: 7548.0986 - val_loss: 6441.4648 - val_mae: 6441.4648\n",
            "Epoch 33/100\n",
            "34/34 [==============================] - 0s 3ms/step - loss: 7501.5542 - mae: 7501.5542 - val_loss: 7758.5396 - val_mae: 7758.5396\n",
            "Epoch 34/100\n",
            "34/34 [==============================] - 0s 4ms/step - loss: 7363.4165 - mae: 7363.4165 - val_loss: 6509.2642 - val_mae: 6509.2642\n",
            "Epoch 35/100\n",
            "34/34 [==============================] - 0s 3ms/step - loss: 7295.4473 - mae: 7295.4473 - val_loss: 7858.0298 - val_mae: 7858.0298\n",
            "Epoch 36/100\n",
            "34/34 [==============================] - 0s 3ms/step - loss: 7569.8823 - mae: 7569.8823 - val_loss: 6831.0400 - val_mae: 6831.0400\n",
            "Epoch 37/100\n",
            "34/34 [==============================] - 0s 3ms/step - loss: 7548.2007 - mae: 7548.2007 - val_loss: 6498.6372 - val_mae: 6498.6372\n",
            "Epoch 38/100\n",
            "34/34 [==============================] - 0s 3ms/step - loss: 7424.3979 - mae: 7424.3979 - val_loss: 8298.7471 - val_mae: 8298.7471\n",
            "Epoch 39/100\n",
            "34/34 [==============================] - 0s 3ms/step - loss: 7529.7734 - mae: 7529.7734 - val_loss: 8992.7002 - val_mae: 8992.7002\n",
            "Epoch 40/100\n",
            "34/34 [==============================] - 0s 3ms/step - loss: 7467.3237 - mae: 7467.3237 - val_loss: 6589.5405 - val_mae: 6589.5405\n",
            "Epoch 41/100\n",
            "34/34 [==============================] - 0s 3ms/step - loss: 7635.9297 - mae: 7635.9297 - val_loss: 6406.2100 - val_mae: 6406.2100\n",
            "Epoch 42/100\n",
            "34/34 [==============================] - 0s 4ms/step - loss: 7536.8398 - mae: 7536.8398 - val_loss: 7109.7090 - val_mae: 7109.7090\n",
            "Epoch 43/100\n",
            "34/34 [==============================] - 0s 3ms/step - loss: 7616.5854 - mae: 7616.5854 - val_loss: 6485.9771 - val_mae: 6485.9771\n",
            "Epoch 44/100\n",
            "34/34 [==============================] - 0s 3ms/step - loss: 7439.4941 - mae: 7439.4941 - val_loss: 7909.6465 - val_mae: 7909.6465\n",
            "Epoch 45/100\n",
            "34/34 [==============================] - 0s 3ms/step - loss: 7538.0142 - mae: 7538.0142 - val_loss: 7501.9722 - val_mae: 7501.9722\n",
            "Epoch 46/100\n",
            "34/34 [==============================] - 0s 3ms/step - loss: 7415.1465 - mae: 7415.1465 - val_loss: 6498.5278 - val_mae: 6498.5283\n",
            "Epoch 47/100\n",
            "34/34 [==============================] - 0s 4ms/step - loss: 7420.6934 - mae: 7420.6934 - val_loss: 8097.3872 - val_mae: 8097.3872\n",
            "Epoch 48/100\n",
            "34/34 [==============================] - 0s 3ms/step - loss: 7509.9834 - mae: 7509.9834 - val_loss: 6951.2676 - val_mae: 6951.2676\n",
            "Epoch 49/100\n",
            "34/34 [==============================] - 0s 4ms/step - loss: 7541.1133 - mae: 7541.1133 - val_loss: 6802.2422 - val_mae: 6802.2422\n",
            "Epoch 50/100\n",
            "34/34 [==============================] - 0s 3ms/step - loss: 7467.8643 - mae: 7467.8643 - val_loss: 8018.5981 - val_mae: 8018.5981\n",
            "Epoch 51/100\n",
            "34/34 [==============================] - 0s 3ms/step - loss: 7389.3560 - mae: 7389.3560 - val_loss: 10059.9258 - val_mae: 10059.9258\n",
            "Epoch 52/100\n",
            "34/34 [==============================] - 0s 4ms/step - loss: 7499.7759 - mae: 7499.7759 - val_loss: 6370.1465 - val_mae: 6370.1465\n",
            "Epoch 53/100\n",
            "34/34 [==============================] - 0s 3ms/step - loss: 7523.9282 - mae: 7523.9282 - val_loss: 6660.6431 - val_mae: 6660.6431\n",
            "Epoch 54/100\n",
            "34/34 [==============================] - 0s 4ms/step - loss: 7243.3120 - mae: 7243.3120 - val_loss: 7739.1392 - val_mae: 7739.1392\n",
            "Epoch 55/100\n",
            "34/34 [==============================] - 0s 3ms/step - loss: 7429.5859 - mae: 7429.5859 - val_loss: 6454.6519 - val_mae: 6454.6519\n",
            "Epoch 56/100\n",
            "34/34 [==============================] - 0s 3ms/step - loss: 7313.4009 - mae: 7313.4009 - val_loss: 7270.4629 - val_mae: 7270.4629\n",
            "Epoch 57/100\n",
            "34/34 [==============================] - 0s 4ms/step - loss: 7526.3887 - mae: 7526.3887 - val_loss: 7388.3687 - val_mae: 7388.3687\n",
            "Epoch 58/100\n",
            "34/34 [==============================] - 0s 4ms/step - loss: 7542.2666 - mae: 7542.2666 - val_loss: 8315.9189 - val_mae: 8315.9189\n",
            "Epoch 59/100\n",
            "34/34 [==============================] - 0s 3ms/step - loss: 7576.9277 - mae: 7576.9277 - val_loss: 6258.9033 - val_mae: 6258.9033\n",
            "Epoch 60/100\n",
            "34/34 [==============================] - 0s 3ms/step - loss: 7546.4048 - mae: 7546.4048 - val_loss: 8188.5166 - val_mae: 8188.5166\n",
            "Epoch 61/100\n",
            "34/34 [==============================] - 0s 3ms/step - loss: 7351.2266 - mae: 7351.2266 - val_loss: 8716.3584 - val_mae: 8716.3584\n",
            "Epoch 62/100\n",
            "34/34 [==============================] - 0s 3ms/step - loss: 7302.1440 - mae: 7302.1440 - val_loss: 8955.0195 - val_mae: 8955.0195\n",
            "Epoch 63/100\n",
            "34/34 [==============================] - 0s 3ms/step - loss: 7393.0879 - mae: 7393.0879 - val_loss: 6560.9819 - val_mae: 6560.9819\n",
            "Epoch 64/100\n",
            "34/34 [==============================] - 0s 3ms/step - loss: 7442.2881 - mae: 7442.2881 - val_loss: 7597.3213 - val_mae: 7597.3213\n",
            "Epoch 65/100\n",
            "34/34 [==============================] - 0s 3ms/step - loss: 7492.6787 - mae: 7492.6787 - val_loss: 6250.3491 - val_mae: 6250.3491\n",
            "Epoch 66/100\n",
            "34/34 [==============================] - 0s 4ms/step - loss: 7561.9165 - mae: 7561.9165 - val_loss: 7390.7305 - val_mae: 7390.7305\n",
            "Epoch 67/100\n",
            "34/34 [==============================] - 0s 4ms/step - loss: 7340.5137 - mae: 7340.5137 - val_loss: 7675.2959 - val_mae: 7675.2959\n",
            "Epoch 68/100\n",
            "34/34 [==============================] - 0s 4ms/step - loss: 7496.0864 - mae: 7496.0864 - val_loss: 7283.1436 - val_mae: 7283.1436\n",
            "Epoch 69/100\n",
            "34/34 [==============================] - 0s 3ms/step - loss: 7617.0308 - mae: 7617.0308 - val_loss: 6340.5625 - val_mae: 6340.5625\n",
            "Epoch 70/100\n",
            "34/34 [==============================] - 0s 3ms/step - loss: 7641.1948 - mae: 7641.1948 - val_loss: 6545.1187 - val_mae: 6545.1187\n",
            "Epoch 71/100\n",
            "34/34 [==============================] - 0s 4ms/step - loss: 7084.2744 - mae: 7084.2744 - val_loss: 6543.0879 - val_mae: 6543.0879\n",
            "Epoch 72/100\n",
            "34/34 [==============================] - 0s 3ms/step - loss: 7240.4912 - mae: 7240.4912 - val_loss: 8159.1743 - val_mae: 8159.1743\n",
            "Epoch 73/100\n",
            "34/34 [==============================] - 0s 3ms/step - loss: 7283.4893 - mae: 7283.4893 - val_loss: 6221.6187 - val_mae: 6221.6187\n",
            "Epoch 74/100\n",
            "34/34 [==============================] - 0s 4ms/step - loss: 7335.5068 - mae: 7335.5068 - val_loss: 6305.9785 - val_mae: 6305.9785\n",
            "Epoch 75/100\n",
            "34/34 [==============================] - 0s 3ms/step - loss: 7275.6392 - mae: 7275.6392 - val_loss: 6099.5098 - val_mae: 6099.5098\n",
            "Epoch 76/100\n",
            "34/34 [==============================] - 0s 3ms/step - loss: 7313.1860 - mae: 7313.1860 - val_loss: 7563.3071 - val_mae: 7563.3071\n",
            "Epoch 77/100\n",
            "34/34 [==============================] - 0s 3ms/step - loss: 7485.7583 - mae: 7485.7583 - val_loss: 6443.1445 - val_mae: 6443.1445\n",
            "Epoch 78/100\n",
            "34/34 [==============================] - 0s 4ms/step - loss: 7352.2798 - mae: 7352.2798 - val_loss: 8326.5947 - val_mae: 8326.5947\n",
            "Epoch 79/100\n",
            "34/34 [==============================] - 0s 4ms/step - loss: 7520.5703 - mae: 7520.5703 - val_loss: 9162.2891 - val_mae: 9162.2891\n",
            "Epoch 80/100\n",
            "34/34 [==============================] - 0s 3ms/step - loss: 7279.3784 - mae: 7279.3784 - val_loss: 6314.4302 - val_mae: 6314.4297\n",
            "Epoch 81/100\n",
            "34/34 [==============================] - 0s 3ms/step - loss: 7273.8477 - mae: 7273.8477 - val_loss: 8200.8467 - val_mae: 8200.8467\n",
            "Epoch 82/100\n",
            "34/34 [==============================] - 0s 4ms/step - loss: 7176.5210 - mae: 7176.5210 - val_loss: 6189.5327 - val_mae: 6189.5332\n",
            "Epoch 83/100\n",
            "34/34 [==============================] - 0s 3ms/step - loss: 7425.6289 - mae: 7425.6289 - val_loss: 8406.2539 - val_mae: 8406.2539\n",
            "Epoch 84/100\n",
            "34/34 [==============================] - 0s 3ms/step - loss: 7403.1299 - mae: 7403.1299 - val_loss: 6059.5718 - val_mae: 6059.5718\n",
            "Epoch 85/100\n",
            "34/34 [==============================] - 0s 3ms/step - loss: 7356.0078 - mae: 7356.0078 - val_loss: 6871.2637 - val_mae: 6871.2637\n",
            "Epoch 86/100\n",
            "34/34 [==============================] - 0s 3ms/step - loss: 7484.7266 - mae: 7484.7266 - val_loss: 6673.2480 - val_mae: 6673.2480\n",
            "Epoch 87/100\n",
            "34/34 [==============================] - 0s 4ms/step - loss: 7217.6074 - mae: 7217.6074 - val_loss: 7526.5625 - val_mae: 7526.5625\n",
            "Epoch 88/100\n",
            "34/34 [==============================] - 0s 4ms/step - loss: 7261.0000 - mae: 7261.0000 - val_loss: 6870.7744 - val_mae: 6870.7744\n",
            "Epoch 89/100\n",
            "34/34 [==============================] - 0s 4ms/step - loss: 7134.1558 - mae: 7134.1558 - val_loss: 8885.1855 - val_mae: 8885.1855\n",
            "Epoch 90/100\n",
            "34/34 [==============================] - 0s 4ms/step - loss: 7083.4360 - mae: 7083.4360 - val_loss: 6009.1875 - val_mae: 6009.1875\n",
            "Epoch 91/100\n",
            "34/34 [==============================] - 0s 3ms/step - loss: 7254.1777 - mae: 7254.1777 - val_loss: 7252.6592 - val_mae: 7252.6592\n",
            "Epoch 92/100\n",
            "34/34 [==============================] - 0s 4ms/step - loss: 7268.7456 - mae: 7268.7456 - val_loss: 7908.2192 - val_mae: 7908.2192\n",
            "Epoch 93/100\n",
            "34/34 [==============================] - 0s 4ms/step - loss: 7470.5220 - mae: 7470.5220 - val_loss: 6402.4448 - val_mae: 6402.4448\n",
            "Epoch 94/100\n",
            "34/34 [==============================] - 0s 3ms/step - loss: 7210.9541 - mae: 7210.9541 - val_loss: 9259.6670 - val_mae: 9259.6670\n",
            "Epoch 95/100\n",
            "34/34 [==============================] - 0s 3ms/step - loss: 7395.6816 - mae: 7395.6816 - val_loss: 6237.1216 - val_mae: 6237.1216\n",
            "Epoch 96/100\n",
            "34/34 [==============================] - 0s 3ms/step - loss: 7328.0874 - mae: 7328.0874 - val_loss: 5981.5957 - val_mae: 5981.5957\n",
            "Epoch 97/100\n",
            "34/34 [==============================] - 0s 3ms/step - loss: 7230.4385 - mae: 7230.4385 - val_loss: 9075.7217 - val_mae: 9075.7217\n",
            "Epoch 98/100\n",
            "34/34 [==============================] - 0s 4ms/step - loss: 7261.3945 - mae: 7261.3945 - val_loss: 8169.9243 - val_mae: 8169.9243\n",
            "Epoch 99/100\n",
            "34/34 [==============================] - 0s 3ms/step - loss: 7342.5684 - mae: 7342.5684 - val_loss: 6826.6870 - val_mae: 6826.6870\n",
            "Epoch 100/100\n",
            "34/34 [==============================] - 0s 3ms/step - loss: 7106.1709 - mae: 7106.1709 - val_loss: 7023.3291 - val_mae: 7023.3291\n"
          ]
        },
        {
          "output_type": "execute_result",
          "data": {
            "text/plain": [
              "<keras.callbacks.History at 0x7f4e3a9fd910>"
            ]
          },
          "metadata": {},
          "execution_count": 166
        }
      ]
    },
    {
      "cell_type": "code",
      "source": [
        "# Check the results of the insurance_model on the test data\n",
        "insurance_model.evaluate(X_test, y_test)"
      ],
      "metadata": {
        "colab": {
          "base_uri": "https://localhost:8080/"
        },
        "id": "51LT0SvJOTDv",
        "outputId": "94845ca7-4466-4405-8483-3dc16369db7a"
      },
      "execution_count": 167,
      "outputs": [
        {
          "output_type": "stream",
          "name": "stdout",
          "text": [
            "9/9 [==============================] - 0s 2ms/step - loss: 7023.3291 - mae: 7023.3291\n"
          ]
        },
        {
          "output_type": "execute_result",
          "data": {
            "text/plain": [
              "[7023.3291015625, 7023.3291015625]"
            ]
          },
          "metadata": {},
          "execution_count": 167
        }
      ]
    },
    {
      "cell_type": "markdown",
      "source": [
        "> Right now our model isn't performing well... let's try and improve it! Lessgooooo...!!"
      ],
      "metadata": {
        "id": "7eX2oT1TO9jU"
      }
    },
    {
      "cell_type": "code",
      "source": [
        "#  Build a neural network\n",
        "tf.random.set_seed(42)\n",
        "\n",
        "# 1. Create the model\n",
        "insurance_model_2 = tf.keras.Sequential()\n",
        "\n",
        "insurance_model_2.add(Dense(units=512))\n",
        "insurance_model_2.add(Dense(units=1))\n",
        "\n",
        "# 2. Compile the model\n",
        "insurance_model_2.compile(loss=\"mae\",\n",
        "                        optimizer=tf.keras.optimizers.SGD(),\n",
        "                        metrics=[\"mae\"])\n",
        "\n",
        "# 3. Fit the model\n",
        "insurance_model_2.fit(X_train, y_train, epochs=100, validation_data=(X_test, y_test))    # Either write validation parameter here or evaluate separately like the cell below"
      ],
      "metadata": {
        "colab": {
          "base_uri": "https://localhost:8080/"
        },
        "id": "QPc8Zo-MRICg",
        "outputId": "6572970f-4718-41fa-f75d-db0b08468df4"
      },
      "execution_count": 168,
      "outputs": [
        {
          "output_type": "stream",
          "name": "stdout",
          "text": [
            "Epoch 1/100\n",
            "34/34 [==============================] - 0s 6ms/step - loss: 8580.7334 - mae: 8580.7334 - val_loss: 8465.6289 - val_mae: 8465.6289\n",
            "Epoch 2/100\n",
            "34/34 [==============================] - 0s 3ms/step - loss: 7883.1899 - mae: 7883.1899 - val_loss: 8037.7344 - val_mae: 8037.7344\n",
            "Epoch 3/100\n",
            "34/34 [==============================] - 0s 3ms/step - loss: 7572.9863 - mae: 7572.9863 - val_loss: 7105.5967 - val_mae: 7105.5967\n",
            "Epoch 4/100\n",
            "34/34 [==============================] - 0s 4ms/step - loss: 7669.8057 - mae: 7669.8057 - val_loss: 6862.2012 - val_mae: 6862.2012\n",
            "Epoch 5/100\n",
            "34/34 [==============================] - 0s 3ms/step - loss: 7673.5093 - mae: 7673.5093 - val_loss: 6930.9038 - val_mae: 6930.9038\n",
            "Epoch 6/100\n",
            "34/34 [==============================] - 0s 3ms/step - loss: 7656.7319 - mae: 7656.7319 - val_loss: 7250.0747 - val_mae: 7250.0747\n",
            "Epoch 7/100\n",
            "34/34 [==============================] - 0s 3ms/step - loss: 7573.0439 - mae: 7573.0439 - val_loss: 7123.0259 - val_mae: 7123.0259\n",
            "Epoch 8/100\n",
            "34/34 [==============================] - 0s 3ms/step - loss: 7783.4629 - mae: 7783.4629 - val_loss: 6913.6831 - val_mae: 6913.6831\n",
            "Epoch 9/100\n",
            "34/34 [==============================] - 0s 3ms/step - loss: 7628.9409 - mae: 7628.9409 - val_loss: 9209.3633 - val_mae: 9209.3633\n",
            "Epoch 10/100\n",
            "34/34 [==============================] - 0s 3ms/step - loss: 7689.6821 - mae: 7689.6821 - val_loss: 7772.9297 - val_mae: 7772.9297\n",
            "Epoch 11/100\n",
            "34/34 [==============================] - 0s 3ms/step - loss: 7559.2192 - mae: 7559.2192 - val_loss: 9182.1152 - val_mae: 9182.1152\n",
            "Epoch 12/100\n",
            "34/34 [==============================] - 0s 4ms/step - loss: 7533.5767 - mae: 7533.5767 - val_loss: 8833.2852 - val_mae: 8833.2852\n",
            "Epoch 13/100\n",
            "34/34 [==============================] - 0s 3ms/step - loss: 7690.3774 - mae: 7690.3774 - val_loss: 7373.9033 - val_mae: 7373.9033\n",
            "Epoch 14/100\n",
            "34/34 [==============================] - 0s 3ms/step - loss: 7712.9648 - mae: 7712.9648 - val_loss: 6747.5024 - val_mae: 6747.5024\n",
            "Epoch 15/100\n",
            "34/34 [==============================] - 0s 3ms/step - loss: 7655.2720 - mae: 7655.2720 - val_loss: 8934.4023 - val_mae: 8934.4023\n",
            "Epoch 16/100\n",
            "34/34 [==============================] - 0s 3ms/step - loss: 7707.1543 - mae: 7707.1543 - val_loss: 8124.5122 - val_mae: 8124.5122\n",
            "Epoch 17/100\n",
            "34/34 [==============================] - 0s 3ms/step - loss: 7502.9224 - mae: 7502.9224 - val_loss: 8013.1855 - val_mae: 8013.1855\n",
            "Epoch 18/100\n",
            "34/34 [==============================] - 0s 3ms/step - loss: 7749.1587 - mae: 7749.1587 - val_loss: 9449.0811 - val_mae: 9449.0811\n",
            "Epoch 19/100\n",
            "34/34 [==============================] - 0s 3ms/step - loss: 7784.5581 - mae: 7784.5581 - val_loss: 7604.3184 - val_mae: 7604.3184\n",
            "Epoch 20/100\n",
            "34/34 [==============================] - 0s 4ms/step - loss: 7868.7598 - mae: 7868.7598 - val_loss: 7111.4976 - val_mae: 7111.4976\n",
            "Epoch 21/100\n",
            "34/34 [==============================] - 0s 3ms/step - loss: 7455.3843 - mae: 7455.3843 - val_loss: 8816.2393 - val_mae: 8816.2393\n",
            "Epoch 22/100\n",
            "34/34 [==============================] - 0s 3ms/step - loss: 7845.9067 - mae: 7845.9067 - val_loss: 8183.8042 - val_mae: 8183.8042\n",
            "Epoch 23/100\n",
            "34/34 [==============================] - 0s 4ms/step - loss: 7659.0825 - mae: 7659.0825 - val_loss: 6765.7549 - val_mae: 6765.7549\n",
            "Epoch 24/100\n",
            "34/34 [==============================] - 0s 3ms/step - loss: 7512.2920 - mae: 7512.2920 - val_loss: 8935.3047 - val_mae: 8935.3047\n",
            "Epoch 25/100\n",
            "34/34 [==============================] - 0s 3ms/step - loss: 7604.7065 - mae: 7604.7065 - val_loss: 7029.1050 - val_mae: 7029.1050\n",
            "Epoch 26/100\n",
            "34/34 [==============================] - 0s 3ms/step - loss: 7697.2144 - mae: 7697.2144 - val_loss: 7499.7920 - val_mae: 7499.7920\n",
            "Epoch 27/100\n",
            "34/34 [==============================] - 0s 3ms/step - loss: 7709.6528 - mae: 7709.6528 - val_loss: 7453.5171 - val_mae: 7453.5171\n",
            "Epoch 28/100\n",
            "34/34 [==============================] - 0s 5ms/step - loss: 7367.5869 - mae: 7367.5869 - val_loss: 6830.1616 - val_mae: 6830.1616\n",
            "Epoch 29/100\n",
            "34/34 [==============================] - 0s 3ms/step - loss: 7665.3701 - mae: 7665.3701 - val_loss: 6634.2280 - val_mae: 6634.2280\n",
            "Epoch 30/100\n",
            "34/34 [==============================] - 0s 3ms/step - loss: 7602.5854 - mae: 7602.5854 - val_loss: 6942.3677 - val_mae: 6942.3677\n",
            "Epoch 31/100\n",
            "34/34 [==============================] - 0s 3ms/step - loss: 7551.9614 - mae: 7551.9614 - val_loss: 9505.4805 - val_mae: 9505.4805\n",
            "Epoch 32/100\n",
            "34/34 [==============================] - 0s 3ms/step - loss: 7595.3916 - mae: 7595.3916 - val_loss: 6541.2720 - val_mae: 6541.2720\n",
            "Epoch 33/100\n",
            "34/34 [==============================] - 0s 3ms/step - loss: 7446.0571 - mae: 7446.0571 - val_loss: 8252.0488 - val_mae: 8252.0488\n",
            "Epoch 34/100\n",
            "34/34 [==============================] - 0s 3ms/step - loss: 7450.1919 - mae: 7450.1919 - val_loss: 8289.9678 - val_mae: 8289.9678\n",
            "Epoch 35/100\n",
            "34/34 [==============================] - 0s 3ms/step - loss: 7398.4297 - mae: 7398.4297 - val_loss: 7916.5933 - val_mae: 7916.5933\n",
            "Epoch 36/100\n",
            "34/34 [==============================] - 0s 3ms/step - loss: 7665.6689 - mae: 7665.6689 - val_loss: 6723.2148 - val_mae: 6723.2148\n",
            "Epoch 37/100\n",
            "34/34 [==============================] - 0s 3ms/step - loss: 7559.0679 - mae: 7559.0679 - val_loss: 6459.4512 - val_mae: 6459.4512\n",
            "Epoch 38/100\n",
            "34/34 [==============================] - 0s 3ms/step - loss: 7596.2236 - mae: 7596.2236 - val_loss: 8290.4551 - val_mae: 8290.4551\n",
            "Epoch 39/100\n",
            "34/34 [==============================] - 0s 4ms/step - loss: 7608.0103 - mae: 7608.0103 - val_loss: 9041.7100 - val_mae: 9041.7100\n",
            "Epoch 40/100\n",
            "34/34 [==============================] - 0s 3ms/step - loss: 7429.7456 - mae: 7429.7456 - val_loss: 6367.5146 - val_mae: 6367.5146\n",
            "Epoch 41/100\n",
            "34/34 [==============================] - 0s 3ms/step - loss: 7689.2495 - mae: 7689.2495 - val_loss: 6443.6968 - val_mae: 6443.6968\n",
            "Epoch 42/100\n",
            "34/34 [==============================] - 0s 4ms/step - loss: 7368.8662 - mae: 7368.8662 - val_loss: 7724.9028 - val_mae: 7724.9028\n",
            "Epoch 43/100\n",
            "34/34 [==============================] - 0s 3ms/step - loss: 7669.4946 - mae: 7669.4946 - val_loss: 6519.5327 - val_mae: 6519.5327\n",
            "Epoch 44/100\n",
            "34/34 [==============================] - 0s 3ms/step - loss: 7420.2100 - mae: 7420.2100 - val_loss: 7969.5166 - val_mae: 7969.5166\n",
            "Epoch 45/100\n",
            "34/34 [==============================] - 0s 4ms/step - loss: 7548.2759 - mae: 7548.2759 - val_loss: 7506.7837 - val_mae: 7506.7832\n",
            "Epoch 46/100\n",
            "34/34 [==============================] - 0s 3ms/step - loss: 7283.8818 - mae: 7283.8818 - val_loss: 7332.0234 - val_mae: 7332.0234\n",
            "Epoch 47/100\n",
            "34/34 [==============================] - 0s 3ms/step - loss: 7572.6792 - mae: 7572.6792 - val_loss: 7702.8667 - val_mae: 7702.8667\n",
            "Epoch 48/100\n",
            "34/34 [==============================] - 0s 4ms/step - loss: 7486.1636 - mae: 7486.1636 - val_loss: 7045.4233 - val_mae: 7045.4233\n",
            "Epoch 49/100\n",
            "34/34 [==============================] - 0s 4ms/step - loss: 7535.5532 - mae: 7535.5532 - val_loss: 6802.4312 - val_mae: 6802.4312\n",
            "Epoch 50/100\n",
            "34/34 [==============================] - 0s 3ms/step - loss: 7490.7593 - mae: 7490.7593 - val_loss: 8449.7168 - val_mae: 8449.7168\n",
            "Epoch 51/100\n",
            "34/34 [==============================] - 0s 3ms/step - loss: 7390.6973 - mae: 7390.6973 - val_loss: 7706.1826 - val_mae: 7706.1826\n",
            "Epoch 52/100\n",
            "34/34 [==============================] - 0s 3ms/step - loss: 7406.8828 - mae: 7406.8828 - val_loss: 8258.4961 - val_mae: 8258.4961\n",
            "Epoch 53/100\n",
            "34/34 [==============================] - 0s 4ms/step - loss: 7633.1821 - mae: 7633.1821 - val_loss: 6460.8711 - val_mae: 6460.8711\n",
            "Epoch 54/100\n",
            "34/34 [==============================] - 0s 3ms/step - loss: 7293.4067 - mae: 7293.4067 - val_loss: 6264.9570 - val_mae: 6264.9570\n",
            "Epoch 55/100\n",
            "34/34 [==============================] - 0s 3ms/step - loss: 7296.9878 - mae: 7296.9878 - val_loss: 8130.9834 - val_mae: 8130.9834\n",
            "Epoch 56/100\n",
            "34/34 [==============================] - 0s 3ms/step - loss: 7401.1260 - mae: 7401.1260 - val_loss: 7224.2793 - val_mae: 7224.2793\n",
            "Epoch 57/100\n",
            "34/34 [==============================] - 0s 3ms/step - loss: 7352.6074 - mae: 7352.6074 - val_loss: 6758.9189 - val_mae: 6758.9189\n",
            "Epoch 58/100\n",
            "34/34 [==============================] - 0s 4ms/step - loss: 7519.5942 - mae: 7519.5942 - val_loss: 8019.1509 - val_mae: 8019.1509\n",
            "Epoch 59/100\n",
            "34/34 [==============================] - 0s 3ms/step - loss: 7500.6406 - mae: 7500.6406 - val_loss: 6263.2651 - val_mae: 6263.2651\n",
            "Epoch 60/100\n",
            "34/34 [==============================] - 0s 3ms/step - loss: 7502.6875 - mae: 7502.6875 - val_loss: 8147.6045 - val_mae: 8147.6045\n",
            "Epoch 61/100\n",
            "34/34 [==============================] - 0s 4ms/step - loss: 7379.3530 - mae: 7379.3530 - val_loss: 8674.0811 - val_mae: 8674.0811\n",
            "Epoch 62/100\n",
            "34/34 [==============================] - 0s 3ms/step - loss: 7242.5103 - mae: 7242.5103 - val_loss: 6258.2241 - val_mae: 6258.2241\n",
            "Epoch 63/100\n",
            "34/34 [==============================] - 0s 4ms/step - loss: 7324.7744 - mae: 7324.7744 - val_loss: 6356.6191 - val_mae: 6356.6191\n",
            "Epoch 64/100\n",
            "34/34 [==============================] - 0s 3ms/step - loss: 7284.5894 - mae: 7284.5894 - val_loss: 7749.3022 - val_mae: 7749.3022\n",
            "Epoch 65/100\n",
            "34/34 [==============================] - 0s 4ms/step - loss: 7557.3174 - mae: 7557.3174 - val_loss: 6363.4185 - val_mae: 6363.4185\n",
            "Epoch 66/100\n",
            "34/34 [==============================] - 0s 3ms/step - loss: 7244.7476 - mae: 7244.7476 - val_loss: 7672.3228 - val_mae: 7672.3228\n",
            "Epoch 67/100\n",
            "34/34 [==============================] - 0s 3ms/step - loss: 7386.1357 - mae: 7386.1357 - val_loss: 7768.9990 - val_mae: 7768.9990\n",
            "Epoch 68/100\n",
            "34/34 [==============================] - 0s 3ms/step - loss: 7511.5093 - mae: 7511.5093 - val_loss: 7878.9531 - val_mae: 7878.9531\n",
            "Epoch 69/100\n",
            "34/34 [==============================] - 0s 4ms/step - loss: 7381.5859 - mae: 7381.5859 - val_loss: 6309.8081 - val_mae: 6309.8081\n",
            "Epoch 70/100\n",
            "34/34 [==============================] - 0s 3ms/step - loss: 7597.9307 - mae: 7597.9307 - val_loss: 6554.6021 - val_mae: 6554.6021\n",
            "Epoch 71/100\n",
            "34/34 [==============================] - 0s 3ms/step - loss: 7355.9854 - mae: 7355.9854 - val_loss: 8051.8823 - val_mae: 8051.8823\n",
            "Epoch 72/100\n",
            "34/34 [==============================] - 0s 4ms/step - loss: 7460.9302 - mae: 7460.9302 - val_loss: 8972.5508 - val_mae: 8972.5508\n",
            "Epoch 73/100\n",
            "34/34 [==============================] - 0s 3ms/step - loss: 7408.6577 - mae: 7408.6577 - val_loss: 6151.0376 - val_mae: 6151.0376\n",
            "Epoch 74/100\n",
            "34/34 [==============================] - 0s 4ms/step - loss: 7543.0547 - mae: 7543.0547 - val_loss: 6459.2397 - val_mae: 6459.2397\n",
            "Epoch 75/100\n",
            "34/34 [==============================] - 0s 3ms/step - loss: 7321.9702 - mae: 7321.9702 - val_loss: 6687.9697 - val_mae: 6687.9697\n",
            "Epoch 76/100\n",
            "34/34 [==============================] - 0s 3ms/step - loss: 7267.5723 - mae: 7267.5723 - val_loss: 7565.1172 - val_mae: 7565.1172\n",
            "Epoch 77/100\n",
            "34/34 [==============================] - 0s 4ms/step - loss: 7438.2998 - mae: 7438.2998 - val_loss: 6158.3550 - val_mae: 6158.3550\n",
            "Epoch 78/100\n",
            "34/34 [==============================] - 0s 4ms/step - loss: 7209.6719 - mae: 7209.6719 - val_loss: 7247.0342 - val_mae: 7247.0342\n",
            "Epoch 79/100\n",
            "34/34 [==============================] - 0s 3ms/step - loss: 7421.3843 - mae: 7421.3843 - val_loss: 9694.9932 - val_mae: 9694.9932\n",
            "Epoch 80/100\n",
            "34/34 [==============================] - 0s 3ms/step - loss: 7160.1733 - mae: 7160.1733 - val_loss: 6131.7373 - val_mae: 6131.7373\n",
            "Epoch 81/100\n",
            "34/34 [==============================] - 0s 3ms/step - loss: 7200.0850 - mae: 7200.0850 - val_loss: 9806.7783 - val_mae: 9806.7783\n",
            "Epoch 82/100\n",
            "34/34 [==============================] - 0s 3ms/step - loss: 7294.2866 - mae: 7294.2866 - val_loss: 6394.6196 - val_mae: 6394.6196\n",
            "Epoch 83/100\n",
            "34/34 [==============================] - 0s 3ms/step - loss: 7500.8032 - mae: 7500.8032 - val_loss: 7517.3066 - val_mae: 7517.3066\n",
            "Epoch 84/100\n",
            "34/34 [==============================] - 0s 3ms/step - loss: 7324.9873 - mae: 7324.9873 - val_loss: 6312.7607 - val_mae: 6312.7607\n",
            "Epoch 85/100\n",
            "34/34 [==============================] - 0s 4ms/step - loss: 7358.4424 - mae: 7358.4424 - val_loss: 7100.9028 - val_mae: 7100.9028\n",
            "Epoch 86/100\n",
            "34/34 [==============================] - 0s 3ms/step - loss: 7426.8286 - mae: 7426.8286 - val_loss: 6481.1606 - val_mae: 6481.1606\n",
            "Epoch 87/100\n",
            "34/34 [==============================] - 0s 3ms/step - loss: 7277.7505 - mae: 7277.7505 - val_loss: 9782.1807 - val_mae: 9782.1807\n",
            "Epoch 88/100\n",
            "34/34 [==============================] - 0s 3ms/step - loss: 7329.2070 - mae: 7329.2070 - val_loss: 8610.2852 - val_mae: 8610.2852\n",
            "Epoch 89/100\n",
            "34/34 [==============================] - 0s 3ms/step - loss: 7515.4648 - mae: 7515.4648 - val_loss: 9382.4990 - val_mae: 9382.4990\n",
            "Epoch 90/100\n",
            "34/34 [==============================] - 0s 3ms/step - loss: 7042.3892 - mae: 7042.3892 - val_loss: 6028.1313 - val_mae: 6028.1313\n",
            "Epoch 91/100\n",
            "34/34 [==============================] - 0s 3ms/step - loss: 7252.5625 - mae: 7252.5625 - val_loss: 7098.9863 - val_mae: 7098.9863\n",
            "Epoch 92/100\n",
            "34/34 [==============================] - 0s 3ms/step - loss: 7319.7129 - mae: 7319.7129 - val_loss: 7946.5503 - val_mae: 7946.5503\n",
            "Epoch 93/100\n",
            "34/34 [==============================] - 0s 4ms/step - loss: 7535.5518 - mae: 7535.5518 - val_loss: 5935.7554 - val_mae: 5935.7554\n",
            "Epoch 94/100\n",
            "34/34 [==============================] - 0s 3ms/step - loss: 7207.7544 - mae: 7207.7544 - val_loss: 9219.5771 - val_mae: 9219.5771\n",
            "Epoch 95/100\n",
            "34/34 [==============================] - 0s 4ms/step - loss: 7477.6938 - mae: 7477.6938 - val_loss: 6206.8755 - val_mae: 6206.8755\n",
            "Epoch 96/100\n",
            "34/34 [==============================] - 0s 3ms/step - loss: 7145.1470 - mae: 7145.1470 - val_loss: 6680.9917 - val_mae: 6680.9917\n",
            "Epoch 97/100\n",
            "34/34 [==============================] - 0s 3ms/step - loss: 7252.1240 - mae: 7252.1240 - val_loss: 9467.4365 - val_mae: 9467.4365\n",
            "Epoch 98/100\n",
            "34/34 [==============================] - 0s 3ms/step - loss: 7416.5049 - mae: 7416.5049 - val_loss: 8151.5073 - val_mae: 8151.5073\n",
            "Epoch 99/100\n",
            "34/34 [==============================] - 0s 4ms/step - loss: 7336.7983 - mae: 7336.7983 - val_loss: 6816.8535 - val_mae: 6816.8535\n",
            "Epoch 100/100\n",
            "34/34 [==============================] - 0s 3ms/step - loss: 7113.3896 - mae: 7113.3896 - val_loss: 7047.3931 - val_mae: 7047.3931\n"
          ]
        },
        {
          "output_type": "execute_result",
          "data": {
            "text/plain": [
              "<keras.callbacks.History at 0x7f4e3a95fa50>"
            ]
          },
          "metadata": {},
          "execution_count": 168
        }
      ]
    },
    {
      "cell_type": "code",
      "source": [
        "from google.colab.output import eval_js\n",
        "eval_js('google.colab.output.setIframeHeight(\"300\")')\n",
        "\n",
        "#  Build a neural network\n",
        "tf.random.set_seed(42)\n",
        "\n",
        "# 1. Create the model\n",
        "insurance_model_3 = tf.keras.Sequential()\n",
        "\n",
        "insurance_model_3.add(Dense(units=512, activation=\"relu\"))\n",
        "insurance_model_3.add(Dense(units=512, activation=\"relu\"))\n",
        "insurance_model_3.add(Dense(units=1))\n",
        "\n",
        "# 2. Compile the model\n",
        "insurance_model_3.compile(loss=\"mae\",\n",
        "                        optimizer=tf.keras.optimizers.Adam(),\n",
        "                        metrics=[\"mae\"])\n",
        "\n",
        "# 3. Fit the model\n",
        "history = insurance_model_3.fit(X_train, y_train, epochs=200, validation_data=(X_test, y_test))"
      ],
      "metadata": {
        "colab": {
          "base_uri": "https://localhost:8080/",
          "height": 300
        },
        "id": "_OuZHWZAdiVJ",
        "outputId": "875a2ba0-8cb8-4c79-d9d9-76225f6367ad"
      },
      "execution_count": 169,
      "outputs": [
        {
          "output_type": "stream",
          "name": "stdout",
          "text": [
            "Epoch 1/200\n",
            "34/34 [==============================] - 1s 7ms/step - loss: 13114.5352 - mae: 13114.5352 - val_loss: 12212.8125 - val_mae: 12212.8125\n",
            "Epoch 2/200\n",
            "34/34 [==============================] - 0s 4ms/step - loss: 11023.1670 - mae: 11023.1670 - val_loss: 8458.9404 - val_mae: 8458.9404\n",
            "Epoch 3/200\n",
            "34/34 [==============================] - 0s 4ms/step - loss: 7654.7954 - mae: 7654.7954 - val_loss: 7676.2471 - val_mae: 7676.2471\n",
            "Epoch 4/200\n",
            "34/34 [==============================] - 0s 4ms/step - loss: 7423.2129 - mae: 7423.2129 - val_loss: 7506.2104 - val_mae: 7506.2104\n",
            "Epoch 5/200\n",
            "34/34 [==============================] - 0s 4ms/step - loss: 7334.2471 - mae: 7334.2471 - val_loss: 7402.1143 - val_mae: 7402.1143\n",
            "Epoch 6/200\n",
            "34/34 [==============================] - 0s 4ms/step - loss: 7266.6499 - mae: 7266.6499 - val_loss: 7331.4238 - val_mae: 7331.4238\n",
            "Epoch 7/200\n",
            "34/34 [==============================] - 0s 4ms/step - loss: 7179.0615 - mae: 7179.0615 - val_loss: 7198.9287 - val_mae: 7198.9287\n",
            "Epoch 8/200\n",
            "34/34 [==============================] - 0s 4ms/step - loss: 7093.0278 - mae: 7093.0278 - val_loss: 7089.2119 - val_mae: 7089.2119\n",
            "Epoch 9/200\n",
            "34/34 [==============================] - 0s 4ms/step - loss: 7004.3096 - mae: 7004.3096 - val_loss: 6973.2505 - val_mae: 6973.2505\n",
            "Epoch 10/200\n",
            "34/34 [==============================] - 0s 4ms/step - loss: 6911.9473 - mae: 6911.9473 - val_loss: 6834.3154 - val_mae: 6834.3154\n",
            "Epoch 11/200\n",
            "34/34 [==============================] - 0s 4ms/step - loss: 6814.5493 - mae: 6814.5493 - val_loss: 6710.5898 - val_mae: 6710.5898\n",
            "Epoch 12/200\n",
            "34/34 [==============================] - 0s 4ms/step - loss: 6704.7822 - mae: 6704.7822 - val_loss: 6547.0352 - val_mae: 6547.0352\n",
            "Epoch 13/200\n",
            "34/34 [==============================] - 0s 4ms/step - loss: 6599.5015 - mae: 6599.5015 - val_loss: 6427.2544 - val_mae: 6427.2544\n",
            "Epoch 14/200\n",
            "34/34 [==============================] - 0s 4ms/step - loss: 6519.4580 - mae: 6519.4580 - val_loss: 6343.3652 - val_mae: 6343.3652\n",
            "Epoch 15/200\n",
            "34/34 [==============================] - 0s 4ms/step - loss: 6462.1245 - mae: 6462.1245 - val_loss: 6284.8413 - val_mae: 6284.8413\n",
            "Epoch 16/200\n",
            "34/34 [==============================] - 0s 4ms/step - loss: 6409.5400 - mae: 6409.5400 - val_loss: 6238.0229 - val_mae: 6238.0229\n",
            "Epoch 17/200\n",
            "34/34 [==============================] - 0s 4ms/step - loss: 6361.9355 - mae: 6361.9355 - val_loss: 6184.4141 - val_mae: 6184.4141\n",
            "Epoch 18/200\n",
            "34/34 [==============================] - 0s 4ms/step - loss: 6316.5581 - mae: 6316.5581 - val_loss: 6132.0957 - val_mae: 6132.0957\n",
            "Epoch 19/200\n",
            "34/34 [==============================] - 0s 4ms/step - loss: 6256.9136 - mae: 6256.9136 - val_loss: 6069.3384 - val_mae: 6069.3384\n",
            "Epoch 20/200\n",
            "34/34 [==============================] - 0s 4ms/step - loss: 6201.8457 - mae: 6201.8457 - val_loss: 6007.3608 - val_mae: 6007.3608\n",
            "Epoch 21/200\n",
            "34/34 [==============================] - 0s 4ms/step - loss: 6129.7954 - mae: 6129.7954 - val_loss: 5954.6821 - val_mae: 5954.6821\n",
            "Epoch 22/200\n",
            "34/34 [==============================] - 0s 4ms/step - loss: 6069.9917 - mae: 6069.9917 - val_loss: 5854.4106 - val_mae: 5854.4106\n",
            "Epoch 23/200\n",
            "34/34 [==============================] - 0s 4ms/step - loss: 5977.2949 - mae: 5977.2949 - val_loss: 5777.5005 - val_mae: 5777.5005\n",
            "Epoch 24/200\n",
            "34/34 [==============================] - 0s 4ms/step - loss: 5884.0317 - mae: 5884.0317 - val_loss: 5666.6401 - val_mae: 5666.6401\n",
            "Epoch 25/200\n",
            "34/34 [==============================] - 0s 4ms/step - loss: 5783.1094 - mae: 5783.1094 - val_loss: 5547.2969 - val_mae: 5547.2969\n",
            "Epoch 26/200\n",
            "34/34 [==============================] - 0s 4ms/step - loss: 5661.3477 - mae: 5661.3477 - val_loss: 5424.1724 - val_mae: 5424.1724\n",
            "Epoch 27/200\n",
            "34/34 [==============================] - 0s 4ms/step - loss: 5519.1812 - mae: 5519.1812 - val_loss: 5301.0864 - val_mae: 5301.0864\n",
            "Epoch 28/200\n",
            "34/34 [==============================] - 0s 4ms/step - loss: 5348.9766 - mae: 5348.9766 - val_loss: 5095.7808 - val_mae: 5095.7808\n",
            "Epoch 29/200\n",
            "34/34 [==============================] - 0s 4ms/step - loss: 5159.2861 - mae: 5159.2861 - val_loss: 4894.5010 - val_mae: 4894.5010\n",
            "Epoch 30/200\n",
            "34/34 [==============================] - 0s 4ms/step - loss: 4923.6230 - mae: 4923.6230 - val_loss: 4637.8008 - val_mae: 4637.8008\n",
            "Epoch 31/200\n",
            "34/34 [==============================] - 0s 4ms/step - loss: 4640.6987 - mae: 4640.6987 - val_loss: 4358.8916 - val_mae: 4358.8916\n",
            "Epoch 32/200\n",
            "34/34 [==============================] - 0s 4ms/step - loss: 4394.2290 - mae: 4394.2290 - val_loss: 4135.0259 - val_mae: 4135.0259\n",
            "Epoch 33/200\n",
            "34/34 [==============================] - 0s 4ms/step - loss: 4137.1758 - mae: 4137.1758 - val_loss: 4030.2915 - val_mae: 4030.2915\n",
            "Epoch 34/200\n",
            "34/34 [==============================] - 0s 4ms/step - loss: 3944.6990 - mae: 3944.6990 - val_loss: 3630.7935 - val_mae: 3630.7935\n",
            "Epoch 35/200\n",
            "34/34 [==============================] - 0s 4ms/step - loss: 3725.1245 - mae: 3725.1245 - val_loss: 3502.9285 - val_mae: 3502.9285\n",
            "Epoch 36/200\n",
            "34/34 [==============================] - 0s 4ms/step - loss: 3630.9121 - mae: 3630.9121 - val_loss: 3434.6584 - val_mae: 3434.6584\n",
            "Epoch 37/200\n",
            "34/34 [==============================] - 0s 4ms/step - loss: 3585.3184 - mae: 3585.3184 - val_loss: 3396.6536 - val_mae: 3396.6536\n",
            "Epoch 38/200\n",
            "34/34 [==============================] - 0s 4ms/step - loss: 3539.0193 - mae: 3539.0193 - val_loss: 3389.5334 - val_mae: 3389.5334\n",
            "Epoch 39/200\n",
            "34/34 [==============================] - 0s 4ms/step - loss: 3527.2075 - mae: 3527.2075 - val_loss: 3421.3960 - val_mae: 3421.3960\n",
            "Epoch 40/200\n",
            "34/34 [==============================] - 0s 5ms/step - loss: 3517.7590 - mae: 3517.7590 - val_loss: 3308.0989 - val_mae: 3308.0989\n",
            "Epoch 41/200\n",
            "34/34 [==============================] - 0s 4ms/step - loss: 3487.0515 - mae: 3487.0515 - val_loss: 3297.1648 - val_mae: 3297.1648\n",
            "Epoch 42/200\n",
            "34/34 [==============================] - 0s 4ms/step - loss: 3455.6489 - mae: 3455.6489 - val_loss: 3256.8889 - val_mae: 3256.8889\n",
            "Epoch 43/200\n",
            "34/34 [==============================] - 0s 4ms/step - loss: 3435.1765 - mae: 3435.1765 - val_loss: 3241.9878 - val_mae: 3241.9878\n",
            "Epoch 44/200\n",
            "34/34 [==============================] - 0s 4ms/step - loss: 3417.9106 - mae: 3417.9106 - val_loss: 3235.9846 - val_mae: 3235.9846\n",
            "Epoch 45/200\n",
            "34/34 [==============================] - 0s 4ms/step - loss: 3394.6086 - mae: 3394.6086 - val_loss: 3240.8591 - val_mae: 3240.8591\n",
            "Epoch 46/200\n",
            "34/34 [==============================] - 0s 4ms/step - loss: 3376.9075 - mae: 3376.9075 - val_loss: 3204.3298 - val_mae: 3204.3298\n",
            "Epoch 47/200\n",
            "34/34 [==============================] - 0s 4ms/step - loss: 3348.6025 - mae: 3348.6025 - val_loss: 3133.0515 - val_mae: 3133.0515\n",
            "Epoch 48/200\n",
            "34/34 [==============================] - 0s 4ms/step - loss: 3326.5332 - mae: 3326.5332 - val_loss: 3107.3853 - val_mae: 3107.3853\n",
            "Epoch 49/200\n",
            "34/34 [==============================] - 0s 4ms/step - loss: 3306.8079 - mae: 3306.8079 - val_loss: 3097.7505 - val_mae: 3097.7505\n",
            "Epoch 50/200\n",
            "34/34 [==============================] - 0s 5ms/step - loss: 3291.9922 - mae: 3291.9922 - val_loss: 3069.9844 - val_mae: 3069.9844\n",
            "Epoch 51/200\n",
            "34/34 [==============================] - 0s 4ms/step - loss: 3279.2095 - mae: 3279.2095 - val_loss: 3056.8303 - val_mae: 3056.8303\n",
            "Epoch 52/200\n",
            "34/34 [==============================] - 0s 4ms/step - loss: 3247.6860 - mae: 3247.6860 - val_loss: 2999.9758 - val_mae: 2999.9758\n",
            "Epoch 53/200\n",
            "34/34 [==============================] - 0s 4ms/step - loss: 3215.3848 - mae: 3215.3848 - val_loss: 2983.4946 - val_mae: 2983.4946\n",
            "Epoch 54/200\n",
            "34/34 [==============================] - 0s 4ms/step - loss: 3205.7271 - mae: 3205.7271 - val_loss: 2952.9399 - val_mae: 2952.9399\n",
            "Epoch 55/200\n",
            "34/34 [==============================] - 0s 4ms/step - loss: 3202.7542 - mae: 3202.7542 - val_loss: 2940.4033 - val_mae: 2940.4033\n",
            "Epoch 56/200\n",
            "34/34 [==============================] - 0s 4ms/step - loss: 3138.1042 - mae: 3138.1042 - val_loss: 2893.4846 - val_mae: 2893.4846\n",
            "Epoch 57/200\n",
            "34/34 [==============================] - 0s 4ms/step - loss: 3105.8589 - mae: 3105.8589 - val_loss: 2850.2422 - val_mae: 2850.2422\n",
            "Epoch 58/200\n",
            "34/34 [==============================] - 0s 4ms/step - loss: 3101.7610 - mae: 3101.7610 - val_loss: 2824.2346 - val_mae: 2824.2346\n",
            "Epoch 59/200\n",
            "34/34 [==============================] - 0s 4ms/step - loss: 3064.5161 - mae: 3064.5161 - val_loss: 2772.3777 - val_mae: 2772.3777\n",
            "Epoch 60/200\n",
            "34/34 [==============================] - 0s 4ms/step - loss: 3005.4663 - mae: 3005.4663 - val_loss: 2741.7957 - val_mae: 2741.7957\n",
            "Epoch 61/200\n",
            "34/34 [==============================] - 0s 4ms/step - loss: 2986.8545 - mae: 2986.8545 - val_loss: 2695.3052 - val_mae: 2695.3052\n",
            "Epoch 62/200\n",
            "34/34 [==============================] - 0s 4ms/step - loss: 2933.1709 - mae: 2933.1709 - val_loss: 2663.8464 - val_mae: 2663.8464\n",
            "Epoch 63/200\n",
            "34/34 [==============================] - 0s 4ms/step - loss: 2907.4229 - mae: 2907.4229 - val_loss: 2641.6177 - val_mae: 2641.6177\n",
            "Epoch 64/200\n",
            "34/34 [==============================] - 0s 4ms/step - loss: 2883.2324 - mae: 2883.2324 - val_loss: 2600.7197 - val_mae: 2600.7197\n",
            "Epoch 65/200\n",
            "34/34 [==============================] - 0s 4ms/step - loss: 2875.5068 - mae: 2875.5068 - val_loss: 2590.6804 - val_mae: 2590.6804\n",
            "Epoch 66/200\n",
            "34/34 [==============================] - 0s 4ms/step - loss: 2893.6304 - mae: 2893.6304 - val_loss: 2591.8862 - val_mae: 2591.8862\n",
            "Epoch 67/200\n",
            "34/34 [==============================] - 0s 4ms/step - loss: 2852.6704 - mae: 2852.6704 - val_loss: 2569.5437 - val_mae: 2569.5437\n",
            "Epoch 68/200\n",
            "34/34 [==============================] - 0s 4ms/step - loss: 2835.8940 - mae: 2835.8940 - val_loss: 2554.1301 - val_mae: 2554.1301\n",
            "Epoch 69/200\n",
            "34/34 [==============================] - 0s 5ms/step - loss: 2812.3501 - mae: 2812.3501 - val_loss: 2581.2407 - val_mae: 2581.2407\n",
            "Epoch 70/200\n",
            "34/34 [==============================] - 0s 4ms/step - loss: 2812.7732 - mae: 2812.7732 - val_loss: 2545.0972 - val_mae: 2545.0972\n",
            "Epoch 71/200\n",
            "34/34 [==============================] - 0s 4ms/step - loss: 2805.1516 - mae: 2805.1516 - val_loss: 2536.7402 - val_mae: 2536.7402\n",
            "Epoch 72/200\n",
            "34/34 [==============================] - 0s 4ms/step - loss: 2790.4634 - mae: 2790.4634 - val_loss: 2523.6501 - val_mae: 2523.6501\n",
            "Epoch 73/200\n",
            "34/34 [==============================] - 0s 4ms/step - loss: 2781.4592 - mae: 2781.4592 - val_loss: 2521.3484 - val_mae: 2521.3484\n",
            "Epoch 74/200\n",
            "34/34 [==============================] - 0s 4ms/step - loss: 2759.6545 - mae: 2759.6545 - val_loss: 2508.2346 - val_mae: 2508.2346\n",
            "Epoch 75/200\n",
            "34/34 [==============================] - 0s 4ms/step - loss: 2760.5508 - mae: 2760.5508 - val_loss: 2528.3308 - val_mae: 2528.3308\n",
            "Epoch 76/200\n",
            "34/34 [==============================] - 0s 4ms/step - loss: 2775.4968 - mae: 2775.4968 - val_loss: 2506.4285 - val_mae: 2506.4285\n",
            "Epoch 77/200\n",
            "34/34 [==============================] - 0s 4ms/step - loss: 2738.7197 - mae: 2738.7197 - val_loss: 2491.8784 - val_mae: 2491.8784\n",
            "Epoch 78/200\n",
            "34/34 [==============================] - 0s 4ms/step - loss: 2733.5916 - mae: 2733.5916 - val_loss: 2493.8269 - val_mae: 2493.8269\n",
            "Epoch 79/200\n",
            "34/34 [==============================] - 0s 4ms/step - loss: 2747.7690 - mae: 2747.7690 - val_loss: 2504.5291 - val_mae: 2504.5291\n",
            "Epoch 80/200\n",
            "34/34 [==============================] - 0s 4ms/step - loss: 2741.0474 - mae: 2741.0474 - val_loss: 2481.4426 - val_mae: 2481.4426\n",
            "Epoch 81/200\n",
            "34/34 [==============================] - 0s 4ms/step - loss: 2741.1731 - mae: 2741.1731 - val_loss: 2467.7573 - val_mae: 2467.7573\n",
            "Epoch 82/200\n",
            "34/34 [==============================] - 0s 4ms/step - loss: 2696.3682 - mae: 2696.3682 - val_loss: 2471.0942 - val_mae: 2471.0942\n",
            "Epoch 83/200\n",
            "34/34 [==============================] - 0s 4ms/step - loss: 2736.8994 - mae: 2736.8994 - val_loss: 2464.5547 - val_mae: 2464.5547\n",
            "Epoch 84/200\n",
            "34/34 [==============================] - 0s 4ms/step - loss: 2680.0261 - mae: 2680.0261 - val_loss: 2469.9819 - val_mae: 2469.9819\n",
            "Epoch 85/200\n",
            "34/34 [==============================] - 0s 4ms/step - loss: 2673.1252 - mae: 2673.1252 - val_loss: 2468.3726 - val_mae: 2468.3726\n",
            "Epoch 86/200\n",
            "34/34 [==============================] - 0s 4ms/step - loss: 2662.9639 - mae: 2662.9639 - val_loss: 2433.7639 - val_mae: 2433.7639\n",
            "Epoch 87/200\n",
            "34/34 [==============================] - 0s 4ms/step - loss: 2676.4800 - mae: 2676.4800 - val_loss: 2437.3818 - val_mae: 2437.3818\n",
            "Epoch 88/200\n",
            "34/34 [==============================] - 0s 4ms/step - loss: 2648.4648 - mae: 2648.4648 - val_loss: 2423.8865 - val_mae: 2423.8865\n",
            "Epoch 89/200\n",
            "34/34 [==============================] - 0s 4ms/step - loss: 2655.3132 - mae: 2655.3132 - val_loss: 2415.9326 - val_mae: 2415.9326\n",
            "Epoch 90/200\n",
            "34/34 [==============================] - 0s 4ms/step - loss: 2651.4888 - mae: 2651.4888 - val_loss: 2435.8477 - val_mae: 2435.8477\n",
            "Epoch 91/200\n",
            "34/34 [==============================] - 0s 4ms/step - loss: 2624.1121 - mae: 2624.1121 - val_loss: 2419.2976 - val_mae: 2419.2976\n",
            "Epoch 92/200\n",
            "34/34 [==============================] - 0s 4ms/step - loss: 2639.2654 - mae: 2639.2654 - val_loss: 2409.7922 - val_mae: 2409.7922\n",
            "Epoch 93/200\n",
            "34/34 [==============================] - 0s 4ms/step - loss: 2634.7627 - mae: 2634.7627 - val_loss: 2441.7065 - val_mae: 2441.7065\n",
            "Epoch 94/200\n",
            "34/34 [==============================] - 0s 4ms/step - loss: 2618.1711 - mae: 2618.1711 - val_loss: 2415.9199 - val_mae: 2415.9199\n",
            "Epoch 95/200\n",
            "34/34 [==============================] - 0s 4ms/step - loss: 2611.9243 - mae: 2611.9243 - val_loss: 2385.3269 - val_mae: 2385.3269\n",
            "Epoch 96/200\n",
            "34/34 [==============================] - 0s 4ms/step - loss: 2586.0925 - mae: 2586.0925 - val_loss: 2398.6689 - val_mae: 2398.6689\n",
            "Epoch 97/200\n",
            "34/34 [==============================] - 0s 4ms/step - loss: 2607.5322 - mae: 2607.5322 - val_loss: 2443.0420 - val_mae: 2443.0420\n",
            "Epoch 98/200\n",
            "34/34 [==============================] - 0s 4ms/step - loss: 2606.6821 - mae: 2606.6821 - val_loss: 2359.7529 - val_mae: 2359.7529\n",
            "Epoch 99/200\n",
            "34/34 [==============================] - 0s 4ms/step - loss: 2569.4944 - mae: 2569.4944 - val_loss: 2354.5791 - val_mae: 2354.5791\n",
            "Epoch 100/200\n",
            "34/34 [==============================] - 0s 4ms/step - loss: 2564.7852 - mae: 2564.7852 - val_loss: 2366.2319 - val_mae: 2366.2319\n",
            "Epoch 101/200\n",
            "34/34 [==============================] - 0s 4ms/step - loss: 2538.2632 - mae: 2538.2632 - val_loss: 2370.6023 - val_mae: 2370.6023\n",
            "Epoch 102/200\n",
            "34/34 [==============================] - 0s 4ms/step - loss: 2551.8425 - mae: 2551.8425 - val_loss: 2348.4321 - val_mae: 2348.4321\n",
            "Epoch 103/200\n",
            "34/34 [==============================] - 0s 4ms/step - loss: 2540.3054 - mae: 2540.3054 - val_loss: 2342.8484 - val_mae: 2342.8484\n",
            "Epoch 104/200\n",
            "34/34 [==============================] - 0s 4ms/step - loss: 2531.1736 - mae: 2531.1736 - val_loss: 2353.8020 - val_mae: 2353.8020\n",
            "Epoch 105/200\n",
            "34/34 [==============================] - 0s 4ms/step - loss: 2541.4094 - mae: 2541.4094 - val_loss: 2340.8977 - val_mae: 2340.8977\n",
            "Epoch 106/200\n",
            "34/34 [==============================] - 0s 4ms/step - loss: 2523.3162 - mae: 2523.3162 - val_loss: 2402.1914 - val_mae: 2402.1914\n",
            "Epoch 107/200\n",
            "34/34 [==============================] - 0s 4ms/step - loss: 2544.8638 - mae: 2544.8638 - val_loss: 2325.5193 - val_mae: 2325.5193\n",
            "Epoch 108/200\n",
            "34/34 [==============================] - 0s 4ms/step - loss: 2491.9045 - mae: 2491.9045 - val_loss: 2306.5496 - val_mae: 2306.5496\n",
            "Epoch 109/200\n",
            "34/34 [==============================] - 0s 4ms/step - loss: 2497.7983 - mae: 2497.7983 - val_loss: 2334.8904 - val_mae: 2334.8904\n",
            "Epoch 110/200\n",
            "34/34 [==============================] - 0s 4ms/step - loss: 2515.1724 - mae: 2515.1724 - val_loss: 2288.6089 - val_mae: 2288.6089\n",
            "Epoch 111/200\n",
            "34/34 [==============================] - 0s 4ms/step - loss: 2478.1626 - mae: 2478.1626 - val_loss: 2292.1172 - val_mae: 2292.1172\n",
            "Epoch 112/200\n",
            "34/34 [==============================] - 0s 4ms/step - loss: 2472.3672 - mae: 2472.3672 - val_loss: 2309.5906 - val_mae: 2309.5906\n",
            "Epoch 113/200\n",
            "34/34 [==============================] - 0s 4ms/step - loss: 2475.4895 - mae: 2475.4895 - val_loss: 2281.2031 - val_mae: 2281.2031\n",
            "Epoch 114/200\n",
            "34/34 [==============================] - 0s 4ms/step - loss: 2479.8284 - mae: 2479.8284 - val_loss: 2327.7031 - val_mae: 2327.7031\n",
            "Epoch 115/200\n",
            "34/34 [==============================] - 0s 4ms/step - loss: 2453.8933 - mae: 2453.8933 - val_loss: 2270.8108 - val_mae: 2270.8108\n",
            "Epoch 116/200\n",
            "34/34 [==============================] - 0s 4ms/step - loss: 2484.9863 - mae: 2484.9863 - val_loss: 2335.5083 - val_mae: 2335.5083\n",
            "Epoch 117/200\n",
            "34/34 [==============================] - 0s 4ms/step - loss: 2433.8950 - mae: 2433.8950 - val_loss: 2277.9165 - val_mae: 2277.9165\n",
            "Epoch 118/200\n",
            "34/34 [==============================] - 0s 4ms/step - loss: 2430.6316 - mae: 2430.6316 - val_loss: 2238.3457 - val_mae: 2238.3457\n",
            "Epoch 119/200\n",
            "34/34 [==============================] - 0s 4ms/step - loss: 2432.4875 - mae: 2432.4875 - val_loss: 2258.7322 - val_mae: 2258.7322\n",
            "Epoch 120/200\n",
            "34/34 [==============================] - 0s 4ms/step - loss: 2422.2468 - mae: 2422.2468 - val_loss: 2229.9702 - val_mae: 2229.9702\n",
            "Epoch 121/200\n",
            "34/34 [==============================] - 0s 4ms/step - loss: 2408.9436 - mae: 2408.9436 - val_loss: 2236.0215 - val_mae: 2236.0215\n",
            "Epoch 122/200\n",
            "34/34 [==============================] - 0s 4ms/step - loss: 2394.3965 - mae: 2394.3965 - val_loss: 2211.3928 - val_mae: 2211.3928\n",
            "Epoch 123/200\n",
            "34/34 [==============================] - 0s 4ms/step - loss: 2394.5063 - mae: 2394.5063 - val_loss: 2204.4487 - val_mae: 2204.4487\n",
            "Epoch 124/200\n",
            "34/34 [==============================] - 0s 4ms/step - loss: 2381.2380 - mae: 2381.2380 - val_loss: 2215.8164 - val_mae: 2215.8164\n",
            "Epoch 125/200\n",
            "34/34 [==============================] - 0s 5ms/step - loss: 2364.2742 - mae: 2364.2742 - val_loss: 2229.8984 - val_mae: 2229.8984\n",
            "Epoch 126/200\n",
            "34/34 [==============================] - 0s 4ms/step - loss: 2384.4453 - mae: 2384.4453 - val_loss: 2186.7434 - val_mae: 2186.7434\n",
            "Epoch 127/200\n",
            "34/34 [==============================] - 0s 4ms/step - loss: 2375.5452 - mae: 2375.5452 - val_loss: 2200.1084 - val_mae: 2200.1084\n",
            "Epoch 128/200\n",
            "34/34 [==============================] - 0s 4ms/step - loss: 2363.9883 - mae: 2363.9883 - val_loss: 2205.8572 - val_mae: 2205.8572\n",
            "Epoch 129/200\n",
            "34/34 [==============================] - 0s 4ms/step - loss: 2372.6863 - mae: 2372.6863 - val_loss: 2217.2600 - val_mae: 2217.2600\n",
            "Epoch 130/200\n",
            "34/34 [==============================] - 0s 4ms/step - loss: 2362.6184 - mae: 2362.6184 - val_loss: 2160.6526 - val_mae: 2160.6526\n",
            "Epoch 131/200\n",
            "34/34 [==============================] - 0s 4ms/step - loss: 2338.7549 - mae: 2338.7549 - val_loss: 2177.5813 - val_mae: 2177.5813\n",
            "Epoch 132/200\n",
            "34/34 [==============================] - 0s 4ms/step - loss: 2330.4021 - mae: 2330.4021 - val_loss: 2205.8777 - val_mae: 2205.8777\n",
            "Epoch 133/200\n",
            "34/34 [==============================] - 0s 4ms/step - loss: 2357.9106 - mae: 2357.9106 - val_loss: 2183.3821 - val_mae: 2183.3821\n",
            "Epoch 134/200\n",
            "34/34 [==============================] - 0s 4ms/step - loss: 2320.2898 - mae: 2320.2898 - val_loss: 2158.5212 - val_mae: 2158.5212\n",
            "Epoch 135/200\n",
            "34/34 [==============================] - 0s 4ms/step - loss: 2324.9028 - mae: 2324.9028 - val_loss: 2146.4009 - val_mae: 2146.4009\n",
            "Epoch 136/200\n",
            "34/34 [==============================] - 0s 4ms/step - loss: 2311.4023 - mae: 2311.4023 - val_loss: 2159.8254 - val_mae: 2159.8254\n",
            "Epoch 137/200\n",
            "34/34 [==============================] - 0s 4ms/step - loss: 2302.1907 - mae: 2302.1907 - val_loss: 2206.7017 - val_mae: 2206.7017\n",
            "Epoch 138/200\n",
            "34/34 [==============================] - 0s 4ms/step - loss: 2314.8640 - mae: 2314.8640 - val_loss: 2144.4434 - val_mae: 2144.4434\n",
            "Epoch 139/200\n",
            "34/34 [==============================] - 0s 4ms/step - loss: 2299.7280 - mae: 2299.7280 - val_loss: 2129.6042 - val_mae: 2129.6042\n",
            "Epoch 140/200\n",
            "34/34 [==============================] - 0s 4ms/step - loss: 2283.5549 - mae: 2283.5549 - val_loss: 2185.6025 - val_mae: 2185.6025\n",
            "Epoch 141/200\n",
            "34/34 [==============================] - 0s 4ms/step - loss: 2329.5547 - mae: 2329.5547 - val_loss: 2225.3105 - val_mae: 2225.3105\n",
            "Epoch 142/200\n",
            "34/34 [==============================] - 0s 4ms/step - loss: 2300.6775 - mae: 2300.6775 - val_loss: 2189.2832 - val_mae: 2189.2832\n",
            "Epoch 143/200\n",
            "34/34 [==============================] - 0s 4ms/step - loss: 2320.0552 - mae: 2320.0552 - val_loss: 2178.0552 - val_mae: 2178.0552\n",
            "Epoch 144/200\n",
            "34/34 [==============================] - 0s 4ms/step - loss: 2277.7861 - mae: 2277.7861 - val_loss: 2110.6882 - val_mae: 2110.6882\n",
            "Epoch 145/200\n",
            "34/34 [==============================] - 0s 4ms/step - loss: 2264.7527 - mae: 2264.7527 - val_loss: 2155.3630 - val_mae: 2155.3630\n",
            "Epoch 146/200\n",
            "34/34 [==============================] - 0s 7ms/step - loss: 2292.0635 - mae: 2292.0635 - val_loss: 2157.0146 - val_mae: 2157.0146\n",
            "Epoch 147/200\n",
            "34/34 [==============================] - 0s 11ms/step - loss: 2260.7024 - mae: 2260.7024 - val_loss: 2146.7124 - val_mae: 2146.7124\n",
            "Epoch 148/200\n",
            "34/34 [==============================] - 0s 10ms/step - loss: 2257.8613 - mae: 2257.8613 - val_loss: 2081.6726 - val_mae: 2081.6726\n",
            "Epoch 149/200\n",
            "34/34 [==============================] - 0s 8ms/step - loss: 2233.5176 - mae: 2233.5176 - val_loss: 2137.7488 - val_mae: 2137.7488\n",
            "Epoch 150/200\n",
            "34/34 [==============================] - 0s 4ms/step - loss: 2250.2241 - mae: 2250.2241 - val_loss: 2126.3242 - val_mae: 2126.3242\n",
            "Epoch 151/200\n",
            "34/34 [==============================] - 0s 4ms/step - loss: 2241.7698 - mae: 2241.7698 - val_loss: 2087.4387 - val_mae: 2087.4387\n",
            "Epoch 152/200\n",
            "34/34 [==============================] - 0s 4ms/step - loss: 2209.3613 - mae: 2209.3613 - val_loss: 2146.5088 - val_mae: 2146.5088\n",
            "Epoch 153/200\n",
            "34/34 [==============================] - 0s 4ms/step - loss: 2263.6272 - mae: 2263.6272 - val_loss: 2073.9258 - val_mae: 2073.9258\n",
            "Epoch 154/200\n",
            "34/34 [==============================] - 0s 4ms/step - loss: 2241.6714 - mae: 2241.6714 - val_loss: 2089.1902 - val_mae: 2089.1902\n",
            "Epoch 155/200\n",
            "34/34 [==============================] - 0s 4ms/step - loss: 2218.2908 - mae: 2218.2908 - val_loss: 2057.0862 - val_mae: 2057.0862\n",
            "Epoch 156/200\n",
            "34/34 [==============================] - 0s 4ms/step - loss: 2213.1475 - mae: 2213.1475 - val_loss: 2057.2295 - val_mae: 2057.2295\n",
            "Epoch 157/200\n",
            "34/34 [==============================] - 0s 4ms/step - loss: 2211.0032 - mae: 2211.0032 - val_loss: 2050.7615 - val_mae: 2050.7615\n",
            "Epoch 158/200\n",
            "34/34 [==============================] - 0s 4ms/step - loss: 2219.2256 - mae: 2219.2256 - val_loss: 2082.1204 - val_mae: 2082.1204\n",
            "Epoch 159/200\n",
            "34/34 [==============================] - 0s 4ms/step - loss: 2199.2617 - mae: 2199.2617 - val_loss: 2069.3027 - val_mae: 2069.3027\n",
            "Epoch 160/200\n",
            "34/34 [==============================] - 0s 4ms/step - loss: 2202.1482 - mae: 2202.1482 - val_loss: 2108.9482 - val_mae: 2108.9482\n",
            "Epoch 161/200\n",
            "34/34 [==============================] - 0s 4ms/step - loss: 2189.0281 - mae: 2189.0281 - val_loss: 2083.4561 - val_mae: 2083.4561\n",
            "Epoch 162/200\n",
            "34/34 [==============================] - 0s 4ms/step - loss: 2197.8359 - mae: 2197.8359 - val_loss: 2071.2014 - val_mae: 2071.2014\n",
            "Epoch 163/200\n",
            "34/34 [==============================] - 0s 5ms/step - loss: 2174.6182 - mae: 2174.6182 - val_loss: 2025.1511 - val_mae: 2025.1511\n",
            "Epoch 164/200\n",
            "34/34 [==============================] - 0s 4ms/step - loss: 2166.7644 - mae: 2166.7644 - val_loss: 2035.2738 - val_mae: 2035.2738\n",
            "Epoch 165/200\n",
            "34/34 [==============================] - 0s 4ms/step - loss: 2178.5657 - mae: 2178.5657 - val_loss: 2072.2634 - val_mae: 2072.2634\n",
            "Epoch 166/200\n",
            "34/34 [==============================] - 0s 4ms/step - loss: 2208.8875 - mae: 2208.8875 - val_loss: 2041.7756 - val_mae: 2041.7756\n",
            "Epoch 167/200\n",
            "34/34 [==============================] - 0s 4ms/step - loss: 2183.7620 - mae: 2183.7620 - val_loss: 2079.6150 - val_mae: 2079.6150\n",
            "Epoch 168/200\n",
            "34/34 [==============================] - 0s 4ms/step - loss: 2164.7864 - mae: 2164.7864 - val_loss: 2016.5581 - val_mae: 2016.5581\n",
            "Epoch 169/200\n",
            "34/34 [==============================] - 0s 4ms/step - loss: 2156.4817 - mae: 2156.4817 - val_loss: 2002.0699 - val_mae: 2002.0699\n",
            "Epoch 170/200\n",
            "34/34 [==============================] - 0s 4ms/step - loss: 2145.7625 - mae: 2145.7625 - val_loss: 2027.8514 - val_mae: 2027.8514\n",
            "Epoch 171/200\n",
            "34/34 [==============================] - 0s 4ms/step - loss: 2160.8684 - mae: 2160.8684 - val_loss: 2011.4716 - val_mae: 2011.4716\n",
            "Epoch 172/200\n",
            "34/34 [==============================] - 0s 4ms/step - loss: 2176.6326 - mae: 2176.6326 - val_loss: 2058.0977 - val_mae: 2058.0977\n",
            "Epoch 173/200\n",
            "34/34 [==============================] - 0s 4ms/step - loss: 2172.8179 - mae: 2172.8179 - val_loss: 1995.0065 - val_mae: 1995.0065\n",
            "Epoch 174/200\n",
            "34/34 [==============================] - 0s 4ms/step - loss: 2156.1821 - mae: 2156.1821 - val_loss: 2008.8909 - val_mae: 2008.8909\n",
            "Epoch 175/200\n",
            "34/34 [==============================] - 0s 4ms/step - loss: 2150.5930 - mae: 2150.5930 - val_loss: 1986.1371 - val_mae: 1986.1371\n",
            "Epoch 176/200\n",
            "34/34 [==============================] - 0s 4ms/step - loss: 2133.7104 - mae: 2133.7104 - val_loss: 1973.8771 - val_mae: 1973.8771\n",
            "Epoch 177/200\n",
            "34/34 [==============================] - 0s 4ms/step - loss: 2142.0366 - mae: 2142.0366 - val_loss: 2032.2150 - val_mae: 2032.2150\n",
            "Epoch 178/200\n",
            "34/34 [==============================] - 0s 4ms/step - loss: 2174.1313 - mae: 2174.1313 - val_loss: 1963.5876 - val_mae: 1963.5876\n",
            "Epoch 179/200\n",
            "34/34 [==============================] - 0s 4ms/step - loss: 2133.8105 - mae: 2133.8105 - val_loss: 2008.5994 - val_mae: 2008.5994\n",
            "Epoch 180/200\n",
            "34/34 [==============================] - 0s 4ms/step - loss: 2118.1326 - mae: 2118.1326 - val_loss: 1999.2388 - val_mae: 1999.2388\n",
            "Epoch 181/200\n",
            "34/34 [==============================] - 0s 4ms/step - loss: 2122.9607 - mae: 2122.9607 - val_loss: 1963.3038 - val_mae: 1963.3038\n",
            "Epoch 182/200\n",
            "34/34 [==============================] - 0s 4ms/step - loss: 2108.5486 - mae: 2108.5486 - val_loss: 1942.8018 - val_mae: 1942.8018\n",
            "Epoch 183/200\n",
            "34/34 [==============================] - 0s 4ms/step - loss: 2096.8069 - mae: 2096.8069 - val_loss: 1967.5200 - val_mae: 1967.5200\n",
            "Epoch 184/200\n",
            "34/34 [==============================] - 0s 4ms/step - loss: 2135.8887 - mae: 2135.8887 - val_loss: 1946.2131 - val_mae: 1946.2131\n",
            "Epoch 185/200\n",
            "34/34 [==============================] - 0s 4ms/step - loss: 2092.1907 - mae: 2092.1907 - val_loss: 1935.0948 - val_mae: 1935.0948\n",
            "Epoch 186/200\n",
            "34/34 [==============================] - 0s 4ms/step - loss: 2085.3088 - mae: 2085.3088 - val_loss: 1932.6990 - val_mae: 1932.6990\n",
            "Epoch 187/200\n",
            "34/34 [==============================] - 0s 4ms/step - loss: 2080.0571 - mae: 2080.0571 - val_loss: 1947.6360 - val_mae: 1947.6360\n",
            "Epoch 188/200\n",
            "34/34 [==============================] - 0s 4ms/step - loss: 2086.1399 - mae: 2086.1399 - val_loss: 1997.2661 - val_mae: 1997.2661\n",
            "Epoch 189/200\n",
            "34/34 [==============================] - 0s 4ms/step - loss: 2107.2698 - mae: 2107.2698 - val_loss: 1924.4847 - val_mae: 1924.4847\n",
            "Epoch 190/200\n",
            "34/34 [==============================] - 0s 4ms/step - loss: 2091.2961 - mae: 2091.2961 - val_loss: 1902.5685 - val_mae: 1902.5685\n",
            "Epoch 191/200\n",
            "34/34 [==============================] - 0s 5ms/step - loss: 2084.1519 - mae: 2084.1519 - val_loss: 1915.9675 - val_mae: 1915.9675\n",
            "Epoch 192/200\n",
            "34/34 [==============================] - 0s 5ms/step - loss: 2091.8708 - mae: 2091.8708 - val_loss: 1911.8965 - val_mae: 1911.8965\n",
            "Epoch 193/200\n",
            "34/34 [==============================] - 0s 4ms/step - loss: 2117.7856 - mae: 2117.7856 - val_loss: 1933.7423 - val_mae: 1933.7423\n",
            "Epoch 194/200\n",
            "34/34 [==============================] - 0s 4ms/step - loss: 2071.7529 - mae: 2071.7529 - val_loss: 1890.4456 - val_mae: 1890.4456\n",
            "Epoch 195/200\n",
            "34/34 [==============================] - 0s 4ms/step - loss: 2067.0681 - mae: 2067.0681 - val_loss: 1874.1772 - val_mae: 1874.1772\n",
            "Epoch 196/200\n",
            "34/34 [==============================] - 0s 4ms/step - loss: 2056.3650 - mae: 2056.3650 - val_loss: 1971.2458 - val_mae: 1971.2458\n",
            "Epoch 197/200\n",
            "34/34 [==============================] - 0s 4ms/step - loss: 2092.4905 - mae: 2092.4905 - val_loss: 1872.6136 - val_mae: 1872.6136\n",
            "Epoch 198/200\n",
            "34/34 [==============================] - 0s 4ms/step - loss: 2096.5471 - mae: 2096.5471 - val_loss: 1877.7522 - val_mae: 1877.7522\n",
            "Epoch 199/200\n",
            "34/34 [==============================] - 0s 4ms/step - loss: 2088.6074 - mae: 2088.6074 - val_loss: 1866.7399 - val_mae: 1866.7399\n",
            "Epoch 200/200\n",
            "34/34 [==============================] - 0s 4ms/step - loss: 2066.8586 - mae: 2066.8586 - val_loss: 1867.1238 - val_mae: 1867.1238\n"
          ]
        }
      ]
    },
    {
      "cell_type": "code",
      "source": [
        "# Plot history (aka loss curve or a training curve)\n",
        "pd.DataFrame(history.history).plot()\n",
        "plt.ylabel(\"loss\")\n",
        "plt.xlabel(\"epochs\")"
      ],
      "metadata": {
        "colab": {
          "base_uri": "https://localhost:8080/",
          "height": 297
        },
        "id": "vpZsx8tbdl7B",
        "outputId": "94ab2b5a-3749-4d6f-80a3-bdc3ea4d63bb"
      },
      "execution_count": 170,
      "outputs": [
        {
          "output_type": "execute_result",
          "data": {
            "text/plain": [
              "Text(0.5, 0, 'epochs')"
            ]
          },
          "metadata": {},
          "execution_count": 170
        },
        {
          "output_type": "display_data",
          "data": {
            "text/plain": [
              "<Figure size 432x288 with 1 Axes>"
            ],
            "image/png": "[encoded data removed]"
          },
          "metadata": {
            "needs_background": "light"
          }
        }
      ]
    },
    {
      "cell_type": "markdown",
      "source": [
        "## Preprocessing data (normalization and standardization)\n",
        "\n",
        "* In terms of scaling values, neural networks prefer normalization"
      ],
      "metadata": {
        "id": "vVpz1HwHfi0D"
      }
    },
    {
      "cell_type": "code",
      "source": [
        "import tensorflow as tf\n",
        "import pandas as pd\n",
        "import matplotlib.pyplot as plt\n",
        "\n",
        "insurance = pd.read_csv('https://raw.githubusercontent.com/stedy/Machine-Learning-with-R-datasets/master/insurance.csv')\n",
        "insurance"
      ],
      "metadata": {
        "colab": {
          "base_uri": "https://localhost:8080/",
          "height": 423
        },
        "id": "5X-XJlC0nwyN",
        "outputId": "793ed0f1-1a92-43e5-e89f-0d7b3da1cf2f"
      },
      "execution_count": 171,
      "outputs": [
        {
          "output_type": "execute_result",
          "data": {
            "text/plain": [
              "      age     sex     bmi  children smoker     region      charges\n",
              "0      19  female  27.900         0    yes  southwest  16884.92400\n",
              "1      18    male  33.770         1     no  southeast   1725.55230\n",
              "2      28    male  33.000         3     no  southeast   4449.46200\n",
              "3      33    male  22.705         0     no  northwest  21984.47061\n",
              "4      32    male  28.880         0     no  northwest   3866.85520\n",
              "...   ...     ...     ...       ...    ...        ...          ...\n",
              "1333   50    male  30.970         3     no  northwest  10600.54830\n",
              "1334   18  female  31.920         0     no  northeast   2205.98080\n",
              "1335   18  female  36.850         0     no  southeast   1629.83350\n",
              "1336   21  female  25.800         0     no  southwest   2007.94500\n",
              "1337   61  female  29.070         0    yes  northwest  29141.36030\n",
              "\n",
              "[1338 rows x 7 columns]"
            ],
            "text/html": [
              "\n",
              "  <div id=\"df-d034fd94-2399-4817-b35f-f1d4c965d2dd\">\n",
              "    <div class=\"colab-df-container\">\n",
              "      <div>\n",
              "<style scoped>\n",
              "    .dataframe tbody tr th:only-of-type {\n",
              "        vertical-align: middle;\n",
              "    }\n",
              "\n",
              "    .dataframe tbody tr th {\n",
              "        vertical-align: top;\n",
              "    }\n",
              "\n",
              "    .dataframe thead th {\n",
              "        text-align: right;\n",
              "    }\n",
              "</style>\n",
              "<table border=\"1\" class=\"dataframe\">\n",
              "  <thead>\n",
              "    <tr style=\"text-align: right;\">\n",
              "      <th></th>\n",
              "      <th>age</th>\n",
              "      <th>sex</th>\n",
              "      <th>bmi</th>\n",
              "      <th>children</th>\n",
              "      <th>smoker</th>\n",
              "      <th>region</th>\n",
              "      <th>charges</th>\n",
              "    </tr>\n",
              "  </thead>\n",
              "  <tbody>\n",
              "    <tr>\n",
              "      <th>0</th>\n",
              "      <td>19</td>\n",
              "      <td>female</td>\n",
              "      <td>27.900</td>\n",
              "      <td>0</td>\n",
              "      <td>yes</td>\n",
              "      <td>southwest</td>\n",
              "      <td>16884.92400</td>\n",
              "    </tr>\n",
              "    <tr>\n",
              "      <th>1</th>\n",
              "      <td>18</td>\n",
              "      <td>male</td>\n",
              "      <td>33.770</td>\n",
              "      <td>1</td>\n",
              "      <td>no</td>\n",
              "      <td>southeast</td>\n",
              "      <td>1725.55230</td>\n",
              "    </tr>\n",
              "    <tr>\n",
              "      <th>2</th>\n",
              "      <td>28</td>\n",
              "      <td>male</td>\n",
              "      <td>33.000</td>\n",
              "      <td>3</td>\n",
              "      <td>no</td>\n",
              "      <td>southeast</td>\n",
              "      <td>4449.46200</td>\n",
              "    </tr>\n",
              "    <tr>\n",
              "      <th>3</th>\n",
              "      <td>33</td>\n",
              "      <td>male</td>\n",
              "      <td>22.705</td>\n",
              "      <td>0</td>\n",
              "      <td>no</td>\n",
              "      <td>northwest</td>\n",
              "      <td>21984.47061</td>\n",
              "    </tr>\n",
              "    <tr>\n",
              "      <th>4</th>\n",
              "      <td>32</td>\n",
              "      <td>male</td>\n",
              "      <td>28.880</td>\n",
              "      <td>0</td>\n",
              "      <td>no</td>\n",
              "      <td>northwest</td>\n",
              "      <td>3866.85520</td>\n",
              "    </tr>\n",
              "    <tr>\n",
              "      <th>...</th>\n",
              "      <td>...</td>\n",
              "      <td>...</td>\n",
              "      <td>...</td>\n",
              "      <td>...</td>\n",
              "      <td>...</td>\n",
              "      <td>...</td>\n",
              "      <td>...</td>\n",
              "    </tr>\n",
              "    <tr>\n",
              "      <th>1333</th>\n",
              "      <td>50</td>\n",
              "      <td>male</td>\n",
              "      <td>30.970</td>\n",
              "      <td>3</td>\n",
              "      <td>no</td>\n",
              "      <td>northwest</td>\n",
              "      <td>10600.54830</td>\n",
              "    </tr>\n",
              "    <tr>\n",
              "      <th>1334</th>\n",
              "      <td>18</td>\n",
              "      <td>female</td>\n",
              "      <td>31.920</td>\n",
              "      <td>0</td>\n",
              "      <td>no</td>\n",
              "      <td>northeast</td>\n",
              "      <td>2205.98080</td>\n",
              "    </tr>\n",
              "    <tr>\n",
              "      <th>1335</th>\n",
              "      <td>18</td>\n",
              "      <td>female</td>\n",
              "      <td>36.850</td>\n",
              "      <td>0</td>\n",
              "      <td>no</td>\n",
              "      <td>southeast</td>\n",
              "      <td>1629.83350</td>\n",
              "    </tr>\n",
              "    <tr>\n",
              "      <th>1336</th>\n",
              "      <td>21</td>\n",
              "      <td>female</td>\n",
              "      <td>25.800</td>\n",
              "      <td>0</td>\n",
              "      <td>no</td>\n",
              "      <td>southwest</td>\n",
              "      <td>2007.94500</td>\n",
              "    </tr>\n",
              "    <tr>\n",
              "      <th>1337</th>\n",
              "      <td>61</td>\n",
              "      <td>female</td>\n",
              "      <td>29.070</td>\n",
              "      <td>0</td>\n",
              "      <td>yes</td>\n",
              "      <td>northwest</td>\n",
              "      <td>29141.36030</td>\n",
              "    </tr>\n",
              "  </tbody>\n",
              "</table>\n",
              "<p>1338 rows × 7 columns</p>\n",
              "</div>\n",
              "      <button class=\"colab-df-convert\" onclick=\"convertToInteractive('df-d034fd94-2399-4817-b35f-f1d4c965d2dd')\"\n",
              "              title=\"Convert this dataframe to an interactive table.\"\n",
              "              style=\"display:none;\">\n",
              "        \n",
              "  <svg xmlns=\"http://www.w3.org/2000/svg\" height=\"24px\"viewBox=\"0 0 24 24\"\n",
              "       width=\"24px\">\n",
              "    <path d=\"M0 0h24v24H0V0z\" fill=\"none\"/>\n",
              "    <path d=\"M18.56 5.44l.94 2.06.94-2.06 2.06-.94-2.06-.94-.94-2.06-.94 2.06-2.06.94zm-11 1L8.5 8.5l.94-2.06 2.06-.94-2.06-.94L8.5 2.5l-.94 2.06-2.06.94zm10 10l.94 2.06.94-2.06 2.06-.94-2.06-.94-.94-2.06-.94 2.06-2.06.94z\"/><path d=\"M17.41 7.96l-1.37-1.37c-.4-.4-.92-.59-1.43-.59-.52 0-1.04.2-1.43.59L10.3 9.45l-7.72 7.72c-.78.78-.78 2.05 0 2.83L4 21.41c.39.39.9.59 1.41.59.51 0 1.02-.2 1.41-.59l7.78-7.78 2.81-2.81c.8-.78.8-2.07 0-2.86zM5.41 20L4 18.59l7.72-7.72 1.47 1.35L5.41 20z\"/>\n",
              "  </svg>\n",
              "      </button>\n",
              "      \n",
              "  <style>\n",
              "    .colab-df-container {\n",
              "      display:flex;\n",
              "      flex-wrap:wrap;\n",
              "      gap: 12px;\n",
              "    }\n",
              "\n",
              "    .colab-df-convert {\n",
              "      background-color: #E8F0FE;\n",
              "      border: none;\n",
              "      border-radius: 50%;\n",
              "      cursor: pointer;\n",
              "      display: none;\n",
              "      fill: #1967D2;\n",
              "      height: 32px;\n",
              "      padding: 0 0 0 0;\n",
              "      width: 32px;\n",
              "    }\n",
              "\n",
              "    .colab-df-convert:hover {\n",
              "      background-color: #E2EBFA;\n",
              "      box-shadow: 0px 1px 2px rgba(60, 64, 67, 0.3), 0px 1px 3px 1px rgba(60, 64, 67, 0.15);\n",
              "      fill: #174EA6;\n",
              "    }\n",
              "\n",
              "    [theme=dark] .colab-df-convert {\n",
              "      background-color: #3B4455;\n",
              "      fill: #D2E3FC;\n",
              "    }\n",
              "\n",
              "    [theme=dark] .colab-df-convert:hover {\n",
              "      background-color: #434B5C;\n",
              "      box-shadow: 0px 1px 3px 1px rgba(0, 0, 0, 0.15);\n",
              "      filter: drop-shadow(0px 1px 2px rgba(0, 0, 0, 0.3));\n",
              "      fill: #FFFFFF;\n",
              "    }\n",
              "  </style>\n",
              "\n",
              "      <script>\n",
              "        const buttonEl =\n",
              "          document.querySelector('#df-d034fd94-2399-4817-b35f-f1d4c965d2dd button.colab-df-convert');\n",
              "        buttonEl.style.display =\n",
              "          google.colab.kernel.accessAllowed ? 'block' : 'none';\n",
              "\n",
              "        async function convertToInteractive(key) {\n",
              "          const element = document.querySelector('#df-d034fd94-2399-4817-b35f-f1d4c965d2dd');\n",
              "          const dataTable =\n",
              "            await google.colab.kernel.invokeFunction('convertToInteractive',\n",
              "                                                     [key], {});\n",
              "          if (!dataTable) return;\n",
              "\n",
              "          const docLinkHtml = 'Like what you see? Visit the ' +\n",
              "            '<a target=\"_blank\" href=https://colab.research.google.com/notebooks/data_table.ipynb>data table notebook</a>'\n",
              "            + ' to learn more about interactive tables.';\n",
              "          element.innerHTML = '';\n",
              "          dataTable['output_type'] = 'display_data';\n",
              "          await google.colab.output.renderOutput(dataTable, element);\n",
              "          const docLink = document.createElement('div');\n",
              "          docLink.innerHTML = docLinkHtml;\n",
              "          element.appendChild(docLink);\n",
              "        }\n",
              "      </script>\n",
              "    </div>\n",
              "  </div>\n",
              "  "
            ]
          },
          "metadata": {},
          "execution_count": 171
        }
      ]
    },
    {
      "cell_type": "code",
      "source": [
        "from sklearn.compose import make_column_transformer\n",
        "from sklearn.preprocessing import MinMaxScaler, OneHotEncoder\n",
        "from sklearn.model_selection import train_test_split\n",
        "\n",
        "# Create a column transformer\n",
        "ct = make_column_transformer(\n",
        "    (MinMaxScaler(), [\"age\", \"bmi\", \"children\"]),  # turn all values in these columns between 0 and 1\n",
        "    (OneHotEncoder(handle_unknown=\"ignore\"), [\"sex\", \"smoker\", \"region\"])\n",
        ")\n",
        "\n",
        "# Create X & y\n",
        "X = insurance.drop(\"charges\", axis=1)\n",
        "y = insurance[\"charges\"]\n",
        "\n",
        "# Build our train and test sets\n",
        "X_train, X_test, y_train, y_test = train_test_split(X, y, test_size=0.2, random_state=42)\n",
        "\n",
        "# Fit the column transformer to our training data\n",
        "ct.fit(X_train)\n",
        "\n",
        "# Transform training and test data with normalization (MinMaxScaler) & OneHotEncoder\n",
        "X_train_normal = ct.transform(X_train)\n",
        "X_test_normal = ct.transform(X_test)"
      ],
      "metadata": {
        "id": "-fJpzgSoooMT"
      },
      "execution_count": 172,
      "outputs": []
    },
    {
      "cell_type": "code",
      "source": [
        "# Originally\n",
        "X_train.loc[0]"
      ],
      "metadata": {
        "colab": {
          "base_uri": "https://localhost:8080/"
        },
        "id": "2_CCubSLuzWP",
        "outputId": "99fa16e9-62d4-42e1-e517-9f027660ea4a"
      },
      "execution_count": 173,
      "outputs": [
        {
          "output_type": "execute_result",
          "data": {
            "text/plain": [
              "age                19\n",
              "sex            female\n",
              "bmi              27.9\n",
              "children            0\n",
              "smoker            yes\n",
              "region      southwest\n",
              "Name: 0, dtype: object"
            ]
          },
          "metadata": {},
          "execution_count": 173
        }
      ]
    },
    {
      "cell_type": "code",
      "source": [
        "# What does our data look like now?\n",
        "X_train_normal[0]"
      ],
      "metadata": {
        "colab": {
          "base_uri": "https://localhost:8080/"
        },
        "id": "ukveaU8RvKiw",
        "outputId": "b9aa3fca-7c44-484d-9e91-d4f4412ff79e"
      },
      "execution_count": 174,
      "outputs": [
        {
          "output_type": "execute_result",
          "data": {
            "text/plain": [
              "array([0.60869565, 0.10734463, 0.4       , 1.        , 0.        ,\n",
              "       1.        , 0.        , 0.        , 1.        , 0.        ,\n",
              "       0.        ])"
            ]
          },
          "metadata": {},
          "execution_count": 174
        }
      ]
    },
    {
      "cell_type": "code",
      "source": [
        "X_train.shape, X_train_normal.shape"
      ],
      "metadata": {
        "colab": {
          "base_uri": "https://localhost:8080/"
        },
        "id": "va2rikmTwJBP",
        "outputId": "bb913df9-695c-49cb-c2d3-82088b8800c1"
      },
      "execution_count": 175,
      "outputs": [
        {
          "output_type": "execute_result",
          "data": {
            "text/plain": [
              "((1070, 6), (1070, 11))"
            ]
          },
          "metadata": {},
          "execution_count": 175
        }
      ]
    },
    {
      "cell_type": "markdown",
      "source": [
        "> Great! Our data has been normalized and one hot encoded now. Let's build a neural network model on it!"
      ],
      "metadata": {
        "id": "zKqfyjsXw8F8"
      }
    },
    {
      "cell_type": "code",
      "source": [
        "#  Build a neural network\n",
        "tf.random.set_seed(42)\n",
        "\n",
        "# 1. Create the model\n",
        "insurance_model_4 = tf.keras.Sequential()\n",
        "\n",
        "insurance_model_4.add(Dense(units=512, activation=\"relu\"))\n",
        "insurance_model_4.add(Dense(units=512, activation=\"relu\"))\n",
        "insurance_model_4.add(Dense(units=1))\n",
        "\n",
        "# 2. Compile the model\n",
        "insurance_model_4.compile(loss=\"mae\",\n",
        "                        optimizer=tf.keras.optimizers.Adam(lr=0.01),\n",
        "                        metrics=[\"mae\"])\n",
        "\n",
        "# 3. Fit the model\n",
        "insurance_model_4.fit(X_train_normal, y_train, epochs=200, validation_data=(X_test_normal, y_test))"
      ],
      "metadata": {
        "colab": {
          "base_uri": "https://localhost:8080/"
        },
        "id": "w56I5vPJjx-J",
        "outputId": "691870f4-ab30-448d-fb8a-0c1ba433ebf2"
      },
      "execution_count": 184,
      "outputs": [
        {
          "output_type": "stream",
          "name": "stdout",
          "text": [
            "Epoch 1/200\n"
          ]
        },
        {
          "output_type": "stream",
          "name": "stderr",
          "text": [
            "/usr/local/lib/python3.7/dist-packages/keras/optimizer_v2/adam.py:105: UserWarning: The `lr` argument is deprecated, use `learning_rate` instead.\n",
            "  super(Adam, self).__init__(name, **kwargs)\n"
          ]
        },
        {
          "output_type": "stream",
          "name": "stdout",
          "text": [
            "34/34 [==============================] - 1s 12ms/step - loss: 10834.2441 - mae: 10834.2441 - val_loss: 8224.0674 - val_mae: 8224.0674\n",
            "Epoch 2/200\n",
            "34/34 [==============================] - 0s 6ms/step - loss: 6906.0317 - mae: 6906.0317 - val_loss: 5581.9741 - val_mae: 5581.9741\n",
            "Epoch 3/200\n",
            "34/34 [==============================] - 0s 7ms/step - loss: 4125.5908 - mae: 4125.5908 - val_loss: 3256.1838 - val_mae: 3256.1838\n",
            "Epoch 4/200\n",
            "34/34 [==============================] - 0s 6ms/step - loss: 3429.4482 - mae: 3429.4482 - val_loss: 3007.1560 - val_mae: 3007.1560\n",
            "Epoch 5/200\n",
            "34/34 [==============================] - 0s 7ms/step - loss: 3328.4675 - mae: 3328.4675 - val_loss: 3079.8765 - val_mae: 3079.8765\n",
            "Epoch 6/200\n",
            "34/34 [==============================] - 0s 6ms/step - loss: 3343.7700 - mae: 3343.7700 - val_loss: 2966.8850 - val_mae: 2966.8850\n",
            "Epoch 7/200\n",
            "34/34 [==============================] - 0s 7ms/step - loss: 3256.4189 - mae: 3256.4189 - val_loss: 2941.9834 - val_mae: 2941.9834\n",
            "Epoch 8/200\n",
            "34/34 [==============================] - 0s 7ms/step - loss: 3268.4050 - mae: 3268.4050 - val_loss: 2889.4902 - val_mae: 2889.4902\n",
            "Epoch 9/200\n",
            "34/34 [==============================] - 0s 7ms/step - loss: 3165.6997 - mae: 3165.6997 - val_loss: 2887.2161 - val_mae: 2887.2161\n",
            "Epoch 10/200\n",
            "34/34 [==============================] - 0s 6ms/step - loss: 3113.3008 - mae: 3113.3008 - val_loss: 3011.1621 - val_mae: 3011.1621\n",
            "Epoch 11/200\n",
            "34/34 [==============================] - 0s 7ms/step - loss: 3085.0547 - mae: 3085.0547 - val_loss: 2790.3577 - val_mae: 2790.3577\n",
            "Epoch 12/200\n",
            "34/34 [==============================] - 0s 7ms/step - loss: 3032.3733 - mae: 3032.3733 - val_loss: 2775.7322 - val_mae: 2775.7322\n",
            "Epoch 13/200\n",
            "34/34 [==============================] - 0s 5ms/step - loss: 2946.3313 - mae: 2946.3313 - val_loss: 2750.8137 - val_mae: 2750.8137\n",
            "Epoch 14/200\n",
            "34/34 [==============================] - 0s 5ms/step - loss: 2888.4517 - mae: 2888.4517 - val_loss: 2741.7671 - val_mae: 2741.7671\n",
            "Epoch 15/200\n",
            "34/34 [==============================] - 0s 4ms/step - loss: 2825.0061 - mae: 2825.0061 - val_loss: 2770.7400 - val_mae: 2770.7400\n",
            "Epoch 16/200\n",
            "34/34 [==============================] - 0s 4ms/step - loss: 2758.1980 - mae: 2758.1980 - val_loss: 2720.5125 - val_mae: 2720.5125\n",
            "Epoch 17/200\n",
            "34/34 [==============================] - 0s 4ms/step - loss: 2641.6726 - mae: 2641.6726 - val_loss: 2543.8555 - val_mae: 2543.8555\n",
            "Epoch 18/200\n",
            "34/34 [==============================] - 0s 4ms/step - loss: 2510.2759 - mae: 2510.2759 - val_loss: 2523.2578 - val_mae: 2523.2578\n",
            "Epoch 19/200\n",
            "34/34 [==============================] - 0s 4ms/step - loss: 2448.8081 - mae: 2448.8081 - val_loss: 2444.9746 - val_mae: 2444.9746\n",
            "Epoch 20/200\n",
            "34/34 [==============================] - 0s 4ms/step - loss: 2367.5225 - mae: 2367.5225 - val_loss: 2289.6467 - val_mae: 2289.6467\n",
            "Epoch 21/200\n",
            "34/34 [==============================] - 0s 4ms/step - loss: 2310.7861 - mae: 2310.7861 - val_loss: 2320.5522 - val_mae: 2320.5522\n",
            "Epoch 22/200\n",
            "34/34 [==============================] - 0s 4ms/step - loss: 2259.8130 - mae: 2259.8130 - val_loss: 2166.0508 - val_mae: 2166.0508\n",
            "Epoch 23/200\n",
            "34/34 [==============================] - 0s 4ms/step - loss: 2310.2864 - mae: 2310.2864 - val_loss: 2039.8163 - val_mae: 2039.8163\n",
            "Epoch 24/200\n",
            "34/34 [==============================] - 0s 4ms/step - loss: 2168.7036 - mae: 2168.7036 - val_loss: 1908.3683 - val_mae: 1908.3683\n",
            "Epoch 25/200\n",
            "34/34 [==============================] - 0s 4ms/step - loss: 2129.4583 - mae: 2129.4583 - val_loss: 1890.9606 - val_mae: 1890.9604\n",
            "Epoch 26/200\n",
            "34/34 [==============================] - 0s 4ms/step - loss: 2172.1238 - mae: 2172.1238 - val_loss: 1876.4686 - val_mae: 1876.4686\n",
            "Epoch 27/200\n",
            "34/34 [==============================] - 0s 4ms/step - loss: 2154.2200 - mae: 2154.2200 - val_loss: 1892.8655 - val_mae: 1892.8655\n",
            "Epoch 28/200\n",
            "34/34 [==============================] - 0s 4ms/step - loss: 2172.4160 - mae: 2172.4160 - val_loss: 1846.5754 - val_mae: 1846.5754\n",
            "Epoch 29/200\n",
            "34/34 [==============================] - 0s 4ms/step - loss: 2102.0601 - mae: 2102.0601 - val_loss: 1838.6355 - val_mae: 1838.6355\n",
            "Epoch 30/200\n",
            "34/34 [==============================] - 0s 4ms/step - loss: 2087.1533 - mae: 2087.1533 - val_loss: 1850.5187 - val_mae: 1850.5187\n",
            "Epoch 31/200\n",
            "34/34 [==============================] - 0s 4ms/step - loss: 2138.1655 - mae: 2138.1655 - val_loss: 1831.9673 - val_mae: 1831.9673\n",
            "Epoch 32/200\n",
            "34/34 [==============================] - 0s 4ms/step - loss: 2180.1956 - mae: 2180.1956 - val_loss: 1930.3584 - val_mae: 1930.3584\n",
            "Epoch 33/200\n",
            "34/34 [==============================] - 0s 4ms/step - loss: 2120.4739 - mae: 2120.4739 - val_loss: 1818.1565 - val_mae: 1818.1565\n",
            "Epoch 34/200\n",
            "34/34 [==============================] - 0s 4ms/step - loss: 2046.7986 - mae: 2046.7986 - val_loss: 1806.1685 - val_mae: 1806.1685\n",
            "Epoch 35/200\n",
            "34/34 [==============================] - 0s 4ms/step - loss: 2097.4146 - mae: 2097.4146 - val_loss: 1855.0247 - val_mae: 1855.0247\n",
            "Epoch 36/200\n",
            "34/34 [==============================] - 0s 4ms/step - loss: 2135.2473 - mae: 2135.2473 - val_loss: 1829.4020 - val_mae: 1829.4020\n",
            "Epoch 37/200\n",
            "34/34 [==============================] - 0s 4ms/step - loss: 2080.4666 - mae: 2080.4666 - val_loss: 1782.0049 - val_mae: 1782.0049\n",
            "Epoch 38/200\n",
            "34/34 [==============================] - 0s 4ms/step - loss: 2030.7014 - mae: 2030.7014 - val_loss: 1938.5493 - val_mae: 1938.5493\n",
            "Epoch 39/200\n",
            "34/34 [==============================] - 0s 4ms/step - loss: 2117.0254 - mae: 2117.0254 - val_loss: 1881.2937 - val_mae: 1881.2937\n",
            "Epoch 40/200\n",
            "34/34 [==============================] - 0s 4ms/step - loss: 2141.4626 - mae: 2141.4626 - val_loss: 1857.2782 - val_mae: 1857.2782\n",
            "Epoch 41/200\n",
            "34/34 [==============================] - 0s 4ms/step - loss: 2213.7397 - mae: 2213.7397 - val_loss: 1950.1252 - val_mae: 1950.1252\n",
            "Epoch 42/200\n",
            "34/34 [==============================] - 0s 4ms/step - loss: 2073.7827 - mae: 2073.7827 - val_loss: 1774.3341 - val_mae: 1774.3341\n",
            "Epoch 43/200\n",
            "34/34 [==============================] - 0s 4ms/step - loss: 2044.3732 - mae: 2044.3732 - val_loss: 1799.2352 - val_mae: 1799.2352\n",
            "Epoch 44/200\n",
            "34/34 [==============================] - 0s 4ms/step - loss: 2081.3169 - mae: 2081.3169 - val_loss: 1791.3630 - val_mae: 1791.3630\n",
            "Epoch 45/200\n",
            "34/34 [==============================] - 0s 4ms/step - loss: 2062.8281 - mae: 2062.8281 - val_loss: 1810.4014 - val_mae: 1810.4014\n",
            "Epoch 46/200\n",
            "34/34 [==============================] - 0s 4ms/step - loss: 2039.3418 - mae: 2039.3418 - val_loss: 1768.2314 - val_mae: 1768.2314\n",
            "Epoch 47/200\n",
            "34/34 [==============================] - 0s 4ms/step - loss: 2053.0820 - mae: 2053.0820 - val_loss: 1729.5499 - val_mae: 1729.5499\n",
            "Epoch 48/200\n",
            "34/34 [==============================] - 0s 4ms/step - loss: 2063.7510 - mae: 2063.7510 - val_loss: 1904.5856 - val_mae: 1904.5856\n",
            "Epoch 49/200\n",
            "34/34 [==============================] - 0s 4ms/step - loss: 2058.4219 - mae: 2058.4219 - val_loss: 1822.7566 - val_mae: 1822.7566\n",
            "Epoch 50/200\n",
            "34/34 [==============================] - 0s 4ms/step - loss: 2016.5479 - mae: 2016.5479 - val_loss: 1779.2878 - val_mae: 1779.2878\n",
            "Epoch 51/200\n",
            "34/34 [==============================] - 0s 4ms/step - loss: 2084.1865 - mae: 2084.1865 - val_loss: 1871.9125 - val_mae: 1871.9125\n",
            "Epoch 52/200\n",
            "34/34 [==============================] - 0s 4ms/step - loss: 2074.3225 - mae: 2074.3225 - val_loss: 1771.6917 - val_mae: 1771.6917\n",
            "Epoch 53/200\n",
            "34/34 [==============================] - 0s 4ms/step - loss: 2031.2988 - mae: 2031.2988 - val_loss: 1823.1812 - val_mae: 1823.1812\n",
            "Epoch 54/200\n",
            "34/34 [==============================] - 0s 4ms/step - loss: 2033.3262 - mae: 2033.3262 - val_loss: 1794.2490 - val_mae: 1794.2490\n",
            "Epoch 55/200\n",
            "34/34 [==============================] - 0s 4ms/step - loss: 2048.9658 - mae: 2048.9658 - val_loss: 1969.6383 - val_mae: 1969.6383\n",
            "Epoch 56/200\n",
            "34/34 [==============================] - 0s 4ms/step - loss: 2082.4946 - mae: 2082.4946 - val_loss: 1789.1005 - val_mae: 1789.1005\n",
            "Epoch 57/200\n",
            "34/34 [==============================] - 0s 4ms/step - loss: 2028.4619 - mae: 2028.4619 - val_loss: 1795.6542 - val_mae: 1795.6542\n",
            "Epoch 58/200\n",
            "34/34 [==============================] - 0s 4ms/step - loss: 2019.5458 - mae: 2019.5458 - val_loss: 1771.8101 - val_mae: 1771.8101\n",
            "Epoch 59/200\n",
            "34/34 [==============================] - 0s 4ms/step - loss: 2008.2916 - mae: 2008.2916 - val_loss: 1731.3772 - val_mae: 1731.3772\n",
            "Epoch 60/200\n",
            "34/34 [==============================] - 0s 4ms/step - loss: 2062.8933 - mae: 2062.8933 - val_loss: 1800.2805 - val_mae: 1800.2805\n",
            "Epoch 61/200\n",
            "34/34 [==============================] - 0s 4ms/step - loss: 2036.3763 - mae: 2036.3763 - val_loss: 1793.0404 - val_mae: 1793.0404\n",
            "Epoch 62/200\n",
            "34/34 [==============================] - 0s 4ms/step - loss: 2019.5151 - mae: 2019.5151 - val_loss: 1745.4810 - val_mae: 1745.4810\n",
            "Epoch 63/200\n",
            "34/34 [==============================] - 0s 4ms/step - loss: 2052.1926 - mae: 2052.1926 - val_loss: 1762.4279 - val_mae: 1762.4279\n",
            "Epoch 64/200\n",
            "34/34 [==============================] - 0s 4ms/step - loss: 2072.8276 - mae: 2072.8276 - val_loss: 1872.2383 - val_mae: 1872.2383\n",
            "Epoch 65/200\n",
            "34/34 [==============================] - 0s 4ms/step - loss: 2134.7239 - mae: 2134.7239 - val_loss: 1860.3217 - val_mae: 1860.3217\n",
            "Epoch 66/200\n",
            "34/34 [==============================] - 0s 4ms/step - loss: 2061.1875 - mae: 2061.1875 - val_loss: 1719.5328 - val_mae: 1719.5328\n",
            "Epoch 67/200\n",
            "34/34 [==============================] - 0s 4ms/step - loss: 2028.9376 - mae: 2028.9376 - val_loss: 1820.2827 - val_mae: 1820.2827\n",
            "Epoch 68/200\n",
            "34/34 [==============================] - 0s 4ms/step - loss: 2024.4208 - mae: 2024.4208 - val_loss: 1767.9454 - val_mae: 1767.9454\n",
            "Epoch 69/200\n",
            "34/34 [==============================] - 0s 4ms/step - loss: 2057.5427 - mae: 2057.5427 - val_loss: 1834.2826 - val_mae: 1834.2826\n",
            "Epoch 70/200\n",
            "34/34 [==============================] - 0s 4ms/step - loss: 2010.2679 - mae: 2010.2679 - val_loss: 1787.1367 - val_mae: 1787.1367\n",
            "Epoch 71/200\n",
            "34/34 [==============================] - 0s 4ms/step - loss: 2036.5935 - mae: 2036.5935 - val_loss: 1753.2206 - val_mae: 1753.2206\n",
            "Epoch 72/200\n",
            "34/34 [==============================] - 0s 4ms/step - loss: 2015.6294 - mae: 2015.6294 - val_loss: 1937.8674 - val_mae: 1937.8674\n",
            "Epoch 73/200\n",
            "34/34 [==============================] - 0s 4ms/step - loss: 2128.7009 - mae: 2128.7009 - val_loss: 1767.1769 - val_mae: 1767.1769\n",
            "Epoch 74/200\n",
            "34/34 [==============================] - 0s 4ms/step - loss: 1988.6503 - mae: 1988.6503 - val_loss: 1768.2946 - val_mae: 1768.2946\n",
            "Epoch 75/200\n",
            "34/34 [==============================] - 0s 4ms/step - loss: 2010.5089 - mae: 2010.5089 - val_loss: 1766.5959 - val_mae: 1766.5959\n",
            "Epoch 76/200\n",
            "34/34 [==============================] - 0s 4ms/step - loss: 2020.3108 - mae: 2020.3108 - val_loss: 1815.0397 - val_mae: 1815.0397\n",
            "Epoch 77/200\n",
            "34/34 [==============================] - 0s 4ms/step - loss: 2046.6603 - mae: 2046.6603 - val_loss: 1852.7078 - val_mae: 1852.7078\n",
            "Epoch 78/200\n",
            "34/34 [==============================] - 0s 4ms/step - loss: 2061.1917 - mae: 2061.1917 - val_loss: 1739.1917 - val_mae: 1739.1917\n",
            "Epoch 79/200\n",
            "34/34 [==============================] - 0s 4ms/step - loss: 2031.9154 - mae: 2031.9154 - val_loss: 1850.2494 - val_mae: 1850.2494\n",
            "Epoch 80/200\n",
            "34/34 [==============================] - 0s 4ms/step - loss: 2094.2461 - mae: 2094.2461 - val_loss: 1790.9203 - val_mae: 1790.9203\n",
            "Epoch 81/200\n",
            "34/34 [==============================] - 0s 4ms/step - loss: 2061.8318 - mae: 2061.8318 - val_loss: 1754.7433 - val_mae: 1754.7433\n",
            "Epoch 82/200\n",
            "34/34 [==============================] - 0s 9ms/step - loss: 2050.8137 - mae: 2050.8137 - val_loss: 1765.6219 - val_mae: 1765.6219\n",
            "Epoch 83/200\n",
            "34/34 [==============================] - 0s 10ms/step - loss: 2020.7979 - mae: 2020.7979 - val_loss: 1735.5698 - val_mae: 1735.5698\n",
            "Epoch 84/200\n",
            "34/34 [==============================] - 0s 10ms/step - loss: 1987.5425 - mae: 1987.5425 - val_loss: 1751.3264 - val_mae: 1751.3264\n",
            "Epoch 85/200\n",
            "34/34 [==============================] - 0s 8ms/step - loss: 1999.1562 - mae: 1999.1562 - val_loss: 1821.8512 - val_mae: 1821.8512\n",
            "Epoch 86/200\n",
            "34/34 [==============================] - 0s 4ms/step - loss: 2011.7135 - mae: 2011.7135 - val_loss: 1779.7634 - val_mae: 1779.7634\n",
            "Epoch 87/200\n",
            "34/34 [==============================] - 0s 4ms/step - loss: 2063.8406 - mae: 2063.8406 - val_loss: 1803.8169 - val_mae: 1803.8169\n",
            "Epoch 88/200\n",
            "34/34 [==============================] - 0s 9ms/step - loss: 2026.0005 - mae: 2026.0005 - val_loss: 1737.6887 - val_mae: 1737.6887\n",
            "Epoch 89/200\n",
            "34/34 [==============================] - 0s 11ms/step - loss: 1988.0304 - mae: 1988.0304 - val_loss: 1759.3242 - val_mae: 1759.3242\n",
            "Epoch 90/200\n",
            "34/34 [==============================] - 0s 10ms/step - loss: 2012.6370 - mae: 2012.6370 - val_loss: 1779.7063 - val_mae: 1779.7063\n",
            "Epoch 91/200\n",
            "34/34 [==============================] - 0s 5ms/step - loss: 2049.8501 - mae: 2049.8501 - val_loss: 1815.1044 - val_mae: 1815.1044\n",
            "Epoch 92/200\n",
            "34/34 [==============================] - 0s 4ms/step - loss: 2096.0667 - mae: 2096.0667 - val_loss: 1912.8676 - val_mae: 1912.8676\n",
            "Epoch 93/200\n",
            "34/34 [==============================] - 0s 4ms/step - loss: 2079.5356 - mae: 2079.5356 - val_loss: 1810.1417 - val_mae: 1810.1417\n",
            "Epoch 94/200\n",
            "34/34 [==============================] - 0s 4ms/step - loss: 2020.1355 - mae: 2020.1355 - val_loss: 1743.5533 - val_mae: 1743.5533\n",
            "Epoch 95/200\n",
            "34/34 [==============================] - 0s 4ms/step - loss: 1986.3967 - mae: 1986.3967 - val_loss: 1880.2659 - val_mae: 1880.2659\n",
            "Epoch 96/200\n",
            "34/34 [==============================] - 0s 4ms/step - loss: 2034.4423 - mae: 2034.4423 - val_loss: 1881.3345 - val_mae: 1881.3345\n",
            "Epoch 97/200\n",
            "34/34 [==============================] - 0s 4ms/step - loss: 2034.2787 - mae: 2034.2787 - val_loss: 1759.7146 - val_mae: 1759.7146\n",
            "Epoch 98/200\n",
            "34/34 [==============================] - 0s 4ms/step - loss: 2067.2766 - mae: 2067.2766 - val_loss: 1773.0153 - val_mae: 1773.0153\n",
            "Epoch 99/200\n",
            "34/34 [==============================] - 0s 4ms/step - loss: 2004.2921 - mae: 2004.2921 - val_loss: 1793.3361 - val_mae: 1793.3361\n",
            "Epoch 100/200\n",
            "34/34 [==============================] - 0s 5ms/step - loss: 1999.6222 - mae: 1999.6222 - val_loss: 1814.4126 - val_mae: 1814.4126\n",
            "Epoch 101/200\n",
            "34/34 [==============================] - 0s 4ms/step - loss: 2023.2124 - mae: 2023.2124 - val_loss: 1787.1997 - val_mae: 1787.1997\n",
            "Epoch 102/200\n",
            "34/34 [==============================] - 0s 4ms/step - loss: 2004.4187 - mae: 2004.4187 - val_loss: 1747.2218 - val_mae: 1747.2218\n",
            "Epoch 103/200\n",
            "34/34 [==============================] - 0s 4ms/step - loss: 1980.3525 - mae: 1980.3525 - val_loss: 1770.4233 - val_mae: 1770.4233\n",
            "Epoch 104/200\n",
            "34/34 [==============================] - 0s 4ms/step - loss: 1987.7380 - mae: 1987.7380 - val_loss: 1780.0519 - val_mae: 1780.0519\n",
            "Epoch 105/200\n",
            "34/34 [==============================] - 0s 4ms/step - loss: 2007.4803 - mae: 2007.4803 - val_loss: 1745.7426 - val_mae: 1745.7426\n",
            "Epoch 106/200\n",
            "34/34 [==============================] - 0s 4ms/step - loss: 2047.5885 - mae: 2047.5885 - val_loss: 1809.4592 - val_mae: 1809.4592\n",
            "Epoch 107/200\n",
            "34/34 [==============================] - 0s 4ms/step - loss: 1985.7406 - mae: 1985.7406 - val_loss: 1773.9509 - val_mae: 1773.9509\n",
            "Epoch 108/200\n",
            "34/34 [==============================] - 0s 4ms/step - loss: 2018.0570 - mae: 2018.0570 - val_loss: 1822.9568 - val_mae: 1822.9568\n",
            "Epoch 109/200\n",
            "34/34 [==============================] - 0s 4ms/step - loss: 1982.5582 - mae: 1982.5582 - val_loss: 1734.7268 - val_mae: 1734.7268\n",
            "Epoch 110/200\n",
            "34/34 [==============================] - 0s 4ms/step - loss: 1996.6327 - mae: 1996.6327 - val_loss: 1864.0437 - val_mae: 1864.0437\n",
            "Epoch 111/200\n",
            "34/34 [==============================] - 0s 4ms/step - loss: 2105.4658 - mae: 2105.4658 - val_loss: 1775.2040 - val_mae: 1775.2040\n",
            "Epoch 112/200\n",
            "34/34 [==============================] - 0s 4ms/step - loss: 1997.1654 - mae: 1997.1654 - val_loss: 1867.3901 - val_mae: 1867.3901\n",
            "Epoch 113/200\n",
            "34/34 [==============================] - 0s 4ms/step - loss: 2053.2195 - mae: 2053.2195 - val_loss: 1759.0615 - val_mae: 1759.0615\n",
            "Epoch 114/200\n",
            "34/34 [==============================] - 0s 4ms/step - loss: 2003.3467 - mae: 2003.3467 - val_loss: 1810.4292 - val_mae: 1810.4292\n",
            "Epoch 115/200\n",
            "34/34 [==============================] - 0s 4ms/step - loss: 2010.6423 - mae: 2010.6423 - val_loss: 1774.6941 - val_mae: 1774.6941\n",
            "Epoch 116/200\n",
            "34/34 [==============================] - 0s 4ms/step - loss: 1967.5509 - mae: 1967.5509 - val_loss: 1751.1976 - val_mae: 1751.1976\n",
            "Epoch 117/200\n",
            "34/34 [==============================] - 0s 4ms/step - loss: 2028.1953 - mae: 2028.1953 - val_loss: 1800.0073 - val_mae: 1800.0073\n",
            "Epoch 118/200\n",
            "34/34 [==============================] - 0s 4ms/step - loss: 1965.8011 - mae: 1965.8011 - val_loss: 1721.2467 - val_mae: 1721.2467\n",
            "Epoch 119/200\n",
            "34/34 [==============================] - 0s 4ms/step - loss: 2004.6158 - mae: 2004.6158 - val_loss: 1763.6864 - val_mae: 1763.6864\n",
            "Epoch 120/200\n",
            "34/34 [==============================] - 0s 4ms/step - loss: 2065.2258 - mae: 2065.2258 - val_loss: 1798.2238 - val_mae: 1798.2238\n",
            "Epoch 121/200\n",
            "34/34 [==============================] - 0s 4ms/step - loss: 2052.1418 - mae: 2052.1418 - val_loss: 1788.0996 - val_mae: 1788.0996\n",
            "Epoch 122/200\n",
            "34/34 [==============================] - 0s 4ms/step - loss: 2010.0806 - mae: 2010.0806 - val_loss: 1889.4866 - val_mae: 1889.4866\n",
            "Epoch 123/200\n",
            "34/34 [==============================] - 0s 4ms/step - loss: 1988.9545 - mae: 1988.9545 - val_loss: 1747.1539 - val_mae: 1747.1539\n",
            "Epoch 124/200\n",
            "34/34 [==============================] - 0s 4ms/step - loss: 1966.8752 - mae: 1966.8752 - val_loss: 1724.7474 - val_mae: 1724.7474\n",
            "Epoch 125/200\n",
            "34/34 [==============================] - 0s 4ms/step - loss: 2024.8170 - mae: 2024.8170 - val_loss: 1728.4705 - val_mae: 1728.4705\n",
            "Epoch 126/200\n",
            "34/34 [==============================] - 0s 4ms/step - loss: 1989.2758 - mae: 1989.2758 - val_loss: 1725.9963 - val_mae: 1725.9963\n",
            "Epoch 127/200\n",
            "34/34 [==============================] - 0s 4ms/step - loss: 1989.7019 - mae: 1989.7019 - val_loss: 1734.7871 - val_mae: 1734.7871\n",
            "Epoch 128/200\n",
            "34/34 [==============================] - 0s 4ms/step - loss: 1951.8978 - mae: 1951.8978 - val_loss: 1761.3306 - val_mae: 1761.3306\n",
            "Epoch 129/200\n",
            "34/34 [==============================] - 0s 4ms/step - loss: 1993.3198 - mae: 1993.3198 - val_loss: 1756.8164 - val_mae: 1756.8164\n",
            "Epoch 130/200\n",
            "34/34 [==============================] - 0s 4ms/step - loss: 1985.4844 - mae: 1985.4844 - val_loss: 1770.7117 - val_mae: 1770.7117\n",
            "Epoch 131/200\n",
            "34/34 [==============================] - 0s 4ms/step - loss: 1981.0925 - mae: 1981.0925 - val_loss: 1740.9602 - val_mae: 1740.9602\n",
            "Epoch 132/200\n",
            "34/34 [==============================] - 0s 4ms/step - loss: 1971.3568 - mae: 1971.3568 - val_loss: 1730.3621 - val_mae: 1730.3621\n",
            "Epoch 133/200\n",
            "34/34 [==============================] - 0s 4ms/step - loss: 1998.4042 - mae: 1998.4042 - val_loss: 1739.7190 - val_mae: 1739.7190\n",
            "Epoch 134/200\n",
            "34/34 [==============================] - 0s 4ms/step - loss: 1983.9000 - mae: 1983.9000 - val_loss: 1766.7384 - val_mae: 1766.7384\n",
            "Epoch 135/200\n",
            "34/34 [==============================] - 0s 4ms/step - loss: 1953.4368 - mae: 1953.4368 - val_loss: 1755.5557 - val_mae: 1755.5557\n",
            "Epoch 136/200\n",
            "34/34 [==============================] - 0s 4ms/step - loss: 1973.6147 - mae: 1973.6147 - val_loss: 1744.3303 - val_mae: 1744.3303\n",
            "Epoch 137/200\n",
            "34/34 [==============================] - 0s 4ms/step - loss: 1979.6802 - mae: 1979.6802 - val_loss: 1745.8542 - val_mae: 1745.8542\n",
            "Epoch 138/200\n",
            "34/34 [==============================] - 0s 4ms/step - loss: 1986.0419 - mae: 1986.0419 - val_loss: 1782.6082 - val_mae: 1782.6082\n",
            "Epoch 139/200\n",
            "34/34 [==============================] - 0s 4ms/step - loss: 1959.0515 - mae: 1959.0515 - val_loss: 1745.9569 - val_mae: 1745.9569\n",
            "Epoch 140/200\n",
            "34/34 [==============================] - 0s 4ms/step - loss: 2009.4519 - mae: 2009.4519 - val_loss: 1734.0814 - val_mae: 1734.0814\n",
            "Epoch 141/200\n",
            "34/34 [==============================] - 0s 4ms/step - loss: 1969.7360 - mae: 1969.7360 - val_loss: 1725.7216 - val_mae: 1725.7216\n",
            "Epoch 142/200\n",
            "34/34 [==============================] - 0s 4ms/step - loss: 1973.3218 - mae: 1973.3218 - val_loss: 1802.5759 - val_mae: 1802.5759\n",
            "Epoch 143/200\n",
            "34/34 [==============================] - 0s 4ms/step - loss: 1972.4637 - mae: 1972.4637 - val_loss: 1888.3445 - val_mae: 1888.3445\n",
            "Epoch 144/200\n",
            "34/34 [==============================] - 0s 4ms/step - loss: 1998.0276 - mae: 1998.0276 - val_loss: 1735.2325 - val_mae: 1735.2325\n",
            "Epoch 145/200\n",
            "34/34 [==============================] - 0s 4ms/step - loss: 1994.1570 - mae: 1994.1570 - val_loss: 1738.8839 - val_mae: 1738.8839\n",
            "Epoch 146/200\n",
            "34/34 [==============================] - 0s 4ms/step - loss: 1970.1514 - mae: 1970.1514 - val_loss: 1753.9047 - val_mae: 1753.9047\n",
            "Epoch 147/200\n",
            "34/34 [==============================] - 0s 4ms/step - loss: 1975.4734 - mae: 1975.4734 - val_loss: 1774.6016 - val_mae: 1774.6016\n",
            "Epoch 148/200\n",
            "34/34 [==============================] - 0s 4ms/step - loss: 1967.5782 - mae: 1967.5782 - val_loss: 1786.2233 - val_mae: 1786.2233\n",
            "Epoch 149/200\n",
            "34/34 [==============================] - 0s 4ms/step - loss: 1925.5676 - mae: 1925.5676 - val_loss: 1709.0680 - val_mae: 1709.0680\n",
            "Epoch 150/200\n",
            "34/34 [==============================] - 0s 5ms/step - loss: 1917.6442 - mae: 1917.6442 - val_loss: 1763.7540 - val_mae: 1763.7540\n",
            "Epoch 151/200\n",
            "34/34 [==============================] - 0s 4ms/step - loss: 1975.3607 - mae: 1975.3607 - val_loss: 1872.3917 - val_mae: 1872.3917\n",
            "Epoch 152/200\n",
            "34/34 [==============================] - 0s 4ms/step - loss: 1942.9719 - mae: 1942.9719 - val_loss: 1747.2273 - val_mae: 1747.2273\n",
            "Epoch 153/200\n",
            "34/34 [==============================] - 0s 4ms/step - loss: 1958.1313 - mae: 1958.1313 - val_loss: 1722.7693 - val_mae: 1722.7693\n",
            "Epoch 154/200\n",
            "34/34 [==============================] - 0s 4ms/step - loss: 1924.7230 - mae: 1924.7230 - val_loss: 1710.9890 - val_mae: 1710.9890\n",
            "Epoch 155/200\n",
            "34/34 [==============================] - 0s 4ms/step - loss: 1931.4032 - mae: 1931.4032 - val_loss: 1710.0907 - val_mae: 1710.0907\n",
            "Epoch 156/200\n",
            "34/34 [==============================] - 0s 4ms/step - loss: 1916.0206 - mae: 1916.0206 - val_loss: 1741.4918 - val_mae: 1741.4918\n",
            "Epoch 157/200\n",
            "34/34 [==============================] - 0s 4ms/step - loss: 1941.5133 - mae: 1941.5133 - val_loss: 1695.3069 - val_mae: 1695.3069\n",
            "Epoch 158/200\n",
            "34/34 [==============================] - 0s 4ms/step - loss: 1927.7780 - mae: 1927.7780 - val_loss: 1713.7225 - val_mae: 1713.7225\n",
            "Epoch 159/200\n",
            "34/34 [==============================] - 0s 4ms/step - loss: 1954.2220 - mae: 1954.2220 - val_loss: 1822.9534 - val_mae: 1822.9534\n",
            "Epoch 160/200\n",
            "34/34 [==============================] - 0s 4ms/step - loss: 1950.3511 - mae: 1950.3511 - val_loss: 1700.1361 - val_mae: 1700.1361\n",
            "Epoch 161/200\n",
            "34/34 [==============================] - 0s 4ms/step - loss: 1918.2831 - mae: 1918.2831 - val_loss: 1713.1957 - val_mae: 1713.1957\n",
            "Epoch 162/200\n",
            "34/34 [==============================] - 0s 4ms/step - loss: 1936.0782 - mae: 1936.0782 - val_loss: 1694.5161 - val_mae: 1694.5161\n",
            "Epoch 163/200\n",
            "34/34 [==============================] - 0s 4ms/step - loss: 1952.7642 - mae: 1952.7642 - val_loss: 1773.5492 - val_mae: 1773.5492\n",
            "Epoch 164/200\n",
            "34/34 [==============================] - 0s 4ms/step - loss: 1958.4857 - mae: 1958.4857 - val_loss: 1732.0564 - val_mae: 1732.0564\n",
            "Epoch 165/200\n",
            "34/34 [==============================] - 0s 4ms/step - loss: 1980.2308 - mae: 1980.2308 - val_loss: 1742.5311 - val_mae: 1742.5311\n",
            "Epoch 166/200\n",
            "34/34 [==============================] - 0s 4ms/step - loss: 1906.4540 - mae: 1906.4540 - val_loss: 1696.0186 - val_mae: 1696.0186\n",
            "Epoch 167/200\n",
            "34/34 [==============================] - 0s 4ms/step - loss: 1946.7168 - mae: 1946.7168 - val_loss: 1699.6488 - val_mae: 1699.6488\n",
            "Epoch 168/200\n",
            "34/34 [==============================] - 0s 4ms/step - loss: 1965.7323 - mae: 1965.7323 - val_loss: 1780.8290 - val_mae: 1780.8290\n",
            "Epoch 169/200\n",
            "34/34 [==============================] - 0s 4ms/step - loss: 2000.1654 - mae: 2000.1654 - val_loss: 1706.3630 - val_mae: 1706.3630\n",
            "Epoch 170/200\n",
            "34/34 [==============================] - 0s 4ms/step - loss: 1891.4659 - mae: 1891.4659 - val_loss: 1802.8547 - val_mae: 1802.8547\n",
            "Epoch 171/200\n",
            "34/34 [==============================] - 0s 4ms/step - loss: 1964.0159 - mae: 1964.0159 - val_loss: 1729.9297 - val_mae: 1729.9297\n",
            "Epoch 172/200\n",
            "34/34 [==============================] - 0s 4ms/step - loss: 1935.4716 - mae: 1935.4716 - val_loss: 1774.9617 - val_mae: 1774.9617\n",
            "Epoch 173/200\n",
            "34/34 [==============================] - 0s 4ms/step - loss: 2009.1283 - mae: 2009.1283 - val_loss: 1756.0985 - val_mae: 1756.0985\n",
            "Epoch 174/200\n",
            "34/34 [==============================] - 0s 4ms/step - loss: 1924.3298 - mae: 1924.3298 - val_loss: 1743.3837 - val_mae: 1743.3837\n",
            "Epoch 175/200\n",
            "34/34 [==============================] - 0s 4ms/step - loss: 1953.1912 - mae: 1953.1912 - val_loss: 1790.0123 - val_mae: 1790.0123\n",
            "Epoch 176/200\n",
            "34/34 [==============================] - 0s 4ms/step - loss: 1941.7787 - mae: 1941.7787 - val_loss: 1667.0498 - val_mae: 1667.0498\n",
            "Epoch 177/200\n",
            "34/34 [==============================] - 0s 4ms/step - loss: 1932.6727 - mae: 1932.6727 - val_loss: 1701.9711 - val_mae: 1701.9711\n",
            "Epoch 178/200\n",
            "34/34 [==============================] - 0s 4ms/step - loss: 1877.7257 - mae: 1877.7257 - val_loss: 1723.9479 - val_mae: 1723.9479\n",
            "Epoch 179/200\n",
            "34/34 [==============================] - 0s 4ms/step - loss: 1903.1359 - mae: 1903.1359 - val_loss: 1815.1864 - val_mae: 1815.1864\n",
            "Epoch 180/200\n",
            "34/34 [==============================] - 0s 4ms/step - loss: 1917.7018 - mae: 1917.7018 - val_loss: 1679.0482 - val_mae: 1679.0482\n",
            "Epoch 181/200\n",
            "34/34 [==============================] - 0s 4ms/step - loss: 1895.1808 - mae: 1895.1808 - val_loss: 1738.0559 - val_mae: 1738.0559\n",
            "Epoch 182/200\n",
            "34/34 [==============================] - 0s 4ms/step - loss: 1917.1508 - mae: 1917.1508 - val_loss: 1689.6533 - val_mae: 1689.6533\n",
            "Epoch 183/200\n",
            "34/34 [==============================] - 0s 4ms/step - loss: 1906.9855 - mae: 1906.9855 - val_loss: 1694.9951 - val_mae: 1694.9951\n",
            "Epoch 184/200\n",
            "34/34 [==============================] - 0s 4ms/step - loss: 1894.8816 - mae: 1894.8816 - val_loss: 1753.2571 - val_mae: 1753.2571\n",
            "Epoch 185/200\n",
            "34/34 [==============================] - 0s 4ms/step - loss: 1920.2070 - mae: 1920.2070 - val_loss: 1703.0254 - val_mae: 1703.0254\n",
            "Epoch 186/200\n",
            "34/34 [==============================] - 0s 4ms/step - loss: 1892.3885 - mae: 1892.3885 - val_loss: 1695.4720 - val_mae: 1695.4720\n",
            "Epoch 187/200\n",
            "34/34 [==============================] - 0s 4ms/step - loss: 1935.7419 - mae: 1935.7419 - val_loss: 1664.8673 - val_mae: 1664.8673\n",
            "Epoch 188/200\n",
            "34/34 [==============================] - 0s 4ms/step - loss: 1923.5446 - mae: 1923.5446 - val_loss: 1761.9653 - val_mae: 1761.9653\n",
            "Epoch 189/200\n",
            "34/34 [==============================] - 0s 4ms/step - loss: 1914.5779 - mae: 1914.5779 - val_loss: 1706.3379 - val_mae: 1706.3379\n",
            "Epoch 190/200\n",
            "34/34 [==============================] - 0s 4ms/step - loss: 1904.8601 - mae: 1904.8601 - val_loss: 1669.3395 - val_mae: 1669.3395\n",
            "Epoch 191/200\n",
            "34/34 [==============================] - 0s 4ms/step - loss: 1879.5822 - mae: 1879.5822 - val_loss: 1702.5225 - val_mae: 1702.5225\n",
            "Epoch 192/200\n",
            "34/34 [==============================] - 0s 4ms/step - loss: 1871.9386 - mae: 1871.9386 - val_loss: 1673.9324 - val_mae: 1673.9324\n",
            "Epoch 193/200\n",
            "34/34 [==============================] - 0s 4ms/step - loss: 1865.7905 - mae: 1865.7905 - val_loss: 1652.8677 - val_mae: 1652.8677\n",
            "Epoch 194/200\n",
            "34/34 [==============================] - 0s 4ms/step - loss: 1848.1519 - mae: 1848.1519 - val_loss: 1673.7985 - val_mae: 1673.7985\n",
            "Epoch 195/200\n",
            "34/34 [==============================] - 0s 4ms/step - loss: 1939.0298 - mae: 1939.0298 - val_loss: 1729.2565 - val_mae: 1729.2565\n",
            "Epoch 196/200\n",
            "34/34 [==============================] - 0s 4ms/step - loss: 1860.6981 - mae: 1860.6981 - val_loss: 1650.6890 - val_mae: 1650.6890\n",
            "Epoch 197/200\n",
            "34/34 [==============================] - 0s 4ms/step - loss: 1870.1932 - mae: 1870.1932 - val_loss: 1657.8373 - val_mae: 1657.8373\n",
            "Epoch 198/200\n",
            "34/34 [==============================] - 0s 4ms/step - loss: 1835.9163 - mae: 1835.9163 - val_loss: 1660.6681 - val_mae: 1660.6681\n",
            "Epoch 199/200\n",
            "34/34 [==============================] - 0s 4ms/step - loss: 1832.9840 - mae: 1832.9840 - val_loss: 1664.7358 - val_mae: 1664.7358\n",
            "Epoch 200/200\n",
            "34/34 [==============================] - 0s 4ms/step - loss: 1872.1160 - mae: 1872.1160 - val_loss: 1662.1578 - val_mae: 1662.1578\n"
          ]
        },
        {
          "output_type": "execute_result",
          "data": {
            "text/plain": [
              "<keras.callbacks.History at 0x7f4e3a676c10>"
            ]
          },
          "metadata": {},
          "execution_count": 184
        }
      ]
    },
    {
      "cell_type": "markdown",
      "source": [
        "## Committing this notebook to github repo"
      ],
      "metadata": {
        "id": "35-WW2V63aLe"
      }
    },
    {
      "cell_type": "code",
      "source": [
        "!git add ."
      ],
      "metadata": {
        "id": "YS2-Gm7J3iP1"
      },
      "execution_count": 192,
      "outputs": []
    },
    {
      "cell_type": "code",
      "source": [
        "!git"
      ],
      "metadata": {
        "colab": {
          "base_uri": "https://localhost:8080/"
        },
        "id": "HnApH5wx4aFC",
        "outputId": "1ebc2e22-4e6e-4727-baf3-c9b2f866456c"
      },
      "execution_count": 193,
      "outputs": [
        {
          "output_type": "stream",
          "name": "stdout",
          "text": [
            "usage: git [--version] [--help] [-C <path>] [-c <name>=<value>]\n",
            "           [--exec-path[=<path>]] [--html-path] [--man-path] [--info-path]\n",
            "           [-p | --paginate | --no-pager] [--no-replace-objects] [--bare]\n",
            "           [--git-dir=<path>] [--work-tree=<path>] [--namespace=<name>]\n",
            "           <command> [<args>]\n",
            "\n",
            "These are common Git commands used in various situations:\n",
            "\n",
            "start a working area (see also: git help tutorial)\n",
            "   clone      Clone a repository into a new directory\n",
            "   init       Create an empty Git repository or reinitialize an existing one\n",
            "\n",
            "work on the current change (see also: git help everyday)\n",
            "   add        Add file contents to the index\n",
            "   mv         Move or rename a file, a directory, or a symlink\n",
            "   reset      Reset current HEAD to the specified state\n",
            "   rm         Remove files from the working tree and from the index\n",
            "\n",
            "examine the history and state (see also: git help revisions)\n",
            "   bisect     Use binary search to find the commit that introduced a bug\n",
            "   grep       Print lines matching a pattern\n",
            "   log        Show commit logs\n",
            "   show       Show various types of objects\n",
            "   status     Show the working tree status\n",
            "\n",
            "grow, mark and tweak your common history\n",
            "   branch     List, create, or delete branches\n",
            "   checkout   Switch branches or restore working tree files\n",
            "   commit     Record changes to the repository\n",
            "   diff       Show changes between commits, commit and working tree, etc\n",
            "   merge      Join two or more development histories together\n",
            "   rebase     Reapply commits on top of another base tip\n",
            "   tag        Create, list, delete or verify a tag object signed with GPG\n",
            "\n",
            "collaborate (see also: git help workflows)\n",
            "   fetch      Download objects and refs from another repository\n",
            "   pull       Fetch from and integrate with another repository or a local branch\n",
            "   push       Update remote refs along with associated objects\n",
            "\n",
            "'git help -a' and 'git help -g' list available subcommands and some\n",
            "concept guides. See 'git help <command>' or 'git help <concept>'\n",
            "to read about a specific subcommand or concept.\n"
          ]
        }
      ]
    },
    {
      "cell_type": "code",
      "source": [
        ""
      ],
      "metadata": {
        "id": "mDIyX2Kt48zM"
      },
      "execution_count": null,
      "outputs": []
    }
  ]
}